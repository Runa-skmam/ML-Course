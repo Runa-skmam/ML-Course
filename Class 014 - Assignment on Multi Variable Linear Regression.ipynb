{
 "cells": [
  {
   "cell_type": "code",
   "execution_count": 1,
   "id": "e3e0041d",
   "metadata": {},
   "outputs": [],
   "source": [
    "# import the data\n",
    "# sep x,y\n",
    "# find out the coef , intercept\n",
    "# y = m1*x1 + m2*x2 + m3*x3 + c\n",
    "# lr.predict([[12,20,32]])\n",
    "# calculate r2_score"
   ]
  },
  {
   "cell_type": "code",
   "execution_count": 2,
   "id": "ee988a66",
   "metadata": {},
   "outputs": [],
   "source": [
    "import pandas as pd\n",
    "import numpy as np"
   ]
  },
  {
   "cell_type": "code",
   "execution_count": 3,
   "id": "185ab3ef",
   "metadata": {},
   "outputs": [],
   "source": [
    "df=pd.read_csv('supershop.csv')"
   ]
  },
  {
   "cell_type": "code",
   "execution_count": 4,
   "id": "815cdff5",
   "metadata": {},
   "outputs": [
    {
     "data": {
      "text/html": [
       "<div>\n",
       "<style scoped>\n",
       "    .dataframe tbody tr th:only-of-type {\n",
       "        vertical-align: middle;\n",
       "    }\n",
       "\n",
       "    .dataframe tbody tr th {\n",
       "        vertical-align: top;\n",
       "    }\n",
       "\n",
       "    .dataframe thead th {\n",
       "        text-align: right;\n",
       "    }\n",
       "</style>\n",
       "<table border=\"1\" class=\"dataframe\">\n",
       "  <thead>\n",
       "    <tr style=\"text-align: right;\">\n",
       "      <th></th>\n",
       "      <th>Marketing Spend</th>\n",
       "      <th>Administration</th>\n",
       "      <th>Transport</th>\n",
       "      <th>Area</th>\n",
       "      <th>Profit</th>\n",
       "    </tr>\n",
       "  </thead>\n",
       "  <tbody>\n",
       "    <tr>\n",
       "      <th>0</th>\n",
       "      <td>114523.61</td>\n",
       "      <td>136897.80</td>\n",
       "      <td>471784.10</td>\n",
       "      <td>Dhaka</td>\n",
       "      <td>192261.83</td>\n",
       "    </tr>\n",
       "    <tr>\n",
       "      <th>1</th>\n",
       "      <td>162597.70</td>\n",
       "      <td>151377.59</td>\n",
       "      <td>443898.53</td>\n",
       "      <td>Ctg</td>\n",
       "      <td>191792.06</td>\n",
       "    </tr>\n",
       "    <tr>\n",
       "      <th>2</th>\n",
       "      <td>153441.51</td>\n",
       "      <td>101145.55</td>\n",
       "      <td>407934.54</td>\n",
       "      <td>Rangpur</td>\n",
       "      <td>191050.39</td>\n",
       "    </tr>\n",
       "    <tr>\n",
       "      <th>3</th>\n",
       "      <td>144372.41</td>\n",
       "      <td>118671.85</td>\n",
       "      <td>383199.62</td>\n",
       "      <td>Dhaka</td>\n",
       "      <td>182901.99</td>\n",
       "    </tr>\n",
       "    <tr>\n",
       "      <th>4</th>\n",
       "      <td>142107.34</td>\n",
       "      <td>91391.77</td>\n",
       "      <td>366168.42</td>\n",
       "      <td>Rangpur</td>\n",
       "      <td>166187.94</td>\n",
       "    </tr>\n",
       "  </tbody>\n",
       "</table>\n",
       "</div>"
      ],
      "text/plain": [
       "   Marketing Spend  Administration  Transport     Area     Profit\n",
       "0        114523.61       136897.80  471784.10    Dhaka  192261.83\n",
       "1        162597.70       151377.59  443898.53      Ctg  191792.06\n",
       "2        153441.51       101145.55  407934.54  Rangpur  191050.39\n",
       "3        144372.41       118671.85  383199.62    Dhaka  182901.99\n",
       "4        142107.34        91391.77  366168.42  Rangpur  166187.94"
      ]
     },
     "execution_count": 4,
     "metadata": {},
     "output_type": "execute_result"
    }
   ],
   "source": [
    "df.head()"
   ]
  },
  {
   "cell_type": "code",
   "execution_count": 5,
   "id": "ce856373",
   "metadata": {},
   "outputs": [],
   "source": [
    "from sklearn.preprocessing import LabelEncoder\n",
    "le=LabelEncoder()"
   ]
  },
  {
   "cell_type": "code",
   "execution_count": 6,
   "id": "ebefaf6d",
   "metadata": {},
   "outputs": [],
   "source": [
    "df.Area=le.fit_transform(df.Area)"
   ]
  },
  {
   "cell_type": "code",
   "execution_count": 7,
   "id": "e55aa44d",
   "metadata": {},
   "outputs": [
    {
     "data": {
      "text/html": [
       "<div>\n",
       "<style scoped>\n",
       "    .dataframe tbody tr th:only-of-type {\n",
       "        vertical-align: middle;\n",
       "    }\n",
       "\n",
       "    .dataframe tbody tr th {\n",
       "        vertical-align: top;\n",
       "    }\n",
       "\n",
       "    .dataframe thead th {\n",
       "        text-align: right;\n",
       "    }\n",
       "</style>\n",
       "<table border=\"1\" class=\"dataframe\">\n",
       "  <thead>\n",
       "    <tr style=\"text-align: right;\">\n",
       "      <th></th>\n",
       "      <th>Marketing Spend</th>\n",
       "      <th>Administration</th>\n",
       "      <th>Transport</th>\n",
       "      <th>Area</th>\n",
       "      <th>Profit</th>\n",
       "    </tr>\n",
       "  </thead>\n",
       "  <tbody>\n",
       "    <tr>\n",
       "      <th>0</th>\n",
       "      <td>114523.61</td>\n",
       "      <td>136897.80</td>\n",
       "      <td>471784.10</td>\n",
       "      <td>1</td>\n",
       "      <td>192261.83</td>\n",
       "    </tr>\n",
       "    <tr>\n",
       "      <th>1</th>\n",
       "      <td>162597.70</td>\n",
       "      <td>151377.59</td>\n",
       "      <td>443898.53</td>\n",
       "      <td>0</td>\n",
       "      <td>191792.06</td>\n",
       "    </tr>\n",
       "    <tr>\n",
       "      <th>2</th>\n",
       "      <td>153441.51</td>\n",
       "      <td>101145.55</td>\n",
       "      <td>407934.54</td>\n",
       "      <td>2</td>\n",
       "      <td>191050.39</td>\n",
       "    </tr>\n",
       "    <tr>\n",
       "      <th>3</th>\n",
       "      <td>144372.41</td>\n",
       "      <td>118671.85</td>\n",
       "      <td>383199.62</td>\n",
       "      <td>1</td>\n",
       "      <td>182901.99</td>\n",
       "    </tr>\n",
       "    <tr>\n",
       "      <th>4</th>\n",
       "      <td>142107.34</td>\n",
       "      <td>91391.77</td>\n",
       "      <td>366168.42</td>\n",
       "      <td>2</td>\n",
       "      <td>166187.94</td>\n",
       "    </tr>\n",
       "  </tbody>\n",
       "</table>\n",
       "</div>"
      ],
      "text/plain": [
       "   Marketing Spend  Administration  Transport  Area     Profit\n",
       "0        114523.61       136897.80  471784.10     1  192261.83\n",
       "1        162597.70       151377.59  443898.53     0  191792.06\n",
       "2        153441.51       101145.55  407934.54     2  191050.39\n",
       "3        144372.41       118671.85  383199.62     1  182901.99\n",
       "4        142107.34        91391.77  366168.42     2  166187.94"
      ]
     },
     "execution_count": 7,
     "metadata": {},
     "output_type": "execute_result"
    }
   ],
   "source": [
    "df.head()"
   ]
  },
  {
   "cell_type": "code",
   "execution_count": 8,
   "id": "3c7ee210",
   "metadata": {},
   "outputs": [
    {
     "data": {
      "text/plain": [
       "(50, 5)"
      ]
     },
     "execution_count": 8,
     "metadata": {},
     "output_type": "execute_result"
    }
   ],
   "source": [
    "df.shape"
   ]
  },
  {
   "cell_type": "code",
   "execution_count": 9,
   "id": "21195f90",
   "metadata": {},
   "outputs": [
    {
     "name": "stdout",
     "output_type": "stream",
     "text": [
      "<class 'pandas.core.frame.DataFrame'>\n",
      "RangeIndex: 50 entries, 0 to 49\n",
      "Data columns (total 5 columns):\n",
      " #   Column           Non-Null Count  Dtype  \n",
      "---  ------           --------------  -----  \n",
      " 0   Marketing Spend  50 non-null     float64\n",
      " 1   Administration   50 non-null     float64\n",
      " 2   Transport        49 non-null     float64\n",
      " 3   Area             50 non-null     int32  \n",
      " 4   Profit           50 non-null     float64\n",
      "dtypes: float64(4), int32(1)\n",
      "memory usage: 1.9 KB\n"
     ]
    }
   ],
   "source": [
    "df.info()"
   ]
  },
  {
   "cell_type": "code",
   "execution_count": 10,
   "id": "f8e010e1",
   "metadata": {},
   "outputs": [
    {
     "data": {
      "text/plain": [
       "Marketing Spend    0\n",
       "Administration     0\n",
       "Transport          1\n",
       "Area               0\n",
       "Profit             0\n",
       "dtype: int64"
      ]
     },
     "execution_count": 10,
     "metadata": {},
     "output_type": "execute_result"
    }
   ],
   "source": [
    "df.isnull().sum()"
   ]
  },
  {
   "cell_type": "code",
   "execution_count": 11,
   "id": "1e82e74e",
   "metadata": {},
   "outputs": [],
   "source": [
    "df1=df.copy()"
   ]
  },
  {
   "cell_type": "code",
   "execution_count": 12,
   "id": "e9a31c8c",
   "metadata": {},
   "outputs": [],
   "source": [
    "df1.Transport=df1.Transport.fillna(df1.Transport.mean())"
   ]
  },
  {
   "cell_type": "code",
   "execution_count": 13,
   "id": "d0ef4129",
   "metadata": {},
   "outputs": [
    {
     "data": {
      "text/plain": [
       "215331.73244897963"
      ]
     },
     "execution_count": 13,
     "metadata": {},
     "output_type": "execute_result"
    }
   ],
   "source": [
    "df1.Transport.mean()"
   ]
  },
  {
   "cell_type": "code",
   "execution_count": 14,
   "id": "bc46bdc8",
   "metadata": {},
   "outputs": [
    {
     "data": {
      "text/html": [
       "<div>\n",
       "<style scoped>\n",
       "    .dataframe tbody tr th:only-of-type {\n",
       "        vertical-align: middle;\n",
       "    }\n",
       "\n",
       "    .dataframe tbody tr th {\n",
       "        vertical-align: top;\n",
       "    }\n",
       "\n",
       "    .dataframe thead th {\n",
       "        text-align: right;\n",
       "    }\n",
       "</style>\n",
       "<table border=\"1\" class=\"dataframe\">\n",
       "  <thead>\n",
       "    <tr style=\"text-align: right;\">\n",
       "      <th></th>\n",
       "      <th>Marketing Spend</th>\n",
       "      <th>Administration</th>\n",
       "      <th>Transport</th>\n",
       "      <th>Area</th>\n",
       "      <th>Profit</th>\n",
       "    </tr>\n",
       "  </thead>\n",
       "  <tbody>\n",
       "    <tr>\n",
       "      <th>0</th>\n",
       "      <td>114523.61</td>\n",
       "      <td>136897.80</td>\n",
       "      <td>471784.10</td>\n",
       "      <td>1</td>\n",
       "      <td>192261.83</td>\n",
       "    </tr>\n",
       "    <tr>\n",
       "      <th>1</th>\n",
       "      <td>162597.70</td>\n",
       "      <td>151377.59</td>\n",
       "      <td>443898.53</td>\n",
       "      <td>0</td>\n",
       "      <td>191792.06</td>\n",
       "    </tr>\n",
       "    <tr>\n",
       "      <th>2</th>\n",
       "      <td>153441.51</td>\n",
       "      <td>101145.55</td>\n",
       "      <td>407934.54</td>\n",
       "      <td>2</td>\n",
       "      <td>191050.39</td>\n",
       "    </tr>\n",
       "    <tr>\n",
       "      <th>3</th>\n",
       "      <td>144372.41</td>\n",
       "      <td>118671.85</td>\n",
       "      <td>383199.62</td>\n",
       "      <td>1</td>\n",
       "      <td>182901.99</td>\n",
       "    </tr>\n",
       "    <tr>\n",
       "      <th>4</th>\n",
       "      <td>142107.34</td>\n",
       "      <td>91391.77</td>\n",
       "      <td>366168.42</td>\n",
       "      <td>2</td>\n",
       "      <td>166187.94</td>\n",
       "    </tr>\n",
       "  </tbody>\n",
       "</table>\n",
       "</div>"
      ],
      "text/plain": [
       "   Marketing Spend  Administration  Transport  Area     Profit\n",
       "0        114523.61       136897.80  471784.10     1  192261.83\n",
       "1        162597.70       151377.59  443898.53     0  191792.06\n",
       "2        153441.51       101145.55  407934.54     2  191050.39\n",
       "3        144372.41       118671.85  383199.62     1  182901.99\n",
       "4        142107.34        91391.77  366168.42     2  166187.94"
      ]
     },
     "execution_count": 14,
     "metadata": {},
     "output_type": "execute_result"
    }
   ],
   "source": [
    "df1.head()"
   ]
  },
  {
   "cell_type": "markdown",
   "id": "b2ee27e3",
   "metadata": {},
   "source": [
    "# MinMax Scaling"
   ]
  },
  {
   "cell_type": "code",
   "execution_count": 15,
   "id": "6406876e",
   "metadata": {},
   "outputs": [],
   "source": [
    "from sklearn.preprocessing import MinMaxScaler\n",
    "mminmax=MinMaxScaler()"
   ]
  },
  {
   "cell_type": "code",
   "execution_count": 16,
   "id": "963635ea",
   "metadata": {},
   "outputs": [],
   "source": [
    "df1[['Marketing Spend','Administration','Transport','Area','Profit']]=mminmax.fit_transform(df1[['Marketing Spend','Administration','Transport','Area','Profit']])"
   ]
  },
  {
   "cell_type": "code",
   "execution_count": 17,
   "id": "e4299492",
   "metadata": {},
   "outputs": [
    {
     "data": {
      "text/html": [
       "<div>\n",
       "<style scoped>\n",
       "    .dataframe tbody tr th:only-of-type {\n",
       "        vertical-align: middle;\n",
       "    }\n",
       "\n",
       "    .dataframe tbody tr th {\n",
       "        vertical-align: top;\n",
       "    }\n",
       "\n",
       "    .dataframe thead th {\n",
       "        text-align: right;\n",
       "    }\n",
       "</style>\n",
       "<table border=\"1\" class=\"dataframe\">\n",
       "  <thead>\n",
       "    <tr style=\"text-align: right;\">\n",
       "      <th></th>\n",
       "      <th>Marketing Spend</th>\n",
       "      <th>Administration</th>\n",
       "      <th>Transport</th>\n",
       "      <th>Area</th>\n",
       "      <th>Profit</th>\n",
       "    </tr>\n",
       "  </thead>\n",
       "  <tbody>\n",
       "    <tr>\n",
       "      <th>0</th>\n",
       "      <td>0.692617</td>\n",
       "      <td>0.651744</td>\n",
       "      <td>1.000000</td>\n",
       "      <td>0.5</td>\n",
       "      <td>1.000000</td>\n",
       "    </tr>\n",
       "    <tr>\n",
       "      <th>1</th>\n",
       "      <td>0.983359</td>\n",
       "      <td>0.761972</td>\n",
       "      <td>0.940893</td>\n",
       "      <td>0.0</td>\n",
       "      <td>0.997355</td>\n",
       "    </tr>\n",
       "    <tr>\n",
       "      <th>2</th>\n",
       "      <td>0.927985</td>\n",
       "      <td>0.379579</td>\n",
       "      <td>0.864664</td>\n",
       "      <td>1.0</td>\n",
       "      <td>0.993178</td>\n",
       "    </tr>\n",
       "    <tr>\n",
       "      <th>3</th>\n",
       "      <td>0.873136</td>\n",
       "      <td>0.512998</td>\n",
       "      <td>0.812235</td>\n",
       "      <td>0.5</td>\n",
       "      <td>0.947292</td>\n",
       "    </tr>\n",
       "    <tr>\n",
       "      <th>4</th>\n",
       "      <td>0.859438</td>\n",
       "      <td>0.305328</td>\n",
       "      <td>0.776136</td>\n",
       "      <td>1.0</td>\n",
       "      <td>0.853171</td>\n",
       "    </tr>\n",
       "  </tbody>\n",
       "</table>\n",
       "</div>"
      ],
      "text/plain": [
       "   Marketing Spend  Administration  Transport  Area    Profit\n",
       "0         0.692617        0.651744   1.000000   0.5  1.000000\n",
       "1         0.983359        0.761972   0.940893   0.0  0.997355\n",
       "2         0.927985        0.379579   0.864664   1.0  0.993178\n",
       "3         0.873136        0.512998   0.812235   0.5  0.947292\n",
       "4         0.859438        0.305328   0.776136   1.0  0.853171"
      ]
     },
     "execution_count": 17,
     "metadata": {},
     "output_type": "execute_result"
    }
   ],
   "source": [
    "df1.head()"
   ]
  },
  {
   "cell_type": "markdown",
   "id": "7fc090b6",
   "metadata": {},
   "source": [
    "# Linear Regression using Gradient Decent"
   ]
  },
  {
   "cell_type": "code",
   "execution_count": 18,
   "id": "3e9a4d7e",
   "metadata": {},
   "outputs": [],
   "source": [
    "#x=df1[['Marketing Spend','Administration','Transport','Area' ]]\n",
    "x1=df1['Marketing Spend']\n",
    "y1=df1['Profit']"
   ]
  },
  {
   "cell_type": "code",
   "execution_count": 19,
   "id": "c3d9f5ec",
   "metadata": {},
   "outputs": [
    {
     "data": {
      "text/plain": [
       "0    0.692617\n",
       "1    0.983359\n",
       "2    0.927985\n",
       "3    0.873136\n",
       "4    0.859438\n",
       "Name: Marketing Spend, dtype: float64"
      ]
     },
     "execution_count": 19,
     "metadata": {},
     "output_type": "execute_result"
    }
   ],
   "source": [
    "x1.head()"
   ]
  },
  {
   "cell_type": "code",
   "execution_count": 20,
   "id": "8258384c",
   "metadata": {},
   "outputs": [
    {
     "data": {
      "text/plain": [
       "(50,)"
      ]
     },
     "execution_count": 20,
     "metadata": {},
     "output_type": "execute_result"
    }
   ],
   "source": [
    "x1.shape"
   ]
  },
  {
   "cell_type": "code",
   "execution_count": 21,
   "id": "0df4b34f",
   "metadata": {},
   "outputs": [
    {
     "data": {
      "text/plain": [
       "0    1.000000\n",
       "1    0.997355\n",
       "2    0.993178\n",
       "3    0.947292\n",
       "4    0.853171\n",
       "Name: Profit, dtype: float64"
      ]
     },
     "execution_count": 21,
     "metadata": {},
     "output_type": "execute_result"
    }
   ],
   "source": [
    "y1.head()"
   ]
  },
  {
   "cell_type": "code",
   "execution_count": 22,
   "id": "bc6b9618",
   "metadata": {},
   "outputs": [
    {
     "data": {
      "text/plain": [
       "(50,)"
      ]
     },
     "execution_count": 22,
     "metadata": {},
     "output_type": "execute_result"
    }
   ],
   "source": [
    "y1.shape"
   ]
  },
  {
   "cell_type": "code",
   "execution_count": 23,
   "id": "a1bc61dc",
   "metadata": {},
   "outputs": [],
   "source": [
    "n=len(x1)"
   ]
  },
  {
   "cell_type": "code",
   "execution_count": 24,
   "id": "7b1296fe",
   "metadata": {},
   "outputs": [
    {
     "data": {
      "text/plain": [
       "50"
      ]
     },
     "execution_count": 24,
     "metadata": {},
     "output_type": "execute_result"
    }
   ],
   "source": [
    "n"
   ]
  },
  {
   "cell_type": "code",
   "execution_count": 25,
   "id": "d599b2b1",
   "metadata": {},
   "outputs": [
    {
     "name": "stdout",
     "output_type": "stream",
     "text": [
      "6.045781639459789e-05 0.00010961933046338498\n",
      "0.00012090254109853657 0.0002192113459878444\n",
      "0.00018133417726574967 0.00032877605320376287\n",
      "0.0002417527280494066 0.00043831345873991754\n",
      "0.0003021581966019126 0.0005478235692234787\n",
      "0.0003625505860749091 0.0006573063912800101\n",
      "0.00042292989961927366 0.0007667619315334694\n",
      "0.00048329614038512055 0.0008761901966062084\n",
      "0.0005436493115218005 0.0009855911931189736\n",
      "0.0006039894161779013 0.0010949649276909064\n",
      "0.0006643164575012474 0.001204311406939544\n",
      "0.0007246304386389007 0.0013136306374808187\n",
      "0.0007849313627371605 0.0014229226259290595\n",
      "0.0008452192329415637 0.001532187378896992\n",
      "0.000905494052396885 0.0016414249029957386\n",
      "0.0009657558242471368 0.001750635204834819\n",
      "0.00102600455163557 0.0018598182910221507\n",
      "0.0010862402377046735 0.0019689741681640496\n",
      "0.001146462885596175 0.0020781028428652295\n",
      "0.0012066724984510404 0.0021872043217288036\n"
     ]
    }
   ],
   "source": [
    "m1 = 0\n",
    "c = 0\n",
    "l = 0.0001\n",
    "\n",
    "n = int(len(x1))\n",
    "iteration = 20\n",
    "\n",
    "#loop\n",
    "for i in range(iteration):\n",
    "    predy = (m1*x1) + c\n",
    "    der_m1 = (-2/n) * sum(x1*(y1-predy))\n",
    "    der_c1 = (-2/n) * sum(y1-predy)\n",
    "    \n",
    "    m1 = (m1 - ( l * der_m1))\n",
    "    c = (c - (l * der_c1))\n",
    "    \n",
    "    print(m1,c)"
   ]
  },
  {
   "cell_type": "code",
   "execution_count": 26,
   "id": "501656ee",
   "metadata": {},
   "outputs": [],
   "source": [
    "x2=df1['Administration']\n",
    "y2=df1['Profit']"
   ]
  },
  {
   "cell_type": "code",
   "execution_count": 27,
   "id": "260a0909",
   "metadata": {},
   "outputs": [
    {
     "data": {
      "text/plain": [
       "0    0.651744\n",
       "1    0.761972\n",
       "2    0.379579\n",
       "3    0.512998\n",
       "4    0.305328\n",
       "Name: Administration, dtype: float64"
      ]
     },
     "execution_count": 27,
     "metadata": {},
     "output_type": "execute_result"
    }
   ],
   "source": [
    "x2.head()"
   ]
  },
  {
   "cell_type": "code",
   "execution_count": 28,
   "id": "cc5b9434",
   "metadata": {},
   "outputs": [
    {
     "data": {
      "text/plain": [
       "0    1.000000\n",
       "1    0.997355\n",
       "2    0.993178\n",
       "3    0.947292\n",
       "4    0.853171\n",
       "Name: Profit, dtype: float64"
      ]
     },
     "execution_count": 28,
     "metadata": {},
     "output_type": "execute_result"
    }
   ],
   "source": [
    "y2.head()"
   ]
  },
  {
   "cell_type": "code",
   "execution_count": 29,
   "id": "a4569bcd",
   "metadata": {},
   "outputs": [],
   "source": [
    "n=len(x2)"
   ]
  },
  {
   "cell_type": "code",
   "execution_count": 30,
   "id": "82c09c0e",
   "metadata": {},
   "outputs": [
    {
     "data": {
      "text/plain": [
       "50"
      ]
     },
     "execution_count": 30,
     "metadata": {},
     "output_type": "execute_result"
    }
   ],
   "source": [
    "n"
   ]
  },
  {
   "cell_type": "code",
   "execution_count": 31,
   "id": "74bbe194",
   "metadata": {},
   "outputs": [
    {
     "name": "stdout",
     "output_type": "stream",
     "text": [
      "6.036942021684325e-05 0.00010961933046338498\n",
      "0.00012072317467878908 0.00021921029751410012\n",
      "0.00018106126744226107 0.00032877290849587864\n",
      "0.0002413837025626326 0.00043830717075055224\n",
      "0.00030169048409422686 0.0005478130916180518\n",
      "0.0003619816160903174 0.0006572906784364076\n",
      "0.0004222571026031284 0.0007667399385417499\n",
      "0.0004825169476838346 0.0008761608792683096\n",
      "0.0005427611553825621 0.0009855535079484187\n",
      "0.0006029897297483879 0.0010949178319125106\n",
      "0.0006632026748293411 0.0012042538584891207\n",
      "0.0007233999946724023 0.001313561595004887\n",
      "0.0007835816933235045 0.0014228410487845502\n",
      "0.000843747774827533 0.0015320922271509548\n",
      "0.0009038982432283258 0.0016413151374250492\n",
      "0.0009640331025686739 0.0017505097869258861\n",
      "0.0010241523568903215 0.0018596761829706235\n",
      "0.0010842560102339665 0.001968814332874524\n",
      "0.0011443440666392603 0.0020779242439509576\n",
      "0.0012044165301448085 0.002187005923511399\n"
     ]
    }
   ],
   "source": [
    "m2 = 0\n",
    "c = 0\n",
    "l = 0.0001\n",
    "\n",
    "n = int(len(x2))\n",
    "iteration = 20\n",
    "\n",
    "#loop\n",
    "for i in range(iteration):\n",
    "    predy = (m2*x2) + c\n",
    "    der_m2 = (-2/n) * sum(x2*(y2-predy))\n",
    "    der_c2 = (-2/n) * sum(y2-predy)\n",
    "    \n",
    "    m2 = (m2 - ( l * der_m2))\n",
    "    c = (c - (l * der_c2))\n",
    "    \n",
    "    print(m2,c)"
   ]
  },
  {
   "cell_type": "code",
   "execution_count": 32,
   "id": "2a5f2ae8",
   "metadata": {},
   "outputs": [],
   "source": [
    "x3=df1['Transport']\n",
    "y3=df1['Profit']"
   ]
  },
  {
   "cell_type": "code",
   "execution_count": 33,
   "id": "0675967f",
   "metadata": {},
   "outputs": [
    {
     "data": {
      "text/plain": [
       "0    1.000000\n",
       "1    0.940893\n",
       "2    0.864664\n",
       "3    0.812235\n",
       "4    0.776136\n",
       "Name: Transport, dtype: float64"
      ]
     },
     "execution_count": 33,
     "metadata": {},
     "output_type": "execute_result"
    }
   ],
   "source": [
    "x3.head()"
   ]
  },
  {
   "cell_type": "code",
   "execution_count": 34,
   "id": "5ce62296",
   "metadata": {},
   "outputs": [
    {
     "data": {
      "text/plain": [
       "0    1.000000\n",
       "1    0.997355\n",
       "2    0.993178\n",
       "3    0.947292\n",
       "4    0.853171\n",
       "Name: Profit, dtype: float64"
      ]
     },
     "execution_count": 34,
     "metadata": {},
     "output_type": "execute_result"
    }
   ],
   "source": [
    "y3.head()"
   ]
  },
  {
   "cell_type": "code",
   "execution_count": 35,
   "id": "8ac371d8",
   "metadata": {},
   "outputs": [],
   "source": [
    "n=len(x3)"
   ]
  },
  {
   "cell_type": "code",
   "execution_count": 36,
   "id": "4e5c5e8f",
   "metadata": {},
   "outputs": [
    {
     "data": {
      "text/plain": [
       "50"
      ]
     },
     "execution_count": 36,
     "metadata": {},
     "output_type": "execute_result"
    }
   ],
   "source": [
    "n"
   ]
  },
  {
   "cell_type": "code",
   "execution_count": 37,
   "id": "065479ec",
   "metadata": {},
   "outputs": [
    {
     "name": "stdout",
     "output_type": "stream",
     "text": [
      "5.876590029096527e-05 0.00010961933046338498\n",
      "0.00011751861977478973 0.00021921137267339987\n",
      "0.00017625816165443267 0.00032877613329089235\n",
      "0.0002349845291320724 0.00043831361897508556\n",
      "0.0002936977254091063 0.0005478238363835784\n",
      "0.0003523977536861512 0.0006573067921723461\n",
      "0.0004110846171630433 0.0007667624929957405\n",
      "0.0004697583190388388 0.0008761909455064906\n",
      "0.0005284188625118134 0.0009855921563557025\n",
      "0.0005870662507794633 0.0010949661321928603\n",
      "0.0006457004870385047 0.0012043128796658266\n",
      "0.0007043215744848745 0.0013136324054208424\n",
      "0.0007629295163137302 0.0014229247161025274\n",
      "0.0008215243157194502 0.0015321898183538814\n",
      "0.0008801059758956337 0.0016414277188162832\n",
      "0.0009386745000351015 0.0017506384241294925\n",
      "0.0009972298913298954 0.001859821940931649\n",
      "0.0010557721529712795 0.001968978275859274\n",
      "0.001114301288149739 0.0020781074355472697\n",
      "0.0011728173000549813 0.0021872094266289204\n"
     ]
    }
   ],
   "source": [
    "m3 = 0\n",
    "c = 0\n",
    "l = 0.0001\n",
    "\n",
    "n = int(len(x3))\n",
    "iteration = 20\n",
    "\n",
    "#loop\n",
    "for i in range(iteration):\n",
    "    predy = (m3*x3) + c\n",
    "    der_m3 = (-2/n) * sum(x3*(y2-predy))\n",
    "    der_c3 = (-2/n) * sum(y3-predy)\n",
    "    \n",
    "    m3 = (m3 - ( l * der_m3))\n",
    "    c = (c - (l * der_c3))\n",
    "    \n",
    "    print(m3, c)"
   ]
  },
  {
   "cell_type": "code",
   "execution_count": 38,
   "id": "f76fdc83",
   "metadata": {},
   "outputs": [],
   "source": [
    "x4=df1['Area']\n",
    "y4=df1['Profit']"
   ]
  },
  {
   "cell_type": "code",
   "execution_count": 39,
   "id": "85856158",
   "metadata": {},
   "outputs": [
    {
     "data": {
      "text/plain": [
       "0    0.5\n",
       "1    0.0\n",
       "2    1.0\n",
       "3    0.5\n",
       "4    1.0\n",
       "Name: Area, dtype: float64"
      ]
     },
     "execution_count": 39,
     "metadata": {},
     "output_type": "execute_result"
    }
   ],
   "source": [
    "x4.head()"
   ]
  },
  {
   "cell_type": "code",
   "execution_count": 40,
   "id": "86f6e397",
   "metadata": {},
   "outputs": [
    {
     "data": {
      "text/plain": [
       "0    1.000000\n",
       "1    0.997355\n",
       "2    0.993178\n",
       "3    0.947292\n",
       "4    0.853171\n",
       "Name: Profit, dtype: float64"
      ]
     },
     "execution_count": 40,
     "metadata": {},
     "output_type": "execute_result"
    }
   ],
   "source": [
    "y4.head()"
   ]
  },
  {
   "cell_type": "code",
   "execution_count": 41,
   "id": "83db5b45",
   "metadata": {},
   "outputs": [],
   "source": [
    "n=len(x4)"
   ]
  },
  {
   "cell_type": "code",
   "execution_count": 42,
   "id": "e6d4c571",
   "metadata": {},
   "outputs": [
    {
     "data": {
      "text/plain": [
       "50"
      ]
     },
     "execution_count": 42,
     "metadata": {},
     "output_type": "execute_result"
    }
   ],
   "source": [
    "n"
   ]
  },
  {
   "cell_type": "code",
   "execution_count": 43,
   "id": "420311a9",
   "metadata": {},
   "outputs": [
    {
     "name": "stdout",
     "output_type": "stream",
     "text": [
      "5.648414940767968e-05 0.00010961933046338498\n",
      "0.00011295298090487191 0.00021921120161403528\n",
      "0.0001694064984233401 0.00032877562044496874\n",
      "0.0002258447058938439 0.0004383125939474193\n",
      "0.00028226760724613933 0.0005478221291108371\n",
      "0.0003386752064089792 0.0006573042329228899\n",
      "0.0003950675073101133 0.0007667589123694622\n",
      "0.0004514445138762886 0.0008761861744346569\n",
      "0.0005078062300332497 0.000985586026100795\n",
      "0.0005641526597057388 0.0010949584743484165\n",
      "0.0006204838068174961 0.0012043035261562805\n",
      "0.0006767996752912601 0.001313621188501366\n",
      "0.0007331002690487681 0.001422911468358872\n",
      "0.0007893855920107556 0.0015321743727022186\n",
      "0.0008456556480969576 0.0016414099085030462\n",
      "0.0009019104412261081 0.001750618082731217\n",
      "0.0009581499753159408 0.0018597989023548156\n",
      "0.001014374254283189 0.0019689523743401487\n",
      "0.0010705832820435866 0.002078078505651746\n",
      "0.0011267770625118668 0.00218717730325236\n"
     ]
    }
   ],
   "source": [
    "m4 = 0\n",
    "c = 0\n",
    "l = 0.0001\n",
    "\n",
    "n = int(len(x4))\n",
    "iteration = 20\n",
    "\n",
    "#loop\n",
    "for i in range(iteration):\n",
    "    predy = (m4*x4) + c\n",
    "    der_m4 = (-2/n) * sum(x4*(y4-predy))\n",
    "    der_c4 = (-2/n) * sum(y4-predy)\n",
    "    \n",
    "    m4 = (m4 - ( l * der_m4))\n",
    "    c = (c - (l * der_c4))\n",
    "    \n",
    "    print(m4,c)"
   ]
  },
  {
   "cell_type": "code",
   "execution_count": 44,
   "id": "6c91cdc9",
   "metadata": {},
   "outputs": [
    {
     "data": {
      "text/plain": [
       "0.00018448655885896392"
      ]
     },
     "execution_count": 44,
     "metadata": {},
     "output_type": "execute_result"
    }
   ],
   "source": [
    "m1 =6.0457816394597874e-05  \n",
    "m2 = 6.036942021684325e-05 \n",
    "m3 = 5.876590029096527e-05 \n",
    "m4 = 5.6484149407679686e-05 \n",
    "\n",
    "x1=0.692617\n",
    "x2=0.651744\n",
    "x3=1.000000\n",
    "x4=0.5\n",
    "\n",
    "\n",
    "c = 1.625906503657531e-05\n",
    "\n",
    "\n",
    "\n",
    "y = m1*x1+m2*x2+m3*x3+m4*x4+c\n",
    "y"
   ]
  },
  {
   "cell_type": "code",
   "execution_count": null,
   "id": "2f6b004d",
   "metadata": {},
   "outputs": [],
   "source": []
  },
  {
   "cell_type": "code",
   "execution_count": 45,
   "id": "f7bfc3c1",
   "metadata": {},
   "outputs": [],
   "source": [
    "x=df1.drop(['Profit'],axis=1)\n",
    "y=df1['Profit']"
   ]
  },
  {
   "cell_type": "code",
   "execution_count": 46,
   "id": "7785e184",
   "metadata": {},
   "outputs": [
    {
     "data": {
      "text/html": [
       "<div>\n",
       "<style scoped>\n",
       "    .dataframe tbody tr th:only-of-type {\n",
       "        vertical-align: middle;\n",
       "    }\n",
       "\n",
       "    .dataframe tbody tr th {\n",
       "        vertical-align: top;\n",
       "    }\n",
       "\n",
       "    .dataframe thead th {\n",
       "        text-align: right;\n",
       "    }\n",
       "</style>\n",
       "<table border=\"1\" class=\"dataframe\">\n",
       "  <thead>\n",
       "    <tr style=\"text-align: right;\">\n",
       "      <th></th>\n",
       "      <th>Marketing Spend</th>\n",
       "      <th>Administration</th>\n",
       "      <th>Transport</th>\n",
       "      <th>Area</th>\n",
       "    </tr>\n",
       "  </thead>\n",
       "  <tbody>\n",
       "    <tr>\n",
       "      <th>0</th>\n",
       "      <td>0.692617</td>\n",
       "      <td>0.651744</td>\n",
       "      <td>1.000000</td>\n",
       "      <td>0.5</td>\n",
       "    </tr>\n",
       "    <tr>\n",
       "      <th>1</th>\n",
       "      <td>0.983359</td>\n",
       "      <td>0.761972</td>\n",
       "      <td>0.940893</td>\n",
       "      <td>0.0</td>\n",
       "    </tr>\n",
       "    <tr>\n",
       "      <th>2</th>\n",
       "      <td>0.927985</td>\n",
       "      <td>0.379579</td>\n",
       "      <td>0.864664</td>\n",
       "      <td>1.0</td>\n",
       "    </tr>\n",
       "    <tr>\n",
       "      <th>3</th>\n",
       "      <td>0.873136</td>\n",
       "      <td>0.512998</td>\n",
       "      <td>0.812235</td>\n",
       "      <td>0.5</td>\n",
       "    </tr>\n",
       "    <tr>\n",
       "      <th>4</th>\n",
       "      <td>0.859438</td>\n",
       "      <td>0.305328</td>\n",
       "      <td>0.776136</td>\n",
       "      <td>1.0</td>\n",
       "    </tr>\n",
       "  </tbody>\n",
       "</table>\n",
       "</div>"
      ],
      "text/plain": [
       "   Marketing Spend  Administration  Transport  Area\n",
       "0         0.692617        0.651744   1.000000   0.5\n",
       "1         0.983359        0.761972   0.940893   0.0\n",
       "2         0.927985        0.379579   0.864664   1.0\n",
       "3         0.873136        0.512998   0.812235   0.5\n",
       "4         0.859438        0.305328   0.776136   1.0"
      ]
     },
     "execution_count": 46,
     "metadata": {},
     "output_type": "execute_result"
    }
   ],
   "source": [
    "x.head()"
   ]
  },
  {
   "cell_type": "code",
   "execution_count": 47,
   "id": "f67e1344",
   "metadata": {},
   "outputs": [
    {
     "data": {
      "text/plain": [
       "0    1.000000\n",
       "1    0.997355\n",
       "2    0.993178\n",
       "3    0.947292\n",
       "4    0.853171\n",
       "Name: Profit, dtype: float64"
      ]
     },
     "execution_count": 47,
     "metadata": {},
     "output_type": "execute_result"
    }
   ],
   "source": [
    "y.head()"
   ]
  },
  {
   "cell_type": "markdown",
   "id": "76ec3bbb",
   "metadata": {},
   "source": [
    "# Ordinary Least Squares"
   ]
  },
  {
   "cell_type": "code",
   "execution_count": 48,
   "id": "92e343b5",
   "metadata": {},
   "outputs": [],
   "source": [
    "from sklearn.linear_model import LinearRegression"
   ]
  },
  {
   "cell_type": "code",
   "execution_count": 49,
   "id": "4315c5b0",
   "metadata": {},
   "outputs": [],
   "source": [
    "lr = LinearRegression()"
   ]
  },
  {
   "cell_type": "code",
   "execution_count": 50,
   "id": "61823015",
   "metadata": {},
   "outputs": [
    {
     "data": {
      "text/html": [
       "<style>#sk-container-id-1 {color: black;background-color: white;}#sk-container-id-1 pre{padding: 0;}#sk-container-id-1 div.sk-toggleable {background-color: white;}#sk-container-id-1 label.sk-toggleable__label {cursor: pointer;display: block;width: 100%;margin-bottom: 0;padding: 0.3em;box-sizing: border-box;text-align: center;}#sk-container-id-1 label.sk-toggleable__label-arrow:before {content: \"▸\";float: left;margin-right: 0.25em;color: #696969;}#sk-container-id-1 label.sk-toggleable__label-arrow:hover:before {color: black;}#sk-container-id-1 div.sk-estimator:hover label.sk-toggleable__label-arrow:before {color: black;}#sk-container-id-1 div.sk-toggleable__content {max-height: 0;max-width: 0;overflow: hidden;text-align: left;background-color: #f0f8ff;}#sk-container-id-1 div.sk-toggleable__content pre {margin: 0.2em;color: black;border-radius: 0.25em;background-color: #f0f8ff;}#sk-container-id-1 input.sk-toggleable__control:checked~div.sk-toggleable__content {max-height: 200px;max-width: 100%;overflow: auto;}#sk-container-id-1 input.sk-toggleable__control:checked~label.sk-toggleable__label-arrow:before {content: \"▾\";}#sk-container-id-1 div.sk-estimator input.sk-toggleable__control:checked~label.sk-toggleable__label {background-color: #d4ebff;}#sk-container-id-1 div.sk-label input.sk-toggleable__control:checked~label.sk-toggleable__label {background-color: #d4ebff;}#sk-container-id-1 input.sk-hidden--visually {border: 0;clip: rect(1px 1px 1px 1px);clip: rect(1px, 1px, 1px, 1px);height: 1px;margin: -1px;overflow: hidden;padding: 0;position: absolute;width: 1px;}#sk-container-id-1 div.sk-estimator {font-family: monospace;background-color: #f0f8ff;border: 1px dotted black;border-radius: 0.25em;box-sizing: border-box;margin-bottom: 0.5em;}#sk-container-id-1 div.sk-estimator:hover {background-color: #d4ebff;}#sk-container-id-1 div.sk-parallel-item::after {content: \"\";width: 100%;border-bottom: 1px solid gray;flex-grow: 1;}#sk-container-id-1 div.sk-label:hover label.sk-toggleable__label {background-color: #d4ebff;}#sk-container-id-1 div.sk-serial::before {content: \"\";position: absolute;border-left: 1px solid gray;box-sizing: border-box;top: 0;bottom: 0;left: 50%;z-index: 0;}#sk-container-id-1 div.sk-serial {display: flex;flex-direction: column;align-items: center;background-color: white;padding-right: 0.2em;padding-left: 0.2em;position: relative;}#sk-container-id-1 div.sk-item {position: relative;z-index: 1;}#sk-container-id-1 div.sk-parallel {display: flex;align-items: stretch;justify-content: center;background-color: white;position: relative;}#sk-container-id-1 div.sk-item::before, #sk-container-id-1 div.sk-parallel-item::before {content: \"\";position: absolute;border-left: 1px solid gray;box-sizing: border-box;top: 0;bottom: 0;left: 50%;z-index: -1;}#sk-container-id-1 div.sk-parallel-item {display: flex;flex-direction: column;z-index: 1;position: relative;background-color: white;}#sk-container-id-1 div.sk-parallel-item:first-child::after {align-self: flex-end;width: 50%;}#sk-container-id-1 div.sk-parallel-item:last-child::after {align-self: flex-start;width: 50%;}#sk-container-id-1 div.sk-parallel-item:only-child::after {width: 0;}#sk-container-id-1 div.sk-dashed-wrapped {border: 1px dashed gray;margin: 0 0.4em 0.5em 0.4em;box-sizing: border-box;padding-bottom: 0.4em;background-color: white;}#sk-container-id-1 div.sk-label label {font-family: monospace;font-weight: bold;display: inline-block;line-height: 1.2em;}#sk-container-id-1 div.sk-label-container {text-align: center;}#sk-container-id-1 div.sk-container {/* jupyter's `normalize.less` sets `[hidden] { display: none; }` but bootstrap.min.css set `[hidden] { display: none !important; }` so we also need the `!important` here to be able to override the default hidden behavior on the sphinx rendered scikit-learn.org. See: https://github.com/scikit-learn/scikit-learn/issues/21755 */display: inline-block !important;position: relative;}#sk-container-id-1 div.sk-text-repr-fallback {display: none;}</style><div id=\"sk-container-id-1\" class=\"sk-top-container\"><div class=\"sk-text-repr-fallback\"><pre>LinearRegression()</pre><b>In a Jupyter environment, please rerun this cell to show the HTML representation or trust the notebook. <br />On GitHub, the HTML representation is unable to render, please try loading this page with nbviewer.org.</b></div><div class=\"sk-container\" hidden><div class=\"sk-item\"><div class=\"sk-estimator sk-toggleable\"><input class=\"sk-toggleable__control sk-hidden--visually\" id=\"sk-estimator-id-1\" type=\"checkbox\" checked><label for=\"sk-estimator-id-1\" class=\"sk-toggleable__label sk-toggleable__label-arrow\">LinearRegression</label><div class=\"sk-toggleable__content\"><pre>LinearRegression()</pre></div></div></div></div></div>"
      ],
      "text/plain": [
       "LinearRegression()"
      ]
     },
     "execution_count": 50,
     "metadata": {},
     "output_type": "execute_result"
    }
   ],
   "source": [
    "lr.fit(df1.drop(['Profit'],axis=1), df['Profit'])"
   ]
  },
  {
   "cell_type": "code",
   "execution_count": 51,
   "id": "601f2dd9",
   "metadata": {},
   "outputs": [
    {
     "name": "stderr",
     "output_type": "stream",
     "text": [
      "C:\\Users\\Runa\\anaconda3\\lib\\site-packages\\sklearn\\base.py:450: UserWarning: X does not have valid feature names, but LinearRegression was fitted with feature names\n",
      "  warnings.warn(\n"
     ]
    },
    {
     "data": {
      "text/plain": [
       "array([160383.97326471])"
      ]
     },
     "execution_count": 51,
     "metadata": {},
     "output_type": "execute_result"
    }
   ],
   "source": [
    "lr.predict([[0.692617,0.651744,1.000000,0.5]])"
   ]
  },
  {
   "cell_type": "code",
   "execution_count": 52,
   "id": "a7eadbe2",
   "metadata": {},
   "outputs": [
    {
     "name": "stderr",
     "output_type": "stream",
     "text": [
      "C:\\Users\\Runa\\anaconda3\\lib\\site-packages\\sklearn\\base.py:450: UserWarning: X does not have valid feature names, but LinearRegression was fitted with feature names\n",
      "  warnings.warn(\n"
     ]
    },
    {
     "data": {
      "text/plain": [
       "array([195265.72451605])"
      ]
     },
     "execution_count": 52,
     "metadata": {},
     "output_type": "execute_result"
    }
   ],
   "source": [
    "lr.predict([[1.000000,0.997355,0.993178,0.947292]])"
   ]
  },
  {
   "cell_type": "code",
   "execution_count": 53,
   "id": "aaf3d2e9",
   "metadata": {},
   "outputs": [
    {
     "data": {
      "text/plain": [
       "43578.236861032376"
      ]
     },
     "execution_count": 53,
     "metadata": {},
     "output_type": "execute_result"
    }
   ],
   "source": [
    "lr.intercept_"
   ]
  },
  {
   "cell_type": "code",
   "execution_count": 54,
   "id": "c3813c9f",
   "metadata": {},
   "outputs": [
    {
     "data": {
      "text/plain": [
       "array([111286.00953079,   4169.78952313,  37580.09700602,  -1141.15593698])"
      ]
     },
     "execution_count": 54,
     "metadata": {},
     "output_type": "execute_result"
    }
   ],
   "source": [
    "lr.coef_"
   ]
  },
  {
   "cell_type": "code",
   "execution_count": 55,
   "id": "f35b3593",
   "metadata": {},
   "outputs": [],
   "source": [
    "Y_pred = lr.predict(df1.drop(['Profit'],axis=1))"
   ]
  },
  {
   "cell_type": "code",
   "execution_count": 56,
   "id": "20660576",
   "metadata": {},
   "outputs": [],
   "source": [
    "from sklearn.metrics import r2_score\n",
    "Score = r2_score(df[['Profit']], Y_pred)"
   ]
  },
  {
   "cell_type": "code",
   "execution_count": 57,
   "id": "9258ee01",
   "metadata": {},
   "outputs": [
    {
     "data": {
      "text/plain": [
       "0.9046207720419526"
      ]
     },
     "execution_count": 57,
     "metadata": {},
     "output_type": "execute_result"
    }
   ],
   "source": [
    "Score"
   ]
  },
  {
   "cell_type": "code",
   "execution_count": 58,
   "id": "e3765356",
   "metadata": {},
   "outputs": [
    {
     "data": {
      "text/plain": [
       "0.9046207720419526"
      ]
     },
     "execution_count": 58,
     "metadata": {},
     "output_type": "execute_result"
    }
   ],
   "source": [
    "lr.score(df1.drop(['Profit'],axis=1) , df[['Profit']])"
   ]
  },
  {
   "cell_type": "code",
   "execution_count": null,
   "id": "42a58de6",
   "metadata": {},
   "outputs": [],
   "source": []
  },
  {
   "cell_type": "code",
   "execution_count": null,
   "id": "3c0496ef",
   "metadata": {},
   "outputs": [],
   "source": []
  },
  {
   "cell_type": "code",
   "execution_count": null,
   "id": "b9a7797f",
   "metadata": {},
   "outputs": [],
   "source": []
  }
 ],
 "metadata": {
  "kernelspec": {
   "display_name": "Python 3 (ipykernel)",
   "language": "python",
   "name": "python3"
  },
  "language_info": {
   "codemirror_mode": {
    "name": "ipython",
    "version": 3
   },
   "file_extension": ".py",
   "mimetype": "text/x-python",
   "name": "python",
   "nbconvert_exporter": "python",
   "pygments_lexer": "ipython3",
   "version": "3.9.7"
  }
 },
 "nbformat": 4,
 "nbformat_minor": 5
}
