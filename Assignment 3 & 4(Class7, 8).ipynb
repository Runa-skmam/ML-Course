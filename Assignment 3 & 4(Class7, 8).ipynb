{
 "cells": [
  {
   "cell_type": "code",
   "execution_count": 1,
   "id": "ea18006c",
   "metadata": {},
   "outputs": [],
   "source": [
    "import pandas as pd\n",
    "import numpy as np\n",
    "import matplotlib.pyplot as plt"
   ]
  },
  {
   "cell_type": "code",
   "execution_count": 2,
   "id": "976a68b3",
   "metadata": {},
   "outputs": [],
   "source": [
    "df=pd.read_csv('Smok Data.csv')"
   ]
  },
  {
   "cell_type": "code",
   "execution_count": 3,
   "id": "f31221f7",
   "metadata": {},
   "outputs": [
    {
     "data": {
      "text/html": [
       "<div>\n",
       "<style scoped>\n",
       "    .dataframe tbody tr th:only-of-type {\n",
       "        vertical-align: middle;\n",
       "    }\n",
       "\n",
       "    .dataframe tbody tr th {\n",
       "        vertical-align: top;\n",
       "    }\n",
       "\n",
       "    .dataframe thead th {\n",
       "        text-align: right;\n",
       "    }\n",
       "</style>\n",
       "<table border=\"1\" class=\"dataframe\">\n",
       "  <thead>\n",
       "    <tr style=\"text-align: right;\">\n",
       "      <th></th>\n",
       "      <th>region</th>\n",
       "      <th>age</th>\n",
       "      <th>sex</th>\n",
       "      <th>bmi</th>\n",
       "      <th>children</th>\n",
       "      <th>smoker</th>\n",
       "    </tr>\n",
       "  </thead>\n",
       "  <tbody>\n",
       "    <tr>\n",
       "      <th>0</th>\n",
       "      <td>southwest</td>\n",
       "      <td>19</td>\n",
       "      <td>female</td>\n",
       "      <td>27.900</td>\n",
       "      <td>0</td>\n",
       "      <td>yes</td>\n",
       "    </tr>\n",
       "    <tr>\n",
       "      <th>1</th>\n",
       "      <td>southeast</td>\n",
       "      <td>18</td>\n",
       "      <td>male</td>\n",
       "      <td>33.770</td>\n",
       "      <td>1</td>\n",
       "      <td>no</td>\n",
       "    </tr>\n",
       "    <tr>\n",
       "      <th>2</th>\n",
       "      <td>southeast</td>\n",
       "      <td>28</td>\n",
       "      <td>male</td>\n",
       "      <td>33.000</td>\n",
       "      <td>3</td>\n",
       "      <td>no</td>\n",
       "    </tr>\n",
       "    <tr>\n",
       "      <th>3</th>\n",
       "      <td>northwest</td>\n",
       "      <td>33</td>\n",
       "      <td>male</td>\n",
       "      <td>22.705</td>\n",
       "      <td>0</td>\n",
       "      <td>no</td>\n",
       "    </tr>\n",
       "    <tr>\n",
       "      <th>4</th>\n",
       "      <td>northwest</td>\n",
       "      <td>32</td>\n",
       "      <td>male</td>\n",
       "      <td>28.880</td>\n",
       "      <td>0</td>\n",
       "      <td>no</td>\n",
       "    </tr>\n",
       "  </tbody>\n",
       "</table>\n",
       "</div>"
      ],
      "text/plain": [
       "      region  age     sex     bmi  children smoker\n",
       "0  southwest   19  female  27.900         0    yes\n",
       "1  southeast   18    male  33.770         1     no\n",
       "2  southeast   28    male  33.000         3     no\n",
       "3  northwest   33    male  22.705         0     no\n",
       "4  northwest   32    male  28.880         0     no"
      ]
     },
     "execution_count": 3,
     "metadata": {},
     "output_type": "execute_result"
    }
   ],
   "source": [
    "df.head()"
   ]
  },
  {
   "cell_type": "code",
   "execution_count": 4,
   "id": "3b2d9cee",
   "metadata": {},
   "outputs": [
    {
     "data": {
      "text/plain": [
       "(1338, 6)"
      ]
     },
     "execution_count": 4,
     "metadata": {},
     "output_type": "execute_result"
    }
   ],
   "source": [
    "df.shape"
   ]
  },
  {
   "cell_type": "markdown",
   "id": "c5a7a735",
   "metadata": {},
   "source": [
    "# Column Encoding"
   ]
  },
  {
   "cell_type": "code",
   "execution_count": 5,
   "id": "6a4d3475",
   "metadata": {},
   "outputs": [],
   "source": [
    "from sklearn.preprocessing import LabelEncoder"
   ]
  },
  {
   "cell_type": "code",
   "execution_count": 6,
   "id": "bf27b768",
   "metadata": {},
   "outputs": [],
   "source": [
    "le=LabelEncoder()"
   ]
  },
  {
   "cell_type": "code",
   "execution_count": 7,
   "id": "d49f5a03",
   "metadata": {},
   "outputs": [],
   "source": [
    "df.region=le.fit_transform(df['region'])\n",
    "df.sex=le.fit_transform(df['sex'])"
   ]
  },
  {
   "cell_type": "code",
   "execution_count": 8,
   "id": "67229488",
   "metadata": {},
   "outputs": [
    {
     "data": {
      "text/html": [
       "<div>\n",
       "<style scoped>\n",
       "    .dataframe tbody tr th:only-of-type {\n",
       "        vertical-align: middle;\n",
       "    }\n",
       "\n",
       "    .dataframe tbody tr th {\n",
       "        vertical-align: top;\n",
       "    }\n",
       "\n",
       "    .dataframe thead th {\n",
       "        text-align: right;\n",
       "    }\n",
       "</style>\n",
       "<table border=\"1\" class=\"dataframe\">\n",
       "  <thead>\n",
       "    <tr style=\"text-align: right;\">\n",
       "      <th></th>\n",
       "      <th>region</th>\n",
       "      <th>age</th>\n",
       "      <th>sex</th>\n",
       "      <th>bmi</th>\n",
       "      <th>children</th>\n",
       "      <th>smoker</th>\n",
       "    </tr>\n",
       "  </thead>\n",
       "  <tbody>\n",
       "    <tr>\n",
       "      <th>0</th>\n",
       "      <td>3</td>\n",
       "      <td>19</td>\n",
       "      <td>0</td>\n",
       "      <td>27.900</td>\n",
       "      <td>0</td>\n",
       "      <td>yes</td>\n",
       "    </tr>\n",
       "    <tr>\n",
       "      <th>1</th>\n",
       "      <td>2</td>\n",
       "      <td>18</td>\n",
       "      <td>1</td>\n",
       "      <td>33.770</td>\n",
       "      <td>1</td>\n",
       "      <td>no</td>\n",
       "    </tr>\n",
       "    <tr>\n",
       "      <th>2</th>\n",
       "      <td>2</td>\n",
       "      <td>28</td>\n",
       "      <td>1</td>\n",
       "      <td>33.000</td>\n",
       "      <td>3</td>\n",
       "      <td>no</td>\n",
       "    </tr>\n",
       "    <tr>\n",
       "      <th>3</th>\n",
       "      <td>1</td>\n",
       "      <td>33</td>\n",
       "      <td>1</td>\n",
       "      <td>22.705</td>\n",
       "      <td>0</td>\n",
       "      <td>no</td>\n",
       "    </tr>\n",
       "    <tr>\n",
       "      <th>4</th>\n",
       "      <td>1</td>\n",
       "      <td>32</td>\n",
       "      <td>1</td>\n",
       "      <td>28.880</td>\n",
       "      <td>0</td>\n",
       "      <td>no</td>\n",
       "    </tr>\n",
       "  </tbody>\n",
       "</table>\n",
       "</div>"
      ],
      "text/plain": [
       "   region  age  sex     bmi  children smoker\n",
       "0       3   19    0  27.900         0    yes\n",
       "1       2   18    1  33.770         1     no\n",
       "2       2   28    1  33.000         3     no\n",
       "3       1   33    1  22.705         0     no\n",
       "4       1   32    1  28.880         0     no"
      ]
     },
     "execution_count": 8,
     "metadata": {},
     "output_type": "execute_result"
    }
   ],
   "source": [
    "df.head()"
   ]
  },
  {
   "cell_type": "code",
   "execution_count": 9,
   "id": "d0752231",
   "metadata": {},
   "outputs": [
    {
     "data": {
      "text/plain": [
       "Index(['region', 'age', 'sex', 'bmi', 'children', 'smoker'], dtype='object')"
      ]
     },
     "execution_count": 9,
     "metadata": {},
     "output_type": "execute_result"
    }
   ],
   "source": [
    "df.columns"
   ]
  },
  {
   "cell_type": "markdown",
   "id": "872a9087",
   "metadata": {},
   "source": [
    "# Dropping column smoker "
   ]
  },
  {
   "cell_type": "code",
   "execution_count": 10,
   "id": "8b3d16ee",
   "metadata": {},
   "outputs": [],
   "source": [
    "x=df.drop('smoker',axis=1)\n",
    "y=df['smoker']"
   ]
  },
  {
   "cell_type": "code",
   "execution_count": 11,
   "id": "c5cac75e",
   "metadata": {},
   "outputs": [
    {
     "data": {
      "text/plain": [
       "0    yes\n",
       "1     no\n",
       "2     no\n",
       "3     no\n",
       "4     no\n",
       "Name: smoker, dtype: object"
      ]
     },
     "execution_count": 11,
     "metadata": {},
     "output_type": "execute_result"
    }
   ],
   "source": [
    "y.head()"
   ]
  },
  {
   "cell_type": "markdown",
   "id": "5b007125",
   "metadata": {},
   "source": [
    "# Separating DataSet"
   ]
  },
  {
   "cell_type": "code",
   "execution_count": 12,
   "id": "25b2efdc",
   "metadata": {},
   "outputs": [],
   "source": [
    "from sklearn.model_selection import train_test_split as tts"
   ]
  },
  {
   "cell_type": "code",
   "execution_count": 13,
   "id": "918ec5d4",
   "metadata": {},
   "outputs": [],
   "source": [
    "xtrain,xtest,ytrain,ytest=tts(x,y,train_size=.70,random_state=1)"
   ]
  },
  {
   "cell_type": "code",
   "execution_count": 14,
   "id": "713cf90d",
   "metadata": {},
   "outputs": [
    {
     "data": {
      "text/plain": [
       "(936, 5)"
      ]
     },
     "execution_count": 14,
     "metadata": {},
     "output_type": "execute_result"
    }
   ],
   "source": [
    "xtrain.shape"
   ]
  },
  {
   "cell_type": "code",
   "execution_count": 15,
   "id": "cbf17745",
   "metadata": {},
   "outputs": [
    {
     "data": {
      "text/html": [
       "<div>\n",
       "<style scoped>\n",
       "    .dataframe tbody tr th:only-of-type {\n",
       "        vertical-align: middle;\n",
       "    }\n",
       "\n",
       "    .dataframe tbody tr th {\n",
       "        vertical-align: top;\n",
       "    }\n",
       "\n",
       "    .dataframe thead th {\n",
       "        text-align: right;\n",
       "    }\n",
       "</style>\n",
       "<table border=\"1\" class=\"dataframe\">\n",
       "  <thead>\n",
       "    <tr style=\"text-align: right;\">\n",
       "      <th></th>\n",
       "      <th>region</th>\n",
       "      <th>age</th>\n",
       "      <th>sex</th>\n",
       "      <th>bmi</th>\n",
       "      <th>children</th>\n",
       "    </tr>\n",
       "  </thead>\n",
       "  <tbody>\n",
       "    <tr>\n",
       "      <th>744</th>\n",
       "      <td>1</td>\n",
       "      <td>50</td>\n",
       "      <td>1</td>\n",
       "      <td>26.41</td>\n",
       "      <td>0</td>\n",
       "    </tr>\n",
       "    <tr>\n",
       "      <th>363</th>\n",
       "      <td>3</td>\n",
       "      <td>21</td>\n",
       "      <td>0</td>\n",
       "      <td>26.40</td>\n",
       "      <td>1</td>\n",
       "    </tr>\n",
       "    <tr>\n",
       "      <th>10</th>\n",
       "      <td>0</td>\n",
       "      <td>25</td>\n",
       "      <td>1</td>\n",
       "      <td>26.22</td>\n",
       "      <td>0</td>\n",
       "    </tr>\n",
       "    <tr>\n",
       "      <th>970</th>\n",
       "      <td>2</td>\n",
       "      <td>50</td>\n",
       "      <td>0</td>\n",
       "      <td>28.16</td>\n",
       "      <td>3</td>\n",
       "    </tr>\n",
       "    <tr>\n",
       "      <th>634</th>\n",
       "      <td>3</td>\n",
       "      <td>51</td>\n",
       "      <td>1</td>\n",
       "      <td>39.70</td>\n",
       "      <td>1</td>\n",
       "    </tr>\n",
       "  </tbody>\n",
       "</table>\n",
       "</div>"
      ],
      "text/plain": [
       "     region  age  sex    bmi  children\n",
       "744       1   50    1  26.41         0\n",
       "363       3   21    0  26.40         1\n",
       "10        0   25    1  26.22         0\n",
       "970       2   50    0  28.16         3\n",
       "634       3   51    1  39.70         1"
      ]
     },
     "execution_count": 15,
     "metadata": {},
     "output_type": "execute_result"
    }
   ],
   "source": [
    "xtrain.head()"
   ]
  },
  {
   "cell_type": "code",
   "execution_count": 16,
   "id": "e2f03424",
   "metadata": {},
   "outputs": [
    {
     "data": {
      "text/plain": [
       "744    no\n",
       "363    no\n",
       "10     no\n",
       "970    no\n",
       "634    no\n",
       "Name: smoker, dtype: object"
      ]
     },
     "execution_count": 16,
     "metadata": {},
     "output_type": "execute_result"
    }
   ],
   "source": [
    "ytrain.head()"
   ]
  },
  {
   "cell_type": "markdown",
   "id": "f490340e",
   "metadata": {},
   "source": [
    "# Decision Tree Classifier"
   ]
  },
  {
   "cell_type": "code",
   "execution_count": 17,
   "id": "b6e8592e",
   "metadata": {},
   "outputs": [],
   "source": [
    "from sklearn.tree import DecisionTreeClassifier\n",
    "clf=DecisionTreeClassifier()"
   ]
  },
  {
   "cell_type": "markdown",
   "id": "114feedd",
   "metadata": {},
   "source": [
    "Finding the Model"
   ]
  },
  {
   "cell_type": "code",
   "execution_count": 18,
   "id": "b8402e0a",
   "metadata": {},
   "outputs": [
    {
     "data": {
      "text/plain": [
       "DecisionTreeClassifier()"
      ]
     },
     "execution_count": 18,
     "metadata": {},
     "output_type": "execute_result"
    }
   ],
   "source": [
    "clf.fit(xtrain,ytrain)"
   ]
  },
  {
   "cell_type": "markdown",
   "id": "250b5001",
   "metadata": {},
   "source": [
    "Testing the model"
   ]
  },
  {
   "cell_type": "code",
   "execution_count": 19,
   "id": "59ba93fc",
   "metadata": {},
   "outputs": [],
   "source": [
    "testing=clf.predict(xtest)"
   ]
  },
  {
   "cell_type": "code",
   "execution_count": 20,
   "id": "761371d4",
   "metadata": {},
   "outputs": [
    {
     "data": {
      "text/plain": [
       "array(['yes', 'yes', 'no', 'yes', 'no', 'no', 'no', 'no', 'no', 'no',\n",
       "       'no', 'no', 'no', 'no', 'no', 'yes', 'no', 'no', 'no', 'no', 'no',\n",
       "       'no', 'no', 'no', 'no', 'no', 'no', 'no', 'no', 'no', 'no', 'yes',\n",
       "       'no', 'no', 'yes', 'no', 'yes', 'yes', 'no', 'yes', 'no', 'no',\n",
       "       'no', 'no', 'no', 'yes', 'no', 'no', 'no', 'no', 'yes', 'no', 'no',\n",
       "       'yes', 'no', 'no', 'no', 'no', 'no', 'no', 'yes', 'no', 'no', 'no',\n",
       "       'no', 'no', 'no', 'no', 'no', 'no', 'no', 'no', 'no', 'no', 'no',\n",
       "       'no', 'no', 'no', 'no', 'yes', 'no', 'no', 'no', 'yes', 'no', 'no',\n",
       "       'no', 'no', 'no', 'yes', 'no', 'no', 'yes', 'no', 'no', 'no', 'no',\n",
       "       'no', 'no', 'no', 'no', 'no', 'no', 'no', 'no', 'no', 'no', 'no',\n",
       "       'no', 'no', 'no', 'no', 'yes', 'no', 'no', 'yes', 'no', 'no',\n",
       "       'yes', 'no', 'no', 'yes', 'no', 'no', 'no', 'yes', 'no', 'no',\n",
       "       'no', 'no', 'no', 'no', 'yes', 'no', 'no', 'no', 'no', 'no', 'no',\n",
       "       'yes', 'no', 'no', 'no', 'no', 'no', 'no', 'no', 'no', 'no', 'yes',\n",
       "       'no', 'no', 'no', 'no', 'no', 'no', 'yes', 'no', 'no', 'no', 'yes',\n",
       "       'no', 'no', 'no', 'yes', 'no', 'no', 'no', 'no', 'yes', 'no', 'no',\n",
       "       'no', 'no', 'no', 'yes', 'no', 'no', 'no', 'no', 'yes', 'no', 'no',\n",
       "       'no', 'no', 'yes', 'no', 'no', 'no', 'no', 'yes', 'yes', 'no',\n",
       "       'no', 'no', 'no', 'no', 'yes', 'no', 'no', 'no', 'no', 'no', 'yes',\n",
       "       'no', 'yes', 'yes', 'yes', 'no', 'no', 'no', 'no', 'yes', 'no',\n",
       "       'no', 'yes', 'no', 'yes', 'no', 'no', 'no', 'no', 'yes', 'no',\n",
       "       'no', 'no', 'no', 'no', 'no', 'no', 'no', 'no', 'yes', 'no', 'no',\n",
       "       'no', 'no', 'no', 'no', 'yes', 'no', 'no', 'yes', 'yes', 'no',\n",
       "       'no', 'yes', 'no', 'no', 'no', 'no', 'no', 'no', 'yes', 'no', 'no',\n",
       "       'no', 'no', 'no', 'no', 'no', 'no', 'no', 'no', 'no', 'no', 'yes',\n",
       "       'yes', 'no', 'no', 'no', 'no', 'no', 'no', 'no', 'yes', 'no', 'no',\n",
       "       'yes', 'no', 'yes', 'no', 'no', 'no', 'no', 'no', 'no', 'no',\n",
       "       'yes', 'no', 'no', 'no', 'no', 'no', 'yes', 'no', 'no', 'no', 'no',\n",
       "       'yes', 'yes', 'yes', 'no', 'no', 'yes', 'yes', 'yes', 'no', 'yes',\n",
       "       'no', 'yes', 'yes', 'no', 'no', 'no', 'yes', 'no', 'no', 'yes',\n",
       "       'no', 'no', 'no', 'yes', 'no', 'no', 'no', 'no', 'no', 'no', 'no',\n",
       "       'no', 'no', 'no', 'yes', 'no', 'no', 'no', 'no', 'yes', 'no', 'no',\n",
       "       'yes', 'no', 'no', 'no', 'yes', 'yes', 'no', 'no', 'no', 'no',\n",
       "       'no', 'no', 'no', 'no', 'no', 'no', 'yes', 'no', 'no', 'no', 'no',\n",
       "       'yes', 'no', 'yes', 'no', 'no', 'no', 'no', 'no', 'no', 'no', 'no',\n",
       "       'no', 'no', 'no', 'yes', 'no', 'yes', 'yes', 'yes', 'no', 'no',\n",
       "       'no', 'no', 'no', 'yes', 'yes', 'no', 'no', 'no', 'no', 'no', 'no',\n",
       "       'no', 'yes', 'no', 'no', 'no', 'no', 'no', 'no'], dtype=object)"
      ]
     },
     "execution_count": 20,
     "metadata": {},
     "output_type": "execute_result"
    }
   ],
   "source": [
    "testing # Predicted result"
   ]
  },
  {
   "cell_type": "code",
   "execution_count": 21,
   "id": "8e1ab4ab",
   "metadata": {},
   "outputs": [
    {
     "data": {
      "text/html": [
       "<div>\n",
       "<style scoped>\n",
       "    .dataframe tbody tr th:only-of-type {\n",
       "        vertical-align: middle;\n",
       "    }\n",
       "\n",
       "    .dataframe tbody tr th {\n",
       "        vertical-align: top;\n",
       "    }\n",
       "\n",
       "    .dataframe thead th {\n",
       "        text-align: right;\n",
       "    }\n",
       "</style>\n",
       "<table border=\"1\" class=\"dataframe\">\n",
       "  <thead>\n",
       "    <tr style=\"text-align: right;\">\n",
       "      <th></th>\n",
       "      <th>predicted_smoker</th>\n",
       "    </tr>\n",
       "  </thead>\n",
       "  <tbody>\n",
       "    <tr>\n",
       "      <th>0</th>\n",
       "      <td>yes</td>\n",
       "    </tr>\n",
       "    <tr>\n",
       "      <th>1</th>\n",
       "      <td>yes</td>\n",
       "    </tr>\n",
       "    <tr>\n",
       "      <th>2</th>\n",
       "      <td>no</td>\n",
       "    </tr>\n",
       "    <tr>\n",
       "      <th>3</th>\n",
       "      <td>yes</td>\n",
       "    </tr>\n",
       "    <tr>\n",
       "      <th>4</th>\n",
       "      <td>no</td>\n",
       "    </tr>\n",
       "  </tbody>\n",
       "</table>\n",
       "</div>"
      ],
      "text/plain": [
       "  predicted_smoker\n",
       "0              yes\n",
       "1              yes\n",
       "2               no\n",
       "3              yes\n",
       "4               no"
      ]
     },
     "execution_count": 21,
     "metadata": {},
     "output_type": "execute_result"
    }
   ],
   "source": [
    "df_testing = pd.DataFrame(testing, columns=['predicted_smoker'])\n",
    "df_testing.head()"
   ]
  },
  {
   "cell_type": "code",
   "execution_count": 22,
   "id": "46e4bdfd",
   "metadata": {},
   "outputs": [
    {
     "data": {
      "text/plain": [
       "array(['no', 'no', 'no', 'no', 'no', 'yes', 'no', 'no', 'no', 'yes', 'no',\n",
       "       'no', 'no', 'no', 'no', 'no', 'no', 'no', 'no', 'no', 'no', 'yes',\n",
       "       'no', 'no', 'no', 'no', 'no', 'no', 'no', 'no', 'no', 'no', 'yes',\n",
       "       'yes', 'yes', 'no', 'yes', 'yes', 'no', 'yes', 'no', 'no', 'no',\n",
       "       'no', 'no', 'no', 'no', 'yes', 'no', 'no', 'no', 'no', 'no', 'no',\n",
       "       'yes', 'no', 'yes', 'no', 'no', 'no', 'no', 'no', 'yes', 'no',\n",
       "       'no', 'no', 'no', 'no', 'no', 'yes', 'yes', 'yes', 'no', 'no',\n",
       "       'no', 'yes', 'no', 'no', 'no', 'no', 'no', 'no', 'no', 'no', 'yes',\n",
       "       'yes', 'no', 'yes', 'no', 'no', 'yes', 'yes', 'no', 'no', 'no',\n",
       "       'no', 'no', 'no', 'no', 'no', 'no', 'yes', 'yes', 'yes', 'yes',\n",
       "       'yes', 'no', 'no', 'no', 'no', 'no', 'no', 'no', 'no', 'no', 'no',\n",
       "       'no', 'no', 'no', 'no', 'no', 'no', 'no', 'no', 'yes', 'no', 'no',\n",
       "       'yes', 'yes', 'no', 'yes', 'no', 'no', 'yes', 'no', 'no', 'no',\n",
       "       'no', 'no', 'no', 'no', 'no', 'yes', 'no', 'no', 'no', 'no', 'no',\n",
       "       'no', 'no', 'no', 'no', 'no', 'no', 'no', 'no', 'no', 'no', 'no',\n",
       "       'no', 'no', 'yes', 'no', 'no', 'no', 'no', 'yes', 'no', 'no', 'no',\n",
       "       'no', 'no', 'yes', 'yes', 'no', 'no', 'no', 'no', 'no', 'no', 'no',\n",
       "       'no', 'no', 'no', 'no', 'yes', 'no', 'no', 'no', 'no', 'no', 'yes',\n",
       "       'no', 'no', 'no', 'no', 'no', 'no', 'no', 'no', 'no', 'no', 'no',\n",
       "       'no', 'no', 'no', 'no', 'no', 'no', 'no', 'no', 'yes', 'no', 'no',\n",
       "       'no', 'yes', 'no', 'yes', 'no', 'yes', 'no', 'yes', 'no', 'no',\n",
       "       'no', 'no', 'no', 'no', 'yes', 'no', 'no', 'no', 'yes', 'no', 'no',\n",
       "       'no', 'yes', 'no', 'no', 'no', 'no', 'no', 'no', 'no', 'no', 'yes',\n",
       "       'no', 'no', 'no', 'no', 'no', 'no', 'no', 'no', 'no', 'no', 'yes',\n",
       "       'yes', 'no', 'yes', 'no', 'no', 'no', 'yes', 'yes', 'yes', 'no',\n",
       "       'no', 'no', 'no', 'no', 'no', 'no', 'no', 'no', 'yes', 'no', 'no',\n",
       "       'yes', 'yes', 'no', 'no', 'no', 'no', 'no', 'no', 'no', 'no', 'no',\n",
       "       'no', 'no', 'no', 'no', 'no', 'no', 'yes', 'no', 'no', 'no', 'no',\n",
       "       'no', 'no', 'no', 'no', 'no', 'yes', 'no', 'no', 'no', 'no', 'no',\n",
       "       'no', 'yes', 'no', 'no', 'no', 'no', 'no', 'no', 'no', 'no', 'yes',\n",
       "       'no', 'no', 'no', 'no', 'no', 'no', 'no', 'yes', 'no', 'no', 'no',\n",
       "       'no', 'no', 'no', 'no', 'no', 'no', 'no', 'yes', 'no', 'yes', 'no',\n",
       "       'no', 'yes', 'no', 'no', 'no', 'no', 'no', 'no', 'no', 'yes',\n",
       "       'yes', 'no', 'no', 'yes', 'no', 'no', 'no', 'no', 'no', 'no', 'no',\n",
       "       'no', 'yes', 'yes', 'no', 'yes', 'yes', 'no', 'no', 'no', 'no',\n",
       "       'no', 'no', 'no', 'no', 'no', 'no', 'yes', 'yes', 'yes', 'no',\n",
       "       'no', 'no', 'no', 'no', 'no', 'yes', 'yes', 'no', 'yes', 'yes',\n",
       "       'yes', 'no', 'no', 'no', 'no', 'yes', 'no'], dtype=object)"
      ]
     },
     "execution_count": 22,
     "metadata": {},
     "output_type": "execute_result"
    }
   ],
   "source": [
    "np.array(ytest) #actual data"
   ]
  },
  {
   "cell_type": "markdown",
   "id": "f72e7f50",
   "metadata": {},
   "source": [
    "Evaluating the performance"
   ]
  },
  {
   "cell_type": "code",
   "execution_count": 23,
   "id": "793082b6",
   "metadata": {},
   "outputs": [
    {
     "data": {
      "text/plain": [
       "0.6666666666666666"
      ]
     },
     "execution_count": 23,
     "metadata": {},
     "output_type": "execute_result"
    }
   ],
   "source": [
    "clf.score(xtest,ytest)"
   ]
  },
  {
   "cell_type": "code",
   "execution_count": 24,
   "id": "eaef5bff",
   "metadata": {},
   "outputs": [],
   "source": [
    "from sklearn import tree\n",
    "import matplotlib.pyplot as plt"
   ]
  },
  {
   "cell_type": "code",
   "execution_count": 25,
   "id": "cfde48cf",
   "metadata": {},
   "outputs": [],
   "source": [
    "#tree.plot_tree(clf)"
   ]
  },
  {
   "cell_type": "code",
   "execution_count": 26,
   "id": "48ab6e66",
   "metadata": {},
   "outputs": [
    {
     "data": {
      "text/plain": [
       "[Text(188.46968207700652, 638.73, 'sex <= 0.5\\ngini = 0.327\\nsamples = 936\\nvalue = [743, 193]'),\n",
       " Text(115.90405538232105, 611.5500000000001, 'bmi <= 22.605\\ngini = 0.294\\nsamples = 457\\nvalue = [375, 82]'),\n",
       " Text(31.470715835141, 584.37, 'age <= 45.0\\ngini = 0.449\\nsamples = 47\\nvalue = [31, 16]'),\n",
       " Text(29.049891540130155, 557.19, 'age <= 38.5\\ngini = 0.48\\nsamples = 40\\nvalue = [24, 16]'),\n",
       " Text(16.945770065075923, 530.01, 'bmi <= 21.47\\ngini = 0.451\\nsamples = 35\\nvalue = [23, 12]'),\n",
       " Text(7.262472885032539, 502.83000000000004, 'children <= 1.5\\ngini = 0.332\\nsamples = 19\\nvalue = [15, 4]'),\n",
       " Text(4.841648590021692, 475.65000000000003, 'gini = 0.0\\nsamples = 10\\nvalue = [10, 0]'),\n",
       " Text(9.683297180043384, 475.65000000000003, 'bmi <= 18.953\\ngini = 0.494\\nsamples = 9\\nvalue = [5, 4]'),\n",
       " Text(4.841648590021692, 448.47, 'age <= 34.5\\ngini = 0.375\\nsamples = 4\\nvalue = [1, 3]'),\n",
       " Text(2.420824295010846, 421.29, 'gini = 0.0\\nsamples = 3\\nvalue = [0, 3]'),\n",
       " Text(7.262472885032539, 421.29, 'gini = 0.0\\nsamples = 1\\nvalue = [1, 0]'),\n",
       " Text(14.524945770065077, 448.47, 'age <= 28.0\\ngini = 0.32\\nsamples = 5\\nvalue = [4, 1]'),\n",
       " Text(12.10412147505423, 421.29, 'age <= 24.5\\ngini = 0.5\\nsamples = 2\\nvalue = [1, 1]'),\n",
       " Text(9.683297180043384, 394.11, 'gini = 0.0\\nsamples = 1\\nvalue = [1, 0]'),\n",
       " Text(14.524945770065077, 394.11, 'gini = 0.0\\nsamples = 1\\nvalue = [0, 1]'),\n",
       " Text(16.945770065075923, 421.29, 'gini = 0.0\\nsamples = 3\\nvalue = [3, 0]'),\n",
       " Text(26.629067245119305, 502.83000000000004, 'bmi <= 21.87\\ngini = 0.5\\nsamples = 16\\nvalue = [8, 8]'),\n",
       " Text(21.787418655097614, 475.65000000000003, 'age <= 30.0\\ngini = 0.245\\nsamples = 7\\nvalue = [1, 6]'),\n",
       " Text(19.36659436008677, 448.47, 'gini = 0.0\\nsamples = 6\\nvalue = [0, 6]'),\n",
       " Text(24.20824295010846, 448.47, 'gini = 0.0\\nsamples = 1\\nvalue = [1, 0]'),\n",
       " Text(31.470715835141, 475.65000000000003, 'bmi <= 22.325\\ngini = 0.346\\nsamples = 9\\nvalue = [7, 2]'),\n",
       " Text(29.049891540130155, 448.47, 'gini = 0.0\\nsamples = 5\\nvalue = [5, 0]'),\n",
       " Text(33.891540130151846, 448.47, 'bmi <= 22.467\\ngini = 0.5\\nsamples = 4\\nvalue = [2, 2]'),\n",
       " Text(31.470715835141, 421.29, 'gini = 0.0\\nsamples = 1\\nvalue = [0, 1]'),\n",
       " Text(36.31236442516269, 421.29, 'age <= 30.0\\ngini = 0.444\\nsamples = 3\\nvalue = [2, 1]'),\n",
       " Text(33.891540130151846, 394.11, 'gini = 0.0\\nsamples = 2\\nvalue = [2, 0]'),\n",
       " Text(38.73318872017354, 394.11, 'gini = 0.0\\nsamples = 1\\nvalue = [0, 1]'),\n",
       " Text(41.15401301518438, 530.01, 'children <= 1.5\\ngini = 0.32\\nsamples = 5\\nvalue = [1, 4]'),\n",
       " Text(38.73318872017354, 502.83000000000004, 'bmi <= 20.995\\ngini = 0.5\\nsamples = 2\\nvalue = [1, 1]'),\n",
       " Text(36.31236442516269, 475.65000000000003, 'gini = 0.0\\nsamples = 1\\nvalue = [0, 1]'),\n",
       " Text(41.15401301518438, 475.65000000000003, 'gini = 0.0\\nsamples = 1\\nvalue = [1, 0]'),\n",
       " Text(43.57483731019523, 502.83000000000004, 'gini = 0.0\\nsamples = 3\\nvalue = [0, 3]'),\n",
       " Text(33.891540130151846, 557.19, 'gini = 0.0\\nsamples = 7\\nvalue = [7, 0]'),\n",
       " Text(200.3373949295011, 584.37, 'bmi <= 47.08\\ngini = 0.27\\nsamples = 410\\nvalue = [344, 66]'),\n",
       " Text(197.91657063449026, 557.19, 'bmi <= 38.528\\ngini = 0.265\\nsamples = 408\\nvalue = [344, 64]'),\n",
       " Text(176.74854257049893, 530.01, 'age <= 62.5\\ngini = 0.281\\nsamples = 367\\nvalue = [305, 62]'),\n",
       " Text(146.5166079175705, 502.83000000000004, 'bmi <= 38.385\\ngini = 0.27\\nsamples = 355\\nvalue = [298, 57]'),\n",
       " Text(144.09578362255965, 475.65000000000003, 'bmi <= 34.59\\ngini = 0.266\\nsamples = 354\\nvalue = [298, 56]'),\n",
       " Text(104.81412689804773, 448.47, 'region <= 2.5\\ngini = 0.243\\nsamples = 289\\nvalue = [248, 41]'),\n",
       " Text(57.11632321041215, 421.29, 'bmi <= 26.303\\ngini = 0.268\\nsamples = 213\\nvalue = [179, 34]'),\n",
       " Text(43.57483731019523, 394.11, 'bmi <= 26.03\\ngini = 0.375\\nsamples = 48\\nvalue = [36, 12]'),\n",
       " Text(41.15401301518438, 366.93, 'bmi <= 23.323\\ngini = 0.34\\nsamples = 46\\nvalue = [36, 10]'),\n",
       " Text(38.73318872017354, 339.75, 'gini = 0.0\\nsamples = 11\\nvalue = [11, 0]'),\n",
       " Text(43.57483731019523, 339.75, 'age <= 52.5\\ngini = 0.408\\nsamples = 35\\nvalue = [25, 10]'),\n",
       " Text(41.15401301518438, 312.57, 'age <= 35.5\\ngini = 0.444\\nsamples = 30\\nvalue = [20, 10]'),\n",
       " Text(33.891540130151846, 285.39, 'children <= 2.5\\ngini = 0.32\\nsamples = 15\\nvalue = [12, 3]'),\n",
       " Text(31.470715835141, 258.21, 'region <= 1.5\\ngini = 0.245\\nsamples = 14\\nvalue = [12, 2]'),\n",
       " Text(29.049891540130155, 231.02999999999997, 'gini = 0.0\\nsamples = 8\\nvalue = [8, 0]'),\n",
       " Text(33.891540130151846, 231.02999999999997, 'age <= 29.0\\ngini = 0.444\\nsamples = 6\\nvalue = [4, 2]'),\n",
       " Text(31.470715835141, 203.85000000000002, 'bmi <= 24.255\\ngini = 0.444\\nsamples = 3\\nvalue = [1, 2]'),\n",
       " Text(29.049891540130155, 176.67000000000002, 'gini = 0.0\\nsamples = 1\\nvalue = [1, 0]'),\n",
       " Text(33.891540130151846, 176.67000000000002, 'gini = 0.0\\nsamples = 2\\nvalue = [0, 2]'),\n",
       " Text(36.31236442516269, 203.85000000000002, 'gini = 0.0\\nsamples = 3\\nvalue = [3, 0]'),\n",
       " Text(36.31236442516269, 258.21, 'gini = 0.0\\nsamples = 1\\nvalue = [0, 1]'),\n",
       " Text(48.41648590021692, 285.39, 'bmi <= 25.19\\ngini = 0.498\\nsamples = 15\\nvalue = [8, 7]'),\n",
       " Text(45.995661605206074, 258.21, 'region <= 1.5\\ngini = 0.473\\nsamples = 13\\nvalue = [8, 5]'),\n",
       " Text(43.57483731019523, 231.02999999999997, 'bmi <= 24.938\\ngini = 0.5\\nsamples = 10\\nvalue = [5, 5]'),\n",
       " Text(41.15401301518438, 203.85000000000002, 'children <= 4.0\\ngini = 0.469\\nsamples = 8\\nvalue = [3, 5]'),\n",
       " Text(38.73318872017354, 176.67000000000002, 'region <= 0.5\\ngini = 0.408\\nsamples = 7\\nvalue = [2, 5]'),\n",
       " Text(36.31236442516269, 149.49, 'bmi <= 24.605\\ngini = 0.5\\nsamples = 4\\nvalue = [2, 2]'),\n",
       " Text(33.891540130151846, 122.30999999999995, 'age <= 41.0\\ngini = 0.444\\nsamples = 3\\nvalue = [2, 1]'),\n",
       " Text(31.470715835141, 95.13, 'gini = 0.0\\nsamples = 1\\nvalue = [1, 0]'),\n",
       " Text(36.31236442516269, 95.13, 'age <= 44.5\\ngini = 0.5\\nsamples = 2\\nvalue = [1, 1]'),\n",
       " Text(33.891540130151846, 67.94999999999993, 'gini = 0.0\\nsamples = 1\\nvalue = [0, 1]'),\n",
       " Text(38.73318872017354, 67.94999999999993, 'gini = 0.0\\nsamples = 1\\nvalue = [1, 0]'),\n",
       " Text(38.73318872017354, 122.30999999999995, 'gini = 0.0\\nsamples = 1\\nvalue = [0, 1]'),\n",
       " Text(41.15401301518438, 149.49, 'gini = 0.0\\nsamples = 3\\nvalue = [0, 3]'),\n",
       " Text(43.57483731019523, 176.67000000000002, 'gini = 0.0\\nsamples = 1\\nvalue = [1, 0]'),\n",
       " Text(45.995661605206074, 203.85000000000002, 'gini = 0.0\\nsamples = 2\\nvalue = [2, 0]'),\n",
       " Text(48.41648590021692, 231.02999999999997, 'gini = 0.0\\nsamples = 3\\nvalue = [3, 0]'),\n",
       " Text(50.837310195227765, 258.21, 'gini = 0.0\\nsamples = 2\\nvalue = [0, 2]'),\n",
       " Text(45.995661605206074, 312.57, 'gini = 0.0\\nsamples = 5\\nvalue = [5, 0]'),\n",
       " Text(45.995661605206074, 366.93, 'gini = 0.0\\nsamples = 2\\nvalue = [0, 2]'),\n",
       " Text(70.65780911062907, 394.11, 'region <= 0.5\\ngini = 0.231\\nsamples = 165\\nvalue = [143, 22]'),\n",
       " Text(55.678958785249456, 366.93, 'age <= 39.0\\ngini = 0.089\\nsamples = 43\\nvalue = [41, 2]'),\n",
       " Text(53.25813449023861, 339.75, 'age <= 33.0\\ngini = 0.172\\nsamples = 21\\nvalue = [19, 2]'),\n",
       " Text(50.837310195227765, 312.57, 'gini = 0.0\\nsamples = 18\\nvalue = [18, 0]'),\n",
       " Text(55.678958785249456, 312.57, 'bmi <= 32.585\\ngini = 0.444\\nsamples = 3\\nvalue = [1, 2]'),\n",
       " Text(53.25813449023861, 285.39, 'gini = 0.0\\nsamples = 2\\nvalue = [0, 2]'),\n",
       " Text(58.09978308026031, 285.39, 'gini = 0.0\\nsamples = 1\\nvalue = [1, 0]'),\n",
       " Text(58.09978308026031, 339.75, 'gini = 0.0\\nsamples = 22\\nvalue = [22, 0]'),\n",
       " Text(85.63665943600869, 366.93, 'age <= 23.5\\ngini = 0.274\\nsamples = 122\\nvalue = [102, 20]'),\n",
       " Text(65.36225596529285, 339.75, 'bmi <= 27.605\\ngini = 0.444\\nsamples = 21\\nvalue = [14, 7]'),\n",
       " Text(62.941431670282, 312.57, 'gini = 0.0\\nsamples = 2\\nvalue = [0, 2]'),\n",
       " Text(67.78308026030369, 312.57, 'age <= 21.5\\ngini = 0.388\\nsamples = 19\\nvalue = [14, 5]'),\n",
       " Text(62.941431670282, 285.39, 'children <= 0.5\\ngini = 0.305\\nsamples = 16\\nvalue = [13, 3]'),\n",
       " Text(60.520607375271155, 258.21, 'bmi <= 28.927\\ngini = 0.42\\nsamples = 10\\nvalue = [7, 3]'),\n",
       " Text(58.09978308026031, 231.02999999999997, 'gini = 0.0\\nsamples = 1\\nvalue = [0, 1]'),\n",
       " Text(62.941431670282, 231.02999999999997, 'bmi <= 31.975\\ngini = 0.346\\nsamples = 9\\nvalue = [7, 2]'),\n",
       " Text(60.520607375271155, 203.85000000000002, 'gini = 0.0\\nsamples = 5\\nvalue = [5, 0]'),\n",
       " Text(65.36225596529285, 203.85000000000002, 'bmi <= 32.745\\ngini = 0.5\\nsamples = 4\\nvalue = [2, 2]'),\n",
       " Text(62.941431670282, 176.67000000000002, 'gini = 0.0\\nsamples = 1\\nvalue = [0, 1]'),\n",
       " Text(67.78308026030369, 176.67000000000002, 'age <= 18.5\\ngini = 0.444\\nsamples = 3\\nvalue = [2, 1]'),\n",
       " Text(65.36225596529285, 149.49, 'gini = 0.0\\nsamples = 1\\nvalue = [1, 0]'),\n",
       " Text(70.20390455531454, 149.49, 'age <= 19.5\\ngini = 0.5\\nsamples = 2\\nvalue = [1, 1]'),\n",
       " Text(67.78308026030369, 122.30999999999995, 'gini = 0.0\\nsamples = 1\\nvalue = [0, 1]'),\n",
       " Text(72.62472885032538, 122.30999999999995, 'gini = 0.0\\nsamples = 1\\nvalue = [1, 0]'),\n",
       " Text(65.36225596529285, 258.21, 'gini = 0.0\\nsamples = 6\\nvalue = [6, 0]'),\n",
       " Text(72.62472885032538, 285.39, 'bmi <= 29.61\\ngini = 0.444\\nsamples = 3\\nvalue = [1, 2]'),\n",
       " Text(70.20390455531454, 258.21, 'gini = 0.0\\nsamples = 1\\nvalue = [1, 0]'),\n",
       " Text(75.04555314533623, 258.21, 'gini = 0.0\\nsamples = 2\\nvalue = [0, 2]'),\n",
       " Text(105.91106290672451, 339.75, 'age <= 56.5\\ngini = 0.224\\nsamples = 101\\nvalue = [88, 13]'),\n",
       " Text(88.36008676789588, 312.57, 'age <= 28.5\\ngini = 0.172\\nsamples = 84\\nvalue = [76, 8]'),\n",
       " Text(85.93926247288503, 285.39, 'gini = 0.0\\nsamples = 14\\nvalue = [14, 0]'),\n",
       " Text(90.78091106290672, 285.39, 'age <= 29.5\\ngini = 0.202\\nsamples = 70\\nvalue = [62, 8]'),\n",
       " Text(88.36008676789588, 258.21, 'gini = 0.0\\nsamples = 1\\nvalue = [0, 1]'),\n",
       " Text(93.20173535791757, 258.21, 'bmi <= 32.728\\ngini = 0.182\\nsamples = 69\\nvalue = [62, 7]'),\n",
       " Text(82.30802603036877, 231.02999999999997, 'age <= 30.5\\ngini = 0.135\\nsamples = 55\\nvalue = [51, 4]'),\n",
       " Text(77.46637744034707, 203.85000000000002, 'bmi <= 28.392\\ngini = 0.5\\nsamples = 2\\nvalue = [1, 1]'),\n",
       " Text(75.04555314533623, 176.67000000000002, 'gini = 0.0\\nsamples = 1\\nvalue = [0, 1]'),\n",
       " Text(79.88720173535792, 176.67000000000002, 'gini = 0.0\\nsamples = 1\\nvalue = [1, 0]'),\n",
       " Text(87.14967462039046, 203.85000000000002, 'region <= 1.5\\ngini = 0.107\\nsamples = 53\\nvalue = [50, 3]'),\n",
       " Text(84.72885032537961, 176.67000000000002, 'age <= 47.5\\ngini = 0.198\\nsamples = 27\\nvalue = [24, 3]'),\n",
       " Text(82.30802603036877, 149.49, 'age <= 46.0\\ngini = 0.266\\nsamples = 19\\nvalue = [16, 3]'),\n",
       " Text(77.46637744034707, 122.30999999999995, 'children <= 1.5\\ngini = 0.208\\nsamples = 17\\nvalue = [15, 2]'),\n",
       " Text(75.04555314533623, 95.13, 'bmi <= 30.115\\ngini = 0.298\\nsamples = 11\\nvalue = [9, 2]'),\n",
       " Text(70.20390455531454, 67.94999999999993, 'bmi <= 26.648\\ngini = 0.198\\nsamples = 9\\nvalue = [8, 1]'),\n",
       " Text(67.78308026030369, 40.76999999999998, 'bmi <= 26.505\\ngini = 0.444\\nsamples = 3\\nvalue = [2, 1]'),\n",
       " Text(65.36225596529285, 13.589999999999918, 'gini = 0.0\\nsamples = 2\\nvalue = [2, 0]'),\n",
       " Text(70.20390455531454, 13.589999999999918, 'gini = 0.0\\nsamples = 1\\nvalue = [0, 1]'),\n",
       " Text(72.62472885032538, 40.76999999999998, 'gini = 0.0\\nsamples = 6\\nvalue = [6, 0]'),\n",
       " Text(79.88720173535792, 67.94999999999993, 'age <= 32.5\\ngini = 0.5\\nsamples = 2\\nvalue = [1, 1]'),\n",
       " Text(77.46637744034707, 40.76999999999998, 'gini = 0.0\\nsamples = 1\\nvalue = [1, 0]'),\n",
       " Text(82.30802603036877, 40.76999999999998, 'gini = 0.0\\nsamples = 1\\nvalue = [0, 1]'),\n",
       " Text(79.88720173535792, 95.13, 'gini = 0.0\\nsamples = 6\\nvalue = [6, 0]'),\n",
       " Text(87.14967462039046, 122.30999999999995, 'children <= 1.5\\ngini = 0.5\\nsamples = 2\\nvalue = [1, 1]'),\n",
       " Text(84.72885032537961, 95.13, 'gini = 0.0\\nsamples = 1\\nvalue = [1, 0]'),\n",
       " Text(89.5704989154013, 95.13, 'gini = 0.0\\nsamples = 1\\nvalue = [0, 1]'),\n",
       " Text(87.14967462039046, 149.49, 'gini = 0.0\\nsamples = 8\\nvalue = [8, 0]'),\n",
       " Text(89.5704989154013, 176.67000000000002, 'gini = 0.0\\nsamples = 26\\nvalue = [26, 0]'),\n",
       " Text(104.09544468546638, 231.02999999999997, 'bmi <= 33.22\\ngini = 0.337\\nsamples = 14\\nvalue = [11, 3]'),\n",
       " Text(99.25379609544468, 203.85000000000002, 'bmi <= 33.055\\ngini = 0.48\\nsamples = 5\\nvalue = [3, 2]'),\n",
       " Text(96.83297180043384, 176.67000000000002, 'bmi <= 32.87\\ngini = 0.375\\nsamples = 4\\nvalue = [3, 1]'),\n",
       " Text(94.412147505423, 149.49, 'age <= 35.5\\ngini = 0.5\\nsamples = 2\\nvalue = [1, 1]'),\n",
       " Text(91.99132321041215, 122.30999999999995, 'gini = 0.0\\nsamples = 1\\nvalue = [1, 0]'),\n",
       " Text(96.83297180043384, 122.30999999999995, 'gini = 0.0\\nsamples = 1\\nvalue = [0, 1]'),\n",
       " Text(99.25379609544468, 149.49, 'gini = 0.0\\nsamples = 2\\nvalue = [2, 0]'),\n",
       " Text(101.67462039045553, 176.67000000000002, 'gini = 0.0\\nsamples = 1\\nvalue = [0, 1]'),\n",
       " Text(108.93709327548807, 203.85000000000002, 'children <= 2.5\\ngini = 0.198\\nsamples = 9\\nvalue = [8, 1]'),\n",
       " Text(106.51626898047722, 176.67000000000002, 'gini = 0.0\\nsamples = 6\\nvalue = [6, 0]'),\n",
       " Text(111.35791757049891, 176.67000000000002, 'age <= 37.0\\ngini = 0.444\\nsamples = 3\\nvalue = [2, 1]'),\n",
       " Text(108.93709327548807, 149.49, 'gini = 0.0\\nsamples = 1\\nvalue = [0, 1]'),\n",
       " Text(113.77874186550976, 149.49, 'gini = 0.0\\nsamples = 2\\nvalue = [2, 0]'),\n",
       " Text(123.46203904555315, 312.57, 'bmi <= 32.565\\ngini = 0.415\\nsamples = 17\\nvalue = [12, 5]'),\n",
       " Text(121.04121475054231, 285.39, 'bmi <= 28.642\\ngini = 0.473\\nsamples = 13\\nvalue = [8, 5]'),\n",
       " Text(118.62039045553146, 258.21, 'gini = 0.0\\nsamples = 3\\nvalue = [3, 0]'),\n",
       " Text(123.46203904555315, 258.21, 'bmi <= 29.865\\ngini = 0.5\\nsamples = 10\\nvalue = [5, 5]'),\n",
       " Text(121.04121475054231, 231.02999999999997, 'gini = 0.0\\nsamples = 2\\nvalue = [0, 2]'),\n",
       " Text(125.882863340564, 231.02999999999997, 'children <= 1.5\\ngini = 0.469\\nsamples = 8\\nvalue = [5, 3]'),\n",
       " Text(123.46203904555315, 203.85000000000002, 'bmi <= 32.138\\ngini = 0.408\\nsamples = 7\\nvalue = [5, 2]'),\n",
       " Text(121.04121475054231, 176.67000000000002, 'age <= 58.0\\ngini = 0.278\\nsamples = 6\\nvalue = [5, 1]'),\n",
       " Text(118.62039045553146, 149.49, 'bmi <= 30.828\\ngini = 0.444\\nsamples = 3\\nvalue = [2, 1]'),\n",
       " Text(116.19956616052062, 122.30999999999995, 'gini = 0.0\\nsamples = 1\\nvalue = [1, 0]'),\n",
       " Text(121.04121475054231, 122.30999999999995, 'bmi <= 31.493\\ngini = 0.5\\nsamples = 2\\nvalue = [1, 1]'),\n",
       " Text(118.62039045553146, 95.13, 'gini = 0.0\\nsamples = 1\\nvalue = [0, 1]'),\n",
       " Text(123.46203904555315, 95.13, 'gini = 0.0\\nsamples = 1\\nvalue = [1, 0]'),\n",
       " Text(123.46203904555315, 149.49, 'gini = 0.0\\nsamples = 3\\nvalue = [3, 0]'),\n",
       " Text(125.882863340564, 176.67000000000002, 'gini = 0.0\\nsamples = 1\\nvalue = [0, 1]'),\n",
       " Text(128.30368763557485, 203.85000000000002, 'gini = 0.0\\nsamples = 1\\nvalue = [0, 1]'),\n",
       " Text(125.882863340564, 285.39, 'gini = 0.0\\nsamples = 4\\nvalue = [4, 0]'),\n",
       " Text(152.5119305856833, 421.29, 'age <= 27.5\\ngini = 0.167\\nsamples = 76\\nvalue = [69, 7]'),\n",
       " Text(142.82863340563992, 394.11, 'bmi <= 30.15\\ngini = 0.332\\nsamples = 19\\nvalue = [15, 4]'),\n",
       " Text(137.98698481561823, 366.93, 'age <= 19.5\\ngini = 0.124\\nsamples = 15\\nvalue = [14, 1]'),\n",
       " Text(135.56616052060738, 339.75, 'bmi <= 28.15\\ngini = 0.32\\nsamples = 5\\nvalue = [4, 1]'),\n",
       " Text(133.14533622559654, 312.57, 'bmi <= 25.65\\ngini = 0.5\\nsamples = 2\\nvalue = [1, 1]'),\n",
       " Text(130.7245119305857, 285.39, 'gini = 0.0\\nsamples = 1\\nvalue = [1, 0]'),\n",
       " Text(135.56616052060738, 285.39, 'gini = 0.0\\nsamples = 1\\nvalue = [0, 1]'),\n",
       " Text(137.98698481561823, 312.57, 'gini = 0.0\\nsamples = 3\\nvalue = [3, 0]'),\n",
       " Text(140.40780911062907, 339.75, 'gini = 0.0\\nsamples = 10\\nvalue = [10, 0]'),\n",
       " Text(147.6702819956616, 366.93, 'bmi <= 32.15\\ngini = 0.375\\nsamples = 4\\nvalue = [1, 3]'),\n",
       " Text(145.24945770065077, 339.75, 'gini = 0.0\\nsamples = 3\\nvalue = [0, 3]'),\n",
       " Text(150.09110629067246, 339.75, 'gini = 0.0\\nsamples = 1\\nvalue = [1, 0]'),\n",
       " Text(162.19522776572668, 394.11, 'bmi <= 33.45\\ngini = 0.1\\nsamples = 57\\nvalue = [54, 3]'),\n",
       " Text(157.353579175705, 366.93, 'bmi <= 27.65\\ngini = 0.074\\nsamples = 52\\nvalue = [50, 2]'),\n",
       " Text(154.93275488069415, 339.75, 'bmi <= 27.55\\ngini = 0.159\\nsamples = 23\\nvalue = [21, 2]'),\n",
       " Text(150.09110629067246, 312.57, 'children <= 1.5\\ngini = 0.091\\nsamples = 21\\nvalue = [20, 1]'),\n",
       " Text(147.6702819956616, 285.39, 'gini = 0.0\\nsamples = 15\\nvalue = [15, 0]'),\n",
       " Text(152.5119305856833, 285.39, 'age <= 37.0\\ngini = 0.278\\nsamples = 6\\nvalue = [5, 1]'),\n",
       " Text(150.09110629067246, 258.21, 'gini = 0.0\\nsamples = 4\\nvalue = [4, 0]'),\n",
       " Text(154.93275488069415, 258.21, 'age <= 48.0\\ngini = 0.5\\nsamples = 2\\nvalue = [1, 1]'),\n",
       " Text(152.5119305856833, 231.02999999999997, 'gini = 0.0\\nsamples = 1\\nvalue = [0, 1]'),\n",
       " Text(157.353579175705, 231.02999999999997, 'gini = 0.0\\nsamples = 1\\nvalue = [1, 0]'),\n",
       " Text(159.77440347071584, 312.57, 'children <= 0.5\\ngini = 0.5\\nsamples = 2\\nvalue = [1, 1]'),\n",
       " Text(157.353579175705, 285.39, 'gini = 0.0\\nsamples = 1\\nvalue = [1, 0]'),\n",
       " Text(162.19522776572668, 285.39, 'gini = 0.0\\nsamples = 1\\nvalue = [0, 1]'),\n",
       " Text(159.77440347071584, 339.75, 'gini = 0.0\\nsamples = 29\\nvalue = [29, 0]'),\n",
       " Text(167.03687635574838, 366.93, 'age <= 36.0\\ngini = 0.32\\nsamples = 5\\nvalue = [4, 1]'),\n",
       " Text(164.61605206073753, 339.75, 'gini = 0.0\\nsamples = 1\\nvalue = [0, 1]'),\n",
       " Text(169.45770065075922, 339.75, 'gini = 0.0\\nsamples = 4\\nvalue = [4, 0]'),\n",
       " Text(183.3774403470716, 448.47, 'bmi <= 35.577\\ngini = 0.355\\nsamples = 65\\nvalue = [50, 15]'),\n",
       " Text(171.87852494577007, 421.29, 'region <= 0.5\\ngini = 0.484\\nsamples = 17\\nvalue = [10, 7]'),\n",
       " Text(169.45770065075922, 394.11, 'gini = 0.0\\nsamples = 2\\nvalue = [0, 2]'),\n",
       " Text(174.2993492407809, 394.11, 'age <= 20.0\\ngini = 0.444\\nsamples = 15\\nvalue = [10, 5]'),\n",
       " Text(171.87852494577007, 366.93, 'gini = 0.0\\nsamples = 1\\nvalue = [0, 1]'),\n",
       " Text(176.72017353579176, 366.93, 'bmi <= 35.415\\ngini = 0.408\\nsamples = 14\\nvalue = [10, 4]'),\n",
       " Text(174.2993492407809, 339.75, 'age <= 36.0\\ngini = 0.355\\nsamples = 13\\nvalue = [10, 3]'),\n",
       " Text(171.87852494577007, 312.57, 'gini = 0.0\\nsamples = 5\\nvalue = [5, 0]'),\n",
       " Text(176.72017353579176, 312.57, 'age <= 37.5\\ngini = 0.469\\nsamples = 8\\nvalue = [5, 3]'),\n",
       " Text(174.2993492407809, 285.39, 'gini = 0.0\\nsamples = 1\\nvalue = [0, 1]'),\n",
       " Text(179.1409978308026, 285.39, 'bmi <= 34.685\\ngini = 0.408\\nsamples = 7\\nvalue = [5, 2]'),\n",
       " Text(176.72017353579176, 258.21, 'gini = 0.0\\nsamples = 1\\nvalue = [0, 1]'),\n",
       " Text(181.56182212581345, 258.21, 'age <= 52.0\\ngini = 0.278\\nsamples = 6\\nvalue = [5, 1]'),\n",
       " Text(179.1409978308026, 231.02999999999997, 'gini = 0.0\\nsamples = 3\\nvalue = [3, 0]'),\n",
       " Text(183.9826464208243, 231.02999999999997, 'age <= 57.0\\ngini = 0.444\\nsamples = 3\\nvalue = [2, 1]'),\n",
       " Text(181.56182212581345, 203.85000000000002, 'gini = 0.0\\nsamples = 1\\nvalue = [0, 1]'),\n",
       " Text(186.40347071583514, 203.85000000000002, 'gini = 0.0\\nsamples = 2\\nvalue = [2, 0]'),\n",
       " Text(179.1409978308026, 339.75, 'gini = 0.0\\nsamples = 1\\nvalue = [0, 1]'),\n",
       " Text(194.8763557483731, 421.29, 'bmi <= 36.603\\ngini = 0.278\\nsamples = 48\\nvalue = [40, 8]'),\n",
       " Text(188.824295010846, 394.11, 'age <= 30.0\\ngini = 0.087\\nsamples = 22\\nvalue = [21, 1]'),\n",
       " Text(186.40347071583514, 366.93, 'bmi <= 36.04\\ngini = 0.375\\nsamples = 4\\nvalue = [3, 1]'),\n",
       " Text(183.9826464208243, 339.75, 'gini = 0.0\\nsamples = 3\\nvalue = [3, 0]'),\n",
       " Text(188.824295010846, 339.75, 'gini = 0.0\\nsamples = 1\\nvalue = [0, 1]'),\n",
       " Text(191.24511930585683, 366.93, 'gini = 0.0\\nsamples = 18\\nvalue = [18, 0]'),\n",
       " Text(200.92841648590021, 394.11, 'bmi <= 36.908\\ngini = 0.393\\nsamples = 26\\nvalue = [19, 7]'),\n",
       " Text(196.08676789587852, 366.93, 'bmi <= 36.65\\ngini = 0.444\\nsamples = 6\\nvalue = [2, 4]'),\n",
       " Text(193.66594360086768, 339.75, 'gini = 0.0\\nsamples = 1\\nvalue = [0, 1]'),\n",
       " Text(198.50759219088937, 339.75, 'age <= 52.0\\ngini = 0.48\\nsamples = 5\\nvalue = [2, 3]'),\n",
       " Text(196.08676789587852, 312.57, 'region <= 0.5\\ngini = 0.5\\nsamples = 4\\nvalue = [2, 2]'),\n",
       " Text(193.66594360086768, 285.39, 'gini = 0.0\\nsamples = 1\\nvalue = [0, 1]'),\n",
       " Text(198.50759219088937, 285.39, 'region <= 1.5\\ngini = 0.444\\nsamples = 3\\nvalue = [2, 1]'),\n",
       " Text(196.08676789587852, 258.21, 'gini = 0.0\\nsamples = 1\\nvalue = [1, 0]'),\n",
       " Text(200.92841648590021, 258.21, 'gini = 0.5\\nsamples = 2\\nvalue = [1, 1]'),\n",
       " Text(200.92841648590021, 312.57, 'gini = 0.0\\nsamples = 1\\nvalue = [0, 1]'),\n",
       " Text(205.7700650759219, 366.93, 'age <= 43.0\\ngini = 0.255\\nsamples = 20\\nvalue = [17, 3]'),\n",
       " Text(203.34924078091106, 339.75, 'gini = 0.0\\nsamples = 11\\nvalue = [11, 0]'),\n",
       " Text(208.19088937093275, 339.75, 'age <= 51.5\\ngini = 0.444\\nsamples = 9\\nvalue = [6, 3]'),\n",
       " Text(205.7700650759219, 312.57, 'children <= 0.5\\ngini = 0.48\\nsamples = 5\\nvalue = [2, 3]'),\n",
       " Text(203.34924078091106, 285.39, 'gini = 0.0\\nsamples = 2\\nvalue = [0, 2]'),\n",
       " Text(208.19088937093275, 285.39, 'children <= 2.0\\ngini = 0.444\\nsamples = 3\\nvalue = [2, 1]'),\n",
       " Text(205.7700650759219, 258.21, 'gini = 0.0\\nsamples = 2\\nvalue = [2, 0]'),\n",
       " Text(210.6117136659436, 258.21, 'gini = 0.0\\nsamples = 1\\nvalue = [0, 1]'),\n",
       " Text(210.6117136659436, 312.57, 'gini = 0.0\\nsamples = 4\\nvalue = [4, 0]'),\n",
       " Text(148.93743221258134, 475.65000000000003, 'gini = 0.0\\nsamples = 1\\nvalue = [0, 1]'),\n",
       " Text(206.98047722342733, 502.83000000000004, 'region <= 2.5\\ngini = 0.486\\nsamples = 12\\nvalue = [7, 5]'),\n",
       " Text(204.55965292841648, 475.65000000000003, 'bmi <= 28.547\\ngini = 0.346\\nsamples = 9\\nvalue = [7, 2]'),\n",
       " Text(202.13882863340564, 448.47, 'bmi <= 26.552\\ngini = 0.5\\nsamples = 4\\nvalue = [2, 2]'),\n",
       " Text(199.7180043383948, 421.29, 'gini = 0.0\\nsamples = 2\\nvalue = [2, 0]'),\n",
       " Text(204.55965292841648, 421.29, 'gini = 0.0\\nsamples = 2\\nvalue = [0, 2]'),\n",
       " Text(206.98047722342733, 448.47, 'gini = 0.0\\nsamples = 5\\nvalue = [5, 0]'),\n",
       " Text(209.40130151843817, 475.65000000000003, 'gini = 0.0\\nsamples = 3\\nvalue = [0, 3]'),\n",
       " Text(219.08459869848156, 530.01, 'age <= 24.0\\ngini = 0.093\\nsamples = 41\\nvalue = [39, 2]'),\n",
       " Text(216.6637744034707, 502.83000000000004, 'bmi <= 41.37\\ngini = 0.346\\nsamples = 9\\nvalue = [7, 2]'),\n",
       " Text(214.24295010845987, 475.65000000000003, 'gini = 0.0\\nsamples = 7\\nvalue = [7, 0]'),\n",
       " Text(219.08459869848156, 475.65000000000003, 'gini = 0.0\\nsamples = 2\\nvalue = [0, 2]'),\n",
       " Text(221.5054229934924, 502.83000000000004, 'gini = 0.0\\nsamples = 32\\nvalue = [32, 0]'),\n",
       " Text(202.75821922451195, 557.19, 'gini = 0.0\\nsamples = 2\\nvalue = [0, 2]'),\n",
       " Text(261.035308771692, 611.5500000000001, 'bmi <= 24.602\\ngini = 0.356\\nsamples = 479\\nvalue = [368, 111]'),\n",
       " Text(236.0303687635575, 584.37, 'age <= 63.5\\ngini = 0.195\\nsamples = 73\\nvalue = [65, 8]'),\n",
       " Text(233.60954446854666, 557.19, 'region <= 2.5\\ngini = 0.176\\nsamples = 72\\nvalue = [65, 7]'),\n",
       " Text(231.18872017353578, 530.01, 'region <= 1.5\\ngini = 0.215\\nsamples = 57\\nvalue = [50, 7]'),\n",
       " Text(226.3470715835141, 502.83000000000004, 'children <= 0.5\\ngini = 0.124\\nsamples = 45\\nvalue = [42, 3]'),\n",
       " Text(223.92624728850325, 475.65000000000003, 'bmi <= 22.943\\ngini = 0.245\\nsamples = 21\\nvalue = [18, 3]'),\n",
       " Text(221.5054229934924, 448.47, 'bmi <= 22.705\\ngini = 0.355\\nsamples = 13\\nvalue = [10, 3]'),\n",
       " Text(219.08459869848156, 421.29, 'age <= 18.5\\ngini = 0.165\\nsamples = 11\\nvalue = [10, 1]'),\n",
       " Text(216.6637744034707, 394.11, 'bmi <= 21.517\\ngini = 0.444\\nsamples = 3\\nvalue = [2, 1]'),\n",
       " Text(214.24295010845987, 366.93, 'gini = 0.0\\nsamples = 2\\nvalue = [2, 0]'),\n",
       " Text(219.08459869848156, 366.93, 'gini = 0.0\\nsamples = 1\\nvalue = [0, 1]'),\n",
       " Text(221.5054229934924, 394.11, 'gini = 0.0\\nsamples = 8\\nvalue = [8, 0]'),\n",
       " Text(223.92624728850325, 421.29, 'gini = 0.0\\nsamples = 2\\nvalue = [0, 2]'),\n",
       " Text(226.3470715835141, 448.47, 'gini = 0.0\\nsamples = 8\\nvalue = [8, 0]'),\n",
       " Text(228.76789587852494, 475.65000000000003, 'gini = 0.0\\nsamples = 24\\nvalue = [24, 0]'),\n",
       " Text(236.0303687635575, 502.83000000000004, 'bmi <= 20.57\\ngini = 0.444\\nsamples = 12\\nvalue = [8, 4]'),\n",
       " Text(233.60954446854666, 475.65000000000003, 'gini = 0.0\\nsamples = 2\\nvalue = [0, 2]'),\n",
       " Text(238.45119305856835, 475.65000000000003, 'age <= 27.5\\ngini = 0.32\\nsamples = 10\\nvalue = [8, 2]'),\n",
       " Text(236.0303687635575, 448.47, 'gini = 0.0\\nsamples = 5\\nvalue = [5, 0]'),\n",
       " Text(240.8720173535792, 448.47, 'bmi <= 22.495\\ngini = 0.48\\nsamples = 5\\nvalue = [3, 2]'),\n",
       " Text(238.45119305856835, 421.29, 'gini = 0.0\\nsamples = 2\\nvalue = [2, 0]'),\n",
       " Text(243.29284164859004, 421.29, 'bmi <= 24.145\\ngini = 0.444\\nsamples = 3\\nvalue = [1, 2]'),\n",
       " Text(240.8720173535792, 394.11, 'gini = 0.0\\nsamples = 2\\nvalue = [0, 2]'),\n",
       " Text(245.7136659436009, 394.11, 'gini = 0.0\\nsamples = 1\\nvalue = [1, 0]'),\n",
       " Text(236.0303687635575, 530.01, 'gini = 0.0\\nsamples = 15\\nvalue = [15, 0]'),\n",
       " Text(238.45119305856835, 557.19, 'gini = 0.0\\nsamples = 1\\nvalue = [0, 1]'),\n",
       " Text(286.04024877982647, 584.37, 'bmi <= 24.828\\ngini = 0.379\\nsamples = 406\\nvalue = [303, 103]'),\n",
       " Text(255.39696312364427, 557.19, 'children <= 2.5\\ngini = 0.49\\nsamples = 7\\nvalue = [3, 4]'),\n",
       " Text(252.97613882863342, 530.01, 'age <= 55.0\\ngini = 0.444\\nsamples = 6\\nvalue = [2, 4]'),\n",
       " Text(250.55531453362258, 502.83000000000004, 'age <= 37.5\\ngini = 0.32\\nsamples = 5\\nvalue = [1, 4]'),\n",
       " Text(248.13449023861173, 475.65000000000003, 'bmi <= 24.7\\ngini = 0.5\\nsamples = 2\\nvalue = [1, 1]'),\n",
       " Text(245.7136659436009, 448.47, 'gini = 0.0\\nsamples = 1\\nvalue = [1, 0]'),\n",
       " Text(250.55531453362258, 448.47, 'gini = 0.0\\nsamples = 1\\nvalue = [0, 1]'),\n",
       " Text(252.97613882863342, 475.65000000000003, 'gini = 0.0\\nsamples = 3\\nvalue = [0, 3]'),\n",
       " Text(255.39696312364427, 502.83000000000004, 'gini = 0.0\\nsamples = 1\\nvalue = [1, 0]'),\n",
       " Text(257.8177874186551, 530.01, 'gini = 0.0\\nsamples = 1\\nvalue = [1, 0]'),\n",
       " Text(316.6835344360087, 557.19, 'bmi <= 27.673\\ngini = 0.373\\nsamples = 399\\nvalue = [300, 99]'),\n",
       " Text(271.73752711496746, 530.01, 'region <= 2.5\\ngini = 0.284\\nsamples = 70\\nvalue = [58, 12]'),\n",
       " Text(263.86984815618223, 502.83000000000004, 'age <= 37.5\\ngini = 0.222\\nsamples = 55\\nvalue = [48, 7]'),\n",
       " Text(257.8177874186551, 475.65000000000003, 'bmi <= 25.222\\ngini = 0.08\\nsamples = 24\\nvalue = [23, 1]'),\n",
       " Text(255.39696312364427, 448.47, 'age <= 20.0\\ngini = 0.444\\nsamples = 3\\nvalue = [2, 1]'),\n",
       " Text(252.97613882863342, 421.29, 'gini = 0.0\\nsamples = 1\\nvalue = [0, 1]'),\n",
       " Text(257.8177874186551, 421.29, 'gini = 0.0\\nsamples = 2\\nvalue = [2, 0]'),\n",
       " Text(260.23861171366593, 448.47, 'gini = 0.0\\nsamples = 21\\nvalue = [21, 0]'),\n",
       " Text(269.9219088937093, 475.65000000000003, 'bmi <= 26.658\\ngini = 0.312\\nsamples = 31\\nvalue = [25, 6]'),\n",
       " Text(265.0802603036876, 448.47, 'age <= 49.5\\ngini = 0.252\\nsamples = 27\\nvalue = [23, 4]'),\n",
       " Text(262.6594360086768, 421.29, 'age <= 46.5\\ngini = 0.375\\nsamples = 16\\nvalue = [12, 4]'),\n",
       " Text(257.8177874186551, 394.11, 'bmi <= 26.05\\ngini = 0.278\\nsamples = 12\\nvalue = [10, 2]'),\n",
       " Text(255.39696312364427, 366.93, 'gini = 0.0\\nsamples = 6\\nvalue = [6, 0]'),\n",
       " Text(260.23861171366593, 366.93, 'bmi <= 26.097\\ngini = 0.444\\nsamples = 6\\nvalue = [4, 2]'),\n",
       " Text(257.8177874186551, 339.75, 'gini = 0.0\\nsamples = 1\\nvalue = [0, 1]'),\n",
       " Text(262.6594360086768, 339.75, 'children <= 0.5\\ngini = 0.32\\nsamples = 5\\nvalue = [4, 1]'),\n",
       " Text(260.23861171366593, 312.57, 'gini = 0.0\\nsamples = 1\\nvalue = [0, 1]'),\n",
       " Text(265.0802603036876, 312.57, 'gini = 0.0\\nsamples = 4\\nvalue = [4, 0]'),\n",
       " Text(267.50108459869847, 394.11, 'region <= 0.5\\ngini = 0.5\\nsamples = 4\\nvalue = [2, 2]'),\n",
       " Text(265.0802603036876, 366.93, 'gini = 0.0\\nsamples = 2\\nvalue = [2, 0]'),\n",
       " Text(269.9219088937093, 366.93, 'gini = 0.0\\nsamples = 2\\nvalue = [0, 2]'),\n",
       " Text(267.50108459869847, 421.29, 'gini = 0.0\\nsamples = 11\\nvalue = [11, 0]'),\n",
       " Text(274.763557483731, 448.47, 'bmi <= 27.075\\ngini = 0.5\\nsamples = 4\\nvalue = [2, 2]'),\n",
       " Text(272.34273318872016, 421.29, 'gini = 0.0\\nsamples = 2\\nvalue = [0, 2]'),\n",
       " Text(277.18438177874185, 421.29, 'gini = 0.0\\nsamples = 2\\nvalue = [2, 0]'),\n",
       " Text(279.6052060737527, 502.83000000000004, 'age <= 22.0\\ngini = 0.444\\nsamples = 15\\nvalue = [10, 5]'),\n",
       " Text(277.18438177874185, 475.65000000000003, 'gini = 0.0\\nsamples = 1\\nvalue = [0, 1]'),\n",
       " Text(282.02603036876354, 475.65000000000003, 'bmi <= 25.25\\ngini = 0.408\\nsamples = 14\\nvalue = [10, 4]'),\n",
       " Text(279.6052060737527, 448.47, 'gini = 0.0\\nsamples = 1\\nvalue = [0, 1]'),\n",
       " Text(284.4468546637744, 448.47, 'bmi <= 27.15\\ngini = 0.355\\nsamples = 13\\nvalue = [10, 3]'),\n",
       " Text(282.02603036876354, 421.29, 'age <= 28.0\\ngini = 0.444\\nsamples = 9\\nvalue = [6, 3]'),\n",
       " Text(279.6052060737527, 394.11, 'gini = 0.0\\nsamples = 2\\nvalue = [2, 0]'),\n",
       " Text(284.4468546637744, 394.11, 'age <= 34.0\\ngini = 0.49\\nsamples = 7\\nvalue = [4, 3]'),\n",
       " Text(282.02603036876354, 366.93, 'gini = 0.0\\nsamples = 2\\nvalue = [0, 2]'),\n",
       " Text(286.86767895878523, 366.93, 'children <= 1.5\\ngini = 0.32\\nsamples = 5\\nvalue = [4, 1]'),\n",
       " Text(284.4468546637744, 339.75, 'gini = 0.0\\nsamples = 2\\nvalue = [2, 0]'),\n",
       " Text(289.2885032537961, 339.75, 'age <= 47.5\\ngini = 0.444\\nsamples = 3\\nvalue = [2, 1]'),\n",
       " Text(286.86767895878523, 312.57, 'gini = 0.0\\nsamples = 1\\nvalue = [1, 0]'),\n",
       " Text(291.7093275488069, 312.57, 'age <= 56.5\\ngini = 0.5\\nsamples = 2\\nvalue = [1, 1]'),\n",
       " Text(289.2885032537961, 285.39, 'gini = 0.0\\nsamples = 1\\nvalue = [0, 1]'),\n",
       " Text(294.13015184381777, 285.39, 'gini = 0.0\\nsamples = 1\\nvalue = [1, 0]'),\n",
       " Text(286.86767895878523, 421.29, 'gini = 0.0\\nsamples = 4\\nvalue = [4, 0]'),\n",
       " Text(361.6295417570499, 530.01, 'bmi <= 28.305\\ngini = 0.389\\nsamples = 329\\nvalue = [242, 87]'),\n",
       " Text(301.3926247288503, 502.83000000000004, 'age <= 52.5\\ngini = 0.48\\nsamples = 15\\nvalue = [6, 9]'),\n",
       " Text(298.97180043383946, 475.65000000000003, 'region <= 2.0\\ngini = 0.426\\nsamples = 13\\nvalue = [4, 9]'),\n",
       " Text(296.5509761388286, 448.47, 'age <= 36.0\\ngini = 0.494\\nsamples = 9\\nvalue = [4, 5]'),\n",
       " Text(291.7093275488069, 421.29, 'children <= 0.5\\ngini = 0.32\\nsamples = 5\\nvalue = [1, 4]'),\n",
       " Text(289.2885032537961, 394.11, 'gini = 0.0\\nsamples = 1\\nvalue = [1, 0]'),\n",
       " Text(294.13015184381777, 394.11, 'gini = 0.0\\nsamples = 4\\nvalue = [0, 4]'),\n",
       " Text(301.3926247288503, 421.29, 'bmi <= 28.12\\ngini = 0.375\\nsamples = 4\\nvalue = [3, 1]'),\n",
       " Text(298.97180043383946, 394.11, 'gini = 0.0\\nsamples = 2\\nvalue = [2, 0]'),\n",
       " Text(303.81344902386115, 394.11, 'children <= 3.5\\ngini = 0.5\\nsamples = 2\\nvalue = [1, 1]'),\n",
       " Text(301.3926247288503, 366.93, 'gini = 0.0\\nsamples = 1\\nvalue = [0, 1]'),\n",
       " Text(306.234273318872, 366.93, 'gini = 0.0\\nsamples = 1\\nvalue = [1, 0]'),\n",
       " Text(301.3926247288503, 448.47, 'gini = 0.0\\nsamples = 4\\nvalue = [0, 4]'),\n",
       " Text(303.81344902386115, 475.65000000000003, 'gini = 0.0\\nsamples = 2\\nvalue = [2, 0]'),\n",
       " Text(421.86645878524945, 502.83000000000004, 'region <= 0.5\\ngini = 0.373\\nsamples = 314\\nvalue = [236, 78]'),\n",
       " Text(342.54663774403474, 475.65000000000003, 'bmi <= 32.062\\ngini = 0.448\\nsamples = 62\\nvalue = [41, 21]'),\n",
       " Text(329.23210412147506, 448.47, 'bmi <= 30.637\\ngini = 0.495\\nsamples = 31\\nvalue = [17, 14]'),\n",
       " Text(318.3383947939263, 421.29, 'age <= 55.0\\ngini = 0.415\\nsamples = 17\\nvalue = [12, 5]'),\n",
       " Text(315.91757049891544, 394.11, 'children <= 0.5\\ngini = 0.32\\nsamples = 15\\nvalue = [12, 3]'),\n",
       " Text(311.07592190889375, 366.93, 'age <= 24.5\\ngini = 0.48\\nsamples = 5\\nvalue = [3, 2]'),\n",
       " Text(308.65509761388284, 339.75, 'age <= 21.0\\ngini = 0.444\\nsamples = 3\\nvalue = [1, 2]'),\n",
       " Text(306.234273318872, 312.57, 'gini = 0.0\\nsamples = 1\\nvalue = [1, 0]'),\n",
       " Text(311.07592190889375, 312.57, 'gini = 0.0\\nsamples = 2\\nvalue = [0, 2]'),\n",
       " Text(313.4967462039046, 339.75, 'gini = 0.0\\nsamples = 2\\nvalue = [2, 0]'),\n",
       " Text(320.75921908893713, 366.93, 'age <= 37.5\\ngini = 0.18\\nsamples = 10\\nvalue = [9, 1]'),\n",
       " Text(318.3383947939263, 339.75, 'gini = 0.0\\nsamples = 8\\nvalue = [8, 0]'),\n",
       " Text(323.180043383948, 339.75, 'bmi <= 29.877\\ngini = 0.5\\nsamples = 2\\nvalue = [1, 1]'),\n",
       " Text(320.75921908893713, 312.57, 'gini = 0.0\\nsamples = 1\\nvalue = [1, 0]'),\n",
       " Text(325.6008676789588, 312.57, 'gini = 0.0\\nsamples = 1\\nvalue = [0, 1]'),\n",
       " Text(320.75921908893713, 394.11, 'gini = 0.0\\nsamples = 2\\nvalue = [0, 2]'),\n",
       " Text(340.1258134490239, 421.29, 'age <= 62.5\\ngini = 0.459\\nsamples = 14\\nvalue = [5, 9]'),\n",
       " Text(337.70498915401305, 394.11, 'age <= 49.0\\ngini = 0.426\\nsamples = 13\\nvalue = [4, 9]'),\n",
       " Text(335.2841648590022, 366.93, 'age <= 46.0\\ngini = 0.48\\nsamples = 10\\nvalue = [4, 6]'),\n",
       " Text(332.86334056399136, 339.75, 'children <= 0.5\\ngini = 0.375\\nsamples = 8\\nvalue = [2, 6]'),\n",
       " Text(330.4425162689805, 312.57, 'age <= 21.0\\ngini = 0.48\\nsamples = 5\\nvalue = [2, 3]'),\n",
       " Text(328.02169197396967, 285.39, 'gini = 0.0\\nsamples = 2\\nvalue = [0, 2]'),\n",
       " Text(332.86334056399136, 285.39, 'age <= 23.0\\ngini = 0.444\\nsamples = 3\\nvalue = [2, 1]'),\n",
       " Text(330.4425162689805, 258.21, 'gini = 0.0\\nsamples = 1\\nvalue = [1, 0]'),\n",
       " Text(335.2841648590022, 258.21, 'age <= 27.5\\ngini = 0.5\\nsamples = 2\\nvalue = [1, 1]'),\n",
       " Text(332.86334056399136, 231.02999999999997, 'gini = 0.0\\nsamples = 1\\nvalue = [0, 1]'),\n",
       " Text(337.70498915401305, 231.02999999999997, 'gini = 0.0\\nsamples = 1\\nvalue = [1, 0]'),\n",
       " Text(335.2841648590022, 312.57, 'gini = 0.0\\nsamples = 3\\nvalue = [0, 3]'),\n",
       " Text(337.70498915401305, 339.75, 'gini = 0.0\\nsamples = 2\\nvalue = [2, 0]'),\n",
       " Text(340.1258134490239, 366.93, 'gini = 0.0\\nsamples = 3\\nvalue = [0, 3]'),\n",
       " Text(342.54663774403474, 394.11, 'gini = 0.0\\nsamples = 1\\nvalue = [1, 0]'),\n",
       " Text(355.86117136659436, 448.47, 'children <= 0.5\\ngini = 0.35\\nsamples = 31\\nvalue = [24, 7]'),\n",
       " Text(349.8091106290673, 421.29, 'bmi <= 34.39\\ngini = 0.133\\nsamples = 14\\nvalue = [13, 1]'),\n",
       " Text(347.38828633405643, 394.11, 'bmi <= 34.01\\ngini = 0.375\\nsamples = 4\\nvalue = [3, 1]'),\n",
       " Text(344.9674620390456, 366.93, 'gini = 0.0\\nsamples = 3\\nvalue = [3, 0]'),\n",
       " Text(349.8091106290673, 366.93, 'gini = 0.0\\nsamples = 1\\nvalue = [0, 1]'),\n",
       " Text(352.2299349240781, 394.11, 'gini = 0.0\\nsamples = 10\\nvalue = [10, 0]'),\n",
       " Text(361.9132321041215, 421.29, 'bmi <= 33.535\\ngini = 0.457\\nsamples = 17\\nvalue = [11, 6]'),\n",
       " Text(357.0715835140998, 394.11, 'age <= 48.0\\ngini = 0.245\\nsamples = 7\\nvalue = [6, 1]'),\n",
       " Text(354.65075921908897, 366.93, 'gini = 0.0\\nsamples = 3\\nvalue = [3, 0]'),\n",
       " Text(359.49240780911066, 366.93, 'bmi <= 32.253\\ngini = 0.375\\nsamples = 4\\nvalue = [3, 1]'),\n",
       " Text(357.0715835140998, 339.75, 'gini = 0.0\\nsamples = 3\\nvalue = [3, 0]'),\n",
       " Text(361.9132321041215, 339.75, 'gini = 0.0\\nsamples = 1\\nvalue = [0, 1]'),\n",
       " Text(366.7548806941432, 394.11, 'bmi <= 34.722\\ngini = 0.5\\nsamples = 10\\nvalue = [5, 5]'),\n",
       " Text(364.33405639913235, 366.93, 'gini = 0.0\\nsamples = 2\\nvalue = [0, 2]'),\n",
       " Text(369.17570498915404, 366.93, 'bmi <= 41.562\\ngini = 0.469\\nsamples = 8\\nvalue = [5, 3]'),\n",
       " Text(366.7548806941432, 339.75, 'age <= 33.5\\ngini = 0.408\\nsamples = 7\\nvalue = [5, 2]'),\n",
       " Text(364.33405639913235, 312.57, 'gini = 0.0\\nsamples = 2\\nvalue = [2, 0]'),\n",
       " Text(369.17570498915404, 312.57, 'age <= 36.5\\ngini = 0.48\\nsamples = 5\\nvalue = [3, 2]'),\n",
       " Text(366.7548806941432, 285.39, 'gini = 0.0\\nsamples = 1\\nvalue = [0, 1]'),\n",
       " Text(371.5965292841649, 285.39, 'children <= 2.0\\ngini = 0.375\\nsamples = 4\\nvalue = [3, 1]'),\n",
       " Text(369.17570498915404, 258.21, 'gini = 0.0\\nsamples = 3\\nvalue = [3, 0]'),\n",
       " Text(374.01735357917573, 258.21, 'gini = 0.0\\nsamples = 1\\nvalue = [0, 1]'),\n",
       " Text(371.5965292841649, 339.75, 'gini = 0.0\\nsamples = 1\\nvalue = [0, 1]'),\n",
       " Text(501.1862798264642, 475.65000000000003, 'age <= 59.5\\ngini = 0.35\\nsamples = 252\\nvalue = [195, 57]'),\n",
       " Text(454.0558568329718, 448.47, 'age <= 31.5\\ngini = 0.33\\nsamples = 230\\nvalue = [182, 48]'),\n",
       " Text(412.75054229934926, 421.29, 'bmi <= 35.46\\ngini = 0.399\\nsamples = 91\\nvalue = [66, 25]'),\n",
       " Text(394.5943600867679, 394.11, 'bmi <= 30.275\\ngini = 0.307\\nsamples = 58\\nvalue = [47, 11]'),\n",
       " Text(386.12147505422996, 366.93, 'children <= 0.5\\ngini = 0.49\\nsamples = 14\\nvalue = [8, 6]'),\n",
       " Text(381.27982646420827, 339.75, 'bmi <= 29.023\\ngini = 0.32\\nsamples = 5\\nvalue = [1, 4]'),\n",
       " Text(378.8590021691974, 312.57, 'bmi <= 28.738\\ngini = 0.5\\nsamples = 2\\nvalue = [1, 1]'),\n",
       " Text(376.4381778741866, 285.39, 'gini = 0.0\\nsamples = 1\\nvalue = [0, 1]'),\n",
       " Text(381.27982646420827, 285.39, 'gini = 0.0\\nsamples = 1\\nvalue = [1, 0]'),\n",
       " Text(383.7006507592191, 312.57, 'gini = 0.0\\nsamples = 3\\nvalue = [0, 3]'),\n",
       " Text(390.96312364425165, 339.75, 'children <= 2.5\\ngini = 0.346\\nsamples = 9\\nvalue = [7, 2]'),\n",
       " Text(388.5422993492408, 312.57, 'gini = 0.0\\nsamples = 7\\nvalue = [7, 0]'),\n",
       " Text(393.3839479392625, 312.57, 'gini = 0.0\\nsamples = 2\\nvalue = [0, 2]'),\n",
       " Text(403.0672451193059, 366.93, 'region <= 1.5\\ngini = 0.201\\nsamples = 44\\nvalue = [39, 5]'),\n",
       " Text(400.64642082429503, 339.75, 'gini = 0.0\\nsamples = 13\\nvalue = [13, 0]'),\n",
       " Text(405.4880694143167, 339.75, 'age <= 23.5\\ngini = 0.271\\nsamples = 31\\nvalue = [26, 5]'),\n",
       " Text(398.2255965292842, 312.57, 'children <= 1.5\\ngini = 0.105\\nsamples = 18\\nvalue = [17, 1]'),\n",
       " Text(395.80477223427334, 285.39, 'gini = 0.0\\nsamples = 14\\nvalue = [14, 0]'),\n",
       " Text(400.64642082429503, 285.39, 'age <= 19.0\\ngini = 0.375\\nsamples = 4\\nvalue = [3, 1]'),\n",
       " Text(398.2255965292842, 258.21, 'gini = 0.0\\nsamples = 1\\nvalue = [0, 1]'),\n",
       " Text(403.0672451193059, 258.21, 'gini = 0.0\\nsamples = 3\\nvalue = [3, 0]'),\n",
       " Text(412.75054229934926, 312.57, 'children <= 2.5\\ngini = 0.426\\nsamples = 13\\nvalue = [9, 4]'),\n",
       " Text(410.3297180043384, 285.39, 'age <= 25.0\\ngini = 0.494\\nsamples = 9\\nvalue = [5, 4]'),\n",
       " Text(407.9088937093276, 258.21, 'gini = 0.0\\nsamples = 1\\nvalue = [0, 1]'),\n",
       " Text(412.75054229934926, 258.21, 'children <= 1.5\\ngini = 0.469\\nsamples = 8\\nvalue = [5, 3]'),\n",
       " Text(410.3297180043384, 231.02999999999997, 'bmi <= 31.265\\ngini = 0.408\\nsamples = 7\\nvalue = [5, 2]'),\n",
       " Text(405.4880694143167, 203.85000000000002, 'bmi <= 30.815\\ngini = 0.5\\nsamples = 2\\nvalue = [1, 1]'),\n",
       " Text(403.0672451193059, 176.67000000000002, 'gini = 0.0\\nsamples = 1\\nvalue = [1, 0]'),\n",
       " Text(407.9088937093276, 176.67000000000002, 'gini = 0.0\\nsamples = 1\\nvalue = [0, 1]'),\n",
       " Text(415.1713665943601, 203.85000000000002, 'region <= 2.5\\ngini = 0.32\\nsamples = 5\\nvalue = [4, 1]'),\n",
       " Text(412.75054229934926, 176.67000000000002, 'gini = 0.0\\nsamples = 3\\nvalue = [3, 0]'),\n",
       " Text(417.59219088937095, 176.67000000000002, 'children <= 0.5\\ngini = 0.5\\nsamples = 2\\nvalue = [1, 1]'),\n",
       " Text(415.1713665943601, 149.49, 'gini = 0.0\\nsamples = 1\\nvalue = [0, 1]'),\n",
       " Text(420.0130151843818, 149.49, 'gini = 0.0\\nsamples = 1\\nvalue = [1, 0]'),\n",
       " Text(415.1713665943601, 231.02999999999997, 'gini = 0.0\\nsamples = 1\\nvalue = [0, 1]'),\n",
       " Text(415.1713665943601, 285.39, 'gini = 0.0\\nsamples = 4\\nvalue = [4, 0]'),\n",
       " Text(430.9067245119306, 394.11, 'age <= 22.5\\ngini = 0.489\\nsamples = 33\\nvalue = [19, 14]'),\n",
       " Text(422.43383947939265, 366.93, 'children <= 0.5\\ngini = 0.473\\nsamples = 13\\nvalue = [5, 8]'),\n",
       " Text(420.0130151843818, 339.75, 'age <= 18.5\\ngini = 0.469\\nsamples = 8\\nvalue = [5, 3]'),\n",
       " Text(417.59219088937095, 312.57, 'gini = 0.0\\nsamples = 2\\nvalue = [2, 0]'),\n",
       " Text(422.43383947939265, 312.57, 'age <= 20.0\\ngini = 0.5\\nsamples = 6\\nvalue = [3, 3]'),\n",
       " Text(420.0130151843818, 285.39, 'gini = 0.0\\nsamples = 2\\nvalue = [0, 2]'),\n",
       " Text(424.8546637744035, 285.39, 'bmi <= 36.23\\ngini = 0.375\\nsamples = 4\\nvalue = [3, 1]'),\n",
       " Text(422.43383947939265, 258.21, 'age <= 21.5\\ngini = 0.5\\nsamples = 2\\nvalue = [1, 1]'),\n",
       " Text(420.0130151843818, 231.02999999999997, 'gini = 0.0\\nsamples = 1\\nvalue = [1, 0]'),\n",
       " Text(424.8546637744035, 231.02999999999997, 'gini = 0.0\\nsamples = 1\\nvalue = [0, 1]'),\n",
       " Text(427.27548806941434, 258.21, 'gini = 0.0\\nsamples = 2\\nvalue = [2, 0]'),\n",
       " Text(424.8546637744035, 339.75, 'gini = 0.0\\nsamples = 5\\nvalue = [0, 5]'),\n",
       " Text(439.37960954446856, 366.93, 'bmi <= 35.577\\ngini = 0.42\\nsamples = 20\\nvalue = [14, 6]'),\n",
       " Text(436.9587852494577, 339.75, 'gini = 0.0\\nsamples = 2\\nvalue = [0, 2]'),\n",
       " Text(441.8004338394794, 339.75, 'region <= 2.5\\ngini = 0.346\\nsamples = 18\\nvalue = [14, 4]'),\n",
       " Text(436.9587852494577, 312.57, 'children <= 0.5\\ngini = 0.245\\nsamples = 14\\nvalue = [12, 2]'),\n",
       " Text(434.5379609544469, 285.39, 'bmi <= 39.105\\ngini = 0.444\\nsamples = 6\\nvalue = [4, 2]'),\n",
       " Text(432.117136659436, 258.21, 'gini = 0.0\\nsamples = 3\\nvalue = [3, 0]'),\n",
       " Text(436.9587852494577, 258.21, 'age <= 23.5\\ngini = 0.444\\nsamples = 3\\nvalue = [1, 2]'),\n",
       " Text(434.5379609544469, 231.02999999999997, 'gini = 0.0\\nsamples = 1\\nvalue = [1, 0]'),\n",
       " Text(439.37960954446856, 231.02999999999997, 'gini = 0.0\\nsamples = 2\\nvalue = [0, 2]'),\n",
       " Text(439.37960954446856, 285.39, 'gini = 0.0\\nsamples = 8\\nvalue = [8, 0]'),\n",
       " Text(446.6420824295011, 312.57, 'age <= 29.0\\ngini = 0.5\\nsamples = 4\\nvalue = [2, 2]'),\n",
       " Text(444.22125813449026, 285.39, 'gini = 0.0\\nsamples = 2\\nvalue = [2, 0]'),\n",
       " Text(449.06290672451195, 285.39, 'gini = 0.0\\nsamples = 2\\nvalue = [0, 2]'),\n",
       " Text(495.36117136659436, 421.29, 'children <= 1.5\\ngini = 0.276\\nsamples = 139\\nvalue = [116, 23]'),\n",
       " Text(475.08676789587855, 394.11, 'bmi <= 30.95\\ngini = 0.216\\nsamples = 81\\nvalue = [71, 10]'),\n",
       " Text(463.587852494577, 366.93, 'bmi <= 30.33\\ngini = 0.365\\nsamples = 25\\nvalue = [19, 6]'),\n",
       " Text(458.74620390455533, 339.75, 'age <= 42.5\\ngini = 0.198\\nsamples = 18\\nvalue = [16, 2]'),\n",
       " Text(456.3253796095445, 312.57, 'bmi <= 29.9\\ngini = 0.408\\nsamples = 7\\nvalue = [5, 2]'),\n",
       " Text(453.90455531453364, 285.39, 'age <= 34.5\\ngini = 0.278\\nsamples = 6\\nvalue = [5, 1]'),\n",
       " Text(451.4837310195228, 258.21, 'bmi <= 28.905\\ngini = 0.5\\nsamples = 2\\nvalue = [1, 1]'),\n",
       " Text(449.06290672451195, 231.02999999999997, 'gini = 0.0\\nsamples = 1\\nvalue = [1, 0]'),\n",
       " Text(453.90455531453364, 231.02999999999997, 'gini = 0.0\\nsamples = 1\\nvalue = [0, 1]'),\n",
       " Text(456.3253796095445, 258.21, 'gini = 0.0\\nsamples = 4\\nvalue = [4, 0]'),\n",
       " Text(458.74620390455533, 285.39, 'gini = 0.0\\nsamples = 1\\nvalue = [0, 1]'),\n",
       " Text(461.1670281995662, 312.57, 'gini = 0.0\\nsamples = 11\\nvalue = [11, 0]'),\n",
       " Text(468.4295010845987, 339.75, 'age <= 41.0\\ngini = 0.49\\nsamples = 7\\nvalue = [3, 4]'),\n",
       " Text(466.00867678958787, 312.57, 'age <= 34.5\\ngini = 0.375\\nsamples = 4\\nvalue = [3, 1]'),\n",
       " Text(463.587852494577, 285.39, 'gini = 0.0\\nsamples = 1\\nvalue = [0, 1]'),\n",
       " Text(468.4295010845987, 285.39, 'gini = 0.0\\nsamples = 3\\nvalue = [3, 0]'),\n",
       " Text(470.85032537960956, 312.57, 'gini = 0.0\\nsamples = 3\\nvalue = [0, 3]'),\n",
       " Text(486.5856832971801, 366.93, 'age <= 55.5\\ngini = 0.133\\nsamples = 56\\nvalue = [52, 4]'),\n",
       " Text(478.1127982646421, 339.75, 'age <= 37.5\\ngini = 0.046\\nsamples = 42\\nvalue = [41, 1]'),\n",
       " Text(475.69197396963125, 312.57, 'age <= 36.5\\ngini = 0.153\\nsamples = 12\\nvalue = [11, 1]'),\n",
       " Text(473.2711496746204, 285.39, 'gini = 0.0\\nsamples = 10\\nvalue = [10, 0]'),\n",
       " Text(478.1127982646421, 285.39, 'children <= 0.5\\ngini = 0.5\\nsamples = 2\\nvalue = [1, 1]'),\n",
       " Text(475.69197396963125, 258.21, 'gini = 0.0\\nsamples = 1\\nvalue = [1, 0]'),\n",
       " Text(480.53362255965294, 258.21, 'gini = 0.0\\nsamples = 1\\nvalue = [0, 1]'),\n",
       " Text(480.53362255965294, 312.57, 'gini = 0.0\\nsamples = 30\\nvalue = [30, 0]'),\n",
       " Text(495.058568329718, 339.75, 'bmi <= 40.755\\ngini = 0.337\\nsamples = 14\\nvalue = [11, 3]'),\n",
       " Text(490.2169197396963, 312.57, 'bmi <= 33.677\\ngini = 0.18\\nsamples = 10\\nvalue = [9, 1]'),\n",
       " Text(487.7960954446855, 285.39, 'children <= 0.5\\ngini = 0.5\\nsamples = 2\\nvalue = [1, 1]'),\n",
       " Text(485.37527114967463, 258.21, 'gini = 0.0\\nsamples = 1\\nvalue = [0, 1]'),\n",
       " Text(490.2169197396963, 258.21, 'gini = 0.0\\nsamples = 1\\nvalue = [1, 0]'),\n",
       " Text(492.63774403470717, 285.39, 'gini = 0.0\\nsamples = 8\\nvalue = [8, 0]'),\n",
       " Text(499.9002169197397, 312.57, 'bmi <= 42.915\\ngini = 0.5\\nsamples = 4\\nvalue = [2, 2]'),\n",
       " Text(497.47939262472886, 285.39, 'gini = 0.0\\nsamples = 2\\nvalue = [0, 2]'),\n",
       " Text(502.32104121475055, 285.39, 'gini = 0.0\\nsamples = 2\\nvalue = [2, 0]'),\n",
       " Text(515.6355748373102, 394.11, 'bmi <= 33.088\\ngini = 0.348\\nsamples = 58\\nvalue = [45, 13]'),\n",
       " Text(509.5835140997831, 366.93, 'age <= 45.5\\ngini = 0.165\\nsamples = 22\\nvalue = [20, 2]'),\n",
       " Text(507.16268980477224, 339.75, 'gini = 0.0\\nsamples = 13\\nvalue = [13, 0]'),\n",
       " Text(512.004338394794, 339.75, 'age <= 48.5\\ngini = 0.346\\nsamples = 9\\nvalue = [7, 2]'),\n",
       " Text(509.5835140997831, 312.57, 'age <= 46.5\\ngini = 0.444\\nsamples = 3\\nvalue = [1, 2]'),\n",
       " Text(507.16268980477224, 285.39, 'gini = 0.0\\nsamples = 1\\nvalue = [0, 1]'),\n",
       " Text(512.004338394794, 285.39, 'region <= 2.0\\ngini = 0.5\\nsamples = 2\\nvalue = [1, 1]'),\n",
       " Text(509.5835140997831, 258.21, 'gini = 0.0\\nsamples = 1\\nvalue = [1, 0]'),\n",
       " Text(514.4251626898048, 258.21, 'gini = 0.0\\nsamples = 1\\nvalue = [0, 1]'),\n",
       " Text(514.4251626898048, 312.57, 'gini = 0.0\\nsamples = 6\\nvalue = [6, 0]'),\n",
       " Text(521.6876355748374, 366.93, 'age <= 35.5\\ngini = 0.424\\nsamples = 36\\nvalue = [25, 11]'),\n",
       " Text(519.2668112798265, 339.75, 'gini = 0.0\\nsamples = 6\\nvalue = [6, 0]'),\n",
       " Text(524.1084598698482, 339.75, 'bmi <= 34.32\\ngini = 0.464\\nsamples = 30\\nvalue = [19, 11]'),\n",
       " Text(519.2668112798265, 312.57, 'age <= 54.5\\ngini = 0.444\\nsamples = 6\\nvalue = [2, 4]'),\n",
       " Text(516.8459869848157, 285.39, 'gini = 0.0\\nsamples = 4\\nvalue = [0, 4]'),\n",
       " Text(521.6876355748374, 285.39, 'gini = 0.0\\nsamples = 2\\nvalue = [2, 0]'),\n",
       " Text(528.9501084598699, 312.57, 'region <= 2.5\\ngini = 0.413\\nsamples = 24\\nvalue = [17, 7]'),\n",
       " Text(526.5292841648591, 285.39, 'age <= 42.5\\ngini = 0.475\\nsamples = 18\\nvalue = [11, 7]'),\n",
       " Text(521.6876355748374, 258.21, 'children <= 2.5\\ngini = 0.278\\nsamples = 6\\nvalue = [5, 1]'),\n",
       " Text(519.2668112798265, 231.02999999999997, 'gini = 0.0\\nsamples = 5\\nvalue = [5, 0]'),\n",
       " Text(524.1084598698482, 231.02999999999997, 'gini = 0.0\\nsamples = 1\\nvalue = [0, 1]'),\n",
       " Text(531.3709327548808, 258.21, 'age <= 45.5\\ngini = 0.5\\nsamples = 12\\nvalue = [6, 6]'),\n",
       " Text(528.9501084598699, 231.02999999999997, 'gini = 0.0\\nsamples = 3\\nvalue = [0, 3]'),\n",
       " Text(533.7917570498915, 231.02999999999997, 'age <= 56.5\\ngini = 0.444\\nsamples = 9\\nvalue = [6, 3]'),\n",
       " Text(531.3709327548808, 203.85000000000002, 'bmi <= 40.47\\ngini = 0.375\\nsamples = 8\\nvalue = [6, 2]'),\n",
       " Text(528.9501084598699, 176.67000000000002, 'gini = 0.0\\nsamples = 5\\nvalue = [5, 0]'),\n",
       " Text(533.7917570498915, 176.67000000000002, 'bmi <= 43.12\\ngini = 0.444\\nsamples = 3\\nvalue = [1, 2]'),\n",
       " Text(531.3709327548808, 149.49, 'gini = 0.0\\nsamples = 2\\nvalue = [0, 2]'),\n",
       " Text(536.2125813449024, 149.49, 'gini = 0.0\\nsamples = 1\\nvalue = [1, 0]'),\n",
       " Text(536.2125813449024, 203.85000000000002, 'gini = 0.0\\nsamples = 1\\nvalue = [0, 1]'),\n",
       " Text(531.3709327548808, 285.39, 'gini = 0.0\\nsamples = 6\\nvalue = [6, 0]'),\n",
       " Text(548.3167028199566, 448.47, 'age <= 61.5\\ngini = 0.483\\nsamples = 22\\nvalue = [13, 9]'),\n",
       " Text(543.4750542299349, 421.29, 'bmi <= 39.14\\ngini = 0.42\\nsamples = 10\\nvalue = [3, 7]'),\n",
       " Text(541.0542299349241, 394.11, 'bmi <= 37.34\\ngini = 0.469\\nsamples = 8\\nvalue = [3, 5]'),\n",
       " Text(538.6334056399132, 366.93, 'region <= 2.5\\ngini = 0.408\\nsamples = 7\\nvalue = [2, 5]'),\n",
       " Text(536.2125813449024, 339.75, 'gini = 0.0\\nsamples = 3\\nvalue = [0, 3]'),\n",
       " Text(541.0542299349241, 339.75, 'children <= 2.0\\ngini = 0.5\\nsamples = 4\\nvalue = [2, 2]'),\n",
       " Text(538.6334056399132, 312.57, 'bmi <= 30.85\\ngini = 0.444\\nsamples = 3\\nvalue = [1, 2]'),\n",
       " Text(536.2125813449024, 285.39, 'gini = 0.0\\nsamples = 1\\nvalue = [1, 0]'),\n",
       " Text(541.0542299349241, 285.39, 'gini = 0.0\\nsamples = 2\\nvalue = [0, 2]'),\n",
       " Text(543.4750542299349, 312.57, 'gini = 0.0\\nsamples = 1\\nvalue = [1, 0]'),\n",
       " Text(543.4750542299349, 366.93, 'gini = 0.0\\nsamples = 1\\nvalue = [1, 0]'),\n",
       " Text(545.8958785249458, 394.11, 'gini = 0.0\\nsamples = 2\\nvalue = [0, 2]'),\n",
       " Text(553.1583514099783, 421.29, 'bmi <= 36.245\\ngini = 0.278\\nsamples = 12\\nvalue = [10, 2]'),\n",
       " Text(550.7375271149675, 394.11, 'bmi <= 33.49\\ngini = 0.444\\nsamples = 6\\nvalue = [4, 2]'),\n",
       " Text(548.3167028199566, 366.93, 'gini = 0.0\\nsamples = 4\\nvalue = [4, 0]'),\n",
       " Text(553.1583514099783, 366.93, 'gini = 0.0\\nsamples = 2\\nvalue = [0, 2]'),\n",
       " Text(555.5791757049892, 394.11, 'gini = 0.0\\nsamples = 6\\nvalue = [6, 0]')]"
      ]
     },
     "execution_count": 26,
     "metadata": {},
     "output_type": "execute_result"
    },
    {
     "data": {
      "image/png": "[encoded data removed]",
      "text/plain": [
       "<Figure size 432x288 with 1 Axes>"
      ]
     },
     "metadata": {
      "needs_background": "light"
     },
     "output_type": "display_data"
    },
    {
     "data": {
      "image/png": "[encoded data removed]",
      "text/plain": [
       "<Figure size 720x864 with 1 Axes>"
      ]
     },
     "metadata": {
      "needs_background": "light"
     },
     "output_type": "display_data"
    }
   ],
   "source": [
    "tree.plot_tree(clf)\n",
    "x_features=x.columns\n",
    "plt.figure(figsize=(10,12))\n",
    "tree.plot_tree(clf,filled=True,rounded=True,feature_names=x_features)"
   ]
  },
  {
   "cell_type": "code",
   "execution_count": 27,
   "id": "6f3b68cf",
   "metadata": {},
   "outputs": [],
   "source": [
    "import seaborn as sns\n"
   ]
  },
  {
   "cell_type": "code",
   "execution_count": 28,
   "id": "8f5954c2",
   "metadata": {},
   "outputs": [
    {
     "data": {
      "text/plain": [
       "no     1064\n",
       "yes     274\n",
       "Name: smoker, dtype: int64"
      ]
     },
     "execution_count": 28,
     "metadata": {},
     "output_type": "execute_result"
    }
   ],
   "source": [
    "df.smoker.value_counts()"
   ]
  },
  {
   "cell_type": "markdown",
   "id": "eebe5844",
   "metadata": {},
   "source": [
    "% of Smoker & non smoker"
   ]
  },
  {
   "cell_type": "code",
   "execution_count": 29,
   "id": "cb878d00",
   "metadata": {},
   "outputs": [
    {
     "data": {
      "text/plain": [
       "0.20478325859491778"
      ]
     },
     "execution_count": 29,
     "metadata": {},
     "output_type": "execute_result"
    }
   ],
   "source": [
    "274/(274+1064)# Smoker"
   ]
  },
  {
   "cell_type": "code",
   "execution_count": 30,
   "id": "f2fcb9d8",
   "metadata": {},
   "outputs": [
    {
     "data": {
      "text/plain": [
       "0.7952167414050823"
      ]
     },
     "execution_count": 30,
     "metadata": {},
     "output_type": "execute_result"
    }
   ],
   "source": [
    "1064/(274+1064)# non Smoker"
   ]
  },
  {
   "cell_type": "code",
   "execution_count": 31,
   "id": "2f7b8535",
   "metadata": {},
   "outputs": [
    {
     "data": {
      "text/plain": [
       "<AxesSubplot:xlabel='smoker', ylabel='count'>"
      ]
     },
     "execution_count": 31,
     "metadata": {},
     "output_type": "execute_result"
    },
    {
     "data": {
      "image/png": "[encoded data removed]",
      "text/plain": [
       "<Figure size 432x288 with 1 Axes>"
      ]
     },
     "metadata": {
      "needs_background": "light"
     },
     "output_type": "display_data"
    }
   ],
   "source": [
    "sns.countplot(x='smoker',data=df)"
   ]
  },
  {
   "cell_type": "code",
   "execution_count": 32,
   "id": "12cbfa12",
   "metadata": {},
   "outputs": [
    {
     "data": {
      "text/plain": [
       "<AxesSubplot:xlabel='count', ylabel='smoker'>"
      ]
     },
     "execution_count": 32,
     "metadata": {},
     "output_type": "execute_result"
    },
    {
     "data": {
      "image/png": "[encoded data removed]",
      "text/plain": [
       "<Figure size 432x288 with 1 Axes>"
      ]
     },
     "metadata": {
      "needs_background": "light"
     },
     "output_type": "display_data"
    }
   ],
   "source": [
    "sns.countplot(y='smoker',data=df)"
   ]
  },
  {
   "cell_type": "code",
   "execution_count": 33,
   "id": "e6c004ca",
   "metadata": {},
   "outputs": [
    {
     "data": {
      "text/plain": [
       "<AxesSubplot:xlabel='count', ylabel='sex'>"
      ]
     },
     "execution_count": 33,
     "metadata": {},
     "output_type": "execute_result"
    },
    {
     "data": {
      "image/png": "[encoded data removed]",
      "text/plain": [
       "<Figure size 432x288 with 1 Axes>"
      ]
     },
     "metadata": {
      "needs_background": "light"
     },
     "output_type": "display_data"
    }
   ],
   "source": [
    "sns.countplot(y='sex',data=df,hue='smoker')"
   ]
  },
  {
   "cell_type": "code",
   "execution_count": 34,
   "id": "d2dcba1b",
   "metadata": {},
   "outputs": [
    {
     "data": {
      "text/plain": [
       "<AxesSubplot:xlabel='sex', ylabel='count'>"
      ]
     },
     "execution_count": 34,
     "metadata": {},
     "output_type": "execute_result"
    },
    {
     "data": {
      "image/png": "[encoded data removed]",
      "text/plain": [
       "<Figure size 432x288 with 1 Axes>"
      ]
     },
     "metadata": {
      "needs_background": "light"
     },
     "output_type": "display_data"
    }
   ],
   "source": [
    "sns.countplot(x='sex',data=df,hue='smoker')"
   ]
  },
  {
   "cell_type": "code",
   "execution_count": 35,
   "id": "29032faf",
   "metadata": {},
   "outputs": [],
   "source": [
    "from sklearn.model_selection import train_test_split as tts"
   ]
  },
  {
   "cell_type": "code",
   "execution_count": 36,
   "id": "23ba1f86",
   "metadata": {},
   "outputs": [],
   "source": [
    "xtrain,xtest,ytrain,ytest=tts(x,y,train_size=.70,random_state=1)"
   ]
  },
  {
   "cell_type": "code",
   "execution_count": 37,
   "id": "e24c0994",
   "metadata": {},
   "outputs": [
    {
     "data": {
      "text/html": [
       "<div>\n",
       "<style scoped>\n",
       "    .dataframe tbody tr th:only-of-type {\n",
       "        vertical-align: middle;\n",
       "    }\n",
       "\n",
       "    .dataframe tbody tr th {\n",
       "        vertical-align: top;\n",
       "    }\n",
       "\n",
       "    .dataframe thead th {\n",
       "        text-align: right;\n",
       "    }\n",
       "</style>\n",
       "<table border=\"1\" class=\"dataframe\">\n",
       "  <thead>\n",
       "    <tr style=\"text-align: right;\">\n",
       "      <th></th>\n",
       "      <th>region</th>\n",
       "      <th>age</th>\n",
       "      <th>sex</th>\n",
       "      <th>bmi</th>\n",
       "      <th>children</th>\n",
       "    </tr>\n",
       "  </thead>\n",
       "  <tbody>\n",
       "    <tr>\n",
       "      <th>744</th>\n",
       "      <td>1</td>\n",
       "      <td>50</td>\n",
       "      <td>1</td>\n",
       "      <td>26.41</td>\n",
       "      <td>0</td>\n",
       "    </tr>\n",
       "    <tr>\n",
       "      <th>363</th>\n",
       "      <td>3</td>\n",
       "      <td>21</td>\n",
       "      <td>0</td>\n",
       "      <td>26.40</td>\n",
       "      <td>1</td>\n",
       "    </tr>\n",
       "    <tr>\n",
       "      <th>10</th>\n",
       "      <td>0</td>\n",
       "      <td>25</td>\n",
       "      <td>1</td>\n",
       "      <td>26.22</td>\n",
       "      <td>0</td>\n",
       "    </tr>\n",
       "    <tr>\n",
       "      <th>970</th>\n",
       "      <td>2</td>\n",
       "      <td>50</td>\n",
       "      <td>0</td>\n",
       "      <td>28.16</td>\n",
       "      <td>3</td>\n",
       "    </tr>\n",
       "    <tr>\n",
       "      <th>634</th>\n",
       "      <td>3</td>\n",
       "      <td>51</td>\n",
       "      <td>1</td>\n",
       "      <td>39.70</td>\n",
       "      <td>1</td>\n",
       "    </tr>\n",
       "  </tbody>\n",
       "</table>\n",
       "</div>"
      ],
      "text/plain": [
       "     region  age  sex    bmi  children\n",
       "744       1   50    1  26.41         0\n",
       "363       3   21    0  26.40         1\n",
       "10        0   25    1  26.22         0\n",
       "970       2   50    0  28.16         3\n",
       "634       3   51    1  39.70         1"
      ]
     },
     "execution_count": 37,
     "metadata": {},
     "output_type": "execute_result"
    }
   ],
   "source": [
    "xtrain.head()"
   ]
  },
  {
   "cell_type": "code",
   "execution_count": 38,
   "id": "aead6059",
   "metadata": {},
   "outputs": [
    {
     "data": {
      "text/plain": [
       "(936, 5)"
      ]
     },
     "execution_count": 38,
     "metadata": {},
     "output_type": "execute_result"
    }
   ],
   "source": [
    "xtrain.shape"
   ]
  },
  {
   "cell_type": "code",
   "execution_count": 39,
   "id": "de021cc7",
   "metadata": {},
   "outputs": [
    {
     "data": {
      "text/plain": [
       "744    no\n",
       "363    no\n",
       "10     no\n",
       "970    no\n",
       "634    no\n",
       "Name: smoker, dtype: object"
      ]
     },
     "execution_count": 39,
     "metadata": {},
     "output_type": "execute_result"
    }
   ],
   "source": [
    "ytrain.head()"
   ]
  },
  {
   "cell_type": "code",
   "execution_count": 40,
   "id": "c81405a0",
   "metadata": {},
   "outputs": [
    {
     "data": {
      "text/plain": [
       "no     743\n",
       "yes    193\n",
       "Name: smoker, dtype: int64"
      ]
     },
     "execution_count": 40,
     "metadata": {},
     "output_type": "execute_result"
    }
   ],
   "source": [
    "ytrain.value_counts()"
   ]
  },
  {
   "cell_type": "code",
   "execution_count": 41,
   "id": "faaa9b7c",
   "metadata": {},
   "outputs": [
    {
     "data": {
      "text/plain": [
       "0.20619658119658119"
      ]
     },
     "execution_count": 41,
     "metadata": {},
     "output_type": "execute_result"
    }
   ],
   "source": [
    "193/(193+743)#smoker"
   ]
  },
  {
   "cell_type": "markdown",
   "id": "10a8f1b5",
   "metadata": {},
   "source": [
    "# Model Creation"
   ]
  },
  {
   "cell_type": "code",
   "execution_count": 42,
   "id": "971d2a17",
   "metadata": {},
   "outputs": [],
   "source": [
    "from sklearn.tree import DecisionTreeClassifier\n",
    "clf=DecisionTreeClassifier()"
   ]
  },
  {
   "cell_type": "code",
   "execution_count": 43,
   "id": "489f38c3",
   "metadata": {},
   "outputs": [
    {
     "data": {
      "text/plain": [
       "DecisionTreeClassifier()"
      ]
     },
     "execution_count": 43,
     "metadata": {},
     "output_type": "execute_result"
    }
   ],
   "source": [
    "clf.fit(xtrain,ytrain)"
   ]
  },
  {
   "cell_type": "code",
   "execution_count": 44,
   "id": "e371bc10",
   "metadata": {},
   "outputs": [],
   "source": [
    "testing=clf.predict(xtest)# Predicted Result"
   ]
  },
  {
   "cell_type": "code",
   "execution_count": 45,
   "id": "6d26307d",
   "metadata": {},
   "outputs": [
    {
     "data": {
      "text/plain": [
       "array(['yes', 'yes', 'no', 'yes', 'no', 'no', 'no', 'no', 'no', 'no',\n",
       "       'no', 'no', 'no', 'no', 'no', 'no', 'no', 'no', 'no', 'no', 'yes',\n",
       "       'no', 'no', 'no', 'no', 'no', 'no', 'no', 'no', 'no', 'no', 'yes',\n",
       "       'no', 'no', 'yes', 'no', 'yes', 'yes', 'no', 'yes', 'no', 'no',\n",
       "       'no', 'no', 'no', 'yes', 'no', 'no', 'no', 'no', 'yes', 'no', 'no',\n",
       "       'yes', 'no', 'no', 'no', 'no', 'no', 'no', 'yes', 'no', 'no', 'no',\n",
       "       'no', 'no', 'no', 'no', 'no', 'no', 'no', 'no', 'no', 'no', 'no',\n",
       "       'no', 'no', 'no', 'no', 'yes', 'no', 'no', 'no', 'yes', 'no', 'no',\n",
       "       'no', 'no', 'no', 'yes', 'no', 'no', 'yes', 'no', 'no', 'no', 'no',\n",
       "       'no', 'no', 'no', 'no', 'no', 'no', 'no', 'no', 'no', 'no', 'no',\n",
       "       'no', 'no', 'no', 'no', 'yes', 'no', 'no', 'no', 'no', 'no', 'yes',\n",
       "       'no', 'no', 'yes', 'no', 'no', 'no', 'yes', 'no', 'yes', 'no',\n",
       "       'no', 'no', 'no', 'yes', 'no', 'no', 'no', 'no', 'no', 'no', 'yes',\n",
       "       'no', 'no', 'no', 'no', 'no', 'no', 'no', 'no', 'no', 'yes', 'no',\n",
       "       'no', 'no', 'no', 'no', 'no', 'yes', 'no', 'no', 'no', 'no', 'no',\n",
       "       'no', 'no', 'yes', 'no', 'no', 'no', 'no', 'yes', 'no', 'no', 'no',\n",
       "       'no', 'no', 'yes', 'no', 'no', 'no', 'no', 'yes', 'no', 'no', 'no',\n",
       "       'no', 'yes', 'no', 'no', 'no', 'yes', 'yes', 'yes', 'no', 'no',\n",
       "       'no', 'no', 'no', 'yes', 'no', 'no', 'no', 'no', 'no', 'yes', 'no',\n",
       "       'yes', 'yes', 'yes', 'no', 'no', 'no', 'no', 'yes', 'no', 'no',\n",
       "       'yes', 'yes', 'yes', 'no', 'no', 'no', 'no', 'yes', 'no', 'no',\n",
       "       'no', 'no', 'no', 'no', 'no', 'no', 'no', 'yes', 'no', 'no', 'no',\n",
       "       'no', 'no', 'no', 'yes', 'no', 'no', 'yes', 'yes', 'no', 'no',\n",
       "       'yes', 'no', 'no', 'no', 'no', 'no', 'no', 'yes', 'yes', 'no',\n",
       "       'yes', 'no', 'no', 'no', 'no', 'no', 'no', 'no', 'no', 'no', 'yes',\n",
       "       'yes', 'no', 'no', 'no', 'no', 'no', 'no', 'no', 'yes', 'no', 'no',\n",
       "       'yes', 'no', 'yes', 'no', 'no', 'no', 'no', 'no', 'no', 'no',\n",
       "       'yes', 'no', 'no', 'no', 'no', 'no', 'yes', 'no', 'no', 'no', 'no',\n",
       "       'yes', 'yes', 'yes', 'no', 'no', 'yes', 'yes', 'yes', 'no', 'yes',\n",
       "       'no', 'yes', 'yes', 'no', 'no', 'no', 'yes', 'no', 'no', 'yes',\n",
       "       'no', 'no', 'no', 'yes', 'no', 'no', 'no', 'no', 'no', 'no', 'no',\n",
       "       'no', 'no', 'no', 'yes', 'yes', 'no', 'no', 'no', 'yes', 'no',\n",
       "       'no', 'yes', 'no', 'no', 'no', 'yes', 'yes', 'no', 'no', 'no',\n",
       "       'no', 'no', 'no', 'no', 'no', 'no', 'no', 'yes', 'no', 'no', 'no',\n",
       "       'no', 'yes', 'no', 'yes', 'no', 'no', 'no', 'no', 'yes', 'no',\n",
       "       'no', 'no', 'no', 'no', 'no', 'yes', 'no', 'yes', 'yes', 'yes',\n",
       "       'no', 'no', 'no', 'no', 'no', 'yes', 'yes', 'no', 'no', 'no', 'no',\n",
       "       'no', 'no', 'no', 'yes', 'no', 'no', 'no', 'no', 'no', 'no'],\n",
       "      dtype=object)"
      ]
     },
     "execution_count": 45,
     "metadata": {},
     "output_type": "execute_result"
    }
   ],
   "source": [
    "testing"
   ]
  },
  {
   "cell_type": "code",
   "execution_count": 46,
   "id": "b3b6bda4",
   "metadata": {},
   "outputs": [
    {
     "data": {
      "text/plain": [
       "array(['no', 'no', 'no', 'no', 'no', 'yes', 'no', 'no', 'no', 'yes', 'no',\n",
       "       'no', 'no', 'no', 'no', 'no', 'no', 'no', 'no', 'no', 'no', 'yes',\n",
       "       'no', 'no', 'no', 'no', 'no', 'no', 'no', 'no', 'no', 'no', 'yes',\n",
       "       'yes', 'yes', 'no', 'yes', 'yes', 'no', 'yes', 'no', 'no', 'no',\n",
       "       'no', 'no', 'no', 'no', 'yes', 'no', 'no', 'no', 'no', 'no', 'no',\n",
       "       'yes', 'no', 'yes', 'no', 'no', 'no', 'no', 'no', 'yes', 'no',\n",
       "       'no', 'no', 'no', 'no', 'no', 'yes', 'yes', 'yes', 'no', 'no',\n",
       "       'no', 'yes', 'no', 'no', 'no', 'no', 'no', 'no', 'no', 'no', 'yes',\n",
       "       'yes', 'no', 'yes', 'no', 'no', 'yes', 'yes', 'no', 'no', 'no',\n",
       "       'no', 'no', 'no', 'no', 'no', 'no', 'yes', 'yes', 'yes', 'yes',\n",
       "       'yes', 'no', 'no', 'no', 'no', 'no', 'no', 'no', 'no', 'no', 'no',\n",
       "       'no', 'no', 'no', 'no', 'no', 'no', 'no', 'no', 'yes', 'no', 'no',\n",
       "       'yes', 'yes', 'no', 'yes', 'no', 'no', 'yes', 'no', 'no', 'no',\n",
       "       'no', 'no', 'no', 'no', 'no', 'yes', 'no', 'no', 'no', 'no', 'no',\n",
       "       'no', 'no', 'no', 'no', 'no', 'no', 'no', 'no', 'no', 'no', 'no',\n",
       "       'no', 'no', 'yes', 'no', 'no', 'no', 'no', 'yes', 'no', 'no', 'no',\n",
       "       'no', 'no', 'yes', 'yes', 'no', 'no', 'no', 'no', 'no', 'no', 'no',\n",
       "       'no', 'no', 'no', 'no', 'yes', 'no', 'no', 'no', 'no', 'no', 'yes',\n",
       "       'no', 'no', 'no', 'no', 'no', 'no', 'no', 'no', 'no', 'no', 'no',\n",
       "       'no', 'no', 'no', 'no', 'no', 'no', 'no', 'no', 'yes', 'no', 'no',\n",
       "       'no', 'yes', 'no', 'yes', 'no', 'yes', 'no', 'yes', 'no', 'no',\n",
       "       'no', 'no', 'no', 'no', 'yes', 'no', 'no', 'no', 'yes', 'no', 'no',\n",
       "       'no', 'yes', 'no', 'no', 'no', 'no', 'no', 'no', 'no', 'no', 'yes',\n",
       "       'no', 'no', 'no', 'no', 'no', 'no', 'no', 'no', 'no', 'no', 'yes',\n",
       "       'yes', 'no', 'yes', 'no', 'no', 'no', 'yes', 'yes', 'yes', 'no',\n",
       "       'no', 'no', 'no', 'no', 'no', 'no', 'no', 'no', 'yes', 'no', 'no',\n",
       "       'yes', 'yes', 'no', 'no', 'no', 'no', 'no', 'no', 'no', 'no', 'no',\n",
       "       'no', 'no', 'no', 'no', 'no', 'no', 'yes', 'no', 'no', 'no', 'no',\n",
       "       'no', 'no', 'no', 'no', 'no', 'yes', 'no', 'no', 'no', 'no', 'no',\n",
       "       'no', 'yes', 'no', 'no', 'no', 'no', 'no', 'no', 'no', 'no', 'yes',\n",
       "       'no', 'no', 'no', 'no', 'no', 'no', 'no', 'yes', 'no', 'no', 'no',\n",
       "       'no', 'no', 'no', 'no', 'no', 'no', 'no', 'yes', 'no', 'yes', 'no',\n",
       "       'no', 'yes', 'no', 'no', 'no', 'no', 'no', 'no', 'no', 'yes',\n",
       "       'yes', 'no', 'no', 'yes', 'no', 'no', 'no', 'no', 'no', 'no', 'no',\n",
       "       'no', 'yes', 'yes', 'no', 'yes', 'yes', 'no', 'no', 'no', 'no',\n",
       "       'no', 'no', 'no', 'no', 'no', 'no', 'yes', 'yes', 'yes', 'no',\n",
       "       'no', 'no', 'no', 'no', 'no', 'yes', 'yes', 'no', 'yes', 'yes',\n",
       "       'yes', 'no', 'no', 'no', 'no', 'yes', 'no'], dtype=object)"
      ]
     },
     "execution_count": 46,
     "metadata": {},
     "output_type": "execute_result"
    }
   ],
   "source": [
    "import numpy as np\n",
    "np.array(ytest) #Actual Result"
   ]
  },
  {
   "cell_type": "code",
   "execution_count": 47,
   "id": "fc3a5a79",
   "metadata": {},
   "outputs": [
    {
     "data": {
      "text/plain": [
       "0.6691542288557214"
      ]
     },
     "execution_count": 47,
     "metadata": {},
     "output_type": "execute_result"
    }
   ],
   "source": [
    "clf.score(xtest,ytest)"
   ]
  },
  {
   "cell_type": "code",
   "execution_count": 48,
   "id": "eda62a39",
   "metadata": {},
   "outputs": [],
   "source": [
    "from sklearn.metrics import classification_report, confusion_matrix,roc_curve,plot_roc_curve"
   ]
  },
  {
   "cell_type": "code",
   "execution_count": 49,
   "id": "e1962ba0",
   "metadata": {},
   "outputs": [
    {
     "data": {
      "text/plain": [
       "'              precision    recall  f1-score   support\\n\\n          no       0.80      0.78      0.79       321\\n         yes       0.20      0.22      0.21        81\\n\\n    accuracy                           0.67       402\\n   macro avg       0.50      0.50      0.50       402\\nweighted avg       0.68      0.67      0.67       402\\n'"
      ]
     },
     "execution_count": 49,
     "metadata": {},
     "output_type": "execute_result"
    }
   ],
   "source": [
    "classification_report(ytest,testing)"
   ]
  },
  {
   "cell_type": "code",
   "execution_count": 50,
   "id": "e03bdc24",
   "metadata": {},
   "outputs": [
    {
     "name": "stdout",
     "output_type": "stream",
     "text": [
      "              precision    recall  f1-score   support\n",
      "\n",
      "          no       0.80      0.78      0.79       321\n",
      "         yes       0.20      0.22      0.21        81\n",
      "\n",
      "    accuracy                           0.67       402\n",
      "   macro avg       0.50      0.50      0.50       402\n",
      "weighted avg       0.68      0.67      0.67       402\n",
      "\n"
     ]
    }
   ],
   "source": [
    "print(classification_report(ytest,testing))"
   ]
  },
  {
   "cell_type": "code",
   "execution_count": 51,
   "id": "0d329cc7",
   "metadata": {},
   "outputs": [
    {
     "data": {
      "text/plain": [
       "(402, 5)"
      ]
     },
     "execution_count": 51,
     "metadata": {},
     "output_type": "execute_result"
    }
   ],
   "source": [
    "xtest.shape"
   ]
  },
  {
   "cell_type": "code",
   "execution_count": 52,
   "id": "0f29a87e",
   "metadata": {},
   "outputs": [
    {
     "data": {
      "text/plain": [
       "array([[251,  70],\n",
       "       [ 63,  18]], dtype=int64)"
      ]
     },
     "execution_count": 52,
     "metadata": {},
     "output_type": "execute_result"
    }
   ],
   "source": [
    "confusion_matrix(ytest,testing) #"
   ]
  },
  {
   "cell_type": "code",
   "execution_count": 53,
   "id": "10e5eec0",
   "metadata": {},
   "outputs": [],
   "source": [
    "con_mat=confusion_matrix(ytest,testing) #\n"
   ]
  },
  {
   "cell_type": "code",
   "execution_count": 54,
   "id": "9765af16",
   "metadata": {},
   "outputs": [
    {
     "data": {
      "text/plain": [
       "array([[251,  70],\n",
       "       [ 63,  18]], dtype=int64)"
      ]
     },
     "execution_count": 54,
     "metadata": {},
     "output_type": "execute_result"
    }
   ],
   "source": [
    "con_mat"
   ]
  },
  {
   "cell_type": "code",
   "execution_count": 55,
   "id": "4e3bd74c",
   "metadata": {},
   "outputs": [
    {
     "data": {
      "text/plain": [
       "0.6592039800995025"
      ]
     },
     "execution_count": 55,
     "metadata": {},
     "output_type": "execute_result"
    }
   ],
   "source": [
    "(251+14)/(251+14+70+67)"
   ]
  },
  {
   "cell_type": "code",
   "execution_count": 56,
   "id": "3771c95c",
   "metadata": {},
   "outputs": [
    {
     "data": {
      "text/plain": [
       "<AxesSubplot:>"
      ]
     },
     "execution_count": 56,
     "metadata": {},
     "output_type": "execute_result"
    },
    {
     "data": {
      "image/png": "[encoded data removed]",
      "text/plain": [
       "<Figure size 432x288 with 2 Axes>"
      ]
     },
     "metadata": {
      "needs_background": "light"
     },
     "output_type": "display_data"
    }
   ],
   "source": [
    "sns.heatmap(con_mat,annot=True)"
   ]
  },
  {
   "cell_type": "code",
   "execution_count": 57,
   "id": "b57e96b8",
   "metadata": {},
   "outputs": [],
   "source": [
    "tp,fn,fp,tn=confusion_matrix(ytest,testing).reshape(-1)"
   ]
  },
  {
   "cell_type": "code",
   "execution_count": 58,
   "id": "6659abfd",
   "metadata": {},
   "outputs": [
    {
     "data": {
      "text/plain": [
       "251"
      ]
     },
     "execution_count": 58,
     "metadata": {},
     "output_type": "execute_result"
    }
   ],
   "source": [
    "tp"
   ]
  },
  {
   "cell_type": "code",
   "execution_count": 59,
   "id": "ba7c676f",
   "metadata": {},
   "outputs": [
    {
     "data": {
      "text/plain": [
       "70"
      ]
     },
     "execution_count": 59,
     "metadata": {},
     "output_type": "execute_result"
    }
   ],
   "source": [
    "fn"
   ]
  },
  {
   "cell_type": "code",
   "execution_count": 60,
   "id": "92548cb8",
   "metadata": {},
   "outputs": [
    {
     "data": {
      "text/plain": [
       "63"
      ]
     },
     "execution_count": 60,
     "metadata": {},
     "output_type": "execute_result"
    }
   ],
   "source": [
    "fp"
   ]
  },
  {
   "cell_type": "code",
   "execution_count": 61,
   "id": "c3d3cfe2",
   "metadata": {},
   "outputs": [
    {
     "data": {
      "text/plain": [
       "18"
      ]
     },
     "execution_count": 61,
     "metadata": {},
     "output_type": "execute_result"
    }
   ],
   "source": [
    "tn"
   ]
  },
  {
   "cell_type": "markdown",
   "id": "014059fd",
   "metadata": {},
   "source": [
    "# Precision or Positive Predictive value(PPV)"
   ]
  },
  {
   "cell_type": "code",
   "execution_count": 62,
   "id": "735d8946",
   "metadata": {},
   "outputs": [],
   "source": [
    "ppv=tp/(tp+fp)"
   ]
  },
  {
   "cell_type": "code",
   "execution_count": 63,
   "id": "b68d0689",
   "metadata": {},
   "outputs": [
    {
     "data": {
      "text/plain": [
       "0.7993630573248408"
      ]
     },
     "execution_count": 63,
     "metadata": {},
     "output_type": "execute_result"
    }
   ],
   "source": [
    "ppv"
   ]
  },
  {
   "cell_type": "markdown",
   "id": "f88fb602",
   "metadata": {},
   "source": [
    "# Sensitivity,Recall,Hit Rate,or True Positive Rate(TPR)"
   ]
  },
  {
   "cell_type": "code",
   "execution_count": 64,
   "id": "3cfda99a",
   "metadata": {},
   "outputs": [],
   "source": [
    "tpr=tp/(tp+fp)"
   ]
  },
  {
   "cell_type": "code",
   "execution_count": 65,
   "id": "0c20a7ea",
   "metadata": {},
   "outputs": [
    {
     "data": {
      "text/plain": [
       "0.7993630573248408"
      ]
     },
     "execution_count": 65,
     "metadata": {},
     "output_type": "execute_result"
    }
   ],
   "source": [
    "tpr\n"
   ]
  },
  {
   "cell_type": "markdown",
   "id": "6cd5bece",
   "metadata": {},
   "source": [
    "# False Positive Rate(FPR)"
   ]
  },
  {
   "cell_type": "code",
   "execution_count": 66,
   "id": "695cb0bb",
   "metadata": {},
   "outputs": [],
   "source": [
    "fpr=fp/(fp+tn)"
   ]
  },
  {
   "cell_type": "code",
   "execution_count": 67,
   "id": "ebc92640",
   "metadata": {},
   "outputs": [
    {
     "data": {
      "text/plain": [
       "0.7777777777777778"
      ]
     },
     "execution_count": 67,
     "metadata": {},
     "output_type": "execute_result"
    }
   ],
   "source": [
    "fpr"
   ]
  },
  {
   "cell_type": "markdown",
   "id": "ee3202cc",
   "metadata": {},
   "source": [
    "# F1 Measure"
   ]
  },
  {
   "cell_type": "code",
   "execution_count": 68,
   "id": "a06ee816",
   "metadata": {},
   "outputs": [],
   "source": [
    "f1_measure=(ppv+tpr)/2"
   ]
  },
  {
   "cell_type": "code",
   "execution_count": 69,
   "id": "db2eb305",
   "metadata": {},
   "outputs": [
    {
     "data": {
      "text/plain": [
       "0.7993630573248408"
      ]
     },
     "execution_count": 69,
     "metadata": {},
     "output_type": "execute_result"
    }
   ],
   "source": [
    "f1_measure\n"
   ]
  },
  {
   "cell_type": "code",
   "execution_count": 70,
   "id": "622bb242",
   "metadata": {},
   "outputs": [],
   "source": [
    "#f1_measure=(0.8006329113924051+0.8006329113924051)/2"
   ]
  },
  {
   "cell_type": "code",
   "execution_count": 71,
   "id": "092e6736",
   "metadata": {},
   "outputs": [],
   "source": [
    "#f1_measure"
   ]
  },
  {
   "cell_type": "markdown",
   "id": "d59697dc",
   "metadata": {},
   "source": [
    "Harmonic Mean,F1 Score"
   ]
  },
  {
   "cell_type": "code",
   "execution_count": 72,
   "id": "75d658df",
   "metadata": {},
   "outputs": [],
   "source": [
    "f1=(2*ppv*tpr)/(ppv+tpr)"
   ]
  },
  {
   "cell_type": "code",
   "execution_count": 73,
   "id": "4c38e2e9",
   "metadata": {},
   "outputs": [
    {
     "data": {
      "text/plain": [
       "0.7993630573248408"
      ]
     },
     "execution_count": 73,
     "metadata": {},
     "output_type": "execute_result"
    }
   ],
   "source": [
    "f1"
   ]
  },
  {
   "cell_type": "code",
   "execution_count": 74,
   "id": "df021e8a",
   "metadata": {},
   "outputs": [],
   "source": [
    "#f1=(2*0.8006329113924051*0.8006329113924051)/(0.8006329113924051+0.8006329113924051)"
   ]
  },
  {
   "cell_type": "markdown",
   "id": "5350897b",
   "metadata": {},
   "source": [
    "Specificity,Selectivity or True Negative Rate"
   ]
  },
  {
   "cell_type": "code",
   "execution_count": 75,
   "id": "2b46cbb4",
   "metadata": {},
   "outputs": [],
   "source": [
    "specificity=tn/(tn+fp)"
   ]
  },
  {
   "cell_type": "code",
   "execution_count": 76,
   "id": "94c72d6d",
   "metadata": {},
   "outputs": [
    {
     "data": {
      "text/plain": [
       "0.2222222222222222"
      ]
     },
     "execution_count": 76,
     "metadata": {},
     "output_type": "execute_result"
    }
   ],
   "source": [
    "specificity"
   ]
  },
  {
   "cell_type": "markdown",
   "id": "837f4516",
   "metadata": {},
   "source": [
    "Threat Score(TS) or Critical Success Index(CSI):"
   ]
  },
  {
   "cell_type": "code",
   "execution_count": 77,
   "id": "2b70393c",
   "metadata": {},
   "outputs": [],
   "source": [
    "csi=tp/(tp+fn+fp)"
   ]
  },
  {
   "cell_type": "code",
   "execution_count": 78,
   "id": "0b7d926b",
   "metadata": {},
   "outputs": [
    {
     "data": {
      "text/plain": [
       "0.6536458333333334"
      ]
     },
     "execution_count": 78,
     "metadata": {},
     "output_type": "execute_result"
    }
   ],
   "source": [
    "csi"
   ]
  },
  {
   "cell_type": "markdown",
   "id": "4a924fcb",
   "metadata": {},
   "source": [
    "False Discovery Rate(FDR):"
   ]
  },
  {
   "cell_type": "code",
   "execution_count": 79,
   "id": "f202de62",
   "metadata": {},
   "outputs": [],
   "source": [
    "fdr=fp/(tp+fp)"
   ]
  },
  {
   "cell_type": "code",
   "execution_count": 80,
   "id": "42bfa71a",
   "metadata": {},
   "outputs": [
    {
     "data": {
      "text/plain": [
       "0.20063694267515925"
      ]
     },
     "execution_count": 80,
     "metadata": {},
     "output_type": "execute_result"
    }
   ],
   "source": [
    "fdr"
   ]
  },
  {
   "cell_type": "markdown",
   "id": "748e24f6",
   "metadata": {},
   "source": [
    "Informedness or bookmark infomedness(BM)=tpr+tnr(specificity)-1"
   ]
  },
  {
   "cell_type": "code",
   "execution_count": 81,
   "id": "8f2bd6d5",
   "metadata": {},
   "outputs": [],
   "source": [
    "bm=tpr+specificity-1"
   ]
  },
  {
   "cell_type": "code",
   "execution_count": 82,
   "id": "f954581b",
   "metadata": {},
   "outputs": [
    {
     "data": {
      "text/plain": [
       "0.02158527954706302"
      ]
     },
     "execution_count": 82,
     "metadata": {},
     "output_type": "execute_result"
    }
   ],
   "source": [
    "bm\n"
   ]
  },
  {
   "cell_type": "markdown",
   "id": "e901e57e",
   "metadata": {},
   "source": [
    "# Markedness(MK) or deltap=ppv+npv-1"
   ]
  },
  {
   "cell_type": "code",
   "execution_count": 83,
   "id": "56bfc574",
   "metadata": {},
   "outputs": [],
   "source": [
    "npv=tn/(fn+tn)"
   ]
  },
  {
   "cell_type": "code",
   "execution_count": 84,
   "id": "a8ed7414",
   "metadata": {},
   "outputs": [
    {
     "data": {
      "text/plain": [
       "0.20454545454545456"
      ]
     },
     "execution_count": 84,
     "metadata": {},
     "output_type": "execute_result"
    }
   ],
   "source": [
    "npv"
   ]
  },
  {
   "cell_type": "code",
   "execution_count": 85,
   "id": "6092b18a",
   "metadata": {},
   "outputs": [],
   "source": [
    "mk=ppv+npv-1"
   ]
  },
  {
   "cell_type": "code",
   "execution_count": 86,
   "id": "81d8017b",
   "metadata": {},
   "outputs": [
    {
     "data": {
      "text/plain": [
       "0.003908511870295284"
      ]
     },
     "execution_count": 86,
     "metadata": {},
     "output_type": "execute_result"
    }
   ],
   "source": [
    "mk"
   ]
  },
  {
   "cell_type": "markdown",
   "id": "edda31d4",
   "metadata": {},
   "source": [
    "# Fowlkes-Mallows Index(FM)"
   ]
  },
  {
   "cell_type": "code",
   "execution_count": 87,
   "id": "d2bc2772",
   "metadata": {},
   "outputs": [],
   "source": [
    "# fm=sqrt(tp/(tp+fp)*tp/(tp+fn))"
   ]
  },
  {
   "cell_type": "code",
   "execution_count": 88,
   "id": "780ffa92",
   "metadata": {},
   "outputs": [],
   "source": [
    "import math"
   ]
  },
  {
   "cell_type": "code",
   "execution_count": 89,
   "id": "8104bfda",
   "metadata": {},
   "outputs": [],
   "source": [
    "fm=math.sqrt(tp/(tp+fp)*tp/(tp+fn))"
   ]
  },
  {
   "cell_type": "code",
   "execution_count": 90,
   "id": "d1a48999",
   "metadata": {},
   "outputs": [
    {
     "data": {
      "text/plain": [
       "0.7905992194664636"
      ]
     },
     "execution_count": 90,
     "metadata": {},
     "output_type": "execute_result"
    }
   ],
   "source": [
    "fm"
   ]
  },
  {
   "cell_type": "markdown",
   "id": "b948a550",
   "metadata": {},
   "source": [
    "# ROC Curve"
   ]
  },
  {
   "cell_type": "code",
   "execution_count": 91,
   "id": "736b7285",
   "metadata": {},
   "outputs": [],
   "source": [
    "from sklearn.linear_model import LogisticRegression"
   ]
  },
  {
   "cell_type": "code",
   "execution_count": 92,
   "id": "89ff48c7",
   "metadata": {},
   "outputs": [],
   "source": [
    "from sklearn import metrics "
   ]
  },
  {
   "cell_type": "code",
   "execution_count": 93,
   "id": "bdcd51d2",
   "metadata": {},
   "outputs": [],
   "source": [
    "log_regression = LogisticRegression()"
   ]
  },
  {
   "cell_type": "code",
   "execution_count": 94,
   "id": "3c61a343",
   "metadata": {},
   "outputs": [
    {
     "data": {
      "text/plain": [
       "LogisticRegression()"
      ]
     },
     "execution_count": 94,
     "metadata": {},
     "output_type": "execute_result"
    }
   ],
   "source": [
    "log_regression.fit(xtrain,ytrain)"
   ]
  },
  {
   "cell_type": "code",
   "execution_count": 95,
   "id": "630ba864",
   "metadata": {},
   "outputs": [],
   "source": [
    "y_pred_proba = log_regression.predict_proba(xtest)[::,1]"
   ]
  },
  {
   "cell_type": "code",
   "execution_count": 97,
   "id": "48c28de6",
   "metadata": {},
   "outputs": [
    {
     "ename": "ValueError",
     "evalue": "y_true takes value in {'no', 'yes'} and pos_label is not specified: either make y_true take value in {0, 1} or {-1, 1} or pass pos_label explicitly.",
     "output_type": "error",
     "traceback": [
      "\u001b[1;31m---------------------------------------------------------------------------\u001b[0m",
      "\u001b[1;31mValueError\u001b[0m                                Traceback (most recent call last)",
      "\u001b[1;32m~\\AppData\\Local\\Temp/ipykernel_6160/436335655.py\u001b[0m in \u001b[0;36m<module>\u001b[1;34m\u001b[0m\n\u001b[1;32m----> 1\u001b[1;33m \u001b[0mfpr\u001b[0m\u001b[1;33m,\u001b[0m \u001b[0mtpr\u001b[0m\u001b[1;33m,\u001b[0m \u001b[0m_\u001b[0m \u001b[1;33m=\u001b[0m \u001b[0mmetrics\u001b[0m\u001b[1;33m.\u001b[0m\u001b[0mroc_curve\u001b[0m\u001b[1;33m(\u001b[0m\u001b[0mytest\u001b[0m\u001b[1;33m,\u001b[0m \u001b[0my_pred_proba\u001b[0m\u001b[1;33m)\u001b[0m\u001b[1;33m\u001b[0m\u001b[1;33m\u001b[0m\u001b[0m\n\u001b[0m",
      "\u001b[1;32mG:\\Anaconda\\lib\\site-packages\\sklearn\\utils\\validation.py\u001b[0m in \u001b[0;36minner_f\u001b[1;34m(*args, **kwargs)\u001b[0m\n\u001b[0;32m     61\u001b[0m             \u001b[0mextra_args\u001b[0m \u001b[1;33m=\u001b[0m \u001b[0mlen\u001b[0m\u001b[1;33m(\u001b[0m\u001b[0margs\u001b[0m\u001b[1;33m)\u001b[0m \u001b[1;33m-\u001b[0m \u001b[0mlen\u001b[0m\u001b[1;33m(\u001b[0m\u001b[0mall_args\u001b[0m\u001b[1;33m)\u001b[0m\u001b[1;33m\u001b[0m\u001b[1;33m\u001b[0m\u001b[0m\n\u001b[0;32m     62\u001b[0m             \u001b[1;32mif\u001b[0m \u001b[0mextra_args\u001b[0m \u001b[1;33m<=\u001b[0m \u001b[1;36m0\u001b[0m\u001b[1;33m:\u001b[0m\u001b[1;33m\u001b[0m\u001b[1;33m\u001b[0m\u001b[0m\n\u001b[1;32m---> 63\u001b[1;33m                 \u001b[1;32mreturn\u001b[0m \u001b[0mf\u001b[0m\u001b[1;33m(\u001b[0m\u001b[1;33m*\u001b[0m\u001b[0margs\u001b[0m\u001b[1;33m,\u001b[0m \u001b[1;33m**\u001b[0m\u001b[0mkwargs\u001b[0m\u001b[1;33m)\u001b[0m\u001b[1;33m\u001b[0m\u001b[1;33m\u001b[0m\u001b[0m\n\u001b[0m\u001b[0;32m     64\u001b[0m \u001b[1;33m\u001b[0m\u001b[0m\n\u001b[0;32m     65\u001b[0m             \u001b[1;31m# extra_args > 0\u001b[0m\u001b[1;33m\u001b[0m\u001b[1;33m\u001b[0m\u001b[0m\n",
      "\u001b[1;32mG:\\Anaconda\\lib\\site-packages\\sklearn\\metrics\\_ranking.py\u001b[0m in \u001b[0;36mroc_curve\u001b[1;34m(y_true, y_score, pos_label, sample_weight, drop_intermediate)\u001b[0m\n\u001b[0;32m    911\u001b[0m \u001b[1;33m\u001b[0m\u001b[0m\n\u001b[0;32m    912\u001b[0m     \"\"\"\n\u001b[1;32m--> 913\u001b[1;33m     fps, tps, thresholds = _binary_clf_curve(\n\u001b[0m\u001b[0;32m    914\u001b[0m         y_true, y_score, pos_label=pos_label, sample_weight=sample_weight)\n\u001b[0;32m    915\u001b[0m \u001b[1;33m\u001b[0m\u001b[0m\n",
      "\u001b[1;32mG:\\Anaconda\\lib\\site-packages\\sklearn\\metrics\\_ranking.py\u001b[0m in \u001b[0;36m_binary_clf_curve\u001b[1;34m(y_true, y_score, pos_label, sample_weight)\u001b[0m\n\u001b[0;32m    700\u001b[0m         \u001b[0msample_weight\u001b[0m \u001b[1;33m=\u001b[0m \u001b[0mcolumn_or_1d\u001b[0m\u001b[1;33m(\u001b[0m\u001b[0msample_weight\u001b[0m\u001b[1;33m)\u001b[0m\u001b[1;33m\u001b[0m\u001b[1;33m\u001b[0m\u001b[0m\n\u001b[0;32m    701\u001b[0m \u001b[1;33m\u001b[0m\u001b[0m\n\u001b[1;32m--> 702\u001b[1;33m     \u001b[0mpos_label\u001b[0m \u001b[1;33m=\u001b[0m \u001b[0m_check_pos_label_consistency\u001b[0m\u001b[1;33m(\u001b[0m\u001b[0mpos_label\u001b[0m\u001b[1;33m,\u001b[0m \u001b[0my_true\u001b[0m\u001b[1;33m)\u001b[0m\u001b[1;33m\u001b[0m\u001b[1;33m\u001b[0m\u001b[0m\n\u001b[0m\u001b[0;32m    703\u001b[0m \u001b[1;33m\u001b[0m\u001b[0m\n\u001b[0;32m    704\u001b[0m     \u001b[1;31m# make y_true a boolean vector\u001b[0m\u001b[1;33m\u001b[0m\u001b[1;33m\u001b[0m\u001b[0m\n",
      "\u001b[1;32mG:\\Anaconda\\lib\\site-packages\\sklearn\\metrics\\_base.py\u001b[0m in \u001b[0;36m_check_pos_label_consistency\u001b[1;34m(pos_label, y_true)\u001b[0m\n\u001b[0;32m    241\u001b[0m                  np.array_equal(classes, [1])))):\n\u001b[0;32m    242\u001b[0m         \u001b[0mclasses_repr\u001b[0m \u001b[1;33m=\u001b[0m \u001b[1;34m\", \"\u001b[0m\u001b[1;33m.\u001b[0m\u001b[0mjoin\u001b[0m\u001b[1;33m(\u001b[0m\u001b[0mrepr\u001b[0m\u001b[1;33m(\u001b[0m\u001b[0mc\u001b[0m\u001b[1;33m)\u001b[0m \u001b[1;32mfor\u001b[0m \u001b[0mc\u001b[0m \u001b[1;32min\u001b[0m \u001b[0mclasses\u001b[0m\u001b[1;33m)\u001b[0m\u001b[1;33m\u001b[0m\u001b[1;33m\u001b[0m\u001b[0m\n\u001b[1;32m--> 243\u001b[1;33m         raise ValueError(\n\u001b[0m\u001b[0;32m    244\u001b[0m             \u001b[1;34mf\"y_true takes value in {{{classes_repr}}} and pos_label is not \"\u001b[0m\u001b[1;33m\u001b[0m\u001b[1;33m\u001b[0m\u001b[0m\n\u001b[0;32m    245\u001b[0m             \u001b[1;34mf\"specified: either make y_true take value in {{0, 1}} or \"\u001b[0m\u001b[1;33m\u001b[0m\u001b[1;33m\u001b[0m\u001b[0m\n",
      "\u001b[1;31mValueError\u001b[0m: y_true takes value in {'no', 'yes'} and pos_label is not specified: either make y_true take value in {0, 1} or {-1, 1} or pass pos_label explicitly."
     ]
    }
   ],
   "source": [
    "fpr, tpr, _ = metrics.roc_curve(ytest, y_pred_proba)"
   ]
  },
  {
   "cell_type": "code",
   "execution_count": null,
   "id": "0c0ab8a5",
   "metadata": {},
   "outputs": [],
   "source": []
  }
 ],
 "metadata": {
  "kernelspec": {
   "display_name": "Python 3 (ipykernel)",
   "language": "python",
   "name": "python3"
  },
  "language_info": {
   "codemirror_mode": {
    "name": "ipython",
    "version": 3
   },
   "file_extension": ".py",
   "mimetype": "text/x-python",
   "name": "python",
   "nbconvert_exporter": "python",
   "pygments_lexer": "ipython3",
   "version": "3.9.7"
  }
 },
 "nbformat": 4,
 "nbformat_minor": 5
}
