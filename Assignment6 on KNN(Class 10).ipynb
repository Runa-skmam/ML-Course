{
 "cells": [
  {
   "cell_type": "markdown",
   "id": "ead67b4b",
   "metadata": {},
   "source": [
    "# Step 1:\n",
    "# 1.Importing Data Set "
   ]
  },
  {
   "cell_type": "code",
   "execution_count": 1,
   "id": "a7f87eea",
   "metadata": {},
   "outputs": [],
   "source": [
    "import pandas as pd"
   ]
  },
  {
   "cell_type": "code",
   "execution_count": 2,
   "id": "40e0f4ed",
   "metadata": {},
   "outputs": [],
   "source": [
    "df=pd.read_csv('weight-height.csv')"
   ]
  },
  {
   "cell_type": "code",
   "execution_count": 3,
   "id": "cc990072",
   "metadata": {},
   "outputs": [
    {
     "data": {
      "text/html": [
       "<div>\n",
       "<style scoped>\n",
       "    .dataframe tbody tr th:only-of-type {\n",
       "        vertical-align: middle;\n",
       "    }\n",
       "\n",
       "    .dataframe tbody tr th {\n",
       "        vertical-align: top;\n",
       "    }\n",
       "\n",
       "    .dataframe thead th {\n",
       "        text-align: right;\n",
       "    }\n",
       "</style>\n",
       "<table border=\"1\" class=\"dataframe\">\n",
       "  <thead>\n",
       "    <tr style=\"text-align: right;\">\n",
       "      <th></th>\n",
       "      <th>Gender</th>\n",
       "      <th>Height</th>\n",
       "      <th>Weight</th>\n",
       "    </tr>\n",
       "  </thead>\n",
       "  <tbody>\n",
       "    <tr>\n",
       "      <th>0</th>\n",
       "      <td>Male</td>\n",
       "      <td>73.847017</td>\n",
       "      <td>241.893563</td>\n",
       "    </tr>\n",
       "    <tr>\n",
       "      <th>1</th>\n",
       "      <td>Male</td>\n",
       "      <td>68.781904</td>\n",
       "      <td>162.310473</td>\n",
       "    </tr>\n",
       "    <tr>\n",
       "      <th>2</th>\n",
       "      <td>Male</td>\n",
       "      <td>74.110105</td>\n",
       "      <td>212.740856</td>\n",
       "    </tr>\n",
       "    <tr>\n",
       "      <th>3</th>\n",
       "      <td>Male</td>\n",
       "      <td>71.730978</td>\n",
       "      <td>220.042470</td>\n",
       "    </tr>\n",
       "    <tr>\n",
       "      <th>4</th>\n",
       "      <td>Male</td>\n",
       "      <td>69.881796</td>\n",
       "      <td>206.349801</td>\n",
       "    </tr>\n",
       "  </tbody>\n",
       "</table>\n",
       "</div>"
      ],
      "text/plain": [
       "  Gender     Height      Weight\n",
       "0   Male  73.847017  241.893563\n",
       "1   Male  68.781904  162.310473\n",
       "2   Male  74.110105  212.740856\n",
       "3   Male  71.730978  220.042470\n",
       "4   Male  69.881796  206.349801"
      ]
     },
     "execution_count": 3,
     "metadata": {},
     "output_type": "execute_result"
    }
   ],
   "source": [
    "df.head()"
   ]
  },
  {
   "cell_type": "markdown",
   "id": "0c06c56e",
   "metadata": {},
   "source": [
    "# 2.Separate x(Gender,Height) and y(y=Weight)"
   ]
  },
  {
   "cell_type": "code",
   "execution_count": 4,
   "id": "518838d4",
   "metadata": {},
   "outputs": [],
   "source": [
    "x= df.drop('Weight', axis=1)\n",
    "y=df['Weight']"
   ]
  },
  {
   "cell_type": "code",
   "execution_count": 5,
   "id": "cc588b7a",
   "metadata": {},
   "outputs": [
    {
     "data": {
      "text/html": [
       "<div>\n",
       "<style scoped>\n",
       "    .dataframe tbody tr th:only-of-type {\n",
       "        vertical-align: middle;\n",
       "    }\n",
       "\n",
       "    .dataframe tbody tr th {\n",
       "        vertical-align: top;\n",
       "    }\n",
       "\n",
       "    .dataframe thead th {\n",
       "        text-align: right;\n",
       "    }\n",
       "</style>\n",
       "<table border=\"1\" class=\"dataframe\">\n",
       "  <thead>\n",
       "    <tr style=\"text-align: right;\">\n",
       "      <th></th>\n",
       "      <th>Gender</th>\n",
       "      <th>Height</th>\n",
       "    </tr>\n",
       "  </thead>\n",
       "  <tbody>\n",
       "    <tr>\n",
       "      <th>0</th>\n",
       "      <td>Male</td>\n",
       "      <td>73.847017</td>\n",
       "    </tr>\n",
       "    <tr>\n",
       "      <th>1</th>\n",
       "      <td>Male</td>\n",
       "      <td>68.781904</td>\n",
       "    </tr>\n",
       "    <tr>\n",
       "      <th>2</th>\n",
       "      <td>Male</td>\n",
       "      <td>74.110105</td>\n",
       "    </tr>\n",
       "    <tr>\n",
       "      <th>3</th>\n",
       "      <td>Male</td>\n",
       "      <td>71.730978</td>\n",
       "    </tr>\n",
       "    <tr>\n",
       "      <th>4</th>\n",
       "      <td>Male</td>\n",
       "      <td>69.881796</td>\n",
       "    </tr>\n",
       "  </tbody>\n",
       "</table>\n",
       "</div>"
      ],
      "text/plain": [
       "  Gender     Height\n",
       "0   Male  73.847017\n",
       "1   Male  68.781904\n",
       "2   Male  74.110105\n",
       "3   Male  71.730978\n",
       "4   Male  69.881796"
      ]
     },
     "execution_count": 5,
     "metadata": {},
     "output_type": "execute_result"
    }
   ],
   "source": [
    "x.head()"
   ]
  },
  {
   "cell_type": "code",
   "execution_count": 6,
   "id": "c050af51",
   "metadata": {},
   "outputs": [
    {
     "data": {
      "text/plain": [
       "0    241.893563\n",
       "1    162.310473\n",
       "2    212.740856\n",
       "3    220.042470\n",
       "4    206.349801\n",
       "Name: Weight, dtype: float64"
      ]
     },
     "execution_count": 6,
     "metadata": {},
     "output_type": "execute_result"
    }
   ],
   "source": [
    "y.head()"
   ]
  },
  {
   "cell_type": "code",
   "execution_count": 7,
   "id": "9b8b9340",
   "metadata": {},
   "outputs": [],
   "source": [
    "from sklearn.preprocessing import LabelEncoder"
   ]
  },
  {
   "cell_type": "code",
   "execution_count": 8,
   "id": "5acc6599",
   "metadata": {},
   "outputs": [],
   "source": [
    "le=LabelEncoder()"
   ]
  },
  {
   "cell_type": "code",
   "execution_count": 9,
   "id": "9dabc336",
   "metadata": {},
   "outputs": [
    {
     "data": {
      "text/html": [
       "<div>\n",
       "<style scoped>\n",
       "    .dataframe tbody tr th:only-of-type {\n",
       "        vertical-align: middle;\n",
       "    }\n",
       "\n",
       "    .dataframe tbody tr th {\n",
       "        vertical-align: top;\n",
       "    }\n",
       "\n",
       "    .dataframe thead th {\n",
       "        text-align: right;\n",
       "    }\n",
       "</style>\n",
       "<table border=\"1\" class=\"dataframe\">\n",
       "  <thead>\n",
       "    <tr style=\"text-align: right;\">\n",
       "      <th></th>\n",
       "      <th>Gender</th>\n",
       "      <th>Height</th>\n",
       "      <th>Weight</th>\n",
       "    </tr>\n",
       "  </thead>\n",
       "  <tbody>\n",
       "    <tr>\n",
       "      <th>0</th>\n",
       "      <td>Male</td>\n",
       "      <td>73.847017</td>\n",
       "      <td>241.893563</td>\n",
       "    </tr>\n",
       "    <tr>\n",
       "      <th>1</th>\n",
       "      <td>Male</td>\n",
       "      <td>68.781904</td>\n",
       "      <td>162.310473</td>\n",
       "    </tr>\n",
       "    <tr>\n",
       "      <th>2</th>\n",
       "      <td>Male</td>\n",
       "      <td>74.110105</td>\n",
       "      <td>212.740856</td>\n",
       "    </tr>\n",
       "    <tr>\n",
       "      <th>3</th>\n",
       "      <td>Male</td>\n",
       "      <td>71.730978</td>\n",
       "      <td>220.042470</td>\n",
       "    </tr>\n",
       "    <tr>\n",
       "      <th>4</th>\n",
       "      <td>Male</td>\n",
       "      <td>69.881796</td>\n",
       "      <td>206.349801</td>\n",
       "    </tr>\n",
       "  </tbody>\n",
       "</table>\n",
       "</div>"
      ],
      "text/plain": [
       "  Gender     Height      Weight\n",
       "0   Male  73.847017  241.893563\n",
       "1   Male  68.781904  162.310473\n",
       "2   Male  74.110105  212.740856\n",
       "3   Male  71.730978  220.042470\n",
       "4   Male  69.881796  206.349801"
      ]
     },
     "execution_count": 9,
     "metadata": {},
     "output_type": "execute_result"
    }
   ],
   "source": [
    "df.head()"
   ]
  },
  {
   "cell_type": "code",
   "execution_count": 10,
   "id": "4d133067",
   "metadata": {},
   "outputs": [],
   "source": [
    "x.Gender=le.fit_transform(x.Gender)"
   ]
  },
  {
   "cell_type": "code",
   "execution_count": 11,
   "id": "14e42a28",
   "metadata": {},
   "outputs": [
    {
     "data": {
      "text/plain": [
       "0       1\n",
       "1       1\n",
       "2       1\n",
       "3       1\n",
       "4       1\n",
       "       ..\n",
       "8550    0\n",
       "8551    0\n",
       "8552    0\n",
       "8553    0\n",
       "8554    0\n",
       "Name: Gender, Length: 8555, dtype: int32"
      ]
     },
     "execution_count": 11,
     "metadata": {},
     "output_type": "execute_result"
    }
   ],
   "source": [
    "x.Gender"
   ]
  },
  {
   "cell_type": "markdown",
   "id": "208b9783",
   "metadata": {},
   "source": [
    "# 3:Splitting Data Set"
   ]
  },
  {
   "cell_type": "code",
   "execution_count": 12,
   "id": "c6f78d6a",
   "metadata": {},
   "outputs": [],
   "source": [
    "from sklearn.model_selection import train_test_split as tts"
   ]
  },
  {
   "cell_type": "code",
   "execution_count": 13,
   "id": "24bd6031",
   "metadata": {},
   "outputs": [],
   "source": [
    "xtrain,xtest,ytrain,ytest=tts(x,y,train_size=.70,random_state=1)#Test_size=.30"
   ]
  },
  {
   "cell_type": "markdown",
   "id": "d42cb271",
   "metadata": {},
   "source": [
    "# 4. Linear Regression"
   ]
  },
  {
   "cell_type": "code",
   "execution_count": 14,
   "id": "2df6ca73",
   "metadata": {},
   "outputs": [],
   "source": [
    "import numpy as np\n",
    "from sklearn.linear_model import LinearRegression"
   ]
  },
  {
   "cell_type": "code",
   "execution_count": 15,
   "id": "cf58265e",
   "metadata": {},
   "outputs": [],
   "source": [
    "lr=LinearRegression()"
   ]
  },
  {
   "cell_type": "code",
   "execution_count": 16,
   "id": "ec3bc8d4",
   "metadata": {},
   "outputs": [
    {
     "data": {
      "text/plain": [
       "LinearRegression()"
      ]
     },
     "execution_count": 16,
     "metadata": {},
     "output_type": "execute_result"
    }
   ],
   "source": [
    "lr.fit(xtrain,ytrain)"
   ]
  },
  {
   "cell_type": "code",
   "execution_count": 17,
   "id": "2aaf9b0f",
   "metadata": {},
   "outputs": [
    {
     "data": {
      "text/plain": [
       "array([19.34359322,  5.96887438])"
      ]
     },
     "execution_count": 17,
     "metadata": {},
     "output_type": "execute_result"
    }
   ],
   "source": [
    "lr.coef_ # m=lr.coef_"
   ]
  },
  {
   "cell_type": "code",
   "execution_count": 18,
   "id": "63191ca9",
   "metadata": {},
   "outputs": [
    {
     "data": {
      "text/plain": [
       "-244.5528090325586"
      ]
     },
     "execution_count": 18,
     "metadata": {},
     "output_type": "execute_result"
    }
   ],
   "source": [
    "lr.intercept_ # c=lr.intercept_"
   ]
  },
  {
   "cell_type": "code",
   "execution_count": 19,
   "id": "8cca9796",
   "metadata": {},
   "outputs": [
    {
     "data": {
      "text/plain": [
       "array([143.83013436, 197.53417989, 184.63515112, ..., 160.7078525 ,\n",
       "       186.82852694, 201.4226542 ])"
      ]
     },
     "execution_count": 19,
     "metadata": {},
     "output_type": "execute_result"
    }
   ],
   "source": [
    "lr.predict(xtest)"
   ]
  },
  {
   "cell_type": "code",
   "execution_count": 20,
   "id": "8095654d",
   "metadata": {},
   "outputs": [
    {
     "data": {
      "text/plain": [
       "array([[0.89994243]])"
      ]
     },
     "execution_count": 20,
     "metadata": {},
     "output_type": "execute_result"
    }
   ],
   "source": [
    "lr.score(x,y).reshape(-1, 1)"
   ]
  },
  {
   "cell_type": "code",
   "execution_count": 21,
   "id": "aeacaea7",
   "metadata": {},
   "outputs": [],
   "source": [
    "#m=lr.coef_\n",
    "#c=lr.intercept_"
   ]
  },
  {
   "cell_type": "code",
   "execution_count": 22,
   "id": "a9b81c93",
   "metadata": {},
   "outputs": [],
   "source": [
    "#x=68.781904\n",
    "#y=(m * x)+c"
   ]
  },
  {
   "cell_type": "code",
   "execution_count": 23,
   "id": "7fa0a9bc",
   "metadata": {},
   "outputs": [],
   "source": [
    "#y"
   ]
  },
  {
   "cell_type": "markdown",
   "id": "fe882b40",
   "metadata": {},
   "source": [
    "# 5. Evaluating Model(Accuracy,MSE,MAE)"
   ]
  },
  {
   "cell_type": "code",
   "execution_count": 24,
   "id": "278c8c2b",
   "metadata": {},
   "outputs": [
    {
     "data": {
      "text/plain": [
       "0.8972135459668117"
      ]
     },
     "execution_count": 24,
     "metadata": {},
     "output_type": "execute_result"
    }
   ],
   "source": [
    "lr.score(xtrain, ytrain)"
   ]
  },
  {
   "cell_type": "code",
   "execution_count": 25,
   "id": "7a1e7fa2",
   "metadata": {},
   "outputs": [
    {
     "data": {
      "text/plain": [
       "0.905995960709116"
      ]
     },
     "execution_count": 25,
     "metadata": {},
     "output_type": "execute_result"
    }
   ],
   "source": [
    "lr.score(xtest,ytest)"
   ]
  },
  {
   "cell_type": "code",
   "execution_count": 26,
   "id": "2539aebb",
   "metadata": {},
   "outputs": [],
   "source": [
    "# To find out Error Difference between real value of height and pred(Predicted value) \n",
    "from sklearn.metrics import mean_squared_error # MSE\n",
    "pred=lr.predict(xtest)\n",
    "mse=mean_squared_error(ytest,pred) #testing error;ytest=actual value;pred=predicted value of y"
   ]
  },
  {
   "cell_type": "code",
   "execution_count": 27,
   "id": "692b83d6",
   "metadata": {},
   "outputs": [
    {
     "data": {
      "text/plain": [
       "99.67250998070037"
      ]
     },
     "execution_count": 27,
     "metadata": {},
     "output_type": "execute_result"
    }
   ],
   "source": [
    "mse"
   ]
  },
  {
   "cell_type": "code",
   "execution_count": 28,
   "id": "311ca106",
   "metadata": {},
   "outputs": [],
   "source": [
    "from sklearn.metrics import mean_absolute_error #MAE\n",
    "mae=mean_absolute_error(ytest,pred)"
   ]
  },
  {
   "cell_type": "code",
   "execution_count": 29,
   "id": "c9804877",
   "metadata": {},
   "outputs": [
    {
     "data": {
      "text/plain": [
       "7.9821325927291324"
      ]
     },
     "execution_count": 29,
     "metadata": {},
     "output_type": "execute_result"
    }
   ],
   "source": [
    "mae"
   ]
  },
  {
   "cell_type": "markdown",
   "id": "0db493ad",
   "metadata": {},
   "source": [
    "# 6. KNN Regressor"
   ]
  },
  {
   "cell_type": "code",
   "execution_count": 30,
   "id": "a233c6a0",
   "metadata": {},
   "outputs": [],
   "source": [
    "from sklearn.neighbors import KNeighborsRegressor"
   ]
  },
  {
   "cell_type": "code",
   "execution_count": 31,
   "id": "5a81b327",
   "metadata": {},
   "outputs": [],
   "source": [
    "knr = KNeighborsRegressor()"
   ]
  },
  {
   "cell_type": "code",
   "execution_count": 32,
   "id": "bba541a7",
   "metadata": {},
   "outputs": [
    {
     "data": {
      "text/plain": [
       "KNeighborsRegressor()"
      ]
     },
     "execution_count": 32,
     "metadata": {},
     "output_type": "execute_result"
    }
   ],
   "source": [
    "knr.fit(xtrain, ytrain)"
   ]
  },
  {
   "cell_type": "code",
   "execution_count": 33,
   "id": "261d0a3e",
   "metadata": {},
   "outputs": [
    {
     "data": {
      "text/plain": [
       "array([150.1761117 , 197.46276978, 179.03501546, ..., 160.26227546,\n",
       "       180.65461322, 200.56451578])"
      ]
     },
     "execution_count": 33,
     "metadata": {},
     "output_type": "execute_result"
    }
   ],
   "source": [
    "knr.predict(xtest)"
   ]
  },
  {
   "cell_type": "markdown",
   "id": "d80a775a",
   "metadata": {},
   "source": [
    "# 7.Model Evaluation"
   ]
  },
  {
   "cell_type": "code",
   "execution_count": 34,
   "id": "22bc61ea",
   "metadata": {},
   "outputs": [
    {
     "data": {
      "text/plain": [
       "array([[0.90678572]])"
      ]
     },
     "execution_count": 34,
     "metadata": {},
     "output_type": "execute_result"
    }
   ],
   "source": [
    "knr.score(x,y).reshape(-1, 1)"
   ]
  },
  {
   "cell_type": "code",
   "execution_count": 35,
   "id": "601aa3b0",
   "metadata": {},
   "outputs": [
    {
     "data": {
      "text/plain": [
       "0.8838502073708883"
      ]
     },
     "execution_count": 35,
     "metadata": {},
     "output_type": "execute_result"
    }
   ],
   "source": [
    "knr.score(xtest, ytest)"
   ]
  },
  {
   "cell_type": "code",
   "execution_count": 36,
   "id": "1baf8148",
   "metadata": {},
   "outputs": [],
   "source": [
    "# To find out Error Difference between real value of height and pred(Predicted value) \n",
    "from sklearn.metrics import mean_squared_error # MSE\n",
    "pred=knr.predict(xtest)\n",
    "mse=mean_squared_error(ytest,pred) #testing error;ytest=actual value;pred=predicted value of y"
   ]
  },
  {
   "cell_type": "code",
   "execution_count": 37,
   "id": "1ee55bfc",
   "metadata": {},
   "outputs": [
    {
     "data": {
      "text/plain": [
       "123.15365863436983"
      ]
     },
     "execution_count": 37,
     "metadata": {},
     "output_type": "execute_result"
    }
   ],
   "source": [
    "mse"
   ]
  },
  {
   "cell_type": "code",
   "execution_count": 38,
   "id": "a3026c2c",
   "metadata": {},
   "outputs": [],
   "source": [
    "from sklearn.metrics import mean_absolute_error #MAE\n",
    "mae=mean_absolute_error(ytest,pred)"
   ]
  },
  {
   "cell_type": "code",
   "execution_count": 39,
   "id": "1f6c2bfd",
   "metadata": {},
   "outputs": [
    {
     "data": {
      "text/plain": [
       "8.850747809837165"
      ]
     },
     "execution_count": 39,
     "metadata": {},
     "output_type": "execute_result"
    }
   ],
   "source": [
    "mae"
   ]
  },
  {
   "cell_type": "markdown",
   "id": "6385728f",
   "metadata": {},
   "source": [
    "# TUNNING"
   ]
  },
  {
   "cell_type": "code",
   "execution_count": 40,
   "id": "1056bb82",
   "metadata": {},
   "outputs": [],
   "source": [
    "n_neighbors=np.random.randint(20,200,25)\n",
    "weights = ['uniform', 'distance']\n",
    "algorithm = ['auto']\n",
    "leaf_size=np.random.randint(1,15,25)#Total depth of tree\n",
    "p=[1,2]\n",
    "#max_features=['sqrt','log2']"
   ]
  },
  {
   "cell_type": "code",
   "execution_count": 41,
   "id": "75361b23",
   "metadata": {},
   "outputs": [],
   "source": [
    "\n",
    "ids={\n",
    "   'n_neighbors':n_neighbors,\n",
    "    'weights':weights,\n",
    "    'algorithm':algorithm,\n",
    "    'leaf_size':leaf_size,\n",
    "    'p':p,\n",
    "}"
   ]
  },
  {
   "cell_type": "code",
   "execution_count": 42,
   "id": "574a57e9",
   "metadata": {},
   "outputs": [
    {
     "name": "stdout",
     "output_type": "stream",
     "text": [
      "{'n_neighbors': array([125, 185,  24, 161,  30,  82,  44,  67,  25,  74, 199, 198, 127,\n",
      "       109, 178, 137, 198,  93, 107,  77, 142, 156,  71,  50, 181]), 'weights': ['uniform', 'distance'], 'algorithm': ['auto'], 'leaf_size': array([ 7,  7,  4,  1, 14,  5, 12,  3,  2,  2,  2, 14,  7, 10,  7, 10,  2,\n",
      "        2,  9, 14,  7,  7, 11, 12, 11]), 'p': [1, 2]}\n"
     ]
    }
   ],
   "source": [
    "print(ids)"
   ]
  },
  {
   "cell_type": "code",
   "execution_count": 43,
   "id": "ab60de1d",
   "metadata": {},
   "outputs": [],
   "source": [
    "from sklearn.model_selection import RandomizedSearchCV"
   ]
  },
  {
   "cell_type": "code",
   "execution_count": 44,
   "id": "e7bc5ba2",
   "metadata": {},
   "outputs": [],
   "source": [
    "rcv=RandomizedSearchCV(knr,ids,n_iter=200,cv=3)"
   ]
  },
  {
   "cell_type": "code",
   "execution_count": 45,
   "id": "d688f2e7",
   "metadata": {},
   "outputs": [
    {
     "data": {
      "text/plain": [
       "RandomizedSearchCV(cv=3, estimator=KNeighborsRegressor(), n_iter=200,\n",
       "                   param_distributions={'algorithm': ['auto'],\n",
       "                                        'leaf_size': array([ 7,  7,  4,  1, 14,  5, 12,  3,  2,  2,  2, 14,  7, 10,  7, 10,  2,\n",
       "        2,  9, 14,  7,  7, 11, 12, 11]),\n",
       "                                        'n_neighbors': array([125, 185,  24, 161,  30,  82,  44,  67,  25,  74, 199, 198, 127,\n",
       "       109, 178, 137, 198,  93, 107,  77, 142, 156,  71,  50, 181]),\n",
       "                                        'p': [1, 2],\n",
       "                                        'weights': ['uniform', 'distance']})"
      ]
     },
     "execution_count": 45,
     "metadata": {},
     "output_type": "execute_result"
    }
   ],
   "source": [
    "rcv.fit(xtrain,ytrain)"
   ]
  },
  {
   "cell_type": "code",
   "execution_count": 46,
   "id": "341d6acd",
   "metadata": {},
   "outputs": [
    {
     "data": {
      "text/plain": [
       "{'mean_fit_time': array([0.0113368 , 0.00733757, 0.00833853, 0.00833805, 0.00933862,\n",
       "        0.00800411, 0.00800387, 0.00833766, 0.00933917, 0.01034013,\n",
       "        0.01167607, 0.008672  , 0.01000547, 0.01167671, 0.01067289,\n",
       "        0.00900507, 0.00867168, 0.00767144, 0.00933878, 0.00800411,\n",
       "        0.00900539, 0.0090034 , 0.0086716 , 0.01267536, 0.00933901,\n",
       "        0.00967224, 0.01000579, 0.00833821, 0.01200724, 0.00833813,\n",
       "        0.01000667, 0.00933886, 0.00900523, 0.0110062 , 0.01034013,\n",
       "        0.01033894, 0.0101738 , 0.00933798, 0.00867128, 0.00800459,\n",
       "        0.00833797, 0.00800467, 0.00766857, 0.0083379 , 0.00700355,\n",
       "        0.00767096, 0.00767088, 0.00767064, 0.00767104, 0.00800467,\n",
       "        0.0083379 , 0.00900555, 0.00800467, 0.00867105, 0.00900443,\n",
       "        0.00800498, 0.00833511, 0.009341  , 0.01000611, 0.00934013,\n",
       "        0.00900531, 0.0096728 , 0.00733693, 0.00700347, 0.00733638,\n",
       "        0.00767096, 0.00833813, 0.00800435, 0.00867136, 0.00733709,\n",
       "        0.00767064, 0.00833782, 0.00800451, 0.0090065 , 0.00867256,\n",
       "        0.00766977, 0.00800427, 0.00800339, 0.01000547, 0.00900666,\n",
       "        0.00933957, 0.00900578, 0.00733765, 0.00833821, 0.00867184,\n",
       "        0.00800506, 0.0086716 , 0.00867192, 0.0090042 , 0.00800522,\n",
       "        0.00733709, 0.00867168, 0.01000524, 0.00933973, 0.00800339,\n",
       "        0.01034093, 0.00866977, 0.00800395, 0.00933894, 0.00966986,\n",
       "        0.01100659, 0.01100731, 0.01067233, 0.00900483, 0.00933973,\n",
       "        0.00867279, 0.00867375, 0.00833845, 0.00800546, 0.00933965,\n",
       "        0.00800395, 0.00733813, 0.0073367 , 0.01000619, 0.0093379 ,\n",
       "        0.00800459, 0.00933933, 0.01033886, 0.00900602, 0.00967288,\n",
       "        0.00933655, 0.0086716 , 0.00867176, 0.00900412, 0.00900507,\n",
       "        0.0080057 , 0.00800562, 0.01000659, 0.01000532, 0.00833941,\n",
       "        0.00800506, 0.0090034 , 0.01100636, 0.00900547, 0.00867128,\n",
       "        0.00867057, 0.0086712 , 0.00933766, 0.008672  , 0.00933878,\n",
       "        0.01000651, 0.01067328, 0.00733709, 0.01300907, 0.00934068,\n",
       "        0.00900483, 0.0083379 , 0.0093383 , 0.00967264, 0.00867144,\n",
       "        0.00833925, 0.01000619, 0.00867073, 0.00967185, 0.00900467,\n",
       "        0.0083379 , 0.00933949, 0.00800657, 0.01134086, 0.01467546,\n",
       "        0.01200724, 0.01100596, 0.00933894, 0.00933862, 0.00900571,\n",
       "        0.00767024, 0.00800316, 0.00800443, 0.00833972, 0.00800522,\n",
       "        0.01067193, 0.00867232, 0.00800594, 0.00800395, 0.00733654,\n",
       "        0.00800546, 0.00967336, 0.00900674, 0.008672  , 0.01067384,\n",
       "        0.00934005, 0.0080049 , 0.00833821, 0.00766929, 0.008672  ,\n",
       "        0.00733685, 0.00700363, 0.00800474, 0.00800474, 0.00833718,\n",
       "        0.0086716 , 0.00800474, 0.01200747, 0.01100691, 0.01033894,\n",
       "        0.00800443, 0.01000627, 0.00933862, 0.01067281, 0.0103399 ]),\n",
       " 'std_fit_time': array([4.02381893e-03, 4.71370354e-04, 4.72325773e-04, 4.71819960e-04,\n",
       "        4.71707890e-04, 1.12391596e-07, 5.94720425e-07, 4.72945278e-04,\n",
       "        1.24882801e-03, 1.88688637e-03, 2.62771915e-03, 4.71708533e-04,\n",
       "        8.18384359e-04, 2.49549168e-03, 9.42515944e-04, 5.15042996e-07,\n",
       "        9.43134083e-04, 4.71595137e-04, 9.43190455e-04, 1.29616312e-06,\n",
       "        8.17410749e-04, 8.14783160e-04, 4.72269527e-04, 2.49672131e-03,\n",
       "        4.70921793e-04, 2.35966159e-03, 1.63501617e-03, 9.43415378e-04,\n",
       "        1.63472416e-03, 4.71763975e-04, 8.16340225e-04, 1.24789343e-03,\n",
       "        8.17218052e-04, 1.63414015e-03, 1.70087478e-03, 1.70143597e-03,\n",
       "        1.03018995e-03, 4.72158098e-04, 4.71370716e-04, 1.12391596e-07,\n",
       "        4.71876126e-04, 7.01885292e-07, 4.75304060e-04, 4.71595137e-04,\n",
       "        1.94667955e-07, 4.71595177e-04, 4.71538951e-04, 4.71707569e-04,\n",
       "        4.71819920e-04, 1.94667955e-07, 4.71595298e-04, 1.41512264e-03,\n",
       "        1.85701393e-06, 4.72044703e-04, 8.17313410e-04, 8.77806426e-07,\n",
       "        4.66313382e-04, 1.24751105e-03, 8.17897738e-04, 4.70640624e-04,\n",
       "        1.41579695e-03, 4.72663108e-04, 4.71819960e-04, 2.97360213e-07,\n",
       "        4.70190333e-04, 4.71932352e-04, 4.71932312e-04, 2.97360213e-07,\n",
       "        4.71595137e-04, 4.71876126e-04, 4.72044703e-04, 4.70808396e-04,\n",
       "        6.83651389e-07, 1.41309966e-03, 9.43696041e-04, 4.70923362e-04,\n",
       "        1.14065012e-06, 1.14065012e-06, 1.63229083e-03, 7.37000982e-07,\n",
       "        4.71202018e-04, 6.74349576e-07, 4.72158098e-04, 9.43415137e-04,\n",
       "        4.71932352e-04, 2.24783192e-07, 4.72438325e-04, 4.70471261e-04,\n",
       "        7.37000982e-07, 2.24783192e-07, 4.72213381e-04, 4.72494430e-04,\n",
       "        1.97566396e-06, 4.71595780e-04, 1.26658896e-06, 1.24751154e-03,\n",
       "        4.70809040e-04, 3.89335909e-07, 1.24761771e-03, 4.73282012e-04,\n",
       "        8.17216143e-04, 1.41579699e-03, 4.72215548e-04, 8.17216143e-04,\n",
       "        1.24893414e-03, 4.72945278e-04, 4.73282012e-04, 4.72550716e-04,\n",
       "        8.77806426e-07, 4.71146576e-04, 1.18411894e-06, 4.71482786e-04,\n",
       "        4.70639818e-04, 8.17313564e-04, 4.71538951e-04, 7.37000982e-07,\n",
       "        1.24833948e-03, 1.24952892e-03, 5.15042996e-07, 1.24840400e-03,\n",
       "        9.44146450e-04, 9.44370391e-04, 4.71707689e-04, 1.21570099e-06,\n",
       "        1.27652315e-06, 8.99132768e-07, 8.92080638e-07, 2.83046995e-03,\n",
       "        8.16534784e-04, 4.73056228e-04, 1.12391596e-07, 8.19263990e-04,\n",
       "        2.83176386e-03, 2.97360213e-07, 9.43077902e-04, 4.74068112e-04,\n",
       "        4.71652146e-04, 1.88851663e-03, 4.70864682e-04, 4.70921431e-04,\n",
       "        1.41388676e-03, 3.86082480e-03, 4.71707529e-04, 8.16243361e-04,\n",
       "        1.24950804e-03, 1.41495400e-03, 4.71426640e-04, 4.70247445e-04,\n",
       "        9.44258400e-04, 4.72663108e-04, 4.71819920e-04, 8.17800147e-04,\n",
       "        9.43135208e-04, 1.24857430e-03, 8.17897413e-04, 9.43358906e-04,\n",
       "        9.42853179e-04, 5.15042996e-07, 2.62762814e-03, 7.32361249e-03,\n",
       "        3.56218462e-03, 2.94421993e-03, 9.43473467e-04, 4.72044703e-04,\n",
       "        8.16438709e-04, 4.71090189e-04, 8.16437526e-04, 8.17508232e-04,\n",
       "        4.71651423e-04, 4.05233662e-07, 4.70752291e-04, 1.24848840e-03,\n",
       "        8.17994869e-04, 3.89335909e-07, 4.70415116e-04, 4.89903609e-07,\n",
       "        9.42573572e-04, 8.15756221e-04, 4.71370716e-04, 2.05563624e-03,\n",
       "        1.70085923e-03, 1.54512899e-06, 4.72213542e-04, 4.71426560e-04,\n",
       "        4.72550957e-04, 4.71876126e-04, 1.12391596e-07, 1.12391596e-07,\n",
       "        1.12391596e-07, 4.72943996e-04, 4.71764939e-04, 9.60274217e-07,\n",
       "        2.94619072e-03, 8.18287305e-04, 4.71934881e-04, 0.00000000e+00,\n",
       "        8.17509283e-04, 4.71371801e-04, 9.44932950e-04, 9.42516246e-04]),\n",
       " 'mean_score_time': array([0.05703727, 0.02401654, 0.0757165 , 0.04036196, 0.04469665,\n",
       "        0.04169599, 0.01334659, 0.07971994, 0.05803887, 0.05837178,\n",
       "        0.07237959, 0.08772516, 0.13075328, 0.08505495, 0.01901523,\n",
       "        0.02968788, 0.09573038, 0.06137474, 0.10240237, 0.03435779,\n",
       "        0.04603155, 0.02468554, 0.03735844, 0.08539025, 0.01501107,\n",
       "        0.07638399, 0.03969312, 0.08038807, 0.06971335, 0.08639002,\n",
       "        0.04336278, 0.05670373, 0.06470998, 0.1090734 , 0.01767937,\n",
       "        0.05670452, 0.10824235, 0.05370355, 0.0630428 , 0.02468395,\n",
       "        0.02268338, 0.03035402, 0.02134911, 0.03402392, 0.07304978,\n",
       "        0.02968836, 0.07705228, 0.07171528, 0.05837282, 0.09172829,\n",
       "        0.01734742, 0.05870692, 0.05670396, 0.05470419, 0.04769977,\n",
       "        0.04302788, 0.08038624, 0.09239308, 0.05236824, 0.07371616,\n",
       "        0.09506289, 0.13275528, 0.06370997, 0.02201597, 0.03102247,\n",
       "        0.0480326 , 0.03535779, 0.02401686, 0.10273608, 0.05303677,\n",
       "        0.07838543, 0.03702521, 0.04936759, 0.01834528, 0.03835853,\n",
       "        0.01401432, 0.0617075 , 0.08605711, 0.08839409, 0.07304827,\n",
       "        0.05003389, 0.08238824, 0.04436278, 0.04970105, 0.04836615,\n",
       "        0.08805807, 0.09339603, 0.01601259, 0.03535748, 0.0570387 ,\n",
       "        0.0460337 , 0.05070146, 0.15376941, 0.06804554, 0.06437675,\n",
       "        0.06971272, 0.01367903, 0.06704497, 0.04469689, 0.10573681,\n",
       "        0.07371656, 0.0840559 , 0.07471681, 0.06704585, 0.04469617,\n",
       "        0.0376904 , 0.10473514, 0.03602354, 0.07538327, 0.03669214,\n",
       "        0.08772556, 0.07371513, 0.05703823, 0.07671801, 0.0945766 ,\n",
       "        0.09106127, 0.0433627 , 0.05770572, 0.10640486, 0.08472252,\n",
       "        0.04202835, 0.07671801, 0.04603148, 0.10340373, 0.07771945,\n",
       "        0.03402193, 0.02435001, 0.07505051, 0.07338349, 0.03935909,\n",
       "        0.01567856, 0.08739352, 0.04236086, 0.05437072, 0.0513684 ,\n",
       "        0.05103493, 0.09272933, 0.09006095, 0.06937941, 0.11574451,\n",
       "        0.11407526, 0.09339531, 0.02668659, 0.02935298, 0.07604949,\n",
       "        0.05370291, 0.03202248, 0.02034855, 0.07738519, 0.02435303,\n",
       "        0.07604965, 0.03969415, 0.02668516, 0.03468974, 0.04903285,\n",
       "        0.03202271, 0.01734606, 0.03969145, 0.07871922, 0.14142696,\n",
       "        0.12741923, 0.02101437, 0.05070114, 0.04569888, 0.04202771,\n",
       "        0.02501837, 0.08038855, 0.09172805, 0.03302232, 0.09106048,\n",
       "        0.03735995, 0.05003325, 0.05236832, 0.05737217, 0.01501266,\n",
       "        0.08405614, 0.07004619, 0.08071987, 0.09506361, 0.09039323,\n",
       "        0.04703116, 0.07605108, 0.01401122, 0.05637161, 0.08572276,\n",
       "        0.08172194, 0.05403701, 0.10807188, 0.08572857, 0.0373586 ,\n",
       "        0.073716  , 0.09239539, 0.10473673, 0.05503694, 0.05837282,\n",
       "        0.06704624, 0.01968161, 0.0647095 , 0.04403019, 0.02001317]),\n",
       " 'std_score_time': array([2.16097338e-03, 5.61957980e-07, 4.73056228e-04, 9.44146009e-04,\n",
       "        3.09320173e-03, 4.72326495e-04, 4.69918335e-04, 3.40112613e-03,\n",
       "        1.41602173e-03, 4.78682683e-03, 5.44150267e-03, 4.78727534e-03,\n",
       "        1.16222899e-02, 3.26789226e-03, 2.16207773e-03, 9.44763756e-04,\n",
       "        6.80256405e-03, 4.71651343e-04, 6.18632631e-03, 1.88750447e-03,\n",
       "        2.94619055e-03, 2.62698214e-03, 4.72269487e-04, 2.49710363e-03,\n",
       "        1.46971083e-06, 7.59174248e-03, 2.35870623e-03, 9.11135531e-03,\n",
       "        8.06184409e-03, 9.43246475e-04, 4.73449848e-04, 4.71146576e-04,\n",
       "        4.99235941e-03, 8.16632070e-04, 9.43302686e-04, 3.68454211e-03,\n",
       "        6.51602462e-03, 4.49989140e-03, 2.97360213e-07, 4.71707569e-04,\n",
       "        4.71202018e-04, 4.71538951e-04, 4.71258605e-04, 8.16924074e-04,\n",
       "        3.89335909e-07, 4.71370716e-04, 8.17410749e-04, 4.71988598e-04,\n",
       "        4.71651343e-04, 4.71763815e-04, 4.71820081e-04, 1.69972149e-03,\n",
       "        1.24774485e-03, 4.72045065e-04, 1.70115535e-03, 2.15998004e-03,\n",
       "        2.62652797e-03, 2.49684878e-03, 1.88778545e-03, 9.45101913e-04,\n",
       "        3.56095652e-03, 4.71539433e-04, 4.71876206e-04, 4.05233662e-07,\n",
       "        1.74478677e-06, 5.61957980e-07, 4.71314650e-04, 3.89335909e-07,\n",
       "        4.71932312e-04, 8.16924120e-04, 1.88694287e-03, 1.63423751e-03,\n",
       "        4.71427363e-04, 1.24715049e-03, 4.71988518e-04, 3.38483484e-06,\n",
       "        1.24687510e-03, 1.63365348e-03, 3.77647004e-03, 8.16632843e-04,\n",
       "        2.16174601e-03, 2.05568716e-03, 4.70022300e-04, 1.24791461e-03,\n",
       "        4.71482786e-04, 1.66842304e-02, 9.43134204e-04, 1.41416801e-03,\n",
       "        1.24846709e-03, 8.17897738e-04, 8.15955007e-04, 4.72776060e-04,\n",
       "        7.59169374e-03, 3.26925364e-03, 2.62682068e-03, 4.64539243e-03,\n",
       "        4.70696044e-04, 2.16200358e-03, 1.24765975e-03, 2.62679038e-03,\n",
       "        3.09315890e-03, 2.45155117e-03, 2.86986691e-03, 1.63375097e-03,\n",
       "        1.70026724e-03, 4.72382239e-04, 4.71204672e-04, 1.65563159e-06,\n",
       "        1.24838248e-03, 4.71538951e-04, 4.71147018e-04, 1.70149840e-03,\n",
       "        4.32426443e-03, 4.70977476e-04, 2.66319005e-03, 3.56158172e-03,\n",
       "        2.86905395e-03, 5.56086833e-03, 2.62719422e-03, 3.30062851e-03,\n",
       "        3.74423241e-03, 2.05715723e-03, 1.41529126e-03, 2.49614805e-03,\n",
       "        2.35786333e-03, 1.10692885e-06, 4.71317786e-04, 1.21995452e-02,\n",
       "        4.50032149e-03, 3.30195316e-03, 4.72494310e-04, 2.05906504e-03,\n",
       "        4.70809040e-04, 2.05584203e-03, 2.86946042e-03, 8.17313564e-04,\n",
       "        5.25471117e-03, 4.32275587e-03, 1.69981541e-03, 4.49993863e-03,\n",
       "        4.54926257e-03, 1.67512387e-02, 9.44145728e-04, 9.43977035e-04,\n",
       "        1.41534738e-03, 2.49614782e-03, 3.56196132e-03, 2.05492702e-03,\n",
       "        6.18610345e-03, 4.76935416e-04, 2.16097330e-03, 2.35763864e-03,\n",
       "        9.42628336e-04, 9.43864644e-04, 3.56193902e-03, 8.92080638e-07,\n",
       "        9.41672992e-04, 4.72044743e-04, 4.11223831e-03, 4.45752975e-02,\n",
       "        1.58713793e-02, 3.74537942e-03, 7.59144568e-03, 4.71876206e-04,\n",
       "        1.41444825e-03, 1.18944085e-06, 1.70071893e-03, 5.56139747e-03,\n",
       "        8.17800572e-04, 4.24632314e-03, 4.71876126e-04, 2.45116157e-03,\n",
       "        9.41842299e-04, 1.24831828e-03, 2.02616831e-06, 4.08442569e-03,\n",
       "        3.56231894e-03, 2.49740107e-03, 1.41574101e-03, 1.03447492e-02,\n",
       "        2.16075266e-03, 1.63560016e-03, 7.86741172e-07, 1.24829745e-03,\n",
       "        4.71597106e-04, 4.71819960e-04, 2.97360213e-07, 8.16924120e-04,\n",
       "        4.92959416e-03, 4.71145731e-04, 4.72943996e-04, 1.46468515e-02,\n",
       "        3.30254704e-03, 1.41523499e-03, 1.24850933e-03, 1.63560022e-03,\n",
       "        1.88660597e-03, 4.71932312e-04, 8.16632696e-04, 1.63277752e-03]),\n",
       " 'param_weights': masked_array(data=['uniform', 'uniform', 'distance', 'uniform', 'uniform',\n",
       "                    'distance', 'uniform', 'distance', 'uniform',\n",
       "                    'distance', 'uniform', 'uniform', 'distance',\n",
       "                    'uniform', 'distance', 'uniform', 'uniform',\n",
       "                    'distance', 'uniform', 'distance', 'uniform',\n",
       "                    'distance', 'distance', 'distance', 'distance',\n",
       "                    'uniform', 'distance', 'uniform', 'uniform', 'uniform',\n",
       "                    'distance', 'distance', 'uniform', 'uniform',\n",
       "                    'uniform', 'distance', 'distance', 'uniform',\n",
       "                    'uniform', 'distance', 'distance', 'uniform',\n",
       "                    'distance', 'uniform', 'distance', 'uniform',\n",
       "                    'distance', 'distance', 'distance', 'distance',\n",
       "                    'distance', 'uniform', 'distance', 'distance',\n",
       "                    'uniform', 'distance', 'uniform', 'distance',\n",
       "                    'distance', 'distance', 'distance', 'uniform',\n",
       "                    'uniform', 'uniform', 'distance', 'uniform', 'uniform',\n",
       "                    'uniform', 'uniform', 'uniform', 'distance',\n",
       "                    'distance', 'uniform', 'uniform', 'uniform', 'uniform',\n",
       "                    'distance', 'uniform', 'uniform', 'uniform',\n",
       "                    'distance', 'distance', 'uniform', 'distance',\n",
       "                    'distance', 'distance', 'distance', 'uniform',\n",
       "                    'uniform', 'distance', 'distance', 'distance',\n",
       "                    'distance', 'distance', 'distance', 'uniform',\n",
       "                    'uniform', 'distance', 'distance', 'uniform',\n",
       "                    'uniform', 'uniform', 'uniform', 'distance',\n",
       "                    'distance', 'distance', 'uniform', 'uniform',\n",
       "                    'uniform', 'uniform', 'distance', 'uniform', 'uniform',\n",
       "                    'distance', 'distance', 'distance', 'uniform',\n",
       "                    'uniform', 'uniform', 'distance', 'distance',\n",
       "                    'distance', 'distance', 'uniform', 'distance',\n",
       "                    'uniform', 'uniform', 'uniform', 'distance',\n",
       "                    'distance', 'distance', 'distance', 'distance',\n",
       "                    'uniform', 'uniform', 'uniform', 'uniform', 'distance',\n",
       "                    'uniform', 'distance', 'distance', 'distance',\n",
       "                    'uniform', 'uniform', 'distance', 'uniform',\n",
       "                    'distance', 'uniform', 'uniform', 'distance',\n",
       "                    'uniform', 'distance', 'uniform', 'uniform', 'uniform',\n",
       "                    'uniform', 'uniform', 'uniform', 'distance',\n",
       "                    'distance', 'uniform', 'distance', 'uniform',\n",
       "                    'uniform', 'distance', 'distance', 'distance',\n",
       "                    'distance', 'distance', 'distance', 'uniform',\n",
       "                    'uniform', 'uniform', 'uniform', 'uniform', 'distance',\n",
       "                    'distance', 'uniform', 'uniform', 'uniform', 'uniform',\n",
       "                    'uniform', 'uniform', 'uniform', 'distance',\n",
       "                    'distance', 'uniform', 'distance', 'distance',\n",
       "                    'distance', 'distance', 'distance', 'distance',\n",
       "                    'uniform', 'uniform', 'uniform', 'uniform', 'uniform',\n",
       "                    'uniform', 'distance'],\n",
       "              mask=[False, False, False, False, False, False, False, False,\n",
       "                    False, False, False, False, False, False, False, False,\n",
       "                    False, False, False, False, False, False, False, False,\n",
       "                    False, False, False, False, False, False, False, False,\n",
       "                    False, False, False, False, False, False, False, False,\n",
       "                    False, False, False, False, False, False, False, False,\n",
       "                    False, False, False, False, False, False, False, False,\n",
       "                    False, False, False, False, False, False, False, False,\n",
       "                    False, False, False, False, False, False, False, False,\n",
       "                    False, False, False, False, False, False, False, False,\n",
       "                    False, False, False, False, False, False, False, False,\n",
       "                    False, False, False, False, False, False, False, False,\n",
       "                    False, False, False, False, False, False, False, False,\n",
       "                    False, False, False, False, False, False, False, False,\n",
       "                    False, False, False, False, False, False, False, False,\n",
       "                    False, False, False, False, False, False, False, False,\n",
       "                    False, False, False, False, False, False, False, False,\n",
       "                    False, False, False, False, False, False, False, False,\n",
       "                    False, False, False, False, False, False, False, False,\n",
       "                    False, False, False, False, False, False, False, False,\n",
       "                    False, False, False, False, False, False, False, False,\n",
       "                    False, False, False, False, False, False, False, False,\n",
       "                    False, False, False, False, False, False, False, False,\n",
       "                    False, False, False, False, False, False, False, False,\n",
       "                    False, False, False, False, False, False, False, False],\n",
       "        fill_value='?',\n",
       "             dtype=object),\n",
       " 'param_p': masked_array(data=[1, 2, 2, 2, 1, 2, 1, 2, 2, 2, 2, 1, 2, 1, 1, 2, 2, 1,\n",
       "                    2, 1, 2, 1, 1, 2, 1, 2, 1, 1, 2, 2, 1, 1, 2, 2, 2, 1,\n",
       "                    2, 1, 2, 2, 2, 1, 1, 1, 1, 1, 2, 1, 1, 2, 1, 1, 1, 1,\n",
       "                    2, 1, 1, 2, 2, 1, 2, 2, 1, 1, 1, 1, 1, 2, 2, 2, 1, 1,\n",
       "                    2, 2, 1, 1, 1, 2, 1, 1, 2, 1, 1, 2, 2, 2, 2, 1, 1, 1,\n",
       "                    1, 1, 2, 1, 1, 1, 1, 1, 1, 2, 1, 2, 1, 1, 1, 1, 2, 1,\n",
       "                    1, 1, 2, 2, 1, 1, 2, 2, 2, 1, 2, 2, 1, 2, 2, 2, 2, 1,\n",
       "                    2, 2, 2, 1, 1, 2, 1, 1, 1, 1, 2, 1, 1, 2, 2, 1, 2, 1,\n",
       "                    1, 2, 2, 2, 2, 1, 1, 1, 1, 2, 1, 1, 1, 2, 1, 2, 2, 1,\n",
       "                    1, 2, 1, 1, 2, 1, 1, 2, 1, 2, 1, 1, 1, 2, 1, 1, 2, 1,\n",
       "                    1, 1, 1, 1, 1, 1, 1, 2, 1, 1, 1, 1, 2, 2, 1, 1, 2, 2,\n",
       "                    1, 2],\n",
       "              mask=[False, False, False, False, False, False, False, False,\n",
       "                    False, False, False, False, False, False, False, False,\n",
       "                    False, False, False, False, False, False, False, False,\n",
       "                    False, False, False, False, False, False, False, False,\n",
       "                    False, False, False, False, False, False, False, False,\n",
       "                    False, False, False, False, False, False, False, False,\n",
       "                    False, False, False, False, False, False, False, False,\n",
       "                    False, False, False, False, False, False, False, False,\n",
       "                    False, False, False, False, False, False, False, False,\n",
       "                    False, False, False, False, False, False, False, False,\n",
       "                    False, False, False, False, False, False, False, False,\n",
       "                    False, False, False, False, False, False, False, False,\n",
       "                    False, False, False, False, False, False, False, False,\n",
       "                    False, False, False, False, False, False, False, False,\n",
       "                    False, False, False, False, False, False, False, False,\n",
       "                    False, False, False, False, False, False, False, False,\n",
       "                    False, False, False, False, False, False, False, False,\n",
       "                    False, False, False, False, False, False, False, False,\n",
       "                    False, False, False, False, False, False, False, False,\n",
       "                    False, False, False, False, False, False, False, False,\n",
       "                    False, False, False, False, False, False, False, False,\n",
       "                    False, False, False, False, False, False, False, False,\n",
       "                    False, False, False, False, False, False, False, False,\n",
       "                    False, False, False, False, False, False, False, False,\n",
       "                    False, False, False, False, False, False, False, False],\n",
       "        fill_value='?',\n",
       "             dtype=object),\n",
       " 'param_n_neighbors': masked_array(data=[137, 50, 156, 77, 71, 77, 24, 161, 125, 109, 125, 198,\n",
       "                    198, 199, 24, 50, 198, 142, 185, 71, 77, 44, 74, 125,\n",
       "                    24, 127, 74, 181, 125, 198, 67, 127, 127, 198, 25, 93,\n",
       "                    178, 93, 127, 44, 30, 67, 44, 71, 181, 71, 178, 178,\n",
       "                    142, 198, 30, 137, 127, 125, 71, 93, 198, 198, 74, 142,\n",
       "                    199, 198, 161, 50, 67, 125, 74, 44, 199, 125, 181, 71,\n",
       "                    109, 30, 74, 24, 137, 198, 198, 161, 82, 178, 109, 93,\n",
       "                    77, 156, 198, 25, 71, 137, 109, 109, 198, 137, 137,\n",
       "                    142, 24, 137, 93, 178, 142, 142, 142, 142, 82, 71, 198,\n",
       "                    77, 198, 77, 181, 178, 137, 161, 178, 178, 74, 109,\n",
       "                    198, 156, 77, 127, 71, 185, 127, 77, 44, 137, 82, 77,\n",
       "                    25, 181, 77, 125, 109, 107, 198, 198, 156, 185, 198,\n",
       "                    178, 44, 44, 161, 107, 50, 30, 127, 44, 181, 74, 50,\n",
       "                    50, 93, 67, 30, 82, 127, 198, 181, 25, 93, 67, 82, 50,\n",
       "                    156, 198, 67, 198, 67, 109, 127, 137, 30, 178, 142,\n",
       "                    198, 199, 181, 107, 181, 25, 137, 161, 198, 142, 199,\n",
       "                    198, 74, 161, 199, 199, 107, 127, 156, 25, 125, 82, 25],\n",
       "              mask=[False, False, False, False, False, False, False, False,\n",
       "                    False, False, False, False, False, False, False, False,\n",
       "                    False, False, False, False, False, False, False, False,\n",
       "                    False, False, False, False, False, False, False, False,\n",
       "                    False, False, False, False, False, False, False, False,\n",
       "                    False, False, False, False, False, False, False, False,\n",
       "                    False, False, False, False, False, False, False, False,\n",
       "                    False, False, False, False, False, False, False, False,\n",
       "                    False, False, False, False, False, False, False, False,\n",
       "                    False, False, False, False, False, False, False, False,\n",
       "                    False, False, False, False, False, False, False, False,\n",
       "                    False, False, False, False, False, False, False, False,\n",
       "                    False, False, False, False, False, False, False, False,\n",
       "                    False, False, False, False, False, False, False, False,\n",
       "                    False, False, False, False, False, False, False, False,\n",
       "                    False, False, False, False, False, False, False, False,\n",
       "                    False, False, False, False, False, False, False, False,\n",
       "                    False, False, False, False, False, False, False, False,\n",
       "                    False, False, False, False, False, False, False, False,\n",
       "                    False, False, False, False, False, False, False, False,\n",
       "                    False, False, False, False, False, False, False, False,\n",
       "                    False, False, False, False, False, False, False, False,\n",
       "                    False, False, False, False, False, False, False, False,\n",
       "                    False, False, False, False, False, False, False, False,\n",
       "                    False, False, False, False, False, False, False, False],\n",
       "        fill_value='?',\n",
       "             dtype=object),\n",
       " 'param_leaf_size': masked_array(data=[5, 10, 4, 7, 1, 7, 7, 11, 12, 9, 7, 10, 2, 12, 2, 5,\n",
       "                    14, 7, 2, 12, 5, 7, 7, 2, 7, 7, 14, 11, 7, 11, 1, 12,\n",
       "                    10, 14, 14, 7, 7, 2, 7, 7, 2, 4, 7, 2, 14, 12, 11, 14,\n",
       "                    14, 7, 2, 14, 14, 12, 2, 14, 10, 12, 2, 2, 7, 1, 7, 10,\n",
       "                    14, 12, 2, 7, 2, 11, 11, 12, 11, 14, 2, 10, 14, 14, 7,\n",
       "                    7, 7, 10, 10, 7, 2, 10, 10, 2, 3, 12, 12, 7, 1, 4, 11,\n",
       "                    3, 4, 7, 10, 3, 4, 7, 2, 14, 2, 2, 3, 5, 14, 2, 5, 12,\n",
       "                    12, 5, 7, 10, 7, 7, 7, 12, 14, 2, 2, 2, 3, 7, 4, 7, 1,\n",
       "                    7, 7, 14, 7, 12, 7, 2, 12, 11, 4, 2, 2, 9, 10, 7, 2, 4,\n",
       "                    4, 7, 2, 2, 7, 7, 12, 2, 3, 11, 7, 14, 1, 12, 12, 7,\n",
       "                    10, 2, 5, 7, 7, 4, 10, 9, 3, 9, 12, 7, 14, 11, 7, 14,\n",
       "                    7, 7, 9, 5, 10, 9, 1, 7, 9, 2, 12, 14, 7, 7, 4, 11, 10,\n",
       "                    14, 7, 7, 2, 7],\n",
       "              mask=[False, False, False, False, False, False, False, False,\n",
       "                    False, False, False, False, False, False, False, False,\n",
       "                    False, False, False, False, False, False, False, False,\n",
       "                    False, False, False, False, False, False, False, False,\n",
       "                    False, False, False, False, False, False, False, False,\n",
       "                    False, False, False, False, False, False, False, False,\n",
       "                    False, False, False, False, False, False, False, False,\n",
       "                    False, False, False, False, False, False, False, False,\n",
       "                    False, False, False, False, False, False, False, False,\n",
       "                    False, False, False, False, False, False, False, False,\n",
       "                    False, False, False, False, False, False, False, False,\n",
       "                    False, False, False, False, False, False, False, False,\n",
       "                    False, False, False, False, False, False, False, False,\n",
       "                    False, False, False, False, False, False, False, False,\n",
       "                    False, False, False, False, False, False, False, False,\n",
       "                    False, False, False, False, False, False, False, False,\n",
       "                    False, False, False, False, False, False, False, False,\n",
       "                    False, False, False, False, False, False, False, False,\n",
       "                    False, False, False, False, False, False, False, False,\n",
       "                    False, False, False, False, False, False, False, False,\n",
       "                    False, False, False, False, False, False, False, False,\n",
       "                    False, False, False, False, False, False, False, False,\n",
       "                    False, False, False, False, False, False, False, False,\n",
       "                    False, False, False, False, False, False, False, False,\n",
       "                    False, False, False, False, False, False, False, False],\n",
       "        fill_value='?',\n",
       "             dtype=object),\n",
       " 'param_algorithm': masked_array(data=['auto', 'auto', 'auto', 'auto', 'auto', 'auto', 'auto',\n",
       "                    'auto', 'auto', 'auto', 'auto', 'auto', 'auto', 'auto',\n",
       "                    'auto', 'auto', 'auto', 'auto', 'auto', 'auto', 'auto',\n",
       "                    'auto', 'auto', 'auto', 'auto', 'auto', 'auto', 'auto',\n",
       "                    'auto', 'auto', 'auto', 'auto', 'auto', 'auto', 'auto',\n",
       "                    'auto', 'auto', 'auto', 'auto', 'auto', 'auto', 'auto',\n",
       "                    'auto', 'auto', 'auto', 'auto', 'auto', 'auto', 'auto',\n",
       "                    'auto', 'auto', 'auto', 'auto', 'auto', 'auto', 'auto',\n",
       "                    'auto', 'auto', 'auto', 'auto', 'auto', 'auto', 'auto',\n",
       "                    'auto', 'auto', 'auto', 'auto', 'auto', 'auto', 'auto',\n",
       "                    'auto', 'auto', 'auto', 'auto', 'auto', 'auto', 'auto',\n",
       "                    'auto', 'auto', 'auto', 'auto', 'auto', 'auto', 'auto',\n",
       "                    'auto', 'auto', 'auto', 'auto', 'auto', 'auto', 'auto',\n",
       "                    'auto', 'auto', 'auto', 'auto', 'auto', 'auto', 'auto',\n",
       "                    'auto', 'auto', 'auto', 'auto', 'auto', 'auto', 'auto',\n",
       "                    'auto', 'auto', 'auto', 'auto', 'auto', 'auto', 'auto',\n",
       "                    'auto', 'auto', 'auto', 'auto', 'auto', 'auto', 'auto',\n",
       "                    'auto', 'auto', 'auto', 'auto', 'auto', 'auto', 'auto',\n",
       "                    'auto', 'auto', 'auto', 'auto', 'auto', 'auto', 'auto',\n",
       "                    'auto', 'auto', 'auto', 'auto', 'auto', 'auto', 'auto',\n",
       "                    'auto', 'auto', 'auto', 'auto', 'auto', 'auto', 'auto',\n",
       "                    'auto', 'auto', 'auto', 'auto', 'auto', 'auto', 'auto',\n",
       "                    'auto', 'auto', 'auto', 'auto', 'auto', 'auto', 'auto',\n",
       "                    'auto', 'auto', 'auto', 'auto', 'auto', 'auto', 'auto',\n",
       "                    'auto', 'auto', 'auto', 'auto', 'auto', 'auto', 'auto',\n",
       "                    'auto', 'auto', 'auto', 'auto', 'auto', 'auto', 'auto',\n",
       "                    'auto', 'auto', 'auto', 'auto', 'auto', 'auto', 'auto',\n",
       "                    'auto', 'auto', 'auto', 'auto', 'auto', 'auto', 'auto',\n",
       "                    'auto', 'auto', 'auto', 'auto'],\n",
       "              mask=[False, False, False, False, False, False, False, False,\n",
       "                    False, False, False, False, False, False, False, False,\n",
       "                    False, False, False, False, False, False, False, False,\n",
       "                    False, False, False, False, False, False, False, False,\n",
       "                    False, False, False, False, False, False, False, False,\n",
       "                    False, False, False, False, False, False, False, False,\n",
       "                    False, False, False, False, False, False, False, False,\n",
       "                    False, False, False, False, False, False, False, False,\n",
       "                    False, False, False, False, False, False, False, False,\n",
       "                    False, False, False, False, False, False, False, False,\n",
       "                    False, False, False, False, False, False, False, False,\n",
       "                    False, False, False, False, False, False, False, False,\n",
       "                    False, False, False, False, False, False, False, False,\n",
       "                    False, False, False, False, False, False, False, False,\n",
       "                    False, False, False, False, False, False, False, False,\n",
       "                    False, False, False, False, False, False, False, False,\n",
       "                    False, False, False, False, False, False, False, False,\n",
       "                    False, False, False, False, False, False, False, False,\n",
       "                    False, False, False, False, False, False, False, False,\n",
       "                    False, False, False, False, False, False, False, False,\n",
       "                    False, False, False, False, False, False, False, False,\n",
       "                    False, False, False, False, False, False, False, False,\n",
       "                    False, False, False, False, False, False, False, False,\n",
       "                    False, False, False, False, False, False, False, False,\n",
       "                    False, False, False, False, False, False, False, False],\n",
       "        fill_value='?',\n",
       "             dtype=object),\n",
       " 'params': [{'weights': 'uniform',\n",
       "   'p': 1,\n",
       "   'n_neighbors': 137,\n",
       "   'leaf_size': 5,\n",
       "   'algorithm': 'auto'},\n",
       "  {'weights': 'uniform',\n",
       "   'p': 2,\n",
       "   'n_neighbors': 50,\n",
       "   'leaf_size': 10,\n",
       "   'algorithm': 'auto'},\n",
       "  {'weights': 'distance',\n",
       "   'p': 2,\n",
       "   'n_neighbors': 156,\n",
       "   'leaf_size': 4,\n",
       "   'algorithm': 'auto'},\n",
       "  {'weights': 'uniform',\n",
       "   'p': 2,\n",
       "   'n_neighbors': 77,\n",
       "   'leaf_size': 7,\n",
       "   'algorithm': 'auto'},\n",
       "  {'weights': 'uniform',\n",
       "   'p': 1,\n",
       "   'n_neighbors': 71,\n",
       "   'leaf_size': 1,\n",
       "   'algorithm': 'auto'},\n",
       "  {'weights': 'distance',\n",
       "   'p': 2,\n",
       "   'n_neighbors': 77,\n",
       "   'leaf_size': 7,\n",
       "   'algorithm': 'auto'},\n",
       "  {'weights': 'uniform',\n",
       "   'p': 1,\n",
       "   'n_neighbors': 24,\n",
       "   'leaf_size': 7,\n",
       "   'algorithm': 'auto'},\n",
       "  {'weights': 'distance',\n",
       "   'p': 2,\n",
       "   'n_neighbors': 161,\n",
       "   'leaf_size': 11,\n",
       "   'algorithm': 'auto'},\n",
       "  {'weights': 'uniform',\n",
       "   'p': 2,\n",
       "   'n_neighbors': 125,\n",
       "   'leaf_size': 12,\n",
       "   'algorithm': 'auto'},\n",
       "  {'weights': 'distance',\n",
       "   'p': 2,\n",
       "   'n_neighbors': 109,\n",
       "   'leaf_size': 9,\n",
       "   'algorithm': 'auto'},\n",
       "  {'weights': 'uniform',\n",
       "   'p': 2,\n",
       "   'n_neighbors': 125,\n",
       "   'leaf_size': 7,\n",
       "   'algorithm': 'auto'},\n",
       "  {'weights': 'uniform',\n",
       "   'p': 1,\n",
       "   'n_neighbors': 198,\n",
       "   'leaf_size': 10,\n",
       "   'algorithm': 'auto'},\n",
       "  {'weights': 'distance',\n",
       "   'p': 2,\n",
       "   'n_neighbors': 198,\n",
       "   'leaf_size': 2,\n",
       "   'algorithm': 'auto'},\n",
       "  {'weights': 'uniform',\n",
       "   'p': 1,\n",
       "   'n_neighbors': 199,\n",
       "   'leaf_size': 12,\n",
       "   'algorithm': 'auto'},\n",
       "  {'weights': 'distance',\n",
       "   'p': 1,\n",
       "   'n_neighbors': 24,\n",
       "   'leaf_size': 2,\n",
       "   'algorithm': 'auto'},\n",
       "  {'weights': 'uniform',\n",
       "   'p': 2,\n",
       "   'n_neighbors': 50,\n",
       "   'leaf_size': 5,\n",
       "   'algorithm': 'auto'},\n",
       "  {'weights': 'uniform',\n",
       "   'p': 2,\n",
       "   'n_neighbors': 198,\n",
       "   'leaf_size': 14,\n",
       "   'algorithm': 'auto'},\n",
       "  {'weights': 'distance',\n",
       "   'p': 1,\n",
       "   'n_neighbors': 142,\n",
       "   'leaf_size': 7,\n",
       "   'algorithm': 'auto'},\n",
       "  {'weights': 'uniform',\n",
       "   'p': 2,\n",
       "   'n_neighbors': 185,\n",
       "   'leaf_size': 2,\n",
       "   'algorithm': 'auto'},\n",
       "  {'weights': 'distance',\n",
       "   'p': 1,\n",
       "   'n_neighbors': 71,\n",
       "   'leaf_size': 12,\n",
       "   'algorithm': 'auto'},\n",
       "  {'weights': 'uniform',\n",
       "   'p': 2,\n",
       "   'n_neighbors': 77,\n",
       "   'leaf_size': 5,\n",
       "   'algorithm': 'auto'},\n",
       "  {'weights': 'distance',\n",
       "   'p': 1,\n",
       "   'n_neighbors': 44,\n",
       "   'leaf_size': 7,\n",
       "   'algorithm': 'auto'},\n",
       "  {'weights': 'distance',\n",
       "   'p': 1,\n",
       "   'n_neighbors': 74,\n",
       "   'leaf_size': 7,\n",
       "   'algorithm': 'auto'},\n",
       "  {'weights': 'distance',\n",
       "   'p': 2,\n",
       "   'n_neighbors': 125,\n",
       "   'leaf_size': 2,\n",
       "   'algorithm': 'auto'},\n",
       "  {'weights': 'distance',\n",
       "   'p': 1,\n",
       "   'n_neighbors': 24,\n",
       "   'leaf_size': 7,\n",
       "   'algorithm': 'auto'},\n",
       "  {'weights': 'uniform',\n",
       "   'p': 2,\n",
       "   'n_neighbors': 127,\n",
       "   'leaf_size': 7,\n",
       "   'algorithm': 'auto'},\n",
       "  {'weights': 'distance',\n",
       "   'p': 1,\n",
       "   'n_neighbors': 74,\n",
       "   'leaf_size': 14,\n",
       "   'algorithm': 'auto'},\n",
       "  {'weights': 'uniform',\n",
       "   'p': 1,\n",
       "   'n_neighbors': 181,\n",
       "   'leaf_size': 11,\n",
       "   'algorithm': 'auto'},\n",
       "  {'weights': 'uniform',\n",
       "   'p': 2,\n",
       "   'n_neighbors': 125,\n",
       "   'leaf_size': 7,\n",
       "   'algorithm': 'auto'},\n",
       "  {'weights': 'uniform',\n",
       "   'p': 2,\n",
       "   'n_neighbors': 198,\n",
       "   'leaf_size': 11,\n",
       "   'algorithm': 'auto'},\n",
       "  {'weights': 'distance',\n",
       "   'p': 1,\n",
       "   'n_neighbors': 67,\n",
       "   'leaf_size': 1,\n",
       "   'algorithm': 'auto'},\n",
       "  {'weights': 'distance',\n",
       "   'p': 1,\n",
       "   'n_neighbors': 127,\n",
       "   'leaf_size': 12,\n",
       "   'algorithm': 'auto'},\n",
       "  {'weights': 'uniform',\n",
       "   'p': 2,\n",
       "   'n_neighbors': 127,\n",
       "   'leaf_size': 10,\n",
       "   'algorithm': 'auto'},\n",
       "  {'weights': 'uniform',\n",
       "   'p': 2,\n",
       "   'n_neighbors': 198,\n",
       "   'leaf_size': 14,\n",
       "   'algorithm': 'auto'},\n",
       "  {'weights': 'uniform',\n",
       "   'p': 2,\n",
       "   'n_neighbors': 25,\n",
       "   'leaf_size': 14,\n",
       "   'algorithm': 'auto'},\n",
       "  {'weights': 'distance',\n",
       "   'p': 1,\n",
       "   'n_neighbors': 93,\n",
       "   'leaf_size': 7,\n",
       "   'algorithm': 'auto'},\n",
       "  {'weights': 'distance',\n",
       "   'p': 2,\n",
       "   'n_neighbors': 178,\n",
       "   'leaf_size': 7,\n",
       "   'algorithm': 'auto'},\n",
       "  {'weights': 'uniform',\n",
       "   'p': 1,\n",
       "   'n_neighbors': 93,\n",
       "   'leaf_size': 2,\n",
       "   'algorithm': 'auto'},\n",
       "  {'weights': 'uniform',\n",
       "   'p': 2,\n",
       "   'n_neighbors': 127,\n",
       "   'leaf_size': 7,\n",
       "   'algorithm': 'auto'},\n",
       "  {'weights': 'distance',\n",
       "   'p': 2,\n",
       "   'n_neighbors': 44,\n",
       "   'leaf_size': 7,\n",
       "   'algorithm': 'auto'},\n",
       "  {'weights': 'distance',\n",
       "   'p': 2,\n",
       "   'n_neighbors': 30,\n",
       "   'leaf_size': 2,\n",
       "   'algorithm': 'auto'},\n",
       "  {'weights': 'uniform',\n",
       "   'p': 1,\n",
       "   'n_neighbors': 67,\n",
       "   'leaf_size': 4,\n",
       "   'algorithm': 'auto'},\n",
       "  {'weights': 'distance',\n",
       "   'p': 1,\n",
       "   'n_neighbors': 44,\n",
       "   'leaf_size': 7,\n",
       "   'algorithm': 'auto'},\n",
       "  {'weights': 'uniform',\n",
       "   'p': 1,\n",
       "   'n_neighbors': 71,\n",
       "   'leaf_size': 2,\n",
       "   'algorithm': 'auto'},\n",
       "  {'weights': 'distance',\n",
       "   'p': 1,\n",
       "   'n_neighbors': 181,\n",
       "   'leaf_size': 14,\n",
       "   'algorithm': 'auto'},\n",
       "  {'weights': 'uniform',\n",
       "   'p': 1,\n",
       "   'n_neighbors': 71,\n",
       "   'leaf_size': 12,\n",
       "   'algorithm': 'auto'},\n",
       "  {'weights': 'distance',\n",
       "   'p': 2,\n",
       "   'n_neighbors': 178,\n",
       "   'leaf_size': 11,\n",
       "   'algorithm': 'auto'},\n",
       "  {'weights': 'distance',\n",
       "   'p': 1,\n",
       "   'n_neighbors': 178,\n",
       "   'leaf_size': 14,\n",
       "   'algorithm': 'auto'},\n",
       "  {'weights': 'distance',\n",
       "   'p': 1,\n",
       "   'n_neighbors': 142,\n",
       "   'leaf_size': 14,\n",
       "   'algorithm': 'auto'},\n",
       "  {'weights': 'distance',\n",
       "   'p': 2,\n",
       "   'n_neighbors': 198,\n",
       "   'leaf_size': 7,\n",
       "   'algorithm': 'auto'},\n",
       "  {'weights': 'distance',\n",
       "   'p': 1,\n",
       "   'n_neighbors': 30,\n",
       "   'leaf_size': 2,\n",
       "   'algorithm': 'auto'},\n",
       "  {'weights': 'uniform',\n",
       "   'p': 1,\n",
       "   'n_neighbors': 137,\n",
       "   'leaf_size': 14,\n",
       "   'algorithm': 'auto'},\n",
       "  {'weights': 'distance',\n",
       "   'p': 1,\n",
       "   'n_neighbors': 127,\n",
       "   'leaf_size': 14,\n",
       "   'algorithm': 'auto'},\n",
       "  {'weights': 'distance',\n",
       "   'p': 1,\n",
       "   'n_neighbors': 125,\n",
       "   'leaf_size': 12,\n",
       "   'algorithm': 'auto'},\n",
       "  {'weights': 'uniform',\n",
       "   'p': 2,\n",
       "   'n_neighbors': 71,\n",
       "   'leaf_size': 2,\n",
       "   'algorithm': 'auto'},\n",
       "  {'weights': 'distance',\n",
       "   'p': 1,\n",
       "   'n_neighbors': 93,\n",
       "   'leaf_size': 14,\n",
       "   'algorithm': 'auto'},\n",
       "  {'weights': 'uniform',\n",
       "   'p': 1,\n",
       "   'n_neighbors': 198,\n",
       "   'leaf_size': 10,\n",
       "   'algorithm': 'auto'},\n",
       "  {'weights': 'distance',\n",
       "   'p': 2,\n",
       "   'n_neighbors': 198,\n",
       "   'leaf_size': 12,\n",
       "   'algorithm': 'auto'},\n",
       "  {'weights': 'distance',\n",
       "   'p': 2,\n",
       "   'n_neighbors': 74,\n",
       "   'leaf_size': 2,\n",
       "   'algorithm': 'auto'},\n",
       "  {'weights': 'distance',\n",
       "   'p': 1,\n",
       "   'n_neighbors': 142,\n",
       "   'leaf_size': 2,\n",
       "   'algorithm': 'auto'},\n",
       "  {'weights': 'distance',\n",
       "   'p': 2,\n",
       "   'n_neighbors': 199,\n",
       "   'leaf_size': 7,\n",
       "   'algorithm': 'auto'},\n",
       "  {'weights': 'uniform',\n",
       "   'p': 2,\n",
       "   'n_neighbors': 198,\n",
       "   'leaf_size': 1,\n",
       "   'algorithm': 'auto'},\n",
       "  {'weights': 'uniform',\n",
       "   'p': 1,\n",
       "   'n_neighbors': 161,\n",
       "   'leaf_size': 7,\n",
       "   'algorithm': 'auto'},\n",
       "  {'weights': 'uniform',\n",
       "   'p': 1,\n",
       "   'n_neighbors': 50,\n",
       "   'leaf_size': 10,\n",
       "   'algorithm': 'auto'},\n",
       "  {'weights': 'distance',\n",
       "   'p': 1,\n",
       "   'n_neighbors': 67,\n",
       "   'leaf_size': 14,\n",
       "   'algorithm': 'auto'},\n",
       "  {'weights': 'uniform',\n",
       "   'p': 1,\n",
       "   'n_neighbors': 125,\n",
       "   'leaf_size': 12,\n",
       "   'algorithm': 'auto'},\n",
       "  {'weights': 'uniform',\n",
       "   'p': 1,\n",
       "   'n_neighbors': 74,\n",
       "   'leaf_size': 2,\n",
       "   'algorithm': 'auto'},\n",
       "  {'weights': 'uniform',\n",
       "   'p': 2,\n",
       "   'n_neighbors': 44,\n",
       "   'leaf_size': 7,\n",
       "   'algorithm': 'auto'},\n",
       "  {'weights': 'uniform',\n",
       "   'p': 2,\n",
       "   'n_neighbors': 199,\n",
       "   'leaf_size': 2,\n",
       "   'algorithm': 'auto'},\n",
       "  {'weights': 'uniform',\n",
       "   'p': 2,\n",
       "   'n_neighbors': 125,\n",
       "   'leaf_size': 11,\n",
       "   'algorithm': 'auto'},\n",
       "  {'weights': 'distance',\n",
       "   'p': 1,\n",
       "   'n_neighbors': 181,\n",
       "   'leaf_size': 11,\n",
       "   'algorithm': 'auto'},\n",
       "  {'weights': 'distance',\n",
       "   'p': 1,\n",
       "   'n_neighbors': 71,\n",
       "   'leaf_size': 12,\n",
       "   'algorithm': 'auto'},\n",
       "  {'weights': 'uniform',\n",
       "   'p': 2,\n",
       "   'n_neighbors': 109,\n",
       "   'leaf_size': 11,\n",
       "   'algorithm': 'auto'},\n",
       "  {'weights': 'uniform',\n",
       "   'p': 2,\n",
       "   'n_neighbors': 30,\n",
       "   'leaf_size': 14,\n",
       "   'algorithm': 'auto'},\n",
       "  {'weights': 'uniform',\n",
       "   'p': 1,\n",
       "   'n_neighbors': 74,\n",
       "   'leaf_size': 2,\n",
       "   'algorithm': 'auto'},\n",
       "  {'weights': 'uniform',\n",
       "   'p': 1,\n",
       "   'n_neighbors': 24,\n",
       "   'leaf_size': 10,\n",
       "   'algorithm': 'auto'},\n",
       "  {'weights': 'distance',\n",
       "   'p': 1,\n",
       "   'n_neighbors': 137,\n",
       "   'leaf_size': 14,\n",
       "   'algorithm': 'auto'},\n",
       "  {'weights': 'uniform',\n",
       "   'p': 2,\n",
       "   'n_neighbors': 198,\n",
       "   'leaf_size': 14,\n",
       "   'algorithm': 'auto'},\n",
       "  {'weights': 'uniform',\n",
       "   'p': 1,\n",
       "   'n_neighbors': 198,\n",
       "   'leaf_size': 7,\n",
       "   'algorithm': 'auto'},\n",
       "  {'weights': 'uniform',\n",
       "   'p': 1,\n",
       "   'n_neighbors': 161,\n",
       "   'leaf_size': 7,\n",
       "   'algorithm': 'auto'},\n",
       "  {'weights': 'distance',\n",
       "   'p': 2,\n",
       "   'n_neighbors': 82,\n",
       "   'leaf_size': 7,\n",
       "   'algorithm': 'auto'},\n",
       "  {'weights': 'distance',\n",
       "   'p': 1,\n",
       "   'n_neighbors': 178,\n",
       "   'leaf_size': 10,\n",
       "   'algorithm': 'auto'},\n",
       "  {'weights': 'uniform',\n",
       "   'p': 1,\n",
       "   'n_neighbors': 109,\n",
       "   'leaf_size': 10,\n",
       "   'algorithm': 'auto'},\n",
       "  {'weights': 'distance',\n",
       "   'p': 2,\n",
       "   'n_neighbors': 93,\n",
       "   'leaf_size': 7,\n",
       "   'algorithm': 'auto'},\n",
       "  {'weights': 'distance',\n",
       "   'p': 2,\n",
       "   'n_neighbors': 77,\n",
       "   'leaf_size': 2,\n",
       "   'algorithm': 'auto'},\n",
       "  {'weights': 'distance',\n",
       "   'p': 2,\n",
       "   'n_neighbors': 156,\n",
       "   'leaf_size': 10,\n",
       "   'algorithm': 'auto'},\n",
       "  {'weights': 'distance',\n",
       "   'p': 2,\n",
       "   'n_neighbors': 198,\n",
       "   'leaf_size': 10,\n",
       "   'algorithm': 'auto'},\n",
       "  {'weights': 'uniform',\n",
       "   'p': 1,\n",
       "   'n_neighbors': 25,\n",
       "   'leaf_size': 2,\n",
       "   'algorithm': 'auto'},\n",
       "  {'weights': 'uniform',\n",
       "   'p': 1,\n",
       "   'n_neighbors': 71,\n",
       "   'leaf_size': 3,\n",
       "   'algorithm': 'auto'},\n",
       "  {'weights': 'distance',\n",
       "   'p': 1,\n",
       "   'n_neighbors': 137,\n",
       "   'leaf_size': 12,\n",
       "   'algorithm': 'auto'},\n",
       "  {'weights': 'distance',\n",
       "   'p': 1,\n",
       "   'n_neighbors': 109,\n",
       "   'leaf_size': 12,\n",
       "   'algorithm': 'auto'},\n",
       "  {'weights': 'distance',\n",
       "   'p': 1,\n",
       "   'n_neighbors': 109,\n",
       "   'leaf_size': 7,\n",
       "   'algorithm': 'auto'},\n",
       "  {'weights': 'distance',\n",
       "   'p': 2,\n",
       "   'n_neighbors': 198,\n",
       "   'leaf_size': 1,\n",
       "   'algorithm': 'auto'},\n",
       "  {'weights': 'distance',\n",
       "   'p': 1,\n",
       "   'n_neighbors': 137,\n",
       "   'leaf_size': 4,\n",
       "   'algorithm': 'auto'},\n",
       "  {'weights': 'distance',\n",
       "   'p': 1,\n",
       "   'n_neighbors': 137,\n",
       "   'leaf_size': 11,\n",
       "   'algorithm': 'auto'},\n",
       "  {'weights': 'uniform',\n",
       "   'p': 1,\n",
       "   'n_neighbors': 142,\n",
       "   'leaf_size': 3,\n",
       "   'algorithm': 'auto'},\n",
       "  {'weights': 'uniform',\n",
       "   'p': 1,\n",
       "   'n_neighbors': 24,\n",
       "   'leaf_size': 4,\n",
       "   'algorithm': 'auto'},\n",
       "  {'weights': 'distance',\n",
       "   'p': 1,\n",
       "   'n_neighbors': 137,\n",
       "   'leaf_size': 7,\n",
       "   'algorithm': 'auto'},\n",
       "  {'weights': 'distance',\n",
       "   'p': 1,\n",
       "   'n_neighbors': 93,\n",
       "   'leaf_size': 10,\n",
       "   'algorithm': 'auto'},\n",
       "  {'weights': 'uniform',\n",
       "   'p': 2,\n",
       "   'n_neighbors': 178,\n",
       "   'leaf_size': 3,\n",
       "   'algorithm': 'auto'},\n",
       "  {'weights': 'uniform',\n",
       "   'p': 1,\n",
       "   'n_neighbors': 142,\n",
       "   'leaf_size': 4,\n",
       "   'algorithm': 'auto'},\n",
       "  {'weights': 'uniform',\n",
       "   'p': 2,\n",
       "   'n_neighbors': 142,\n",
       "   'leaf_size': 7,\n",
       "   'algorithm': 'auto'},\n",
       "  {'weights': 'uniform',\n",
       "   'p': 1,\n",
       "   'n_neighbors': 142,\n",
       "   'leaf_size': 2,\n",
       "   'algorithm': 'auto'},\n",
       "  {'weights': 'distance',\n",
       "   'p': 1,\n",
       "   'n_neighbors': 142,\n",
       "   'leaf_size': 14,\n",
       "   'algorithm': 'auto'},\n",
       "  {'weights': 'distance',\n",
       "   'p': 1,\n",
       "   'n_neighbors': 82,\n",
       "   'leaf_size': 2,\n",
       "   'algorithm': 'auto'},\n",
       "  {'weights': 'distance',\n",
       "   'p': 1,\n",
       "   'n_neighbors': 71,\n",
       "   'leaf_size': 2,\n",
       "   'algorithm': 'auto'},\n",
       "  {'weights': 'uniform',\n",
       "   'p': 2,\n",
       "   'n_neighbors': 198,\n",
       "   'leaf_size': 3,\n",
       "   'algorithm': 'auto'},\n",
       "  {'weights': 'uniform',\n",
       "   'p': 1,\n",
       "   'n_neighbors': 77,\n",
       "   'leaf_size': 5,\n",
       "   'algorithm': 'auto'},\n",
       "  {'weights': 'uniform',\n",
       "   'p': 1,\n",
       "   'n_neighbors': 198,\n",
       "   'leaf_size': 14,\n",
       "   'algorithm': 'auto'},\n",
       "  {'weights': 'uniform',\n",
       "   'p': 1,\n",
       "   'n_neighbors': 77,\n",
       "   'leaf_size': 2,\n",
       "   'algorithm': 'auto'},\n",
       "  {'weights': 'distance',\n",
       "   'p': 2,\n",
       "   'n_neighbors': 181,\n",
       "   'leaf_size': 5,\n",
       "   'algorithm': 'auto'},\n",
       "  {'weights': 'uniform',\n",
       "   'p': 2,\n",
       "   'n_neighbors': 178,\n",
       "   'leaf_size': 12,\n",
       "   'algorithm': 'auto'},\n",
       "  {'weights': 'uniform',\n",
       "   'p': 1,\n",
       "   'n_neighbors': 137,\n",
       "   'leaf_size': 12,\n",
       "   'algorithm': 'auto'},\n",
       "  {'weights': 'distance',\n",
       "   'p': 1,\n",
       "   'n_neighbors': 161,\n",
       "   'leaf_size': 5,\n",
       "   'algorithm': 'auto'},\n",
       "  {'weights': 'distance',\n",
       "   'p': 2,\n",
       "   'n_neighbors': 178,\n",
       "   'leaf_size': 7,\n",
       "   'algorithm': 'auto'},\n",
       "  {'weights': 'distance',\n",
       "   'p': 2,\n",
       "   'n_neighbors': 178,\n",
       "   'leaf_size': 10,\n",
       "   'algorithm': 'auto'},\n",
       "  {'weights': 'uniform',\n",
       "   'p': 2,\n",
       "   'n_neighbors': 74,\n",
       "   'leaf_size': 7,\n",
       "   'algorithm': 'auto'},\n",
       "  {'weights': 'uniform',\n",
       "   'p': 1,\n",
       "   'n_neighbors': 109,\n",
       "   'leaf_size': 7,\n",
       "   'algorithm': 'auto'},\n",
       "  {'weights': 'uniform',\n",
       "   'p': 2,\n",
       "   'n_neighbors': 198,\n",
       "   'leaf_size': 7,\n",
       "   'algorithm': 'auto'},\n",
       "  {'weights': 'distance',\n",
       "   'p': 2,\n",
       "   'n_neighbors': 156,\n",
       "   'leaf_size': 12,\n",
       "   'algorithm': 'auto'},\n",
       "  {'weights': 'distance',\n",
       "   'p': 1,\n",
       "   'n_neighbors': 77,\n",
       "   'leaf_size': 14,\n",
       "   'algorithm': 'auto'},\n",
       "  {'weights': 'distance',\n",
       "   'p': 2,\n",
       "   'n_neighbors': 127,\n",
       "   'leaf_size': 2,\n",
       "   'algorithm': 'auto'},\n",
       "  {'weights': 'distance',\n",
       "   'p': 2,\n",
       "   'n_neighbors': 71,\n",
       "   'leaf_size': 2,\n",
       "   'algorithm': 'auto'},\n",
       "  {'weights': 'uniform',\n",
       "   'p': 2,\n",
       "   'n_neighbors': 185,\n",
       "   'leaf_size': 2,\n",
       "   'algorithm': 'auto'},\n",
       "  {'weights': 'distance',\n",
       "   'p': 2,\n",
       "   'n_neighbors': 127,\n",
       "   'leaf_size': 3,\n",
       "   'algorithm': 'auto'},\n",
       "  {'weights': 'uniform',\n",
       "   'p': 1,\n",
       "   'n_neighbors': 77,\n",
       "   'leaf_size': 7,\n",
       "   'algorithm': 'auto'},\n",
       "  {'weights': 'uniform',\n",
       "   'p': 2,\n",
       "   'n_neighbors': 44,\n",
       "   'leaf_size': 4,\n",
       "   'algorithm': 'auto'},\n",
       "  {'weights': 'uniform',\n",
       "   'p': 2,\n",
       "   'n_neighbors': 137,\n",
       "   'leaf_size': 7,\n",
       "   'algorithm': 'auto'},\n",
       "  {'weights': 'distance',\n",
       "   'p': 2,\n",
       "   'n_neighbors': 82,\n",
       "   'leaf_size': 1,\n",
       "   'algorithm': 'auto'},\n",
       "  {'weights': 'distance',\n",
       "   'p': 1,\n",
       "   'n_neighbors': 77,\n",
       "   'leaf_size': 7,\n",
       "   'algorithm': 'auto'},\n",
       "  {'weights': 'distance',\n",
       "   'p': 1,\n",
       "   'n_neighbors': 25,\n",
       "   'leaf_size': 7,\n",
       "   'algorithm': 'auto'},\n",
       "  {'weights': 'distance',\n",
       "   'p': 2,\n",
       "   'n_neighbors': 181,\n",
       "   'leaf_size': 14,\n",
       "   'algorithm': 'auto'},\n",
       "  {'weights': 'distance',\n",
       "   'p': 1,\n",
       "   'n_neighbors': 77,\n",
       "   'leaf_size': 7,\n",
       "   'algorithm': 'auto'},\n",
       "  {'weights': 'uniform',\n",
       "   'p': 1,\n",
       "   'n_neighbors': 125,\n",
       "   'leaf_size': 12,\n",
       "   'algorithm': 'auto'},\n",
       "  {'weights': 'uniform',\n",
       "   'p': 1,\n",
       "   'n_neighbors': 109,\n",
       "   'leaf_size': 7,\n",
       "   'algorithm': 'auto'},\n",
       "  {'weights': 'uniform',\n",
       "   'p': 1,\n",
       "   'n_neighbors': 107,\n",
       "   'leaf_size': 2,\n",
       "   'algorithm': 'auto'},\n",
       "  {'weights': 'uniform',\n",
       "   'p': 2,\n",
       "   'n_neighbors': 198,\n",
       "   'leaf_size': 12,\n",
       "   'algorithm': 'auto'},\n",
       "  {'weights': 'distance',\n",
       "   'p': 1,\n",
       "   'n_neighbors': 198,\n",
       "   'leaf_size': 11,\n",
       "   'algorithm': 'auto'},\n",
       "  {'weights': 'uniform',\n",
       "   'p': 1,\n",
       "   'n_neighbors': 156,\n",
       "   'leaf_size': 4,\n",
       "   'algorithm': 'auto'},\n",
       "  {'weights': 'distance',\n",
       "   'p': 2,\n",
       "   'n_neighbors': 185,\n",
       "   'leaf_size': 2,\n",
       "   'algorithm': 'auto'},\n",
       "  {'weights': 'distance',\n",
       "   'p': 2,\n",
       "   'n_neighbors': 198,\n",
       "   'leaf_size': 2,\n",
       "   'algorithm': 'auto'},\n",
       "  {'weights': 'distance',\n",
       "   'p': 1,\n",
       "   'n_neighbors': 178,\n",
       "   'leaf_size': 9,\n",
       "   'algorithm': 'auto'},\n",
       "  {'weights': 'uniform',\n",
       "   'p': 2,\n",
       "   'n_neighbors': 44,\n",
       "   'leaf_size': 10,\n",
       "   'algorithm': 'auto'},\n",
       "  {'weights': 'uniform',\n",
       "   'p': 1,\n",
       "   'n_neighbors': 44,\n",
       "   'leaf_size': 7,\n",
       "   'algorithm': 'auto'},\n",
       "  {'weights': 'distance',\n",
       "   'p': 1,\n",
       "   'n_neighbors': 161,\n",
       "   'leaf_size': 2,\n",
       "   'algorithm': 'auto'},\n",
       "  {'weights': 'uniform',\n",
       "   'p': 2,\n",
       "   'n_neighbors': 107,\n",
       "   'leaf_size': 4,\n",
       "   'algorithm': 'auto'},\n",
       "  {'weights': 'distance',\n",
       "   'p': 2,\n",
       "   'n_neighbors': 50,\n",
       "   'leaf_size': 4,\n",
       "   'algorithm': 'auto'},\n",
       "  {'weights': 'uniform',\n",
       "   'p': 2,\n",
       "   'n_neighbors': 30,\n",
       "   'leaf_size': 7,\n",
       "   'algorithm': 'auto'},\n",
       "  {'weights': 'uniform',\n",
       "   'p': 2,\n",
       "   'n_neighbors': 127,\n",
       "   'leaf_size': 2,\n",
       "   'algorithm': 'auto'},\n",
       "  {'weights': 'distance',\n",
       "   'p': 1,\n",
       "   'n_neighbors': 44,\n",
       "   'leaf_size': 2,\n",
       "   'algorithm': 'auto'},\n",
       "  {'weights': 'uniform',\n",
       "   'p': 1,\n",
       "   'n_neighbors': 181,\n",
       "   'leaf_size': 7,\n",
       "   'algorithm': 'auto'},\n",
       "  {'weights': 'distance',\n",
       "   'p': 1,\n",
       "   'n_neighbors': 74,\n",
       "   'leaf_size': 7,\n",
       "   'algorithm': 'auto'},\n",
       "  {'weights': 'uniform',\n",
       "   'p': 1,\n",
       "   'n_neighbors': 50,\n",
       "   'leaf_size': 12,\n",
       "   'algorithm': 'auto'},\n",
       "  {'weights': 'uniform',\n",
       "   'p': 2,\n",
       "   'n_neighbors': 50,\n",
       "   'leaf_size': 2,\n",
       "   'algorithm': 'auto'},\n",
       "  {'weights': 'uniform',\n",
       "   'p': 1,\n",
       "   'n_neighbors': 93,\n",
       "   'leaf_size': 3,\n",
       "   'algorithm': 'auto'},\n",
       "  {'weights': 'uniform',\n",
       "   'p': 1,\n",
       "   'n_neighbors': 67,\n",
       "   'leaf_size': 11,\n",
       "   'algorithm': 'auto'},\n",
       "  {'weights': 'uniform',\n",
       "   'p': 1,\n",
       "   'n_neighbors': 30,\n",
       "   'leaf_size': 7,\n",
       "   'algorithm': 'auto'},\n",
       "  {'weights': 'uniform',\n",
       "   'p': 2,\n",
       "   'n_neighbors': 82,\n",
       "   'leaf_size': 14,\n",
       "   'algorithm': 'auto'},\n",
       "  {'weights': 'distance',\n",
       "   'p': 1,\n",
       "   'n_neighbors': 127,\n",
       "   'leaf_size': 1,\n",
       "   'algorithm': 'auto'},\n",
       "  {'weights': 'distance',\n",
       "   'p': 2,\n",
       "   'n_neighbors': 198,\n",
       "   'leaf_size': 12,\n",
       "   'algorithm': 'auto'},\n",
       "  {'weights': 'uniform',\n",
       "   'p': 2,\n",
       "   'n_neighbors': 181,\n",
       "   'leaf_size': 12,\n",
       "   'algorithm': 'auto'},\n",
       "  {'weights': 'distance',\n",
       "   'p': 1,\n",
       "   'n_neighbors': 25,\n",
       "   'leaf_size': 7,\n",
       "   'algorithm': 'auto'},\n",
       "  {'weights': 'uniform',\n",
       "   'p': 1,\n",
       "   'n_neighbors': 93,\n",
       "   'leaf_size': 10,\n",
       "   'algorithm': 'auto'},\n",
       "  {'weights': 'uniform',\n",
       "   'p': 2,\n",
       "   'n_neighbors': 67,\n",
       "   'leaf_size': 2,\n",
       "   'algorithm': 'auto'},\n",
       "  {'weights': 'distance',\n",
       "   'p': 1,\n",
       "   'n_neighbors': 82,\n",
       "   'leaf_size': 5,\n",
       "   'algorithm': 'auto'},\n",
       "  {'weights': 'distance',\n",
       "   'p': 1,\n",
       "   'n_neighbors': 50,\n",
       "   'leaf_size': 7,\n",
       "   'algorithm': 'auto'},\n",
       "  {'weights': 'distance',\n",
       "   'p': 2,\n",
       "   'n_neighbors': 156,\n",
       "   'leaf_size': 7,\n",
       "   'algorithm': 'auto'},\n",
       "  {'weights': 'distance',\n",
       "   'p': 1,\n",
       "   'n_neighbors': 198,\n",
       "   'leaf_size': 4,\n",
       "   'algorithm': 'auto'},\n",
       "  {'weights': 'distance',\n",
       "   'p': 1,\n",
       "   'n_neighbors': 67,\n",
       "   'leaf_size': 10,\n",
       "   'algorithm': 'auto'},\n",
       "  {'weights': 'distance',\n",
       "   'p': 2,\n",
       "   'n_neighbors': 198,\n",
       "   'leaf_size': 9,\n",
       "   'algorithm': 'auto'},\n",
       "  {'weights': 'uniform',\n",
       "   'p': 1,\n",
       "   'n_neighbors': 67,\n",
       "   'leaf_size': 3,\n",
       "   'algorithm': 'auto'},\n",
       "  {'weights': 'uniform',\n",
       "   'p': 2,\n",
       "   'n_neighbors': 109,\n",
       "   'leaf_size': 9,\n",
       "   'algorithm': 'auto'},\n",
       "  {'weights': 'uniform',\n",
       "   'p': 1,\n",
       "   'n_neighbors': 127,\n",
       "   'leaf_size': 12,\n",
       "   'algorithm': 'auto'},\n",
       "  {'weights': 'uniform',\n",
       "   'p': 1,\n",
       "   'n_neighbors': 137,\n",
       "   'leaf_size': 7,\n",
       "   'algorithm': 'auto'},\n",
       "  {'weights': 'uniform',\n",
       "   'p': 1,\n",
       "   'n_neighbors': 30,\n",
       "   'leaf_size': 14,\n",
       "   'algorithm': 'auto'},\n",
       "  {'weights': 'distance',\n",
       "   'p': 2,\n",
       "   'n_neighbors': 178,\n",
       "   'leaf_size': 11,\n",
       "   'algorithm': 'auto'},\n",
       "  {'weights': 'distance',\n",
       "   'p': 1,\n",
       "   'n_neighbors': 142,\n",
       "   'leaf_size': 7,\n",
       "   'algorithm': 'auto'},\n",
       "  {'weights': 'uniform',\n",
       "   'p': 1,\n",
       "   'n_neighbors': 198,\n",
       "   'leaf_size': 14,\n",
       "   'algorithm': 'auto'},\n",
       "  {'weights': 'uniform',\n",
       "   'p': 2,\n",
       "   'n_neighbors': 199,\n",
       "   'leaf_size': 7,\n",
       "   'algorithm': 'auto'},\n",
       "  {'weights': 'uniform',\n",
       "   'p': 1,\n",
       "   'n_neighbors': 181,\n",
       "   'leaf_size': 7,\n",
       "   'algorithm': 'auto'},\n",
       "  {'weights': 'uniform',\n",
       "   'p': 1,\n",
       "   'n_neighbors': 107,\n",
       "   'leaf_size': 9,\n",
       "   'algorithm': 'auto'},\n",
       "  {'weights': 'uniform',\n",
       "   'p': 1,\n",
       "   'n_neighbors': 181,\n",
       "   'leaf_size': 5,\n",
       "   'algorithm': 'auto'},\n",
       "  {'weights': 'uniform',\n",
       "   'p': 1,\n",
       "   'n_neighbors': 25,\n",
       "   'leaf_size': 10,\n",
       "   'algorithm': 'auto'},\n",
       "  {'weights': 'uniform',\n",
       "   'p': 1,\n",
       "   'n_neighbors': 137,\n",
       "   'leaf_size': 9,\n",
       "   'algorithm': 'auto'},\n",
       "  {'weights': 'distance',\n",
       "   'p': 1,\n",
       "   'n_neighbors': 161,\n",
       "   'leaf_size': 1,\n",
       "   'algorithm': 'auto'},\n",
       "  {'weights': 'distance',\n",
       "   'p': 1,\n",
       "   'n_neighbors': 198,\n",
       "   'leaf_size': 7,\n",
       "   'algorithm': 'auto'},\n",
       "  {'weights': 'uniform',\n",
       "   'p': 1,\n",
       "   'n_neighbors': 142,\n",
       "   'leaf_size': 9,\n",
       "   'algorithm': 'auto'},\n",
       "  {'weights': 'distance',\n",
       "   'p': 2,\n",
       "   'n_neighbors': 199,\n",
       "   'leaf_size': 2,\n",
       "   'algorithm': 'auto'},\n",
       "  {'weights': 'distance',\n",
       "   'p': 1,\n",
       "   'n_neighbors': 198,\n",
       "   'leaf_size': 12,\n",
       "   'algorithm': 'auto'},\n",
       "  {'weights': 'distance',\n",
       "   'p': 1,\n",
       "   'n_neighbors': 74,\n",
       "   'leaf_size': 14,\n",
       "   'algorithm': 'auto'},\n",
       "  {'weights': 'distance',\n",
       "   'p': 1,\n",
       "   'n_neighbors': 161,\n",
       "   'leaf_size': 7,\n",
       "   'algorithm': 'auto'},\n",
       "  {'weights': 'distance',\n",
       "   'p': 1,\n",
       "   'n_neighbors': 199,\n",
       "   'leaf_size': 7,\n",
       "   'algorithm': 'auto'},\n",
       "  {'weights': 'distance',\n",
       "   'p': 2,\n",
       "   'n_neighbors': 199,\n",
       "   'leaf_size': 4,\n",
       "   'algorithm': 'auto'},\n",
       "  {'weights': 'uniform',\n",
       "   'p': 2,\n",
       "   'n_neighbors': 107,\n",
       "   'leaf_size': 11,\n",
       "   'algorithm': 'auto'},\n",
       "  {'weights': 'uniform',\n",
       "   'p': 1,\n",
       "   'n_neighbors': 127,\n",
       "   'leaf_size': 10,\n",
       "   'algorithm': 'auto'},\n",
       "  {'weights': 'uniform',\n",
       "   'p': 1,\n",
       "   'n_neighbors': 156,\n",
       "   'leaf_size': 14,\n",
       "   'algorithm': 'auto'},\n",
       "  {'weights': 'uniform',\n",
       "   'p': 2,\n",
       "   'n_neighbors': 25,\n",
       "   'leaf_size': 7,\n",
       "   'algorithm': 'auto'},\n",
       "  {'weights': 'uniform',\n",
       "   'p': 2,\n",
       "   'n_neighbors': 125,\n",
       "   'leaf_size': 7,\n",
       "   'algorithm': 'auto'},\n",
       "  {'weights': 'uniform',\n",
       "   'p': 1,\n",
       "   'n_neighbors': 82,\n",
       "   'leaf_size': 2,\n",
       "   'algorithm': 'auto'},\n",
       "  {'weights': 'distance',\n",
       "   'p': 2,\n",
       "   'n_neighbors': 25,\n",
       "   'leaf_size': 7,\n",
       "   'algorithm': 'auto'}],\n",
       " 'split0_test_score': array([0.88911183, 0.89337635, 0.87802079, 0.89202929, 0.89268372,\n",
       "        0.8777823 , 0.89220058, 0.87801402, 0.888839  , 0.87808652,\n",
       "        0.888839  , 0.88575046, 0.87771237, 0.88572859, 0.87307123,\n",
       "        0.89337635, 0.88358375, 0.87844082, 0.88431013, 0.87771807,\n",
       "        0.89202929, 0.87619467, 0.87780726, 0.87814332, 0.87307123,\n",
       "        0.88865279, 0.87780726, 0.88653201, 0.888839  , 0.88358375,\n",
       "        0.87755132, 0.87842045, 0.88865279, 0.88358375, 0.89239597,\n",
       "        0.87816736, 0.87789633, 0.89116568, 0.88865279, 0.87617886,\n",
       "        0.87434695, 0.89282966, 0.87619467, 0.89268372, 0.87840348,\n",
       "        0.89268372, 0.87789633, 0.87842787, 0.87844082, 0.87771237,\n",
       "        0.87436572, 0.88911183, 0.87842045, 0.87843901, 0.89233565,\n",
       "        0.87816736, 0.88575046, 0.87771237, 0.87772034, 0.87844082,\n",
       "        0.87770556, 0.88358375, 0.8877947 , 0.89348952, 0.87755132,\n",
       "        0.8897294 , 0.89258836, 0.89383823, 0.88352457, 0.888839  ,\n",
       "        0.87840348, 0.87771807, 0.88972846, 0.89318926, 0.89258836,\n",
       "        0.89220058, 0.87846938, 0.88358375, 0.88575046, 0.8877947 ,\n",
       "        0.87782297, 0.87842787, 0.89043723, 0.87800422, 0.8777823 ,\n",
       "        0.87802079, 0.87771237, 0.89238847, 0.89268372, 0.87846938,\n",
       "        0.87832341, 0.87832341, 0.87771237, 0.87846938, 0.87846938,\n",
       "        0.88871206, 0.89220058, 0.87846938, 0.87816736, 0.88500453,\n",
       "        0.88871206, 0.88755285, 0.88871206, 0.87844082, 0.87795929,\n",
       "        0.87771807, 0.88358375, 0.89240937, 0.88575046, 0.89240937,\n",
       "        0.87784737, 0.88500453, 0.88911183, 0.8784586 , 0.87789633,\n",
       "        0.87789633, 0.89230536, 0.89043723, 0.88358375, 0.87802079,\n",
       "        0.87789656, 0.87813462, 0.87760774, 0.88431013, 0.87813462,\n",
       "        0.89240937, 0.89383823, 0.88803401, 0.87782297, 0.87789656,\n",
       "        0.87334792, 0.87784737, 0.87789656, 0.8897294 , 0.89043723,\n",
       "        0.89059131, 0.88358375, 0.87836022, 0.88800775, 0.87779207,\n",
       "        0.87771237, 0.87842787, 0.89383823, 0.89389222, 0.8784586 ,\n",
       "        0.88992415, 0.87659442, 0.89318926, 0.88865279, 0.87619467,\n",
       "        0.88653201, 0.87780726, 0.89348952, 0.89337635, 0.89116568,\n",
       "        0.89282966, 0.89319208, 0.89140164, 0.87842045, 0.87771237,\n",
       "        0.88467889, 0.87334792, 0.89116568, 0.89250504, 0.87795929,\n",
       "        0.87662329, 0.87802079, 0.87836022, 0.87755132, 0.87771237,\n",
       "        0.89282966, 0.88972846, 0.88954341, 0.88911183, 0.89319208,\n",
       "        0.87789633, 0.87844082, 0.88575046, 0.88352457, 0.88653201,\n",
       "        0.89059131, 0.88653201, 0.89238847, 0.88911183, 0.8784586 ,\n",
       "        0.87836022, 0.88871206, 0.87770556, 0.87836022, 0.87780726,\n",
       "        0.8784586 , 0.87835951, 0.87770556, 0.88992415, 0.88954341,\n",
       "        0.88800775, 0.89239597, 0.888839  , 0.8918511 , 0.87332545]),\n",
       " 'split1_test_score': array([0.88673452, 0.89022421, 0.87831774, 0.88901632, 0.88976246,\n",
       "        0.87748157, 0.889457  , 0.87832706, 0.8865102 , 0.87805647,\n",
       "        0.8865102 , 0.8839226 , 0.87843297, 0.88384077, 0.87361762,\n",
       "        0.89022421, 0.88226121, 0.87844948, 0.88322928, 0.87741344,\n",
       "        0.88901632, 0.8760767 , 0.87749366, 0.87819057, 0.87361762,\n",
       "        0.88645419, 0.87749366, 0.88475113, 0.8865102 , 0.88226121,\n",
       "        0.87720971, 0.87839191, 0.88645419, 0.88226121, 0.88957657,\n",
       "        0.87788187, 0.87841535, 0.88861244, 0.88645419, 0.87602436,\n",
       "        0.87459826, 0.88976344, 0.8760767 , 0.88976246, 0.87871495,\n",
       "        0.88976246, 0.87841535, 0.87869274, 0.87844948, 0.87843297,\n",
       "        0.87463511, 0.88673452, 0.87839191, 0.87837128, 0.88947364,\n",
       "        0.87788187, 0.8839226 , 0.87843297, 0.8774096 , 0.87844948,\n",
       "        0.87842966, 0.88226121, 0.8855093 , 0.89045523, 0.87720971,\n",
       "        0.88731707, 0.88956815, 0.89033658, 0.88219879, 0.8865102 ,\n",
       "        0.87871495, 0.87741344, 0.88741672, 0.89018745, 0.88956815,\n",
       "        0.889457  , 0.87846419, 0.88226121, 0.8839226 , 0.8855093 ,\n",
       "        0.87760936, 0.87869274, 0.8880134 , 0.87777456, 0.87748157,\n",
       "        0.87831774, 0.87843297, 0.8896543 , 0.88976246, 0.87846419,\n",
       "        0.8781878 , 0.8781878 , 0.87843297, 0.87846419, 0.87846419,\n",
       "        0.88628744, 0.889457  , 0.87846419, 0.87788187, 0.88350886,\n",
       "        0.88628744, 0.88542665, 0.88628744, 0.87844948, 0.87770044,\n",
       "        0.87741344, 0.88226121, 0.88927576, 0.8839226 , 0.88927576,\n",
       "        0.87843545, 0.88350886, 0.88673452, 0.87856937, 0.87841535,\n",
       "        0.87841535, 0.88928703, 0.8880134 , 0.88226121, 0.87831774,\n",
       "        0.87756246, 0.87821964, 0.87733222, 0.88322928, 0.87821964,\n",
       "        0.88927576, 0.89033658, 0.88584346, 0.87760936, 0.87756246,\n",
       "        0.87377603, 0.87843545, 0.87756246, 0.88731707, 0.8880134 ,\n",
       "        0.88817187, 0.88226121, 0.87876739, 0.88577292, 0.87845518,\n",
       "        0.87843297, 0.87869274, 0.89033658, 0.89049626, 0.87856937,\n",
       "        0.88758828, 0.87643002, 0.89018745, 0.88645419, 0.8760767 ,\n",
       "        0.88475113, 0.87749366, 0.89045523, 0.89022421, 0.88861244,\n",
       "        0.88976344, 0.89027169, 0.88870705, 0.87839191, 0.87843297,\n",
       "        0.88339211, 0.87377603, 0.88861244, 0.88955497, 0.87770044,\n",
       "        0.87649313, 0.87831774, 0.87876739, 0.87720971, 0.87843297,\n",
       "        0.88976344, 0.88741672, 0.88725563, 0.88673452, 0.89027169,\n",
       "        0.87841535, 0.87844948, 0.8839226 , 0.88219879, 0.88475113,\n",
       "        0.88817187, 0.88475113, 0.8896543 , 0.88673452, 0.87856937,\n",
       "        0.87876739, 0.88628744, 0.87842966, 0.87876739, 0.87749366,\n",
       "        0.87856937, 0.87876373, 0.87842966, 0.88758828, 0.88725563,\n",
       "        0.88577292, 0.88957657, 0.8865102 , 0.88902609, 0.87374201]),\n",
       " 'split2_test_score': array([0.89582556, 0.89760866, 0.88624958, 0.89698603, 0.89728783,\n",
       "        0.88480054, 0.8953332 , 0.88629346, 0.89547726, 0.88573792,\n",
       "        0.89547726, 0.89299189, 0.88637916, 0.89298551, 0.88019638,\n",
       "        0.89760866, 0.89156216, 0.88645601, 0.89246214, 0.88469791,\n",
       "        0.89698603, 0.88306123, 0.88482857, 0.88598387, 0.88019638,\n",
       "        0.89537952, 0.88482857, 0.89401219, 0.89547726, 0.89156216,\n",
       "        0.88451856, 0.88623612, 0.89537952, 0.89156216, 0.89568946,\n",
       "        0.88557252, 0.88636884, 0.89716855, 0.89537952, 0.88296423,\n",
       "        0.88137421, 0.89734223, 0.88306123, 0.89728783, 0.88672909,\n",
       "        0.89728783, 0.88636884, 0.88671345, 0.88645601, 0.88637916,\n",
       "        0.88144765, 0.89582556, 0.88623612, 0.88621343, 0.89703952,\n",
       "        0.88557252, 0.89299189, 0.88637916, 0.88465861, 0.88645601,\n",
       "        0.88639428, 0.89156216, 0.89482432, 0.89775871, 0.88451856,\n",
       "        0.8961227 , 0.89728183, 0.89722719, 0.89156637, 0.89547726,\n",
       "        0.88672909, 0.88469791, 0.89592897, 0.89654808, 0.89728183,\n",
       "        0.8953332 , 0.88637267, 0.89156216, 0.89299189, 0.89482432,\n",
       "        0.88501132, 0.88671345, 0.89645328, 0.88540226, 0.88480054,\n",
       "        0.88624958, 0.88637916, 0.89570597, 0.89728783, 0.88637267,\n",
       "        0.88593939, 0.88593939, 0.88637916, 0.88637267, 0.88637267,\n",
       "        0.89569039, 0.8953332 , 0.88637267, 0.88557252, 0.89289143,\n",
       "        0.89569039, 0.89486569, 0.89569039, 0.88645601, 0.88517823,\n",
       "        0.88469791, 0.89156216, 0.8973302 , 0.89299189, 0.8973302 ,\n",
       "        0.88638173, 0.89289143, 0.89582556, 0.88660679, 0.88636884,\n",
       "        0.88636884, 0.89697329, 0.89645328, 0.89156216, 0.88624958,\n",
       "        0.8849749 , 0.88599341, 0.88456453, 0.89246214, 0.88599341,\n",
       "        0.8973302 , 0.89722719, 0.89506653, 0.88501132, 0.8849749 ,\n",
       "        0.88044959, 0.88638173, 0.8849749 , 0.8961227 , 0.89645328,\n",
       "        0.89655085, 0.89156216, 0.88675376, 0.89498461, 0.8863716 ,\n",
       "        0.88637916, 0.88671345, 0.89722719, 0.89738121, 0.88660679,\n",
       "        0.89604145, 0.88350015, 0.89654808, 0.89537952, 0.88306123,\n",
       "        0.89401219, 0.88482857, 0.89775871, 0.89760866, 0.89716855,\n",
       "        0.89734223, 0.89664675, 0.89701198, 0.88623612, 0.88637916,\n",
       "        0.89276684, 0.88044959, 0.89716855, 0.89707548, 0.88517823,\n",
       "        0.88359499, 0.88624958, 0.88675376, 0.88451856, 0.88637916,\n",
       "        0.89734223, 0.89592897, 0.89606398, 0.89582556, 0.89664675,\n",
       "        0.88636884, 0.88645601, 0.89299189, 0.89156637, 0.89401219,\n",
       "        0.89655085, 0.89401219, 0.89570597, 0.89582556, 0.88660679,\n",
       "        0.88675376, 0.89569039, 0.88639428, 0.88675376, 0.88482857,\n",
       "        0.88660679, 0.88676208, 0.88639428, 0.89604145, 0.89606398,\n",
       "        0.89498461, 0.89568946, 0.89547726, 0.89735763, 0.88041342]),\n",
       " 'mean_test_score': array([0.8905573 , 0.89373641, 0.8808627 , 0.89267721, 0.89324467,\n",
       "        0.88002147, 0.89233026, 0.88087818, 0.89027549, 0.88062697,\n",
       "        0.89027549, 0.88755498, 0.8808415 , 0.88751829, 0.87562841,\n",
       "        0.89373641, 0.88580237, 0.88111544, 0.88666718, 0.87994314,\n",
       "        0.89267721, 0.8784442 , 0.88004316, 0.88077259, 0.87562841,\n",
       "        0.89016217, 0.88004316, 0.88843177, 0.89027549, 0.88580237,\n",
       "        0.87975986, 0.88101616, 0.89016217, 0.88580237, 0.892554  ,\n",
       "        0.88054058, 0.88089351, 0.89231556, 0.89016217, 0.87838915,\n",
       "        0.87677314, 0.89331178, 0.8784442 , 0.89324467, 0.88128251,\n",
       "        0.89324467, 0.88089351, 0.88127802, 0.88111544, 0.8808415 ,\n",
       "        0.87681616, 0.8905573 , 0.88101616, 0.88100791, 0.8929496 ,\n",
       "        0.88054058, 0.88755498, 0.8808415 , 0.87992952, 0.88111544,\n",
       "        0.88084317, 0.88580237, 0.88937611, 0.89390116, 0.87975986,\n",
       "        0.89105639, 0.89314611, 0.89380067, 0.88576324, 0.89027549,\n",
       "        0.88128251, 0.87994314, 0.89102472, 0.89330826, 0.89314611,\n",
       "        0.89233026, 0.88110208, 0.88580237, 0.88755498, 0.88937611,\n",
       "        0.88014788, 0.88127802, 0.89163464, 0.88039368, 0.88002147,\n",
       "        0.8808627 , 0.8808415 , 0.89258291, 0.89324467, 0.88110208,\n",
       "        0.88081687, 0.88081687, 0.8808415 , 0.88110208, 0.88110208,\n",
       "        0.89022997, 0.89233026, 0.88110208, 0.88054058, 0.88713494,\n",
       "        0.89022997, 0.88928173, 0.89022997, 0.88111544, 0.88027932,\n",
       "        0.87994314, 0.88580237, 0.89300511, 0.88755498, 0.89300511,\n",
       "        0.88088818, 0.88713494, 0.8905573 , 0.88121159, 0.88089351,\n",
       "        0.88089351, 0.89285522, 0.89163464, 0.88580237, 0.8808627 ,\n",
       "        0.88014464, 0.88078256, 0.87983483, 0.88666718, 0.88078256,\n",
       "        0.89300511, 0.89380067, 0.889648  , 0.88014788, 0.88014464,\n",
       "        0.87585785, 0.88088818, 0.88014464, 0.89105639, 0.89163464,\n",
       "        0.89177134, 0.88580237, 0.88129379, 0.88958842, 0.88087295,\n",
       "        0.8808415 , 0.88127802, 0.89380067, 0.89392323, 0.88121159,\n",
       "        0.89118463, 0.87884153, 0.89330826, 0.89016217, 0.8784442 ,\n",
       "        0.88843177, 0.88004316, 0.89390116, 0.89373641, 0.89231556,\n",
       "        0.89331178, 0.89337017, 0.89237356, 0.88101616, 0.8808415 ,\n",
       "        0.88694595, 0.87585785, 0.89231556, 0.89304516, 0.88027932,\n",
       "        0.8789038 , 0.8808627 , 0.88129379, 0.87975986, 0.8808415 ,\n",
       "        0.89331178, 0.89102472, 0.89095434, 0.8905573 , 0.89337017,\n",
       "        0.88089351, 0.88111544, 0.88755498, 0.88576324, 0.88843177,\n",
       "        0.89177134, 0.88843177, 0.89258291, 0.8905573 , 0.88121159,\n",
       "        0.88129379, 0.89022997, 0.88084317, 0.88129379, 0.88004316,\n",
       "        0.88121159, 0.88129511, 0.88084317, 0.89118463, 0.89095434,\n",
       "        0.88958842, 0.892554  , 0.89027549, 0.89274494, 0.87582696]),\n",
       " 'std_test_score': array([0.00384957, 0.00302542, 0.00381102, 0.00328572, 0.00309772,\n",
       "        0.00338154, 0.0024007 , 0.00383131, 0.00379909, 0.00361401,\n",
       "        0.00379909, 0.00391622, 0.00392675, 0.00394198, 0.00323774,\n",
       "        0.00302542, 0.00410841, 0.00377636, 0.00412134, 0.00336443,\n",
       "        0.00328572, 0.00326509, 0.00338621, 0.00368499, 0.00323774,\n",
       "        0.00379684, 0.00338621, 0.00401237, 0.00379909, 0.00410841,\n",
       "        0.00336779, 0.00369109, 0.00379684, 0.00410841, 0.00249808,\n",
       "        0.00356002, 0.00387744, 0.0035864 , 0.00379684, 0.00323568,\n",
       "        0.00325507, 0.00311275, 0.00326509, 0.00309772, 0.00385341,\n",
       "        0.00309772, 0.00387744, 0.00384495, 0.00377636, 0.00392675,\n",
       "        0.0032768 , 0.00384957, 0.00369109, 0.00368097, 0.00311912,\n",
       "        0.00356002, 0.00391622, 0.00392675, 0.00334638, 0.00377636,\n",
       "        0.00393634, 0.00410841, 0.00396384, 0.00299581, 0.00336779,\n",
       "        0.00371532, 0.0031737 , 0.0028132 , 0.00413897, 0.00379909,\n",
       "        0.00385341, 0.00336443, 0.00359396, 0.00259808, 0.0031737 ,\n",
       "        0.0024007 , 0.00372687, 0.00410841, 0.00391622, 0.00396384,\n",
       "        0.00344007, 0.00384495, 0.00354807, 0.00354284, 0.00338154,\n",
       "        0.00381102, 0.00392675, 0.00247441, 0.00309772, 0.00372687,\n",
       "        0.0036226 , 0.0036226 , 0.00392675, 0.00372687, 0.00372687,\n",
       "        0.00398597, 0.0024007 , 0.00372687, 0.00356002, 0.004116  ,\n",
       "        0.00398597, 0.00404274, 0.00398597, 0.00377636, 0.00346566,\n",
       "        0.00336443, 0.00410841, 0.00331509, 0.00391622, 0.00331509,\n",
       "        0.00389194, 0.004116  , 0.00384957, 0.00381525, 0.00387744,\n",
       "        0.00387744, 0.0031619 , 0.00354807, 0.00410841, 0.00381102,\n",
       "        0.00341823, 0.00368479, 0.00334629, 0.00412134, 0.00368479,\n",
       "        0.00331509, 0.0028132 , 0.00393446, 0.00344007, 0.00341823,\n",
       "        0.00325155, 0.00389194, 0.00341823, 0.00371532, 0.00354807,\n",
       "        0.003521  , 0.00410841, 0.00386436, 0.00392324, 0.00389755,\n",
       "        0.00392675, 0.00384495, 0.0028132 , 0.00281085, 0.00381525,\n",
       "        0.00356423, 0.00329483, 0.00259808, 0.00379684, 0.00326509,\n",
       "        0.00401237, 0.00338621, 0.00299581, 0.00302542, 0.0035864 ,\n",
       "        0.00311275, 0.00260565, 0.00345943, 0.00369109, 0.00392675,\n",
       "        0.00414938, 0.00325155, 0.0035864 , 0.0030939 , 0.00346566,\n",
       "        0.00331759, 0.00381102, 0.00386436, 0.00336779, 0.00392675,\n",
       "        0.00311275, 0.00359396, 0.00373183, 0.00384957, 0.00260565,\n",
       "        0.00387744, 0.00377636, 0.00391622, 0.00413897, 0.00401237,\n",
       "        0.003521  , 0.00401237, 0.00247441, 0.00384957, 0.00381525,\n",
       "        0.00386436, 0.00398597, 0.00393634, 0.00386436, 0.00338621,\n",
       "        0.00381525, 0.00386925, 0.00393634, 0.00356423, 0.00373183,\n",
       "        0.00392324, 0.00249808, 0.00379909, 0.00345956, 0.00324757]),\n",
       " 'rank_test_score': array([ 56,   7, 142,  30,  17, 178,  37, 140,  61, 162,  61,  84, 149,\n",
       "         89, 199,   7,  95, 119,  93, 180,  30, 190, 174, 161, 199,  70,\n",
       "        174,  80,  61,  95, 185, 129,  70,  95,  34, 163, 133,  40,  70,\n",
       "        193, 195,  12, 190,  17, 110,  17, 133, 112, 119, 149, 194,  56,\n",
       "        129, 132,  27, 163,  84, 149, 183, 119, 146,  95,  77,   2, 185,\n",
       "         50,  21,   4, 103,  61, 110, 180,  52,  15,  21,  37, 124,  95,\n",
       "         84,  77, 169, 112,  45, 166, 178, 142, 149,  32,  17, 124, 157,\n",
       "        157, 149, 124, 124,  66,  37, 124, 163,  90,  66,  79,  66, 119,\n",
       "        167, 180,  95,  24,  84,  24, 138,  90,  56, 115, 133, 133,  28,\n",
       "         45,  95, 142, 171, 159, 184,  93, 159,  24,   4,  74, 169, 171,\n",
       "        196, 138, 171,  50,  45,  43,  95, 106,  75, 141, 149, 112,   4,\n",
       "          1, 115,  48, 189,  15,  70, 190,  80, 174,   2,   7,  40,  12,\n",
       "         10,  36, 129, 149,  92, 196,  40,  23, 167, 188, 142, 106, 185,\n",
       "        149,  12,  52,  54,  56,  10, 133, 119,  84, 103,  80,  43,  80,\n",
       "         32,  56, 115, 106,  66, 146, 106, 174, 115, 105, 146,  48,  54,\n",
       "         75,  34,  61,  29, 198])}"
      ]
     },
     "execution_count": 46,
     "metadata": {},
     "output_type": "execute_result"
    }
   ],
   "source": [
    "rcv.cv_results_"
   ]
  },
  {
   "cell_type": "code",
   "execution_count": 47,
   "id": "4e784e43",
   "metadata": {},
   "outputs": [],
   "source": [
    "cv_result=pd.DataFrame(rcv.cv_results_)# dataFrame creation by cv_result"
   ]
  },
  {
   "cell_type": "code",
   "execution_count": 48,
   "id": "4ca31796",
   "metadata": {},
   "outputs": [
    {
     "data": {
      "text/html": [
       "<div>\n",
       "<style scoped>\n",
       "    .dataframe tbody tr th:only-of-type {\n",
       "        vertical-align: middle;\n",
       "    }\n",
       "\n",
       "    .dataframe tbody tr th {\n",
       "        vertical-align: top;\n",
       "    }\n",
       "\n",
       "    .dataframe thead th {\n",
       "        text-align: right;\n",
       "    }\n",
       "</style>\n",
       "<table border=\"1\" class=\"dataframe\">\n",
       "  <thead>\n",
       "    <tr style=\"text-align: right;\">\n",
       "      <th></th>\n",
       "      <th>mean_fit_time</th>\n",
       "      <th>std_fit_time</th>\n",
       "      <th>mean_score_time</th>\n",
       "      <th>std_score_time</th>\n",
       "      <th>param_weights</th>\n",
       "      <th>param_p</th>\n",
       "      <th>param_n_neighbors</th>\n",
       "      <th>param_leaf_size</th>\n",
       "      <th>param_algorithm</th>\n",
       "      <th>params</th>\n",
       "      <th>split0_test_score</th>\n",
       "      <th>split1_test_score</th>\n",
       "      <th>split2_test_score</th>\n",
       "      <th>mean_test_score</th>\n",
       "      <th>std_test_score</th>\n",
       "      <th>rank_test_score</th>\n",
       "    </tr>\n",
       "  </thead>\n",
       "  <tbody>\n",
       "    <tr>\n",
       "      <th>0</th>\n",
       "      <td>0.011337</td>\n",
       "      <td>0.004024</td>\n",
       "      <td>0.057037</td>\n",
       "      <td>2.160973e-03</td>\n",
       "      <td>uniform</td>\n",
       "      <td>1</td>\n",
       "      <td>137</td>\n",
       "      <td>5</td>\n",
       "      <td>auto</td>\n",
       "      <td>{'weights': 'uniform', 'p': 1, 'n_neighbors': ...</td>\n",
       "      <td>0.889112</td>\n",
       "      <td>0.886735</td>\n",
       "      <td>0.895826</td>\n",
       "      <td>0.890557</td>\n",
       "      <td>0.003850</td>\n",
       "      <td>56</td>\n",
       "    </tr>\n",
       "    <tr>\n",
       "      <th>1</th>\n",
       "      <td>0.007338</td>\n",
       "      <td>0.000471</td>\n",
       "      <td>0.024017</td>\n",
       "      <td>5.619580e-07</td>\n",
       "      <td>uniform</td>\n",
       "      <td>2</td>\n",
       "      <td>50</td>\n",
       "      <td>10</td>\n",
       "      <td>auto</td>\n",
       "      <td>{'weights': 'uniform', 'p': 2, 'n_neighbors': ...</td>\n",
       "      <td>0.893376</td>\n",
       "      <td>0.890224</td>\n",
       "      <td>0.897609</td>\n",
       "      <td>0.893736</td>\n",
       "      <td>0.003025</td>\n",
       "      <td>7</td>\n",
       "    </tr>\n",
       "    <tr>\n",
       "      <th>2</th>\n",
       "      <td>0.008339</td>\n",
       "      <td>0.000472</td>\n",
       "      <td>0.075716</td>\n",
       "      <td>4.730562e-04</td>\n",
       "      <td>distance</td>\n",
       "      <td>2</td>\n",
       "      <td>156</td>\n",
       "      <td>4</td>\n",
       "      <td>auto</td>\n",
       "      <td>{'weights': 'distance', 'p': 2, 'n_neighbors':...</td>\n",
       "      <td>0.878021</td>\n",
       "      <td>0.878318</td>\n",
       "      <td>0.886250</td>\n",
       "      <td>0.880863</td>\n",
       "      <td>0.003811</td>\n",
       "      <td>142</td>\n",
       "    </tr>\n",
       "    <tr>\n",
       "      <th>3</th>\n",
       "      <td>0.008338</td>\n",
       "      <td>0.000472</td>\n",
       "      <td>0.040362</td>\n",
       "      <td>9.441460e-04</td>\n",
       "      <td>uniform</td>\n",
       "      <td>2</td>\n",
       "      <td>77</td>\n",
       "      <td>7</td>\n",
       "      <td>auto</td>\n",
       "      <td>{'weights': 'uniform', 'p': 2, 'n_neighbors': ...</td>\n",
       "      <td>0.892029</td>\n",
       "      <td>0.889016</td>\n",
       "      <td>0.896986</td>\n",
       "      <td>0.892677</td>\n",
       "      <td>0.003286</td>\n",
       "      <td>30</td>\n",
       "    </tr>\n",
       "    <tr>\n",
       "      <th>4</th>\n",
       "      <td>0.009339</td>\n",
       "      <td>0.000472</td>\n",
       "      <td>0.044697</td>\n",
       "      <td>3.093202e-03</td>\n",
       "      <td>uniform</td>\n",
       "      <td>1</td>\n",
       "      <td>71</td>\n",
       "      <td>1</td>\n",
       "      <td>auto</td>\n",
       "      <td>{'weights': 'uniform', 'p': 1, 'n_neighbors': ...</td>\n",
       "      <td>0.892684</td>\n",
       "      <td>0.889762</td>\n",
       "      <td>0.897288</td>\n",
       "      <td>0.893245</td>\n",
       "      <td>0.003098</td>\n",
       "      <td>17</td>\n",
       "    </tr>\n",
       "    <tr>\n",
       "      <th>...</th>\n",
       "      <td>...</td>\n",
       "      <td>...</td>\n",
       "      <td>...</td>\n",
       "      <td>...</td>\n",
       "      <td>...</td>\n",
       "      <td>...</td>\n",
       "      <td>...</td>\n",
       "      <td>...</td>\n",
       "      <td>...</td>\n",
       "      <td>...</td>\n",
       "      <td>...</td>\n",
       "      <td>...</td>\n",
       "      <td>...</td>\n",
       "      <td>...</td>\n",
       "      <td>...</td>\n",
       "      <td>...</td>\n",
       "    </tr>\n",
       "    <tr>\n",
       "      <th>195</th>\n",
       "      <td>0.008004</td>\n",
       "      <td>0.000000</td>\n",
       "      <td>0.067046</td>\n",
       "      <td>1.635600e-03</td>\n",
       "      <td>uniform</td>\n",
       "      <td>1</td>\n",
       "      <td>156</td>\n",
       "      <td>14</td>\n",
       "      <td>auto</td>\n",
       "      <td>{'weights': 'uniform', 'p': 1, 'n_neighbors': ...</td>\n",
       "      <td>0.888008</td>\n",
       "      <td>0.885773</td>\n",
       "      <td>0.894985</td>\n",
       "      <td>0.889588</td>\n",
       "      <td>0.003923</td>\n",
       "      <td>75</td>\n",
       "    </tr>\n",
       "    <tr>\n",
       "      <th>196</th>\n",
       "      <td>0.010006</td>\n",
       "      <td>0.000818</td>\n",
       "      <td>0.019682</td>\n",
       "      <td>1.886606e-03</td>\n",
       "      <td>uniform</td>\n",
       "      <td>2</td>\n",
       "      <td>25</td>\n",
       "      <td>7</td>\n",
       "      <td>auto</td>\n",
       "      <td>{'weights': 'uniform', 'p': 2, 'n_neighbors': ...</td>\n",
       "      <td>0.892396</td>\n",
       "      <td>0.889577</td>\n",
       "      <td>0.895689</td>\n",
       "      <td>0.892554</td>\n",
       "      <td>0.002498</td>\n",
       "      <td>34</td>\n",
       "    </tr>\n",
       "    <tr>\n",
       "      <th>197</th>\n",
       "      <td>0.009339</td>\n",
       "      <td>0.000471</td>\n",
       "      <td>0.064710</td>\n",
       "      <td>4.719323e-04</td>\n",
       "      <td>uniform</td>\n",
       "      <td>2</td>\n",
       "      <td>125</td>\n",
       "      <td>7</td>\n",
       "      <td>auto</td>\n",
       "      <td>{'weights': 'uniform', 'p': 2, 'n_neighbors': ...</td>\n",
       "      <td>0.888839</td>\n",
       "      <td>0.886510</td>\n",
       "      <td>0.895477</td>\n",
       "      <td>0.890275</td>\n",
       "      <td>0.003799</td>\n",
       "      <td>61</td>\n",
       "    </tr>\n",
       "    <tr>\n",
       "      <th>198</th>\n",
       "      <td>0.010673</td>\n",
       "      <td>0.000945</td>\n",
       "      <td>0.044030</td>\n",
       "      <td>8.166327e-04</td>\n",
       "      <td>uniform</td>\n",
       "      <td>1</td>\n",
       "      <td>82</td>\n",
       "      <td>2</td>\n",
       "      <td>auto</td>\n",
       "      <td>{'weights': 'uniform', 'p': 1, 'n_neighbors': ...</td>\n",
       "      <td>0.891851</td>\n",
       "      <td>0.889026</td>\n",
       "      <td>0.897358</td>\n",
       "      <td>0.892745</td>\n",
       "      <td>0.003460</td>\n",
       "      <td>29</td>\n",
       "    </tr>\n",
       "    <tr>\n",
       "      <th>199</th>\n",
       "      <td>0.010340</td>\n",
       "      <td>0.000943</td>\n",
       "      <td>0.020013</td>\n",
       "      <td>1.632778e-03</td>\n",
       "      <td>distance</td>\n",
       "      <td>2</td>\n",
       "      <td>25</td>\n",
       "      <td>7</td>\n",
       "      <td>auto</td>\n",
       "      <td>{'weights': 'distance', 'p': 2, 'n_neighbors':...</td>\n",
       "      <td>0.873325</td>\n",
       "      <td>0.873742</td>\n",
       "      <td>0.880413</td>\n",
       "      <td>0.875827</td>\n",
       "      <td>0.003248</td>\n",
       "      <td>198</td>\n",
       "    </tr>\n",
       "  </tbody>\n",
       "</table>\n",
       "<p>200 rows × 16 columns</p>\n",
       "</div>"
      ],
      "text/plain": [
       "     mean_fit_time  std_fit_time  mean_score_time  std_score_time  \\\n",
       "0         0.011337      0.004024         0.057037    2.160973e-03   \n",
       "1         0.007338      0.000471         0.024017    5.619580e-07   \n",
       "2         0.008339      0.000472         0.075716    4.730562e-04   \n",
       "3         0.008338      0.000472         0.040362    9.441460e-04   \n",
       "4         0.009339      0.000472         0.044697    3.093202e-03   \n",
       "..             ...           ...              ...             ...   \n",
       "195       0.008004      0.000000         0.067046    1.635600e-03   \n",
       "196       0.010006      0.000818         0.019682    1.886606e-03   \n",
       "197       0.009339      0.000471         0.064710    4.719323e-04   \n",
       "198       0.010673      0.000945         0.044030    8.166327e-04   \n",
       "199       0.010340      0.000943         0.020013    1.632778e-03   \n",
       "\n",
       "    param_weights param_p param_n_neighbors param_leaf_size param_algorithm  \\\n",
       "0         uniform       1               137               5            auto   \n",
       "1         uniform       2                50              10            auto   \n",
       "2        distance       2               156               4            auto   \n",
       "3         uniform       2                77               7            auto   \n",
       "4         uniform       1                71               1            auto   \n",
       "..            ...     ...               ...             ...             ...   \n",
       "195       uniform       1               156              14            auto   \n",
       "196       uniform       2                25               7            auto   \n",
       "197       uniform       2               125               7            auto   \n",
       "198       uniform       1                82               2            auto   \n",
       "199      distance       2                25               7            auto   \n",
       "\n",
       "                                                params  split0_test_score  \\\n",
       "0    {'weights': 'uniform', 'p': 1, 'n_neighbors': ...           0.889112   \n",
       "1    {'weights': 'uniform', 'p': 2, 'n_neighbors': ...           0.893376   \n",
       "2    {'weights': 'distance', 'p': 2, 'n_neighbors':...           0.878021   \n",
       "3    {'weights': 'uniform', 'p': 2, 'n_neighbors': ...           0.892029   \n",
       "4    {'weights': 'uniform', 'p': 1, 'n_neighbors': ...           0.892684   \n",
       "..                                                 ...                ...   \n",
       "195  {'weights': 'uniform', 'p': 1, 'n_neighbors': ...           0.888008   \n",
       "196  {'weights': 'uniform', 'p': 2, 'n_neighbors': ...           0.892396   \n",
       "197  {'weights': 'uniform', 'p': 2, 'n_neighbors': ...           0.888839   \n",
       "198  {'weights': 'uniform', 'p': 1, 'n_neighbors': ...           0.891851   \n",
       "199  {'weights': 'distance', 'p': 2, 'n_neighbors':...           0.873325   \n",
       "\n",
       "     split1_test_score  split2_test_score  mean_test_score  std_test_score  \\\n",
       "0             0.886735           0.895826         0.890557        0.003850   \n",
       "1             0.890224           0.897609         0.893736        0.003025   \n",
       "2             0.878318           0.886250         0.880863        0.003811   \n",
       "3             0.889016           0.896986         0.892677        0.003286   \n",
       "4             0.889762           0.897288         0.893245        0.003098   \n",
       "..                 ...                ...              ...             ...   \n",
       "195           0.885773           0.894985         0.889588        0.003923   \n",
       "196           0.889577           0.895689         0.892554        0.002498   \n",
       "197           0.886510           0.895477         0.890275        0.003799   \n",
       "198           0.889026           0.897358         0.892745        0.003460   \n",
       "199           0.873742           0.880413         0.875827        0.003248   \n",
       "\n",
       "     rank_test_score  \n",
       "0                 56  \n",
       "1                  7  \n",
       "2                142  \n",
       "3                 30  \n",
       "4                 17  \n",
       "..               ...  \n",
       "195               75  \n",
       "196               34  \n",
       "197               61  \n",
       "198               29  \n",
       "199              198  \n",
       "\n",
       "[200 rows x 16 columns]"
      ]
     },
     "execution_count": 48,
     "metadata": {},
     "output_type": "execute_result"
    }
   ],
   "source": [
    "cv_result"
   ]
  },
  {
   "cell_type": "code",
   "execution_count": 49,
   "id": "447d4bb9",
   "metadata": {},
   "outputs": [
    {
     "data": {
      "text/plain": [
       "0.8939232296490935"
      ]
     },
     "execution_count": 49,
     "metadata": {},
     "output_type": "execute_result"
    }
   ],
   "source": [
    "#Finding best score\n",
    "rcv.best_score_"
   ]
  },
  {
   "cell_type": "code",
   "execution_count": 50,
   "id": "5d04d766",
   "metadata": {},
   "outputs": [
    {
     "data": {
      "text/plain": [
       "{'weights': 'uniform',\n",
       " 'p': 1,\n",
       " 'n_neighbors': 44,\n",
       " 'leaf_size': 7,\n",
       " 'algorithm': 'auto'}"
      ]
     },
     "execution_count": 50,
     "metadata": {},
     "output_type": "execute_result"
    }
   ],
   "source": [
    "rcv.best_params_# finding best parameter"
   ]
  },
  {
   "cell_type": "code",
   "execution_count": 51,
   "id": "fb04caa3",
   "metadata": {},
   "outputs": [
    {
     "data": {
      "text/plain": [
       "KNeighborsRegressor(leaf_size=7, n_neighbors=44, p=1)"
      ]
     },
     "execution_count": 51,
     "metadata": {},
     "output_type": "execute_result"
    }
   ],
   "source": [
    "knr2= rcv.best_estimator_\n",
    "knr2"
   ]
  },
  {
   "cell_type": "code",
   "execution_count": 52,
   "id": "9eca2d77",
   "metadata": {},
   "outputs": [
    {
     "data": {
      "text/plain": [
       "KNeighborsRegressor(leaf_size=7, n_neighbors=44, p=1)"
      ]
     },
     "execution_count": 52,
     "metadata": {},
     "output_type": "execute_result"
    }
   ],
   "source": [
    "knr2.fit(xtrain, ytrain)"
   ]
  },
  {
   "cell_type": "code",
   "execution_count": 53,
   "id": "07b30f3d",
   "metadata": {},
   "outputs": [
    {
     "data": {
      "text/plain": [
       "0.8981269022790227"
      ]
     },
     "execution_count": 53,
     "metadata": {},
     "output_type": "execute_result"
    }
   ],
   "source": [
    "knr2.score(xtrain,ytrain)"
   ]
  },
  {
   "cell_type": "code",
   "execution_count": 54,
   "id": "76140288",
   "metadata": {},
   "outputs": [
    {
     "data": {
      "text/plain": [
       "0.9034808051243388"
      ]
     },
     "execution_count": 54,
     "metadata": {},
     "output_type": "execute_result"
    }
   ],
   "source": [
    "knr2.score(xtest, ytest)"
   ]
  },
  {
   "cell_type": "code",
   "execution_count": 55,
   "id": "b46fc2d9",
   "metadata": {},
   "outputs": [
    {
     "data": {
      "text/plain": [
       "0.899793291103389"
      ]
     },
     "execution_count": 55,
     "metadata": {},
     "output_type": "execute_result"
    }
   ],
   "source": [
    "knr2.score(x,y)"
   ]
  },
  {
   "cell_type": "code",
   "execution_count": 56,
   "id": "660477b0",
   "metadata": {},
   "outputs": [
    {
     "data": {
      "text/plain": [
       "0.01959417663219687"
      ]
     },
     "execution_count": 56,
     "metadata": {},
     "output_type": "execute_result"
    }
   ],
   "source": [
    "0.9034443840030851-0.8838502073708883 #difference between tuned knn and knn"
   ]
  },
  {
   "cell_type": "code",
   "execution_count": 57,
   "id": "f216f4d3",
   "metadata": {},
   "outputs": [
    {
     "data": {
      "text/plain": [
       "-0.0025515767060309003"
      ]
     },
     "execution_count": 57,
     "metadata": {},
     "output_type": "execute_result"
    }
   ],
   "source": [
    "0.9034443840030851-0.905995960709116 #difference between tuned knn and linear regression"
   ]
  },
  {
   "cell_type": "code",
   "execution_count": 58,
   "id": "071daacb",
   "metadata": {},
   "outputs": [
    {
     "data": {
      "text/plain": [
       "102.33933017287305"
      ]
     },
     "execution_count": 58,
     "metadata": {},
     "output_type": "execute_result"
    }
   ],
   "source": [
    "pred2 = knr2.predict(xtest)\n",
    "mse = mean_squared_error(ytest , pred2)\n",
    "mse"
   ]
  },
  {
   "cell_type": "code",
   "execution_count": 59,
   "id": "dadc7f31",
   "metadata": {},
   "outputs": [
    {
     "data": {
      "text/plain": [
       "-20.775711136123874"
      ]
     },
     "execution_count": 59,
     "metadata": {},
     "output_type": "execute_result"
    }
   ],
   "source": [
    "102.37794749824596-123.15365863436983 #difference between tuned knn and knn"
   ]
  },
  {
   "cell_type": "code",
   "execution_count": 60,
   "id": "ae221e00",
   "metadata": {},
   "outputs": [
    {
     "data": {
      "text/plain": [
       "2.7054375175455903"
      ]
     },
     "execution_count": 60,
     "metadata": {},
     "output_type": "execute_result"
    }
   ],
   "source": [
    "102.37794749824596-99.67250998070037 #difference between tuned knn and linear regression"
   ]
  },
  {
   "cell_type": "code",
   "execution_count": 61,
   "id": "ca2343c4",
   "metadata": {},
   "outputs": [
    {
     "data": {
      "text/plain": [
       "8.075206030561674"
      ]
     },
     "execution_count": 61,
     "metadata": {},
     "output_type": "execute_result"
    }
   ],
   "source": [
    "mae = mean_absolute_error(ytest , pred2)\n",
    "mae"
   ]
  },
  {
   "cell_type": "code",
   "execution_count": 62,
   "id": "95dd7b9a",
   "metadata": {},
   "outputs": [
    {
     "data": {
      "text/plain": [
       "-0.771807808899073"
      ]
     },
     "execution_count": 62,
     "metadata": {},
     "output_type": "execute_result"
    }
   ],
   "source": [
    "8.078940000938092-8.850747809837165 #difference between tuned knn and knn"
   ]
  },
  {
   "cell_type": "code",
   "execution_count": 63,
   "id": "d7b8b5ab",
   "metadata": {},
   "outputs": [
    {
     "data": {
      "text/plain": [
       "0.09680740820895917"
      ]
     },
     "execution_count": 63,
     "metadata": {},
     "output_type": "execute_result"
    }
   ],
   "source": [
    "8.078940000938092-7.9821325927291324 #difference between tuned knn and linear regression"
   ]
  },
  {
   "cell_type": "markdown",
   "id": "c8040d17",
   "metadata": {},
   "source": [
    "# STEP 2:\n",
    "KNN Classifier\n"
   ]
  },
  {
   "cell_type": "code",
   "execution_count": 64,
   "id": "a3e6d71c",
   "metadata": {},
   "outputs": [
    {
     "data": {
      "text/html": [
       "<div>\n",
       "<style scoped>\n",
       "    .dataframe tbody tr th:only-of-type {\n",
       "        vertical-align: middle;\n",
       "    }\n",
       "\n",
       "    .dataframe tbody tr th {\n",
       "        vertical-align: top;\n",
       "    }\n",
       "\n",
       "    .dataframe thead th {\n",
       "        text-align: right;\n",
       "    }\n",
       "</style>\n",
       "<table border=\"1\" class=\"dataframe\">\n",
       "  <thead>\n",
       "    <tr style=\"text-align: right;\">\n",
       "      <th></th>\n",
       "      <th>Gender</th>\n",
       "      <th>Height</th>\n",
       "      <th>Weight</th>\n",
       "    </tr>\n",
       "  </thead>\n",
       "  <tbody>\n",
       "    <tr>\n",
       "      <th>0</th>\n",
       "      <td>Male</td>\n",
       "      <td>73.847017</td>\n",
       "      <td>241.893563</td>\n",
       "    </tr>\n",
       "    <tr>\n",
       "      <th>1</th>\n",
       "      <td>Male</td>\n",
       "      <td>68.781904</td>\n",
       "      <td>162.310473</td>\n",
       "    </tr>\n",
       "    <tr>\n",
       "      <th>2</th>\n",
       "      <td>Male</td>\n",
       "      <td>74.110105</td>\n",
       "      <td>212.740856</td>\n",
       "    </tr>\n",
       "    <tr>\n",
       "      <th>3</th>\n",
       "      <td>Male</td>\n",
       "      <td>71.730978</td>\n",
       "      <td>220.042470</td>\n",
       "    </tr>\n",
       "    <tr>\n",
       "      <th>4</th>\n",
       "      <td>Male</td>\n",
       "      <td>69.881796</td>\n",
       "      <td>206.349801</td>\n",
       "    </tr>\n",
       "  </tbody>\n",
       "</table>\n",
       "</div>"
      ],
      "text/plain": [
       "  Gender     Height      Weight\n",
       "0   Male  73.847017  241.893563\n",
       "1   Male  68.781904  162.310473\n",
       "2   Male  74.110105  212.740856\n",
       "3   Male  71.730978  220.042470\n",
       "4   Male  69.881796  206.349801"
      ]
     },
     "execution_count": 64,
     "metadata": {},
     "output_type": "execute_result"
    }
   ],
   "source": [
    "df.head()"
   ]
  },
  {
   "cell_type": "code",
   "execution_count": 65,
   "id": "6b2a19fa",
   "metadata": {},
   "outputs": [
    {
     "data": {
      "text/plain": [
       "0       1\n",
       "1       1\n",
       "2       1\n",
       "3       1\n",
       "4       1\n",
       "       ..\n",
       "8550    0\n",
       "8551    0\n",
       "8552    0\n",
       "8553    0\n",
       "8554    0\n",
       "Name: Gender, Length: 8555, dtype: int32"
      ]
     },
     "execution_count": 65,
     "metadata": {},
     "output_type": "execute_result"
    }
   ],
   "source": [
    "df1=df.copy()\n",
    "df1.Gender=le.fit_transform(df1.Gender)\n",
    "df1.Gender"
   ]
  },
  {
   "cell_type": "code",
   "execution_count": 66,
   "id": "2b8f35ac",
   "metadata": {},
   "outputs": [],
   "source": [
    "x1= df1.drop('Gender', axis=1)\n",
    "y1=df1['Gender']"
   ]
  },
  {
   "cell_type": "code",
   "execution_count": 67,
   "id": "83b3cd90",
   "metadata": {},
   "outputs": [
    {
     "data": {
      "text/html": [
       "<div>\n",
       "<style scoped>\n",
       "    .dataframe tbody tr th:only-of-type {\n",
       "        vertical-align: middle;\n",
       "    }\n",
       "\n",
       "    .dataframe tbody tr th {\n",
       "        vertical-align: top;\n",
       "    }\n",
       "\n",
       "    .dataframe thead th {\n",
       "        text-align: right;\n",
       "    }\n",
       "</style>\n",
       "<table border=\"1\" class=\"dataframe\">\n",
       "  <thead>\n",
       "    <tr style=\"text-align: right;\">\n",
       "      <th></th>\n",
       "      <th>Height</th>\n",
       "      <th>Weight</th>\n",
       "    </tr>\n",
       "  </thead>\n",
       "  <tbody>\n",
       "    <tr>\n",
       "      <th>0</th>\n",
       "      <td>73.847017</td>\n",
       "      <td>241.893563</td>\n",
       "    </tr>\n",
       "    <tr>\n",
       "      <th>1</th>\n",
       "      <td>68.781904</td>\n",
       "      <td>162.310473</td>\n",
       "    </tr>\n",
       "    <tr>\n",
       "      <th>2</th>\n",
       "      <td>74.110105</td>\n",
       "      <td>212.740856</td>\n",
       "    </tr>\n",
       "    <tr>\n",
       "      <th>3</th>\n",
       "      <td>71.730978</td>\n",
       "      <td>220.042470</td>\n",
       "    </tr>\n",
       "    <tr>\n",
       "      <th>4</th>\n",
       "      <td>69.881796</td>\n",
       "      <td>206.349801</td>\n",
       "    </tr>\n",
       "  </tbody>\n",
       "</table>\n",
       "</div>"
      ],
      "text/plain": [
       "      Height      Weight\n",
       "0  73.847017  241.893563\n",
       "1  68.781904  162.310473\n",
       "2  74.110105  212.740856\n",
       "3  71.730978  220.042470\n",
       "4  69.881796  206.349801"
      ]
     },
     "execution_count": 67,
     "metadata": {},
     "output_type": "execute_result"
    }
   ],
   "source": [
    "x1.head()"
   ]
  },
  {
   "cell_type": "code",
   "execution_count": 68,
   "id": "37eaa424",
   "metadata": {},
   "outputs": [
    {
     "data": {
      "text/plain": [
       "0    1\n",
       "1    1\n",
       "2    1\n",
       "3    1\n",
       "4    1\n",
       "Name: Gender, dtype: int32"
      ]
     },
     "execution_count": 68,
     "metadata": {},
     "output_type": "execute_result"
    }
   ],
   "source": [
    "y1.head()"
   ]
  },
  {
   "cell_type": "code",
   "execution_count": 70,
   "id": "1ac05197",
   "metadata": {},
   "outputs": [],
   "source": [
    "x1train, x1test,y1train, y1test = tts(x1, y1,train_size=.70, random_state=1)"
   ]
  },
  {
   "cell_type": "code",
   "execution_count": 71,
   "id": "74a08801",
   "metadata": {},
   "outputs": [],
   "source": [
    "from sklearn.neighbors import KNeighborsClassifier\n",
    "knr_clf= KNeighborsClassifier(n_neighbors=12)"
   ]
  },
  {
   "cell_type": "code",
   "execution_count": 72,
   "id": "077262e5",
   "metadata": {},
   "outputs": [
    {
     "data": {
      "text/plain": [
       "KNeighborsClassifier(n_neighbors=12)"
      ]
     },
     "execution_count": 72,
     "metadata": {},
     "output_type": "execute_result"
    }
   ],
   "source": [
    "knr_clf.fit(x1train,y1train)"
   ]
  },
  {
   "cell_type": "code",
   "execution_count": 73,
   "id": "962855a7",
   "metadata": {},
   "outputs": [],
   "source": [
    "y1pred= knr_clf.predict(x1test)"
   ]
  },
  {
   "cell_type": "code",
   "execution_count": 75,
   "id": "6d286efe",
   "metadata": {},
   "outputs": [
    {
     "data": {
      "text/plain": [
       "0.9209193611219322"
      ]
     },
     "execution_count": 75,
     "metadata": {},
     "output_type": "execute_result"
    }
   ],
   "source": [
    "knr_clf.score(x1test,y1test)"
   ]
  },
  {
   "cell_type": "code",
   "execution_count": 76,
   "id": "67667abd",
   "metadata": {},
   "outputs": [
    {
     "data": {
      "text/plain": [
       "0.9201736806947228"
      ]
     },
     "execution_count": 76,
     "metadata": {},
     "output_type": "execute_result"
    }
   ],
   "source": [
    "knr_clf.score(x1train,y1train)"
   ]
  },
  {
   "cell_type": "code",
   "execution_count": 77,
   "id": "f63c8e1a",
   "metadata": {},
   "outputs": [
    {
     "data": {
      "text/plain": [
       "0.9203974284044418"
      ]
     },
     "execution_count": 77,
     "metadata": {},
     "output_type": "execute_result"
    }
   ],
   "source": [
    "knr_clf.score(x1,y1)"
   ]
  },
  {
   "cell_type": "markdown",
   "id": "aa04fe35",
   "metadata": {},
   "source": [
    "# Confusion matrix, ROC curve\n"
   ]
  },
  {
   "cell_type": "code",
   "execution_count": 78,
   "id": "c3eed4de",
   "metadata": {},
   "outputs": [],
   "source": [
    "from sklearn.metrics import classification_report, confusion_matrix, roc_curve, plot_roc_curve"
   ]
  },
  {
   "cell_type": "code",
   "execution_count": 79,
   "id": "e3d7c1c8",
   "metadata": {},
   "outputs": [
    {
     "name": "stdout",
     "output_type": "stream",
     "text": [
      "              precision    recall  f1-score   support\n",
      "\n",
      "           0       0.90      0.91      0.90      1055\n",
      "           1       0.94      0.93      0.93      1512\n",
      "\n",
      "    accuracy                           0.92      2567\n",
      "   macro avg       0.92      0.92      0.92      2567\n",
      "weighted avg       0.92      0.92      0.92      2567\n",
      "\n"
     ]
    }
   ],
   "source": [
    "print(classification_report(y1test, y1pred))"
   ]
  },
  {
   "cell_type": "code",
   "execution_count": 81,
   "id": "4276c732",
   "metadata": {},
   "outputs": [
    {
     "data": {
      "text/plain": [
       "[<matplotlib.lines.Line2D at 0x2c0fd6eeb0>]"
      ]
     },
     "execution_count": 81,
     "metadata": {},
     "output_type": "execute_result"
    },
    {
     "data": {
      "image/png": "[encoded data removed]",
      "text/plain": [
       "<Figure size 432x288 with 1 Axes>"
      ]
     },
     "metadata": {
      "needs_background": "light"
     },
     "output_type": "display_data"
    }
   ],
   "source": [
    "import matplotlib.pyplot as plt\n",
    "plot_roc_curve(knr_clf, x1test, y1test)\n",
    "plt.plot([0,1],[0,1])"
   ]
  },
  {
   "cell_type": "code",
   "execution_count": 82,
   "id": "478e096c",
   "metadata": {},
   "outputs": [],
   "source": [
    "from sklearn.metrics import roc_auc_score"
   ]
  },
  {
   "cell_type": "code",
   "execution_count": 84,
   "id": "9357ca60",
   "metadata": {},
   "outputs": [],
   "source": [
    "auc_score1 = roc_auc_score(y1test, y1pred)"
   ]
  },
  {
   "cell_type": "code",
   "execution_count": 85,
   "id": "a797ae2d",
   "metadata": {},
   "outputs": [
    {
     "name": "stdout",
     "output_type": "stream",
     "text": [
      "0.9198350008776549\n"
     ]
    }
   ],
   "source": [
    "print(auc_score1)"
   ]
  },
  {
   "cell_type": "code",
   "execution_count": null,
   "id": "a28b2d0f",
   "metadata": {},
   "outputs": [],
   "source": []
  }
 ],
 "metadata": {
  "kernelspec": {
   "display_name": "Python 3 (ipykernel)",
   "language": "python",
   "name": "python3"
  },
  "language_info": {
   "codemirror_mode": {
    "name": "ipython",
    "version": 3
   },
   "file_extension": ".py",
   "mimetype": "text/x-python",
   "name": "python",
   "nbconvert_exporter": "python",
   "pygments_lexer": "ipython3",
   "version": "3.9.7"
  }
 },
 "nbformat": 4,
 "nbformat_minor": 5
}
