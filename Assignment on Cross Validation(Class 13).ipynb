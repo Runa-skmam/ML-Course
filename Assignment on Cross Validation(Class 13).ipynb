{
 "cells": [
  {
   "cell_type": "code",
   "execution_count": 1,
   "id": "709308bc",
   "metadata": {},
   "outputs": [],
   "source": [
    "#import libraries\n",
    "import pandas as pd\n",
    "import numpy as np\n",
    "import matplotlib.pyplot as plt\n",
    "import seaborn as sns"
   ]
  },
  {
   "cell_type": "code",
   "execution_count": 2,
   "id": "cdfe01c3",
   "metadata": {},
   "outputs": [],
   "source": [
    "df=pd.read_csv('Phishing Data.csv')"
   ]
  },
  {
   "cell_type": "code",
   "execution_count": 3,
   "id": "adf47452",
   "metadata": {},
   "outputs": [],
   "source": [
    "df2=df.copy()"
   ]
  },
  {
   "cell_type": "code",
   "execution_count": 4,
   "id": "47d86445",
   "metadata": {},
   "outputs": [],
   "source": [
    "df3=df.copy()"
   ]
  },
  {
   "cell_type": "code",
   "execution_count": 5,
   "id": "50e41bf7",
   "metadata": {},
   "outputs": [
    {
     "data": {
      "text/html": [
       "<div>\n",
       "<style scoped>\n",
       "    .dataframe tbody tr th:only-of-type {\n",
       "        vertical-align: middle;\n",
       "    }\n",
       "\n",
       "    .dataframe tbody tr th {\n",
       "        vertical-align: top;\n",
       "    }\n",
       "\n",
       "    .dataframe thead th {\n",
       "        text-align: right;\n",
       "    }\n",
       "</style>\n",
       "<table border=\"1\" class=\"dataframe\">\n",
       "  <thead>\n",
       "    <tr style=\"text-align: right;\">\n",
       "      <th></th>\n",
       "      <th>Total Number of Characters C</th>\n",
       "      <th>Vocabulary richness W/C</th>\n",
       "      <th>Account</th>\n",
       "      <th>Access</th>\n",
       "      <th>Bank</th>\n",
       "      <th>Credit</th>\n",
       "      <th>Click</th>\n",
       "      <th>Identity</th>\n",
       "      <th>Inconvenience</th>\n",
       "      <th>Information</th>\n",
       "      <th>...</th>\n",
       "      <th>Password</th>\n",
       "      <th>Recently</th>\n",
       "      <th>Risk</th>\n",
       "      <th>Social</th>\n",
       "      <th>Security</th>\n",
       "      <th>Service</th>\n",
       "      <th>Suspended</th>\n",
       "      <th>Total number of Function words/W</th>\n",
       "      <th>Unique Words</th>\n",
       "      <th>Phishing Status</th>\n",
       "    </tr>\n",
       "  </thead>\n",
       "  <tbody>\n",
       "    <tr>\n",
       "      <th>0</th>\n",
       "      <td>1</td>\n",
       "      <td>0.128512</td>\n",
       "      <td>2</td>\n",
       "      <td>0</td>\n",
       "      <td>0</td>\n",
       "      <td>0</td>\n",
       "      <td>1</td>\n",
       "      <td>0</td>\n",
       "      <td>0</td>\n",
       "      <td>1</td>\n",
       "      <td>...</td>\n",
       "      <td>1</td>\n",
       "      <td>1</td>\n",
       "      <td>0</td>\n",
       "      <td>0</td>\n",
       "      <td>0</td>\n",
       "      <td>0</td>\n",
       "      <td>0</td>\n",
       "      <td>0.027907</td>\n",
       "      <td>132</td>\n",
       "      <td>1</td>\n",
       "    </tr>\n",
       "    <tr>\n",
       "      <th>1</th>\n",
       "      <td>2</td>\n",
       "      <td>0.137738</td>\n",
       "      <td>0</td>\n",
       "      <td>0</td>\n",
       "      <td>0</td>\n",
       "      <td>0</td>\n",
       "      <td>0</td>\n",
       "      <td>0</td>\n",
       "      <td>0</td>\n",
       "      <td>4</td>\n",
       "      <td>...</td>\n",
       "      <td>0</td>\n",
       "      <td>0</td>\n",
       "      <td>0</td>\n",
       "      <td>0</td>\n",
       "      <td>3</td>\n",
       "      <td>1</td>\n",
       "      <td>0</td>\n",
       "      <td>0.013008</td>\n",
       "      <td>338</td>\n",
       "      <td>1</td>\n",
       "    </tr>\n",
       "    <tr>\n",
       "      <th>2</th>\n",
       "      <td>3</td>\n",
       "      <td>0.095993</td>\n",
       "      <td>0</td>\n",
       "      <td>0</td>\n",
       "      <td>0</td>\n",
       "      <td>2</td>\n",
       "      <td>0</td>\n",
       "      <td>0</td>\n",
       "      <td>0</td>\n",
       "      <td>2</td>\n",
       "      <td>...</td>\n",
       "      <td>0</td>\n",
       "      <td>0</td>\n",
       "      <td>0</td>\n",
       "      <td>0</td>\n",
       "      <td>0</td>\n",
       "      <td>0</td>\n",
       "      <td>0</td>\n",
       "      <td>0.006116</td>\n",
       "      <td>292</td>\n",
       "      <td>1</td>\n",
       "    </tr>\n",
       "    <tr>\n",
       "      <th>3</th>\n",
       "      <td>4</td>\n",
       "      <td>0.109354</td>\n",
       "      <td>0</td>\n",
       "      <td>0</td>\n",
       "      <td>0</td>\n",
       "      <td>1</td>\n",
       "      <td>1</td>\n",
       "      <td>0</td>\n",
       "      <td>0</td>\n",
       "      <td>0</td>\n",
       "      <td>...</td>\n",
       "      <td>0</td>\n",
       "      <td>0</td>\n",
       "      <td>0</td>\n",
       "      <td>0</td>\n",
       "      <td>0</td>\n",
       "      <td>0</td>\n",
       "      <td>0</td>\n",
       "      <td>0.012048</td>\n",
       "      <td>102</td>\n",
       "      <td>1</td>\n",
       "    </tr>\n",
       "    <tr>\n",
       "      <th>4</th>\n",
       "      <td>5</td>\n",
       "      <td>0.126528</td>\n",
       "      <td>7</td>\n",
       "      <td>3</td>\n",
       "      <td>0</td>\n",
       "      <td>0</td>\n",
       "      <td>0</td>\n",
       "      <td>1</td>\n",
       "      <td>0</td>\n",
       "      <td>2</td>\n",
       "      <td>...</td>\n",
       "      <td>0</td>\n",
       "      <td>0</td>\n",
       "      <td>0</td>\n",
       "      <td>0</td>\n",
       "      <td>0</td>\n",
       "      <td>0</td>\n",
       "      <td>2</td>\n",
       "      <td>0.063025</td>\n",
       "      <td>136</td>\n",
       "      <td>1</td>\n",
       "    </tr>\n",
       "  </tbody>\n",
       "</table>\n",
       "<p>5 rows × 22 columns</p>\n",
       "</div>"
      ],
      "text/plain": [
       "   Total Number of Characters C  Vocabulary richness W/C  Account  Access  \\\n",
       "0                             1                 0.128512        2       0   \n",
       "1                             2                 0.137738        0       0   \n",
       "2                             3                 0.095993        0       0   \n",
       "3                             4                 0.109354        0       0   \n",
       "4                             5                 0.126528        7       3   \n",
       "\n",
       "   Bank  Credit  Click  Identity  Inconvenience  Information  ...  Password  \\\n",
       "0     0       0      1         0              0            1  ...         1   \n",
       "1     0       0      0         0              0            4  ...         0   \n",
       "2     0       2      0         0              0            2  ...         0   \n",
       "3     0       1      1         0              0            0  ...         0   \n",
       "4     0       0      0         1              0            2  ...         0   \n",
       "\n",
       "   Recently  Risk  Social  Security  Service  Suspended  \\\n",
       "0         1     0       0         0        0          0   \n",
       "1         0     0       0         3        1          0   \n",
       "2         0     0       0         0        0          0   \n",
       "3         0     0       0         0        0          0   \n",
       "4         0     0       0         0        0          2   \n",
       "\n",
       "   Total number of Function words/W  Unique Words  Phishing Status  \n",
       "0                          0.027907           132                1  \n",
       "1                          0.013008           338                1  \n",
       "2                          0.006116           292                1  \n",
       "3                          0.012048           102                1  \n",
       "4                          0.063025           136                1  \n",
       "\n",
       "[5 rows x 22 columns]"
      ]
     },
     "execution_count": 5,
     "metadata": {},
     "output_type": "execute_result"
    }
   ],
   "source": [
    "df.head()\n",
    "#df"
   ]
  },
  {
   "cell_type": "code",
   "execution_count": 6,
   "id": "4c1a3167",
   "metadata": {},
   "outputs": [
    {
     "data": {
      "text/plain": [
       "(17000, 22)"
      ]
     },
     "execution_count": 6,
     "metadata": {},
     "output_type": "execute_result"
    }
   ],
   "source": [
    "df.shape"
   ]
  },
  {
   "cell_type": "code",
   "execution_count": 7,
   "id": "54882388",
   "metadata": {},
   "outputs": [
    {
     "data": {
      "text/plain": [
       "Total Number of Characters C        0\n",
       "Vocabulary richness W/C             0\n",
       "Account                             0\n",
       "Access                              0\n",
       "Bank                                0\n",
       "Credit                              0\n",
       "Click                               0\n",
       "Identity                            0\n",
       "Inconvenience                       0\n",
       "Information                         0\n",
       "Limited                             0\n",
       "Minutes                             0\n",
       "Password                            0\n",
       "Recently                            0\n",
       "Risk                                0\n",
       "Social                              0\n",
       "Security                            0\n",
       "Service                             0\n",
       "Suspended                           0\n",
       "Total number of Function words/W    0\n",
       "Unique Words                        0\n",
       "Phishing Status                     0\n",
       "dtype: int64"
      ]
     },
     "execution_count": 7,
     "metadata": {},
     "output_type": "execute_result"
    }
   ],
   "source": [
    "df.isnull().sum()# Null value Checking"
   ]
  },
  {
   "cell_type": "code",
   "execution_count": 8,
   "id": "817d1e30",
   "metadata": {},
   "outputs": [
    {
     "data": {
      "text/plain": [
       "0    8648\n",
       "1    8352\n",
       "Name: Phishing Status, dtype: int64"
      ]
     },
     "execution_count": 8,
     "metadata": {},
     "output_type": "execute_result"
    }
   ],
   "source": [
    "df['Phishing Status'].value_counts()"
   ]
  },
  {
   "cell_type": "code",
   "execution_count": null,
   "id": "4d0a2c58",
   "metadata": {},
   "outputs": [],
   "source": [
    "8352/(8648+8352)*100"
   ]
  },
  {
   "cell_type": "code",
   "execution_count": null,
   "id": "428c93b5",
   "metadata": {},
   "outputs": [],
   "source": [
    "8648/(8648+8352)*100 # Imbalanced data"
   ]
  },
  {
   "cell_type": "code",
   "execution_count": 11,
   "id": "ceebde15",
   "metadata": {},
   "outputs": [],
   "source": [
    "#df = df.dropna()"
   ]
  },
  {
   "cell_type": "code",
   "execution_count": 12,
   "id": "55513c5f",
   "metadata": {},
   "outputs": [],
   "source": [
    "#drop duplicates\n",
    "#df.drop_duplicates(inplace=True)"
   ]
  },
  {
   "cell_type": "code",
   "execution_count": 13,
   "id": "773e0bdf",
   "metadata": {},
   "outputs": [
    {
     "name": "stderr",
     "output_type": "stream",
     "text": [
      "C:\\Users\\Runa\\anaconda3\\lib\\site-packages\\seaborn\\_decorators.py:36: FutureWarning: Pass the following variable as a keyword arg: x. From version 0.12, the only valid positional argument will be `data`, and passing other arguments without an explicit keyword will result in an error or misinterpretation.\n",
      "  warnings.warn(\n"
     ]
    },
    {
     "data": {
      "text/plain": [
       "<AxesSubplot:xlabel='Phishing Status', ylabel='count'>"
      ]
     },
     "execution_count": 13,
     "metadata": {},
     "output_type": "execute_result"
    },
    {
     "data": {
      "image/png": "[encoded data removed]",
      "text/plain": [
       "<Figure size 432x288 with 1 Axes>"
      ]
     },
     "metadata": {
      "needs_background": "light"
     },
     "output_type": "display_data"
    }
   ],
   "source": [
    "sns.countplot(df['Phishing Status'],color='#2B00FF')"
   ]
  },
  {
   "cell_type": "code",
   "execution_count": 14,
   "id": "240e6ef3",
   "metadata": {},
   "outputs": [],
   "source": [
    "df = df.dropna()# Dropping null value\n"
   ]
  },
  {
   "cell_type": "code",
   "execution_count": 15,
   "id": "2f601fa3",
   "metadata": {},
   "outputs": [],
   "source": [
    "#drop duplicates\n",
    "df.drop_duplicates(inplace=True)"
   ]
  },
  {
   "cell_type": "code",
   "execution_count": 16,
   "id": "81cceec9",
   "metadata": {},
   "outputs": [
    {
     "data": {
      "text/plain": [
       "(17000, 22)"
      ]
     },
     "execution_count": 16,
     "metadata": {},
     "output_type": "execute_result"
    }
   ],
   "source": [
    "df.shape"
   ]
  },
  {
   "cell_type": "code",
   "execution_count": 17,
   "id": "82ea7be7",
   "metadata": {},
   "outputs": [
    {
     "data": {
      "text/plain": [
       "0    8648\n",
       "1    8352\n",
       "Name: Phishing Status, dtype: int64"
      ]
     },
     "execution_count": 17,
     "metadata": {},
     "output_type": "execute_result"
    }
   ],
   "source": [
    "df['Phishing Status'].value_counts()"
   ]
  },
  {
   "cell_type": "code",
   "execution_count": 18,
   "id": "4be6719b",
   "metadata": {},
   "outputs": [
    {
     "data": {
      "text/plain": [
       "25.179378956888755"
      ]
     },
     "execution_count": 18,
     "metadata": {},
     "output_type": "execute_result"
    }
   ],
   "source": [
    "  8352/( 8648+  8352)*100"
   ]
  },
  {
   "cell_type": "code",
   "execution_count": 19,
   "id": "9f40587c",
   "metadata": {},
   "outputs": [
    {
     "data": {
      "text/plain": [
       "74.82062104311125"
      ]
     },
     "execution_count": 19,
     "metadata": {},
     "output_type": "execute_result"
    }
   ],
   "source": [
    "8648/(8648+ 8352)*100"
   ]
  },
  {
   "cell_type": "markdown",
   "id": "402d9927",
   "metadata": {},
   "source": [
    "# TASK 1"
   ]
  },
  {
   "cell_type": "code",
   "execution_count": 20,
   "id": "1ec724a4",
   "metadata": {},
   "outputs": [
    {
     "data": {
      "text/html": [
       "<div>\n",
       "<style scoped>\n",
       "    .dataframe tbody tr th:only-of-type {\n",
       "        vertical-align: middle;\n",
       "    }\n",
       "\n",
       "    .dataframe tbody tr th {\n",
       "        vertical-align: top;\n",
       "    }\n",
       "\n",
       "    .dataframe thead th {\n",
       "        text-align: right;\n",
       "    }\n",
       "</style>\n",
       "<table border=\"1\" class=\"dataframe\">\n",
       "  <thead>\n",
       "    <tr style=\"text-align: right;\">\n",
       "      <th></th>\n",
       "      <th>Total Number of Characters C</th>\n",
       "      <th>Vocabulary richness W/C</th>\n",
       "      <th>Account</th>\n",
       "      <th>Access</th>\n",
       "      <th>Bank</th>\n",
       "      <th>Credit</th>\n",
       "      <th>Click</th>\n",
       "      <th>Identity</th>\n",
       "      <th>Inconvenience</th>\n",
       "      <th>Information</th>\n",
       "      <th>...</th>\n",
       "      <th>Password</th>\n",
       "      <th>Recently</th>\n",
       "      <th>Risk</th>\n",
       "      <th>Social</th>\n",
       "      <th>Security</th>\n",
       "      <th>Service</th>\n",
       "      <th>Suspended</th>\n",
       "      <th>Total number of Function words/W</th>\n",
       "      <th>Unique Words</th>\n",
       "      <th>Phishing Status</th>\n",
       "    </tr>\n",
       "  </thead>\n",
       "  <tbody>\n",
       "    <tr>\n",
       "      <th>Total Number of Characters C</th>\n",
       "      <td>1.000000</td>\n",
       "      <td>0.257717</td>\n",
       "      <td>-0.486220</td>\n",
       "      <td>-0.249323</td>\n",
       "      <td>-0.205306</td>\n",
       "      <td>-0.056877</td>\n",
       "      <td>-0.154119</td>\n",
       "      <td>-0.192223</td>\n",
       "      <td>-0.181998</td>\n",
       "      <td>-0.316246</td>\n",
       "      <td>...</td>\n",
       "      <td>-0.190617</td>\n",
       "      <td>-0.190813</td>\n",
       "      <td>0.088944</td>\n",
       "      <td>-0.070207</td>\n",
       "      <td>-0.375291</td>\n",
       "      <td>-0.109110</td>\n",
       "      <td>-0.152819</td>\n",
       "      <td>-0.499500</td>\n",
       "      <td>-0.102510</td>\n",
       "      <td>-0.865894</td>\n",
       "    </tr>\n",
       "    <tr>\n",
       "      <th>Vocabulary richness W/C</th>\n",
       "      <td>0.257717</td>\n",
       "      <td>1.000000</td>\n",
       "      <td>-0.029480</td>\n",
       "      <td>0.024579</td>\n",
       "      <td>-0.000649</td>\n",
       "      <td>0.074231</td>\n",
       "      <td>-0.000035</td>\n",
       "      <td>0.004430</td>\n",
       "      <td>-0.011146</td>\n",
       "      <td>0.052024</td>\n",
       "      <td>...</td>\n",
       "      <td>-0.021412</td>\n",
       "      <td>0.056572</td>\n",
       "      <td>0.144724</td>\n",
       "      <td>0.005402</td>\n",
       "      <td>-0.034538</td>\n",
       "      <td>0.075383</td>\n",
       "      <td>0.000161</td>\n",
       "      <td>0.071856</td>\n",
       "      <td>-0.154738</td>\n",
       "      <td>-0.333201</td>\n",
       "    </tr>\n",
       "    <tr>\n",
       "      <th>Account</th>\n",
       "      <td>-0.486220</td>\n",
       "      <td>-0.029480</td>\n",
       "      <td>1.000000</td>\n",
       "      <td>0.572274</td>\n",
       "      <td>0.138562</td>\n",
       "      <td>0.105865</td>\n",
       "      <td>0.198441</td>\n",
       "      <td>0.197042</td>\n",
       "      <td>0.363788</td>\n",
       "      <td>0.448823</td>\n",
       "      <td>...</td>\n",
       "      <td>0.303637</td>\n",
       "      <td>0.362497</td>\n",
       "      <td>-0.036681</td>\n",
       "      <td>0.068726</td>\n",
       "      <td>0.564436</td>\n",
       "      <td>0.047902</td>\n",
       "      <td>0.202349</td>\n",
       "      <td>0.749787</td>\n",
       "      <td>0.107580</td>\n",
       "      <td>0.485330</td>\n",
       "    </tr>\n",
       "    <tr>\n",
       "      <th>Access</th>\n",
       "      <td>-0.249323</td>\n",
       "      <td>0.024579</td>\n",
       "      <td>0.572274</td>\n",
       "      <td>1.000000</td>\n",
       "      <td>0.103502</td>\n",
       "      <td>0.126263</td>\n",
       "      <td>0.158262</td>\n",
       "      <td>0.122706</td>\n",
       "      <td>0.340813</td>\n",
       "      <td>0.273680</td>\n",
       "      <td>...</td>\n",
       "      <td>0.190784</td>\n",
       "      <td>0.252658</td>\n",
       "      <td>0.026905</td>\n",
       "      <td>-0.000196</td>\n",
       "      <td>0.447825</td>\n",
       "      <td>0.155984</td>\n",
       "      <td>0.024485</td>\n",
       "      <td>0.560014</td>\n",
       "      <td>0.127472</td>\n",
       "      <td>0.231787</td>\n",
       "    </tr>\n",
       "    <tr>\n",
       "      <th>Bank</th>\n",
       "      <td>-0.205306</td>\n",
       "      <td>-0.000649</td>\n",
       "      <td>0.138562</td>\n",
       "      <td>0.103502</td>\n",
       "      <td>1.000000</td>\n",
       "      <td>0.158816</td>\n",
       "      <td>0.035187</td>\n",
       "      <td>0.071668</td>\n",
       "      <td>0.016652</td>\n",
       "      <td>0.157691</td>\n",
       "      <td>...</td>\n",
       "      <td>0.029632</td>\n",
       "      <td>0.086013</td>\n",
       "      <td>0.089768</td>\n",
       "      <td>0.077102</td>\n",
       "      <td>0.172194</td>\n",
       "      <td>0.275788</td>\n",
       "      <td>0.012808</td>\n",
       "      <td>0.265516</td>\n",
       "      <td>0.147309</td>\n",
       "      <td>0.214821</td>\n",
       "    </tr>\n",
       "    <tr>\n",
       "      <th>Credit</th>\n",
       "      <td>-0.056877</td>\n",
       "      <td>0.074231</td>\n",
       "      <td>0.105865</td>\n",
       "      <td>0.126263</td>\n",
       "      <td>0.158816</td>\n",
       "      <td>1.000000</td>\n",
       "      <td>0.012384</td>\n",
       "      <td>0.050121</td>\n",
       "      <td>0.062651</td>\n",
       "      <td>0.190975</td>\n",
       "      <td>...</td>\n",
       "      <td>0.022013</td>\n",
       "      <td>0.192540</td>\n",
       "      <td>0.282162</td>\n",
       "      <td>0.047044</td>\n",
       "      <td>0.145068</td>\n",
       "      <td>0.284296</td>\n",
       "      <td>0.022188</td>\n",
       "      <td>0.164296</td>\n",
       "      <td>0.233886</td>\n",
       "      <td>0.044246</td>\n",
       "    </tr>\n",
       "    <tr>\n",
       "      <th>Click</th>\n",
       "      <td>-0.154119</td>\n",
       "      <td>-0.000035</td>\n",
       "      <td>0.198441</td>\n",
       "      <td>0.158262</td>\n",
       "      <td>0.035187</td>\n",
       "      <td>0.012384</td>\n",
       "      <td>1.000000</td>\n",
       "      <td>0.091737</td>\n",
       "      <td>0.067285</td>\n",
       "      <td>0.168292</td>\n",
       "      <td>...</td>\n",
       "      <td>0.068395</td>\n",
       "      <td>0.067880</td>\n",
       "      <td>-0.018168</td>\n",
       "      <td>0.050967</td>\n",
       "      <td>0.114428</td>\n",
       "      <td>0.071161</td>\n",
       "      <td>0.040091</td>\n",
       "      <td>0.277313</td>\n",
       "      <td>0.075042</td>\n",
       "      <td>0.192185</td>\n",
       "    </tr>\n",
       "    <tr>\n",
       "      <th>Identity</th>\n",
       "      <td>-0.192223</td>\n",
       "      <td>0.004430</td>\n",
       "      <td>0.197042</td>\n",
       "      <td>0.122706</td>\n",
       "      <td>0.071668</td>\n",
       "      <td>0.050121</td>\n",
       "      <td>0.091737</td>\n",
       "      <td>1.000000</td>\n",
       "      <td>0.086445</td>\n",
       "      <td>0.180558</td>\n",
       "      <td>...</td>\n",
       "      <td>0.026843</td>\n",
       "      <td>0.086357</td>\n",
       "      <td>-0.020506</td>\n",
       "      <td>0.123914</td>\n",
       "      <td>0.146387</td>\n",
       "      <td>0.083894</td>\n",
       "      <td>0.057885</td>\n",
       "      <td>0.244421</td>\n",
       "      <td>0.032732</td>\n",
       "      <td>0.180181</td>\n",
       "    </tr>\n",
       "    <tr>\n",
       "      <th>Inconvenience</th>\n",
       "      <td>-0.181998</td>\n",
       "      <td>-0.011146</td>\n",
       "      <td>0.363788</td>\n",
       "      <td>0.340813</td>\n",
       "      <td>0.016652</td>\n",
       "      <td>0.062651</td>\n",
       "      <td>0.067285</td>\n",
       "      <td>0.086445</td>\n",
       "      <td>1.000000</td>\n",
       "      <td>0.135992</td>\n",
       "      <td>...</td>\n",
       "      <td>0.086322</td>\n",
       "      <td>0.191587</td>\n",
       "      <td>-0.022110</td>\n",
       "      <td>0.003881</td>\n",
       "      <td>0.294854</td>\n",
       "      <td>0.033722</td>\n",
       "      <td>0.060583</td>\n",
       "      <td>0.340682</td>\n",
       "      <td>0.039919</td>\n",
       "      <td>0.187764</td>\n",
       "    </tr>\n",
       "    <tr>\n",
       "      <th>Information</th>\n",
       "      <td>-0.316246</td>\n",
       "      <td>0.052024</td>\n",
       "      <td>0.448823</td>\n",
       "      <td>0.273680</td>\n",
       "      <td>0.157691</td>\n",
       "      <td>0.190975</td>\n",
       "      <td>0.168292</td>\n",
       "      <td>0.180558</td>\n",
       "      <td>0.135992</td>\n",
       "      <td>1.000000</td>\n",
       "      <td>...</td>\n",
       "      <td>0.217937</td>\n",
       "      <td>0.195825</td>\n",
       "      <td>0.056428</td>\n",
       "      <td>0.125052</td>\n",
       "      <td>0.351760</td>\n",
       "      <td>0.177022</td>\n",
       "      <td>0.119828</td>\n",
       "      <td>0.484328</td>\n",
       "      <td>0.173431</td>\n",
       "      <td>0.296980</td>\n",
       "    </tr>\n",
       "    <tr>\n",
       "      <th>Limited</th>\n",
       "      <td>-0.154666</td>\n",
       "      <td>0.058383</td>\n",
       "      <td>0.466536</td>\n",
       "      <td>0.586082</td>\n",
       "      <td>0.080268</td>\n",
       "      <td>0.285603</td>\n",
       "      <td>0.103737</td>\n",
       "      <td>0.052755</td>\n",
       "      <td>0.310698</td>\n",
       "      <td>0.275059</td>\n",
       "      <td>...</td>\n",
       "      <td>0.081909</td>\n",
       "      <td>0.366238</td>\n",
       "      <td>0.146518</td>\n",
       "      <td>0.006386</td>\n",
       "      <td>0.369843</td>\n",
       "      <td>0.227426</td>\n",
       "      <td>0.009757</td>\n",
       "      <td>0.399626</td>\n",
       "      <td>0.227985</td>\n",
       "      <td>0.138079</td>\n",
       "    </tr>\n",
       "    <tr>\n",
       "      <th>Minutes</th>\n",
       "      <td>-0.060083</td>\n",
       "      <td>0.029366</td>\n",
       "      <td>0.061624</td>\n",
       "      <td>-0.005921</td>\n",
       "      <td>0.012221</td>\n",
       "      <td>0.035671</td>\n",
       "      <td>0.021609</td>\n",
       "      <td>0.016299</td>\n",
       "      <td>-0.011313</td>\n",
       "      <td>0.099032</td>\n",
       "      <td>...</td>\n",
       "      <td>0.004437</td>\n",
       "      <td>0.011940</td>\n",
       "      <td>-0.003181</td>\n",
       "      <td>-0.013419</td>\n",
       "      <td>-0.023395</td>\n",
       "      <td>0.041741</td>\n",
       "      <td>0.005940</td>\n",
       "      <td>0.099913</td>\n",
       "      <td>0.051502</td>\n",
       "      <td>0.053146</td>\n",
       "    </tr>\n",
       "    <tr>\n",
       "      <th>Password</th>\n",
       "      <td>-0.190617</td>\n",
       "      <td>-0.021412</td>\n",
       "      <td>0.303637</td>\n",
       "      <td>0.190784</td>\n",
       "      <td>0.029632</td>\n",
       "      <td>0.022013</td>\n",
       "      <td>0.068395</td>\n",
       "      <td>0.026843</td>\n",
       "      <td>0.086322</td>\n",
       "      <td>0.217937</td>\n",
       "      <td>...</td>\n",
       "      <td>1.000000</td>\n",
       "      <td>0.175744</td>\n",
       "      <td>-0.017939</td>\n",
       "      <td>0.045740</td>\n",
       "      <td>0.223479</td>\n",
       "      <td>0.016450</td>\n",
       "      <td>0.044475</td>\n",
       "      <td>0.268882</td>\n",
       "      <td>0.050377</td>\n",
       "      <td>0.167673</td>\n",
       "    </tr>\n",
       "    <tr>\n",
       "      <th>Recently</th>\n",
       "      <td>-0.190813</td>\n",
       "      <td>0.056572</td>\n",
       "      <td>0.362497</td>\n",
       "      <td>0.252658</td>\n",
       "      <td>0.086013</td>\n",
       "      <td>0.192540</td>\n",
       "      <td>0.067880</td>\n",
       "      <td>0.086357</td>\n",
       "      <td>0.191587</td>\n",
       "      <td>0.195825</td>\n",
       "      <td>...</td>\n",
       "      <td>0.175744</td>\n",
       "      <td>1.000000</td>\n",
       "      <td>0.144299</td>\n",
       "      <td>0.071106</td>\n",
       "      <td>0.228899</td>\n",
       "      <td>0.161466</td>\n",
       "      <td>0.006875</td>\n",
       "      <td>0.320425</td>\n",
       "      <td>0.195594</td>\n",
       "      <td>0.180052</td>\n",
       "    </tr>\n",
       "    <tr>\n",
       "      <th>Risk</th>\n",
       "      <td>0.088944</td>\n",
       "      <td>0.144724</td>\n",
       "      <td>-0.036681</td>\n",
       "      <td>0.026905</td>\n",
       "      <td>0.089768</td>\n",
       "      <td>0.282162</td>\n",
       "      <td>-0.018168</td>\n",
       "      <td>-0.020506</td>\n",
       "      <td>-0.022110</td>\n",
       "      <td>0.056428</td>\n",
       "      <td>...</td>\n",
       "      <td>-0.017939</td>\n",
       "      <td>0.144299</td>\n",
       "      <td>1.000000</td>\n",
       "      <td>0.017094</td>\n",
       "      <td>0.013414</td>\n",
       "      <td>0.174910</td>\n",
       "      <td>-0.015817</td>\n",
       "      <td>0.009181</td>\n",
       "      <td>0.222713</td>\n",
       "      <td>-0.097238</td>\n",
       "    </tr>\n",
       "    <tr>\n",
       "      <th>Social</th>\n",
       "      <td>-0.070207</td>\n",
       "      <td>0.005402</td>\n",
       "      <td>0.068726</td>\n",
       "      <td>-0.000196</td>\n",
       "      <td>0.077102</td>\n",
       "      <td>0.047044</td>\n",
       "      <td>0.050967</td>\n",
       "      <td>0.123914</td>\n",
       "      <td>0.003881</td>\n",
       "      <td>0.125052</td>\n",
       "      <td>...</td>\n",
       "      <td>0.045740</td>\n",
       "      <td>0.071106</td>\n",
       "      <td>0.017094</td>\n",
       "      <td>1.000000</td>\n",
       "      <td>0.097125</td>\n",
       "      <td>0.050406</td>\n",
       "      <td>0.032519</td>\n",
       "      <td>0.086967</td>\n",
       "      <td>0.058499</td>\n",
       "      <td>0.064465</td>\n",
       "    </tr>\n",
       "    <tr>\n",
       "      <th>Security</th>\n",
       "      <td>-0.375291</td>\n",
       "      <td>-0.034538</td>\n",
       "      <td>0.564436</td>\n",
       "      <td>0.447825</td>\n",
       "      <td>0.172194</td>\n",
       "      <td>0.145068</td>\n",
       "      <td>0.114428</td>\n",
       "      <td>0.146387</td>\n",
       "      <td>0.294854</td>\n",
       "      <td>0.351760</td>\n",
       "      <td>...</td>\n",
       "      <td>0.223479</td>\n",
       "      <td>0.228899</td>\n",
       "      <td>0.013414</td>\n",
       "      <td>0.097125</td>\n",
       "      <td>1.000000</td>\n",
       "      <td>0.089743</td>\n",
       "      <td>0.078254</td>\n",
       "      <td>0.561940</td>\n",
       "      <td>0.121303</td>\n",
       "      <td>0.355408</td>\n",
       "    </tr>\n",
       "    <tr>\n",
       "      <th>Service</th>\n",
       "      <td>-0.109110</td>\n",
       "      <td>0.075383</td>\n",
       "      <td>0.047902</td>\n",
       "      <td>0.155984</td>\n",
       "      <td>0.275788</td>\n",
       "      <td>0.284296</td>\n",
       "      <td>0.071161</td>\n",
       "      <td>0.083894</td>\n",
       "      <td>0.033722</td>\n",
       "      <td>0.177022</td>\n",
       "      <td>...</td>\n",
       "      <td>0.016450</td>\n",
       "      <td>0.161466</td>\n",
       "      <td>0.174910</td>\n",
       "      <td>0.050406</td>\n",
       "      <td>0.089743</td>\n",
       "      <td>1.000000</td>\n",
       "      <td>0.022514</td>\n",
       "      <td>0.144925</td>\n",
       "      <td>0.280669</td>\n",
       "      <td>0.141536</td>\n",
       "    </tr>\n",
       "    <tr>\n",
       "      <th>Suspended</th>\n",
       "      <td>-0.152819</td>\n",
       "      <td>0.000161</td>\n",
       "      <td>0.202349</td>\n",
       "      <td>0.024485</td>\n",
       "      <td>0.012808</td>\n",
       "      <td>0.022188</td>\n",
       "      <td>0.040091</td>\n",
       "      <td>0.057885</td>\n",
       "      <td>0.060583</td>\n",
       "      <td>0.119828</td>\n",
       "      <td>...</td>\n",
       "      <td>0.044475</td>\n",
       "      <td>0.006875</td>\n",
       "      <td>-0.015817</td>\n",
       "      <td>0.032519</td>\n",
       "      <td>0.078254</td>\n",
       "      <td>0.022514</td>\n",
       "      <td>1.000000</td>\n",
       "      <td>0.159043</td>\n",
       "      <td>0.036500</td>\n",
       "      <td>0.141305</td>\n",
       "    </tr>\n",
       "    <tr>\n",
       "      <th>Total number of Function words/W</th>\n",
       "      <td>-0.499500</td>\n",
       "      <td>0.071856</td>\n",
       "      <td>0.749787</td>\n",
       "      <td>0.560014</td>\n",
       "      <td>0.265516</td>\n",
       "      <td>0.164296</td>\n",
       "      <td>0.277313</td>\n",
       "      <td>0.244421</td>\n",
       "      <td>0.340682</td>\n",
       "      <td>0.484328</td>\n",
       "      <td>...</td>\n",
       "      <td>0.268882</td>\n",
       "      <td>0.320425</td>\n",
       "      <td>0.009181</td>\n",
       "      <td>0.086967</td>\n",
       "      <td>0.561940</td>\n",
       "      <td>0.144925</td>\n",
       "      <td>0.159043</td>\n",
       "      <td>1.000000</td>\n",
       "      <td>0.020203</td>\n",
       "      <td>0.496828</td>\n",
       "    </tr>\n",
       "    <tr>\n",
       "      <th>Unique Words</th>\n",
       "      <td>-0.102510</td>\n",
       "      <td>-0.154738</td>\n",
       "      <td>0.107580</td>\n",
       "      <td>0.127472</td>\n",
       "      <td>0.147309</td>\n",
       "      <td>0.233886</td>\n",
       "      <td>0.075042</td>\n",
       "      <td>0.032732</td>\n",
       "      <td>0.039919</td>\n",
       "      <td>0.173431</td>\n",
       "      <td>...</td>\n",
       "      <td>0.050377</td>\n",
       "      <td>0.195594</td>\n",
       "      <td>0.222713</td>\n",
       "      <td>0.058499</td>\n",
       "      <td>0.121303</td>\n",
       "      <td>0.280669</td>\n",
       "      <td>0.036500</td>\n",
       "      <td>0.020203</td>\n",
       "      <td>1.000000</td>\n",
       "      <td>0.141537</td>\n",
       "    </tr>\n",
       "    <tr>\n",
       "      <th>Phishing Status</th>\n",
       "      <td>-0.865894</td>\n",
       "      <td>-0.333201</td>\n",
       "      <td>0.485330</td>\n",
       "      <td>0.231787</td>\n",
       "      <td>0.214821</td>\n",
       "      <td>0.044246</td>\n",
       "      <td>0.192185</td>\n",
       "      <td>0.180181</td>\n",
       "      <td>0.187764</td>\n",
       "      <td>0.296980</td>\n",
       "      <td>...</td>\n",
       "      <td>0.167673</td>\n",
       "      <td>0.180052</td>\n",
       "      <td>-0.097238</td>\n",
       "      <td>0.064465</td>\n",
       "      <td>0.355408</td>\n",
       "      <td>0.141536</td>\n",
       "      <td>0.141305</td>\n",
       "      <td>0.496828</td>\n",
       "      <td>0.141537</td>\n",
       "      <td>1.000000</td>\n",
       "    </tr>\n",
       "  </tbody>\n",
       "</table>\n",
       "<p>22 rows × 22 columns</p>\n",
       "</div>"
      ],
      "text/plain": [
       "                                  Total Number of Characters C  \\\n",
       "Total Number of Characters C                          1.000000   \n",
       "Vocabulary richness W/C                               0.257717   \n",
       "Account                                              -0.486220   \n",
       "Access                                               -0.249323   \n",
       "Bank                                                 -0.205306   \n",
       "Credit                                               -0.056877   \n",
       "Click                                                -0.154119   \n",
       "Identity                                             -0.192223   \n",
       "Inconvenience                                        -0.181998   \n",
       "Information                                          -0.316246   \n",
       "Limited                                              -0.154666   \n",
       "Minutes                                              -0.060083   \n",
       "Password                                             -0.190617   \n",
       "Recently                                             -0.190813   \n",
       "Risk                                                  0.088944   \n",
       "Social                                               -0.070207   \n",
       "Security                                             -0.375291   \n",
       "Service                                              -0.109110   \n",
       "Suspended                                            -0.152819   \n",
       "Total number of Function words/W                     -0.499500   \n",
       "Unique Words                                         -0.102510   \n",
       "Phishing Status                                      -0.865894   \n",
       "\n",
       "                                  Vocabulary richness W/C   Account    Access  \\\n",
       "Total Number of Characters C                     0.257717 -0.486220 -0.249323   \n",
       "Vocabulary richness W/C                          1.000000 -0.029480  0.024579   \n",
       "Account                                         -0.029480  1.000000  0.572274   \n",
       "Access                                           0.024579  0.572274  1.000000   \n",
       "Bank                                            -0.000649  0.138562  0.103502   \n",
       "Credit                                           0.074231  0.105865  0.126263   \n",
       "Click                                           -0.000035  0.198441  0.158262   \n",
       "Identity                                         0.004430  0.197042  0.122706   \n",
       "Inconvenience                                   -0.011146  0.363788  0.340813   \n",
       "Information                                      0.052024  0.448823  0.273680   \n",
       "Limited                                          0.058383  0.466536  0.586082   \n",
       "Minutes                                          0.029366  0.061624 -0.005921   \n",
       "Password                                        -0.021412  0.303637  0.190784   \n",
       "Recently                                         0.056572  0.362497  0.252658   \n",
       "Risk                                             0.144724 -0.036681  0.026905   \n",
       "Social                                           0.005402  0.068726 -0.000196   \n",
       "Security                                        -0.034538  0.564436  0.447825   \n",
       "Service                                          0.075383  0.047902  0.155984   \n",
       "Suspended                                        0.000161  0.202349  0.024485   \n",
       "Total number of Function words/W                 0.071856  0.749787  0.560014   \n",
       "Unique Words                                    -0.154738  0.107580  0.127472   \n",
       "Phishing Status                                 -0.333201  0.485330  0.231787   \n",
       "\n",
       "                                      Bank    Credit     Click  Identity  \\\n",
       "Total Number of Characters C     -0.205306 -0.056877 -0.154119 -0.192223   \n",
       "Vocabulary richness W/C          -0.000649  0.074231 -0.000035  0.004430   \n",
       "Account                           0.138562  0.105865  0.198441  0.197042   \n",
       "Access                            0.103502  0.126263  0.158262  0.122706   \n",
       "Bank                              1.000000  0.158816  0.035187  0.071668   \n",
       "Credit                            0.158816  1.000000  0.012384  0.050121   \n",
       "Click                             0.035187  0.012384  1.000000  0.091737   \n",
       "Identity                          0.071668  0.050121  0.091737  1.000000   \n",
       "Inconvenience                     0.016652  0.062651  0.067285  0.086445   \n",
       "Information                       0.157691  0.190975  0.168292  0.180558   \n",
       "Limited                           0.080268  0.285603  0.103737  0.052755   \n",
       "Minutes                           0.012221  0.035671  0.021609  0.016299   \n",
       "Password                          0.029632  0.022013  0.068395  0.026843   \n",
       "Recently                          0.086013  0.192540  0.067880  0.086357   \n",
       "Risk                              0.089768  0.282162 -0.018168 -0.020506   \n",
       "Social                            0.077102  0.047044  0.050967  0.123914   \n",
       "Security                          0.172194  0.145068  0.114428  0.146387   \n",
       "Service                           0.275788  0.284296  0.071161  0.083894   \n",
       "Suspended                         0.012808  0.022188  0.040091  0.057885   \n",
       "Total number of Function words/W  0.265516  0.164296  0.277313  0.244421   \n",
       "Unique Words                      0.147309  0.233886  0.075042  0.032732   \n",
       "Phishing Status                   0.214821  0.044246  0.192185  0.180181   \n",
       "\n",
       "                                  Inconvenience  Information  ...  Password  \\\n",
       "Total Number of Characters C          -0.181998    -0.316246  ... -0.190617   \n",
       "Vocabulary richness W/C               -0.011146     0.052024  ... -0.021412   \n",
       "Account                                0.363788     0.448823  ...  0.303637   \n",
       "Access                                 0.340813     0.273680  ...  0.190784   \n",
       "Bank                                   0.016652     0.157691  ...  0.029632   \n",
       "Credit                                 0.062651     0.190975  ...  0.022013   \n",
       "Click                                  0.067285     0.168292  ...  0.068395   \n",
       "Identity                               0.086445     0.180558  ...  0.026843   \n",
       "Inconvenience                          1.000000     0.135992  ...  0.086322   \n",
       "Information                            0.135992     1.000000  ...  0.217937   \n",
       "Limited                                0.310698     0.275059  ...  0.081909   \n",
       "Minutes                               -0.011313     0.099032  ...  0.004437   \n",
       "Password                               0.086322     0.217937  ...  1.000000   \n",
       "Recently                               0.191587     0.195825  ...  0.175744   \n",
       "Risk                                  -0.022110     0.056428  ... -0.017939   \n",
       "Social                                 0.003881     0.125052  ...  0.045740   \n",
       "Security                               0.294854     0.351760  ...  0.223479   \n",
       "Service                                0.033722     0.177022  ...  0.016450   \n",
       "Suspended                              0.060583     0.119828  ...  0.044475   \n",
       "Total number of Function words/W       0.340682     0.484328  ...  0.268882   \n",
       "Unique Words                           0.039919     0.173431  ...  0.050377   \n",
       "Phishing Status                        0.187764     0.296980  ...  0.167673   \n",
       "\n",
       "                                  Recently      Risk    Social  Security  \\\n",
       "Total Number of Characters C     -0.190813  0.088944 -0.070207 -0.375291   \n",
       "Vocabulary richness W/C           0.056572  0.144724  0.005402 -0.034538   \n",
       "Account                           0.362497 -0.036681  0.068726  0.564436   \n",
       "Access                            0.252658  0.026905 -0.000196  0.447825   \n",
       "Bank                              0.086013  0.089768  0.077102  0.172194   \n",
       "Credit                            0.192540  0.282162  0.047044  0.145068   \n",
       "Click                             0.067880 -0.018168  0.050967  0.114428   \n",
       "Identity                          0.086357 -0.020506  0.123914  0.146387   \n",
       "Inconvenience                     0.191587 -0.022110  0.003881  0.294854   \n",
       "Information                       0.195825  0.056428  0.125052  0.351760   \n",
       "Limited                           0.366238  0.146518  0.006386  0.369843   \n",
       "Minutes                           0.011940 -0.003181 -0.013419 -0.023395   \n",
       "Password                          0.175744 -0.017939  0.045740  0.223479   \n",
       "Recently                          1.000000  0.144299  0.071106  0.228899   \n",
       "Risk                              0.144299  1.000000  0.017094  0.013414   \n",
       "Social                            0.071106  0.017094  1.000000  0.097125   \n",
       "Security                          0.228899  0.013414  0.097125  1.000000   \n",
       "Service                           0.161466  0.174910  0.050406  0.089743   \n",
       "Suspended                         0.006875 -0.015817  0.032519  0.078254   \n",
       "Total number of Function words/W  0.320425  0.009181  0.086967  0.561940   \n",
       "Unique Words                      0.195594  0.222713  0.058499  0.121303   \n",
       "Phishing Status                   0.180052 -0.097238  0.064465  0.355408   \n",
       "\n",
       "                                   Service  Suspended  \\\n",
       "Total Number of Characters C     -0.109110  -0.152819   \n",
       "Vocabulary richness W/C           0.075383   0.000161   \n",
       "Account                           0.047902   0.202349   \n",
       "Access                            0.155984   0.024485   \n",
       "Bank                              0.275788   0.012808   \n",
       "Credit                            0.284296   0.022188   \n",
       "Click                             0.071161   0.040091   \n",
       "Identity                          0.083894   0.057885   \n",
       "Inconvenience                     0.033722   0.060583   \n",
       "Information                       0.177022   0.119828   \n",
       "Limited                           0.227426   0.009757   \n",
       "Minutes                           0.041741   0.005940   \n",
       "Password                          0.016450   0.044475   \n",
       "Recently                          0.161466   0.006875   \n",
       "Risk                              0.174910  -0.015817   \n",
       "Social                            0.050406   0.032519   \n",
       "Security                          0.089743   0.078254   \n",
       "Service                           1.000000   0.022514   \n",
       "Suspended                         0.022514   1.000000   \n",
       "Total number of Function words/W  0.144925   0.159043   \n",
       "Unique Words                      0.280669   0.036500   \n",
       "Phishing Status                   0.141536   0.141305   \n",
       "\n",
       "                                  Total number of Function words/W  \\\n",
       "Total Number of Characters C                             -0.499500   \n",
       "Vocabulary richness W/C                                   0.071856   \n",
       "Account                                                   0.749787   \n",
       "Access                                                    0.560014   \n",
       "Bank                                                      0.265516   \n",
       "Credit                                                    0.164296   \n",
       "Click                                                     0.277313   \n",
       "Identity                                                  0.244421   \n",
       "Inconvenience                                             0.340682   \n",
       "Information                                               0.484328   \n",
       "Limited                                                   0.399626   \n",
       "Minutes                                                   0.099913   \n",
       "Password                                                  0.268882   \n",
       "Recently                                                  0.320425   \n",
       "Risk                                                      0.009181   \n",
       "Social                                                    0.086967   \n",
       "Security                                                  0.561940   \n",
       "Service                                                   0.144925   \n",
       "Suspended                                                 0.159043   \n",
       "Total number of Function words/W                          1.000000   \n",
       "Unique Words                                              0.020203   \n",
       "Phishing Status                                           0.496828   \n",
       "\n",
       "                                  Unique Words  Phishing Status  \n",
       "Total Number of Characters C         -0.102510        -0.865894  \n",
       "Vocabulary richness W/C              -0.154738        -0.333201  \n",
       "Account                               0.107580         0.485330  \n",
       "Access                                0.127472         0.231787  \n",
       "Bank                                  0.147309         0.214821  \n",
       "Credit                                0.233886         0.044246  \n",
       "Click                                 0.075042         0.192185  \n",
       "Identity                              0.032732         0.180181  \n",
       "Inconvenience                         0.039919         0.187764  \n",
       "Information                           0.173431         0.296980  \n",
       "Limited                               0.227985         0.138079  \n",
       "Minutes                               0.051502         0.053146  \n",
       "Password                              0.050377         0.167673  \n",
       "Recently                              0.195594         0.180052  \n",
       "Risk                                  0.222713        -0.097238  \n",
       "Social                                0.058499         0.064465  \n",
       "Security                              0.121303         0.355408  \n",
       "Service                               0.280669         0.141536  \n",
       "Suspended                             0.036500         0.141305  \n",
       "Total number of Function words/W      0.020203         0.496828  \n",
       "Unique Words                          1.000000         0.141537  \n",
       "Phishing Status                       0.141537         1.000000  \n",
       "\n",
       "[22 rows x 22 columns]"
      ]
     },
     "execution_count": 20,
     "metadata": {},
     "output_type": "execute_result"
    }
   ],
   "source": [
    "df.corr()"
   ]
  },
  {
   "cell_type": "code",
   "execution_count": 21,
   "id": "9c32af4c",
   "metadata": {},
   "outputs": [
    {
     "data": {
      "text/plain": [
       "<AxesSubplot:>"
      ]
     },
     "execution_count": 21,
     "metadata": {},
     "output_type": "execute_result"
    },
    {
     "data": {
      "image/png": "[encoded data removed]",
      "text/plain": [
       "<Figure size 864x432 with 2 Axes>"
      ]
     },
     "metadata": {
      "needs_background": "light"
     },
     "output_type": "display_data"
    }
   ],
   "source": [
    "plt.subplots(figsize=(12,6)) \n",
    "sns.heatmap(df.corr() , annot=True)"
   ]
  },
  {
   "cell_type": "code",
   "execution_count": 22,
   "id": "f37af6ad",
   "metadata": {},
   "outputs": [],
   "source": [
    "#df.drop('Total Number of Characters C', axis='columns', inplace=True)"
   ]
  },
  {
   "cell_type": "code",
   "execution_count": 23,
   "id": "1143526b",
   "metadata": {},
   "outputs": [],
   "source": [
    "#plt.subplots(figsize=(10,6)) \n",
    "#sns.heatmap(df.corr() , annot=True)"
   ]
  },
  {
   "cell_type": "code",
   "execution_count": 24,
   "id": "d2d89a51",
   "metadata": {},
   "outputs": [],
   "source": [
    "#df.drop('Vocabulary richness W/C', axis='columns', inplace=True)"
   ]
  },
  {
   "cell_type": "code",
   "execution_count": 25,
   "id": "211458e3",
   "metadata": {},
   "outputs": [],
   "source": [
    "#plt.subplots(figsize=(10,6)) \n",
    "#sns.heatmap(df.corr() , annot=True)"
   ]
  },
  {
   "cell_type": "markdown",
   "id": "59e3da35",
   "metadata": {},
   "source": [
    "# Visualization or Data Analysis"
   ]
  },
  {
   "cell_type": "code",
   "execution_count": 26,
   "id": "c63a3831",
   "metadata": {},
   "outputs": [
    {
     "data": {
      "text/plain": [
       "<AxesSubplot:xlabel='Account', ylabel='count'>"
      ]
     },
     "execution_count": 26,
     "metadata": {},
     "output_type": "execute_result"
    },
    {
     "data": {
      "image/png": "[encoded data removed]",
      "text/plain": [
       "<Figure size 720x432 with 1 Axes>"
      ]
     },
     "metadata": {
      "needs_background": "light"
     },
     "output_type": "display_data"
    }
   ],
   "source": [
    "plt.subplots(figsize=(10,6))   \n",
    "sns.countplot(x = 'Account', hue='Phishing Status', data=df)"
   ]
  },
  {
   "cell_type": "code",
   "execution_count": 27,
   "id": "dfacc6d9",
   "metadata": {},
   "outputs": [
    {
     "data": {
      "text/plain": [
       "<AxesSubplot:xlabel='Access', ylabel='count'>"
      ]
     },
     "execution_count": 27,
     "metadata": {},
     "output_type": "execute_result"
    },
    {
     "data": {
      "image/png": "[encoded data removed]",
      "text/plain": [
       "<Figure size 720x432 with 1 Axes>"
      ]
     },
     "metadata": {
      "needs_background": "light"
     },
     "output_type": "display_data"
    }
   ],
   "source": [
    "plt.subplots(figsize=(10,6))   \n",
    "sns.countplot(x = 'Access', hue='Phishing Status', data=df)"
   ]
  },
  {
   "cell_type": "code",
   "execution_count": 28,
   "id": "7ebecdfb",
   "metadata": {},
   "outputs": [
    {
     "data": {
      "text/plain": [
       "<AxesSubplot:xlabel='Bank', ylabel='count'>"
      ]
     },
     "execution_count": 28,
     "metadata": {},
     "output_type": "execute_result"
    },
    {
     "data": {
      "image/png": "[encoded data removed]",
      "text/plain": [
       "<Figure size 720x432 with 1 Axes>"
      ]
     },
     "metadata": {
      "needs_background": "light"
     },
     "output_type": "display_data"
    }
   ],
   "source": [
    "plt.subplots(figsize=(10,6))   \n",
    "sns.countplot(x = 'Bank', hue='Phishing Status', data=df)"
   ]
  },
  {
   "cell_type": "code",
   "execution_count": 29,
   "id": "60475644",
   "metadata": {},
   "outputs": [
    {
     "data": {
      "text/plain": [
       "<AxesSubplot:xlabel='Identity', ylabel='count'>"
      ]
     },
     "execution_count": 29,
     "metadata": {},
     "output_type": "execute_result"
    },
    {
     "data": {
      "image/png": "[encoded data removed]",
      "text/plain": [
       "<Figure size 720x432 with 1 Axes>"
      ]
     },
     "metadata": {
      "needs_background": "light"
     },
     "output_type": "display_data"
    }
   ],
   "source": [
    "plt.subplots(figsize=(10,6))   \n",
    "sns.countplot(x = 'Identity', hue='Phishing Status', data=df)"
   ]
  },
  {
   "cell_type": "code",
   "execution_count": 30,
   "id": "24f8d5c9",
   "metadata": {},
   "outputs": [
    {
     "data": {
      "text/plain": [
       "<matplotlib.collections.PathCollection at 0xee90fd370>"
      ]
     },
     "execution_count": 30,
     "metadata": {},
     "output_type": "execute_result"
    },
    {
     "data": {
      "image/png": "[encoded data removed]",
      "text/plain": [
       "<Figure size 432x288 with 1 Axes>"
      ]
     },
     "metadata": {
      "needs_background": "light"
     },
     "output_type": "display_data"
    }
   ],
   "source": [
    "plt.scatter(df['Account'],df['Access'])"
   ]
  },
  {
   "cell_type": "code",
   "execution_count": 31,
   "id": "3588d81f",
   "metadata": {},
   "outputs": [
    {
     "data": {
      "text/plain": [
       "<matplotlib.collections.PathCollection at 0xee916d190>"
      ]
     },
     "execution_count": 31,
     "metadata": {},
     "output_type": "execute_result"
    },
    {
     "data": {
      "image/png": "[encoded data removed]",
      "text/plain": [
       "<Figure size 432x288 with 1 Axes>"
      ]
     },
     "metadata": {
      "needs_background": "light"
     },
     "output_type": "display_data"
    }
   ],
   "source": [
    "plt.scatter(df['Service'],df['Suspended'])"
   ]
  },
  {
   "cell_type": "code",
   "execution_count": 32,
   "id": "94187563",
   "metadata": {},
   "outputs": [
    {
     "data": {
      "text/plain": [
       "<seaborn.axisgrid.PairGrid at 0xee918f790>"
      ]
     },
     "execution_count": 32,
     "metadata": {},
     "output_type": "execute_result"
    },
    {
     "data": {
      "image/png": "[encoded data removed]",
      "text/plain": [
       "<Figure size 720x720 with 20 Axes>"
      ]
     },
     "metadata": {
      "needs_background": "light"
     },
     "output_type": "display_data"
    }
   ],
   "source": [
    "sns.pairplot(df[['Account','Access','Bank','Phishing Status',]])"
   ]
  },
  {
   "cell_type": "code",
   "execution_count": 33,
   "id": "70bc3003",
   "metadata": {},
   "outputs": [],
   "source": [
    "df = df.drop('Total Number of Characters C', axis=1)"
   ]
  },
  {
   "cell_type": "code",
   "execution_count": 34,
   "id": "1d5cabd6",
   "metadata": {},
   "outputs": [
    {
     "data": {
      "text/html": [
       "<div>\n",
       "<style scoped>\n",
       "    .dataframe tbody tr th:only-of-type {\n",
       "        vertical-align: middle;\n",
       "    }\n",
       "\n",
       "    .dataframe tbody tr th {\n",
       "        vertical-align: top;\n",
       "    }\n",
       "\n",
       "    .dataframe thead th {\n",
       "        text-align: right;\n",
       "    }\n",
       "</style>\n",
       "<table border=\"1\" class=\"dataframe\">\n",
       "  <thead>\n",
       "    <tr style=\"text-align: right;\">\n",
       "      <th></th>\n",
       "      <th>Vocabulary richness W/C</th>\n",
       "      <th>Account</th>\n",
       "      <th>Access</th>\n",
       "      <th>Bank</th>\n",
       "      <th>Credit</th>\n",
       "      <th>Click</th>\n",
       "      <th>Identity</th>\n",
       "      <th>Inconvenience</th>\n",
       "      <th>Information</th>\n",
       "      <th>Limited</th>\n",
       "      <th>...</th>\n",
       "      <th>Password</th>\n",
       "      <th>Recently</th>\n",
       "      <th>Risk</th>\n",
       "      <th>Social</th>\n",
       "      <th>Security</th>\n",
       "      <th>Service</th>\n",
       "      <th>Suspended</th>\n",
       "      <th>Total number of Function words/W</th>\n",
       "      <th>Unique Words</th>\n",
       "      <th>Phishing Status</th>\n",
       "    </tr>\n",
       "  </thead>\n",
       "  <tbody>\n",
       "    <tr>\n",
       "      <th>0</th>\n",
       "      <td>0.128512</td>\n",
       "      <td>2</td>\n",
       "      <td>0</td>\n",
       "      <td>0</td>\n",
       "      <td>0</td>\n",
       "      <td>1</td>\n",
       "      <td>0</td>\n",
       "      <td>0</td>\n",
       "      <td>1</td>\n",
       "      <td>0</td>\n",
       "      <td>...</td>\n",
       "      <td>1</td>\n",
       "      <td>1</td>\n",
       "      <td>0</td>\n",
       "      <td>0</td>\n",
       "      <td>0</td>\n",
       "      <td>0</td>\n",
       "      <td>0</td>\n",
       "      <td>0.027907</td>\n",
       "      <td>132</td>\n",
       "      <td>1</td>\n",
       "    </tr>\n",
       "    <tr>\n",
       "      <th>1</th>\n",
       "      <td>0.137738</td>\n",
       "      <td>0</td>\n",
       "      <td>0</td>\n",
       "      <td>0</td>\n",
       "      <td>0</td>\n",
       "      <td>0</td>\n",
       "      <td>0</td>\n",
       "      <td>0</td>\n",
       "      <td>4</td>\n",
       "      <td>0</td>\n",
       "      <td>...</td>\n",
       "      <td>0</td>\n",
       "      <td>0</td>\n",
       "      <td>0</td>\n",
       "      <td>0</td>\n",
       "      <td>3</td>\n",
       "      <td>1</td>\n",
       "      <td>0</td>\n",
       "      <td>0.013008</td>\n",
       "      <td>338</td>\n",
       "      <td>1</td>\n",
       "    </tr>\n",
       "    <tr>\n",
       "      <th>2</th>\n",
       "      <td>0.095993</td>\n",
       "      <td>0</td>\n",
       "      <td>0</td>\n",
       "      <td>0</td>\n",
       "      <td>2</td>\n",
       "      <td>0</td>\n",
       "      <td>0</td>\n",
       "      <td>0</td>\n",
       "      <td>2</td>\n",
       "      <td>0</td>\n",
       "      <td>...</td>\n",
       "      <td>0</td>\n",
       "      <td>0</td>\n",
       "      <td>0</td>\n",
       "      <td>0</td>\n",
       "      <td>0</td>\n",
       "      <td>0</td>\n",
       "      <td>0</td>\n",
       "      <td>0.006116</td>\n",
       "      <td>292</td>\n",
       "      <td>1</td>\n",
       "    </tr>\n",
       "    <tr>\n",
       "      <th>3</th>\n",
       "      <td>0.109354</td>\n",
       "      <td>0</td>\n",
       "      <td>0</td>\n",
       "      <td>0</td>\n",
       "      <td>1</td>\n",
       "      <td>1</td>\n",
       "      <td>0</td>\n",
       "      <td>0</td>\n",
       "      <td>0</td>\n",
       "      <td>0</td>\n",
       "      <td>...</td>\n",
       "      <td>0</td>\n",
       "      <td>0</td>\n",
       "      <td>0</td>\n",
       "      <td>0</td>\n",
       "      <td>0</td>\n",
       "      <td>0</td>\n",
       "      <td>0</td>\n",
       "      <td>0.012048</td>\n",
       "      <td>102</td>\n",
       "      <td>1</td>\n",
       "    </tr>\n",
       "    <tr>\n",
       "      <th>4</th>\n",
       "      <td>0.126528</td>\n",
       "      <td>7</td>\n",
       "      <td>3</td>\n",
       "      <td>0</td>\n",
       "      <td>0</td>\n",
       "      <td>0</td>\n",
       "      <td>1</td>\n",
       "      <td>0</td>\n",
       "      <td>2</td>\n",
       "      <td>0</td>\n",
       "      <td>...</td>\n",
       "      <td>0</td>\n",
       "      <td>0</td>\n",
       "      <td>0</td>\n",
       "      <td>0</td>\n",
       "      <td>0</td>\n",
       "      <td>0</td>\n",
       "      <td>2</td>\n",
       "      <td>0.063025</td>\n",
       "      <td>136</td>\n",
       "      <td>1</td>\n",
       "    </tr>\n",
       "    <tr>\n",
       "      <th>...</th>\n",
       "      <td>...</td>\n",
       "      <td>...</td>\n",
       "      <td>...</td>\n",
       "      <td>...</td>\n",
       "      <td>...</td>\n",
       "      <td>...</td>\n",
       "      <td>...</td>\n",
       "      <td>...</td>\n",
       "      <td>...</td>\n",
       "      <td>...</td>\n",
       "      <td>...</td>\n",
       "      <td>...</td>\n",
       "      <td>...</td>\n",
       "      <td>...</td>\n",
       "      <td>...</td>\n",
       "      <td>...</td>\n",
       "      <td>...</td>\n",
       "      <td>...</td>\n",
       "      <td>...</td>\n",
       "      <td>...</td>\n",
       "      <td>...</td>\n",
       "    </tr>\n",
       "    <tr>\n",
       "      <th>16995</th>\n",
       "      <td>0.104213</td>\n",
       "      <td>0</td>\n",
       "      <td>0</td>\n",
       "      <td>0</td>\n",
       "      <td>0</td>\n",
       "      <td>0</td>\n",
       "      <td>0</td>\n",
       "      <td>0</td>\n",
       "      <td>0</td>\n",
       "      <td>0</td>\n",
       "      <td>...</td>\n",
       "      <td>0</td>\n",
       "      <td>0</td>\n",
       "      <td>0</td>\n",
       "      <td>0</td>\n",
       "      <td>0</td>\n",
       "      <td>0</td>\n",
       "      <td>0</td>\n",
       "      <td>0.000000</td>\n",
       "      <td>108</td>\n",
       "      <td>0</td>\n",
       "    </tr>\n",
       "    <tr>\n",
       "      <th>16996</th>\n",
       "      <td>0.091255</td>\n",
       "      <td>0</td>\n",
       "      <td>0</td>\n",
       "      <td>0</td>\n",
       "      <td>0</td>\n",
       "      <td>0</td>\n",
       "      <td>0</td>\n",
       "      <td>0</td>\n",
       "      <td>0</td>\n",
       "      <td>0</td>\n",
       "      <td>...</td>\n",
       "      <td>0</td>\n",
       "      <td>0</td>\n",
       "      <td>0</td>\n",
       "      <td>0</td>\n",
       "      <td>0</td>\n",
       "      <td>0</td>\n",
       "      <td>0</td>\n",
       "      <td>0.000000</td>\n",
       "      <td>57</td>\n",
       "      <td>0</td>\n",
       "    </tr>\n",
       "    <tr>\n",
       "      <th>16997</th>\n",
       "      <td>0.085427</td>\n",
       "      <td>0</td>\n",
       "      <td>0</td>\n",
       "      <td>0</td>\n",
       "      <td>0</td>\n",
       "      <td>0</td>\n",
       "      <td>0</td>\n",
       "      <td>0</td>\n",
       "      <td>1</td>\n",
       "      <td>0</td>\n",
       "      <td>...</td>\n",
       "      <td>0</td>\n",
       "      <td>0</td>\n",
       "      <td>0</td>\n",
       "      <td>0</td>\n",
       "      <td>0</td>\n",
       "      <td>0</td>\n",
       "      <td>0</td>\n",
       "      <td>0.011765</td>\n",
       "      <td>75</td>\n",
       "      <td>0</td>\n",
       "    </tr>\n",
       "    <tr>\n",
       "      <th>16998</th>\n",
       "      <td>0.113490</td>\n",
       "      <td>0</td>\n",
       "      <td>0</td>\n",
       "      <td>0</td>\n",
       "      <td>0</td>\n",
       "      <td>0</td>\n",
       "      <td>0</td>\n",
       "      <td>0</td>\n",
       "      <td>0</td>\n",
       "      <td>0</td>\n",
       "      <td>...</td>\n",
       "      <td>0</td>\n",
       "      <td>0</td>\n",
       "      <td>0</td>\n",
       "      <td>0</td>\n",
       "      <td>0</td>\n",
       "      <td>0</td>\n",
       "      <td>0</td>\n",
       "      <td>0.000000</td>\n",
       "      <td>51</td>\n",
       "      <td>0</td>\n",
       "    </tr>\n",
       "    <tr>\n",
       "      <th>16999</th>\n",
       "      <td>0.102941</td>\n",
       "      <td>0</td>\n",
       "      <td>0</td>\n",
       "      <td>0</td>\n",
       "      <td>0</td>\n",
       "      <td>0</td>\n",
       "      <td>0</td>\n",
       "      <td>0</td>\n",
       "      <td>0</td>\n",
       "      <td>0</td>\n",
       "      <td>...</td>\n",
       "      <td>0</td>\n",
       "      <td>0</td>\n",
       "      <td>0</td>\n",
       "      <td>0</td>\n",
       "      <td>0</td>\n",
       "      <td>0</td>\n",
       "      <td>0</td>\n",
       "      <td>0.000000</td>\n",
       "      <td>76</td>\n",
       "      <td>0</td>\n",
       "    </tr>\n",
       "  </tbody>\n",
       "</table>\n",
       "<p>17000 rows × 21 columns</p>\n",
       "</div>"
      ],
      "text/plain": [
       "       Vocabulary richness W/C  Account  Access  Bank  Credit  Click  \\\n",
       "0                     0.128512        2       0     0       0      1   \n",
       "1                     0.137738        0       0     0       0      0   \n",
       "2                     0.095993        0       0     0       2      0   \n",
       "3                     0.109354        0       0     0       1      1   \n",
       "4                     0.126528        7       3     0       0      0   \n",
       "...                        ...      ...     ...   ...     ...    ...   \n",
       "16995                 0.104213        0       0     0       0      0   \n",
       "16996                 0.091255        0       0     0       0      0   \n",
       "16997                 0.085427        0       0     0       0      0   \n",
       "16998                 0.113490        0       0     0       0      0   \n",
       "16999                 0.102941        0       0     0       0      0   \n",
       "\n",
       "       Identity  Inconvenience  Information  Limited  ...  Password  Recently  \\\n",
       "0             0              0            1        0  ...         1         1   \n",
       "1             0              0            4        0  ...         0         0   \n",
       "2             0              0            2        0  ...         0         0   \n",
       "3             0              0            0        0  ...         0         0   \n",
       "4             1              0            2        0  ...         0         0   \n",
       "...         ...            ...          ...      ...  ...       ...       ...   \n",
       "16995         0              0            0        0  ...         0         0   \n",
       "16996         0              0            0        0  ...         0         0   \n",
       "16997         0              0            1        0  ...         0         0   \n",
       "16998         0              0            0        0  ...         0         0   \n",
       "16999         0              0            0        0  ...         0         0   \n",
       "\n",
       "       Risk  Social  Security  Service  Suspended  \\\n",
       "0         0       0         0        0          0   \n",
       "1         0       0         3        1          0   \n",
       "2         0       0         0        0          0   \n",
       "3         0       0         0        0          0   \n",
       "4         0       0         0        0          2   \n",
       "...     ...     ...       ...      ...        ...   \n",
       "16995     0       0         0        0          0   \n",
       "16996     0       0         0        0          0   \n",
       "16997     0       0         0        0          0   \n",
       "16998     0       0         0        0          0   \n",
       "16999     0       0         0        0          0   \n",
       "\n",
       "       Total number of Function words/W  Unique Words  Phishing Status  \n",
       "0                              0.027907           132                1  \n",
       "1                              0.013008           338                1  \n",
       "2                              0.006116           292                1  \n",
       "3                              0.012048           102                1  \n",
       "4                              0.063025           136                1  \n",
       "...                                 ...           ...              ...  \n",
       "16995                          0.000000           108                0  \n",
       "16996                          0.000000            57                0  \n",
       "16997                          0.011765            75                0  \n",
       "16998                          0.000000            51                0  \n",
       "16999                          0.000000            76                0  \n",
       "\n",
       "[17000 rows x 21 columns]"
      ]
     },
     "execution_count": 34,
     "metadata": {},
     "output_type": "execute_result"
    }
   ],
   "source": [
    "df"
   ]
  },
  {
   "cell_type": "code",
   "execution_count": 35,
   "id": "64f88d74",
   "metadata": {},
   "outputs": [],
   "source": [
    "df = df.drop('Vocabulary richness W/C', axis=1)"
   ]
  },
  {
   "cell_type": "code",
   "execution_count": 36,
   "id": "22e44700",
   "metadata": {},
   "outputs": [
    {
     "data": {
      "text/html": [
       "<div>\n",
       "<style scoped>\n",
       "    .dataframe tbody tr th:only-of-type {\n",
       "        vertical-align: middle;\n",
       "    }\n",
       "\n",
       "    .dataframe tbody tr th {\n",
       "        vertical-align: top;\n",
       "    }\n",
       "\n",
       "    .dataframe thead th {\n",
       "        text-align: right;\n",
       "    }\n",
       "</style>\n",
       "<table border=\"1\" class=\"dataframe\">\n",
       "  <thead>\n",
       "    <tr style=\"text-align: right;\">\n",
       "      <th></th>\n",
       "      <th>Account</th>\n",
       "      <th>Access</th>\n",
       "      <th>Bank</th>\n",
       "      <th>Credit</th>\n",
       "      <th>Click</th>\n",
       "      <th>Identity</th>\n",
       "      <th>Inconvenience</th>\n",
       "      <th>Information</th>\n",
       "      <th>Limited</th>\n",
       "      <th>Minutes</th>\n",
       "      <th>Password</th>\n",
       "      <th>Recently</th>\n",
       "      <th>Risk</th>\n",
       "      <th>Social</th>\n",
       "      <th>Security</th>\n",
       "      <th>Service</th>\n",
       "      <th>Suspended</th>\n",
       "      <th>Total number of Function words/W</th>\n",
       "      <th>Unique Words</th>\n",
       "      <th>Phishing Status</th>\n",
       "    </tr>\n",
       "  </thead>\n",
       "  <tbody>\n",
       "    <tr>\n",
       "      <th>0</th>\n",
       "      <td>2</td>\n",
       "      <td>0</td>\n",
       "      <td>0</td>\n",
       "      <td>0</td>\n",
       "      <td>1</td>\n",
       "      <td>0</td>\n",
       "      <td>0</td>\n",
       "      <td>1</td>\n",
       "      <td>0</td>\n",
       "      <td>0</td>\n",
       "      <td>1</td>\n",
       "      <td>1</td>\n",
       "      <td>0</td>\n",
       "      <td>0</td>\n",
       "      <td>0</td>\n",
       "      <td>0</td>\n",
       "      <td>0</td>\n",
       "      <td>0.027907</td>\n",
       "      <td>132</td>\n",
       "      <td>1</td>\n",
       "    </tr>\n",
       "    <tr>\n",
       "      <th>1</th>\n",
       "      <td>0</td>\n",
       "      <td>0</td>\n",
       "      <td>0</td>\n",
       "      <td>0</td>\n",
       "      <td>0</td>\n",
       "      <td>0</td>\n",
       "      <td>0</td>\n",
       "      <td>4</td>\n",
       "      <td>0</td>\n",
       "      <td>0</td>\n",
       "      <td>0</td>\n",
       "      <td>0</td>\n",
       "      <td>0</td>\n",
       "      <td>0</td>\n",
       "      <td>3</td>\n",
       "      <td>1</td>\n",
       "      <td>0</td>\n",
       "      <td>0.013008</td>\n",
       "      <td>338</td>\n",
       "      <td>1</td>\n",
       "    </tr>\n",
       "    <tr>\n",
       "      <th>2</th>\n",
       "      <td>0</td>\n",
       "      <td>0</td>\n",
       "      <td>0</td>\n",
       "      <td>2</td>\n",
       "      <td>0</td>\n",
       "      <td>0</td>\n",
       "      <td>0</td>\n",
       "      <td>2</td>\n",
       "      <td>0</td>\n",
       "      <td>0</td>\n",
       "      <td>0</td>\n",
       "      <td>0</td>\n",
       "      <td>0</td>\n",
       "      <td>0</td>\n",
       "      <td>0</td>\n",
       "      <td>0</td>\n",
       "      <td>0</td>\n",
       "      <td>0.006116</td>\n",
       "      <td>292</td>\n",
       "      <td>1</td>\n",
       "    </tr>\n",
       "    <tr>\n",
       "      <th>3</th>\n",
       "      <td>0</td>\n",
       "      <td>0</td>\n",
       "      <td>0</td>\n",
       "      <td>1</td>\n",
       "      <td>1</td>\n",
       "      <td>0</td>\n",
       "      <td>0</td>\n",
       "      <td>0</td>\n",
       "      <td>0</td>\n",
       "      <td>0</td>\n",
       "      <td>0</td>\n",
       "      <td>0</td>\n",
       "      <td>0</td>\n",
       "      <td>0</td>\n",
       "      <td>0</td>\n",
       "      <td>0</td>\n",
       "      <td>0</td>\n",
       "      <td>0.012048</td>\n",
       "      <td>102</td>\n",
       "      <td>1</td>\n",
       "    </tr>\n",
       "    <tr>\n",
       "      <th>4</th>\n",
       "      <td>7</td>\n",
       "      <td>3</td>\n",
       "      <td>0</td>\n",
       "      <td>0</td>\n",
       "      <td>0</td>\n",
       "      <td>1</td>\n",
       "      <td>0</td>\n",
       "      <td>2</td>\n",
       "      <td>0</td>\n",
       "      <td>0</td>\n",
       "      <td>0</td>\n",
       "      <td>0</td>\n",
       "      <td>0</td>\n",
       "      <td>0</td>\n",
       "      <td>0</td>\n",
       "      <td>0</td>\n",
       "      <td>2</td>\n",
       "      <td>0.063025</td>\n",
       "      <td>136</td>\n",
       "      <td>1</td>\n",
       "    </tr>\n",
       "    <tr>\n",
       "      <th>...</th>\n",
       "      <td>...</td>\n",
       "      <td>...</td>\n",
       "      <td>...</td>\n",
       "      <td>...</td>\n",
       "      <td>...</td>\n",
       "      <td>...</td>\n",
       "      <td>...</td>\n",
       "      <td>...</td>\n",
       "      <td>...</td>\n",
       "      <td>...</td>\n",
       "      <td>...</td>\n",
       "      <td>...</td>\n",
       "      <td>...</td>\n",
       "      <td>...</td>\n",
       "      <td>...</td>\n",
       "      <td>...</td>\n",
       "      <td>...</td>\n",
       "      <td>...</td>\n",
       "      <td>...</td>\n",
       "      <td>...</td>\n",
       "    </tr>\n",
       "    <tr>\n",
       "      <th>16995</th>\n",
       "      <td>0</td>\n",
       "      <td>0</td>\n",
       "      <td>0</td>\n",
       "      <td>0</td>\n",
       "      <td>0</td>\n",
       "      <td>0</td>\n",
       "      <td>0</td>\n",
       "      <td>0</td>\n",
       "      <td>0</td>\n",
       "      <td>0</td>\n",
       "      <td>0</td>\n",
       "      <td>0</td>\n",
       "      <td>0</td>\n",
       "      <td>0</td>\n",
       "      <td>0</td>\n",
       "      <td>0</td>\n",
       "      <td>0</td>\n",
       "      <td>0.000000</td>\n",
       "      <td>108</td>\n",
       "      <td>0</td>\n",
       "    </tr>\n",
       "    <tr>\n",
       "      <th>16996</th>\n",
       "      <td>0</td>\n",
       "      <td>0</td>\n",
       "      <td>0</td>\n",
       "      <td>0</td>\n",
       "      <td>0</td>\n",
       "      <td>0</td>\n",
       "      <td>0</td>\n",
       "      <td>0</td>\n",
       "      <td>0</td>\n",
       "      <td>0</td>\n",
       "      <td>0</td>\n",
       "      <td>0</td>\n",
       "      <td>0</td>\n",
       "      <td>0</td>\n",
       "      <td>0</td>\n",
       "      <td>0</td>\n",
       "      <td>0</td>\n",
       "      <td>0.000000</td>\n",
       "      <td>57</td>\n",
       "      <td>0</td>\n",
       "    </tr>\n",
       "    <tr>\n",
       "      <th>16997</th>\n",
       "      <td>0</td>\n",
       "      <td>0</td>\n",
       "      <td>0</td>\n",
       "      <td>0</td>\n",
       "      <td>0</td>\n",
       "      <td>0</td>\n",
       "      <td>0</td>\n",
       "      <td>1</td>\n",
       "      <td>0</td>\n",
       "      <td>0</td>\n",
       "      <td>0</td>\n",
       "      <td>0</td>\n",
       "      <td>0</td>\n",
       "      <td>0</td>\n",
       "      <td>0</td>\n",
       "      <td>0</td>\n",
       "      <td>0</td>\n",
       "      <td>0.011765</td>\n",
       "      <td>75</td>\n",
       "      <td>0</td>\n",
       "    </tr>\n",
       "    <tr>\n",
       "      <th>16998</th>\n",
       "      <td>0</td>\n",
       "      <td>0</td>\n",
       "      <td>0</td>\n",
       "      <td>0</td>\n",
       "      <td>0</td>\n",
       "      <td>0</td>\n",
       "      <td>0</td>\n",
       "      <td>0</td>\n",
       "      <td>0</td>\n",
       "      <td>0</td>\n",
       "      <td>0</td>\n",
       "      <td>0</td>\n",
       "      <td>0</td>\n",
       "      <td>0</td>\n",
       "      <td>0</td>\n",
       "      <td>0</td>\n",
       "      <td>0</td>\n",
       "      <td>0.000000</td>\n",
       "      <td>51</td>\n",
       "      <td>0</td>\n",
       "    </tr>\n",
       "    <tr>\n",
       "      <th>16999</th>\n",
       "      <td>0</td>\n",
       "      <td>0</td>\n",
       "      <td>0</td>\n",
       "      <td>0</td>\n",
       "      <td>0</td>\n",
       "      <td>0</td>\n",
       "      <td>0</td>\n",
       "      <td>0</td>\n",
       "      <td>0</td>\n",
       "      <td>0</td>\n",
       "      <td>0</td>\n",
       "      <td>0</td>\n",
       "      <td>0</td>\n",
       "      <td>0</td>\n",
       "      <td>0</td>\n",
       "      <td>0</td>\n",
       "      <td>0</td>\n",
       "      <td>0.000000</td>\n",
       "      <td>76</td>\n",
       "      <td>0</td>\n",
       "    </tr>\n",
       "  </tbody>\n",
       "</table>\n",
       "<p>17000 rows × 20 columns</p>\n",
       "</div>"
      ],
      "text/plain": [
       "       Account  Access  Bank  Credit  Click  Identity  Inconvenience  \\\n",
       "0            2       0     0       0      1         0              0   \n",
       "1            0       0     0       0      0         0              0   \n",
       "2            0       0     0       2      0         0              0   \n",
       "3            0       0     0       1      1         0              0   \n",
       "4            7       3     0       0      0         1              0   \n",
       "...        ...     ...   ...     ...    ...       ...            ...   \n",
       "16995        0       0     0       0      0         0              0   \n",
       "16996        0       0     0       0      0         0              0   \n",
       "16997        0       0     0       0      0         0              0   \n",
       "16998        0       0     0       0      0         0              0   \n",
       "16999        0       0     0       0      0         0              0   \n",
       "\n",
       "       Information  Limited  Minutes  Password  Recently  Risk  Social  \\\n",
       "0                1        0        0         1         1     0       0   \n",
       "1                4        0        0         0         0     0       0   \n",
       "2                2        0        0         0         0     0       0   \n",
       "3                0        0        0         0         0     0       0   \n",
       "4                2        0        0         0         0     0       0   \n",
       "...            ...      ...      ...       ...       ...   ...     ...   \n",
       "16995            0        0        0         0         0     0       0   \n",
       "16996            0        0        0         0         0     0       0   \n",
       "16997            1        0        0         0         0     0       0   \n",
       "16998            0        0        0         0         0     0       0   \n",
       "16999            0        0        0         0         0     0       0   \n",
       "\n",
       "       Security  Service  Suspended  Total number of Function words/W  \\\n",
       "0             0        0          0                          0.027907   \n",
       "1             3        1          0                          0.013008   \n",
       "2             0        0          0                          0.006116   \n",
       "3             0        0          0                          0.012048   \n",
       "4             0        0          2                          0.063025   \n",
       "...         ...      ...        ...                               ...   \n",
       "16995         0        0          0                          0.000000   \n",
       "16996         0        0          0                          0.000000   \n",
       "16997         0        0          0                          0.011765   \n",
       "16998         0        0          0                          0.000000   \n",
       "16999         0        0          0                          0.000000   \n",
       "\n",
       "       Unique Words  Phishing Status  \n",
       "0               132                1  \n",
       "1               338                1  \n",
       "2               292                1  \n",
       "3               102                1  \n",
       "4               136                1  \n",
       "...             ...              ...  \n",
       "16995           108                0  \n",
       "16996            57                0  \n",
       "16997            75                0  \n",
       "16998            51                0  \n",
       "16999            76                0  \n",
       "\n",
       "[17000 rows x 20 columns]"
      ]
     },
     "execution_count": 36,
     "metadata": {},
     "output_type": "execute_result"
    }
   ],
   "source": [
    "df"
   ]
  },
  {
   "cell_type": "code",
   "execution_count": 37,
   "id": "5479d470",
   "metadata": {},
   "outputs": [
    {
     "data": {
      "text/plain": [
       "(17000, 20)"
      ]
     },
     "execution_count": 37,
     "metadata": {},
     "output_type": "execute_result"
    }
   ],
   "source": [
    "df.shape"
   ]
  },
  {
   "cell_type": "code",
   "execution_count": 38,
   "id": "f75d90a3",
   "metadata": {},
   "outputs": [
    {
     "data": {
      "text/html": [
       "<div>\n",
       "<style scoped>\n",
       "    .dataframe tbody tr th:only-of-type {\n",
       "        vertical-align: middle;\n",
       "    }\n",
       "\n",
       "    .dataframe tbody tr th {\n",
       "        vertical-align: top;\n",
       "    }\n",
       "\n",
       "    .dataframe thead th {\n",
       "        text-align: right;\n",
       "    }\n",
       "</style>\n",
       "<table border=\"1\" class=\"dataframe\">\n",
       "  <thead>\n",
       "    <tr style=\"text-align: right;\">\n",
       "      <th></th>\n",
       "      <th>Account</th>\n",
       "      <th>Access</th>\n",
       "      <th>Bank</th>\n",
       "      <th>Credit</th>\n",
       "      <th>Click</th>\n",
       "      <th>Identity</th>\n",
       "      <th>Inconvenience</th>\n",
       "      <th>Information</th>\n",
       "      <th>Limited</th>\n",
       "      <th>Minutes</th>\n",
       "      <th>Password</th>\n",
       "      <th>Recently</th>\n",
       "      <th>Risk</th>\n",
       "      <th>Social</th>\n",
       "      <th>Security</th>\n",
       "      <th>Service</th>\n",
       "      <th>Suspended</th>\n",
       "      <th>Total number of Function words/W</th>\n",
       "      <th>Unique Words</th>\n",
       "      <th>Phishing Status</th>\n",
       "    </tr>\n",
       "  </thead>\n",
       "  <tbody>\n",
       "    <tr>\n",
       "      <th>0</th>\n",
       "      <td>2</td>\n",
       "      <td>0</td>\n",
       "      <td>0</td>\n",
       "      <td>0</td>\n",
       "      <td>1</td>\n",
       "      <td>0</td>\n",
       "      <td>0</td>\n",
       "      <td>1</td>\n",
       "      <td>0</td>\n",
       "      <td>0</td>\n",
       "      <td>1</td>\n",
       "      <td>1</td>\n",
       "      <td>0</td>\n",
       "      <td>0</td>\n",
       "      <td>0</td>\n",
       "      <td>0</td>\n",
       "      <td>0</td>\n",
       "      <td>0.027907</td>\n",
       "      <td>132</td>\n",
       "      <td>1</td>\n",
       "    </tr>\n",
       "    <tr>\n",
       "      <th>1</th>\n",
       "      <td>0</td>\n",
       "      <td>0</td>\n",
       "      <td>0</td>\n",
       "      <td>0</td>\n",
       "      <td>0</td>\n",
       "      <td>0</td>\n",
       "      <td>0</td>\n",
       "      <td>4</td>\n",
       "      <td>0</td>\n",
       "      <td>0</td>\n",
       "      <td>0</td>\n",
       "      <td>0</td>\n",
       "      <td>0</td>\n",
       "      <td>0</td>\n",
       "      <td>3</td>\n",
       "      <td>1</td>\n",
       "      <td>0</td>\n",
       "      <td>0.013008</td>\n",
       "      <td>338</td>\n",
       "      <td>1</td>\n",
       "    </tr>\n",
       "    <tr>\n",
       "      <th>2</th>\n",
       "      <td>0</td>\n",
       "      <td>0</td>\n",
       "      <td>0</td>\n",
       "      <td>2</td>\n",
       "      <td>0</td>\n",
       "      <td>0</td>\n",
       "      <td>0</td>\n",
       "      <td>2</td>\n",
       "      <td>0</td>\n",
       "      <td>0</td>\n",
       "      <td>0</td>\n",
       "      <td>0</td>\n",
       "      <td>0</td>\n",
       "      <td>0</td>\n",
       "      <td>0</td>\n",
       "      <td>0</td>\n",
       "      <td>0</td>\n",
       "      <td>0.006116</td>\n",
       "      <td>292</td>\n",
       "      <td>1</td>\n",
       "    </tr>\n",
       "    <tr>\n",
       "      <th>3</th>\n",
       "      <td>0</td>\n",
       "      <td>0</td>\n",
       "      <td>0</td>\n",
       "      <td>1</td>\n",
       "      <td>1</td>\n",
       "      <td>0</td>\n",
       "      <td>0</td>\n",
       "      <td>0</td>\n",
       "      <td>0</td>\n",
       "      <td>0</td>\n",
       "      <td>0</td>\n",
       "      <td>0</td>\n",
       "      <td>0</td>\n",
       "      <td>0</td>\n",
       "      <td>0</td>\n",
       "      <td>0</td>\n",
       "      <td>0</td>\n",
       "      <td>0.012048</td>\n",
       "      <td>102</td>\n",
       "      <td>1</td>\n",
       "    </tr>\n",
       "    <tr>\n",
       "      <th>4</th>\n",
       "      <td>7</td>\n",
       "      <td>3</td>\n",
       "      <td>0</td>\n",
       "      <td>0</td>\n",
       "      <td>0</td>\n",
       "      <td>1</td>\n",
       "      <td>0</td>\n",
       "      <td>2</td>\n",
       "      <td>0</td>\n",
       "      <td>0</td>\n",
       "      <td>0</td>\n",
       "      <td>0</td>\n",
       "      <td>0</td>\n",
       "      <td>0</td>\n",
       "      <td>0</td>\n",
       "      <td>0</td>\n",
       "      <td>2</td>\n",
       "      <td>0.063025</td>\n",
       "      <td>136</td>\n",
       "      <td>1</td>\n",
       "    </tr>\n",
       "  </tbody>\n",
       "</table>\n",
       "</div>"
      ],
      "text/plain": [
       "   Account  Access  Bank  Credit  Click  Identity  Inconvenience  Information  \\\n",
       "0        2       0     0       0      1         0              0            1   \n",
       "1        0       0     0       0      0         0              0            4   \n",
       "2        0       0     0       2      0         0              0            2   \n",
       "3        0       0     0       1      1         0              0            0   \n",
       "4        7       3     0       0      0         1              0            2   \n",
       "\n",
       "   Limited  Minutes  Password  Recently  Risk  Social  Security  Service  \\\n",
       "0        0        0         1         1     0       0         0        0   \n",
       "1        0        0         0         0     0       0         3        1   \n",
       "2        0        0         0         0     0       0         0        0   \n",
       "3        0        0         0         0     0       0         0        0   \n",
       "4        0        0         0         0     0       0         0        0   \n",
       "\n",
       "   Suspended  Total number of Function words/W  Unique Words  Phishing Status  \n",
       "0          0                          0.027907           132                1  \n",
       "1          0                          0.013008           338                1  \n",
       "2          0                          0.006116           292                1  \n",
       "3          0                          0.012048           102                1  \n",
       "4          2                          0.063025           136                1  "
      ]
     },
     "execution_count": 38,
     "metadata": {},
     "output_type": "execute_result"
    }
   ],
   "source": [
    "df.head()"
   ]
  },
  {
   "cell_type": "markdown",
   "id": "09a65d40",
   "metadata": {},
   "source": [
    "# seperate x, y"
   ]
  },
  {
   "cell_type": "code",
   "execution_count": 39,
   "id": "89643b15",
   "metadata": {},
   "outputs": [],
   "source": [
    "x = df.drop('Phishing Status',axis=1) #separate dependent and independent variable\n",
    "y = df['Phishing Status']"
   ]
  },
  {
   "cell_type": "code",
   "execution_count": 40,
   "id": "a65a4920",
   "metadata": {},
   "outputs": [
    {
     "data": {
      "text/html": [
       "<div>\n",
       "<style scoped>\n",
       "    .dataframe tbody tr th:only-of-type {\n",
       "        vertical-align: middle;\n",
       "    }\n",
       "\n",
       "    .dataframe tbody tr th {\n",
       "        vertical-align: top;\n",
       "    }\n",
       "\n",
       "    .dataframe thead th {\n",
       "        text-align: right;\n",
       "    }\n",
       "</style>\n",
       "<table border=\"1\" class=\"dataframe\">\n",
       "  <thead>\n",
       "    <tr style=\"text-align: right;\">\n",
       "      <th></th>\n",
       "      <th>Account</th>\n",
       "      <th>Access</th>\n",
       "      <th>Bank</th>\n",
       "      <th>Credit</th>\n",
       "      <th>Click</th>\n",
       "      <th>Identity</th>\n",
       "      <th>Inconvenience</th>\n",
       "      <th>Information</th>\n",
       "      <th>Limited</th>\n",
       "      <th>Minutes</th>\n",
       "      <th>Password</th>\n",
       "      <th>Recently</th>\n",
       "      <th>Risk</th>\n",
       "      <th>Social</th>\n",
       "      <th>Security</th>\n",
       "      <th>Service</th>\n",
       "      <th>Suspended</th>\n",
       "      <th>Total number of Function words/W</th>\n",
       "      <th>Unique Words</th>\n",
       "    </tr>\n",
       "  </thead>\n",
       "  <tbody>\n",
       "    <tr>\n",
       "      <th>0</th>\n",
       "      <td>2</td>\n",
       "      <td>0</td>\n",
       "      <td>0</td>\n",
       "      <td>0</td>\n",
       "      <td>1</td>\n",
       "      <td>0</td>\n",
       "      <td>0</td>\n",
       "      <td>1</td>\n",
       "      <td>0</td>\n",
       "      <td>0</td>\n",
       "      <td>1</td>\n",
       "      <td>1</td>\n",
       "      <td>0</td>\n",
       "      <td>0</td>\n",
       "      <td>0</td>\n",
       "      <td>0</td>\n",
       "      <td>0</td>\n",
       "      <td>0.027907</td>\n",
       "      <td>132</td>\n",
       "    </tr>\n",
       "    <tr>\n",
       "      <th>1</th>\n",
       "      <td>0</td>\n",
       "      <td>0</td>\n",
       "      <td>0</td>\n",
       "      <td>0</td>\n",
       "      <td>0</td>\n",
       "      <td>0</td>\n",
       "      <td>0</td>\n",
       "      <td>4</td>\n",
       "      <td>0</td>\n",
       "      <td>0</td>\n",
       "      <td>0</td>\n",
       "      <td>0</td>\n",
       "      <td>0</td>\n",
       "      <td>0</td>\n",
       "      <td>3</td>\n",
       "      <td>1</td>\n",
       "      <td>0</td>\n",
       "      <td>0.013008</td>\n",
       "      <td>338</td>\n",
       "    </tr>\n",
       "    <tr>\n",
       "      <th>2</th>\n",
       "      <td>0</td>\n",
       "      <td>0</td>\n",
       "      <td>0</td>\n",
       "      <td>2</td>\n",
       "      <td>0</td>\n",
       "      <td>0</td>\n",
       "      <td>0</td>\n",
       "      <td>2</td>\n",
       "      <td>0</td>\n",
       "      <td>0</td>\n",
       "      <td>0</td>\n",
       "      <td>0</td>\n",
       "      <td>0</td>\n",
       "      <td>0</td>\n",
       "      <td>0</td>\n",
       "      <td>0</td>\n",
       "      <td>0</td>\n",
       "      <td>0.006116</td>\n",
       "      <td>292</td>\n",
       "    </tr>\n",
       "    <tr>\n",
       "      <th>3</th>\n",
       "      <td>0</td>\n",
       "      <td>0</td>\n",
       "      <td>0</td>\n",
       "      <td>1</td>\n",
       "      <td>1</td>\n",
       "      <td>0</td>\n",
       "      <td>0</td>\n",
       "      <td>0</td>\n",
       "      <td>0</td>\n",
       "      <td>0</td>\n",
       "      <td>0</td>\n",
       "      <td>0</td>\n",
       "      <td>0</td>\n",
       "      <td>0</td>\n",
       "      <td>0</td>\n",
       "      <td>0</td>\n",
       "      <td>0</td>\n",
       "      <td>0.012048</td>\n",
       "      <td>102</td>\n",
       "    </tr>\n",
       "    <tr>\n",
       "      <th>4</th>\n",
       "      <td>7</td>\n",
       "      <td>3</td>\n",
       "      <td>0</td>\n",
       "      <td>0</td>\n",
       "      <td>0</td>\n",
       "      <td>1</td>\n",
       "      <td>0</td>\n",
       "      <td>2</td>\n",
       "      <td>0</td>\n",
       "      <td>0</td>\n",
       "      <td>0</td>\n",
       "      <td>0</td>\n",
       "      <td>0</td>\n",
       "      <td>0</td>\n",
       "      <td>0</td>\n",
       "      <td>0</td>\n",
       "      <td>2</td>\n",
       "      <td>0.063025</td>\n",
       "      <td>136</td>\n",
       "    </tr>\n",
       "  </tbody>\n",
       "</table>\n",
       "</div>"
      ],
      "text/plain": [
       "   Account  Access  Bank  Credit  Click  Identity  Inconvenience  Information  \\\n",
       "0        2       0     0       0      1         0              0            1   \n",
       "1        0       0     0       0      0         0              0            4   \n",
       "2        0       0     0       2      0         0              0            2   \n",
       "3        0       0     0       1      1         0              0            0   \n",
       "4        7       3     0       0      0         1              0            2   \n",
       "\n",
       "   Limited  Minutes  Password  Recently  Risk  Social  Security  Service  \\\n",
       "0        0        0         1         1     0       0         0        0   \n",
       "1        0        0         0         0     0       0         3        1   \n",
       "2        0        0         0         0     0       0         0        0   \n",
       "3        0        0         0         0     0       0         0        0   \n",
       "4        0        0         0         0     0       0         0        0   \n",
       "\n",
       "   Suspended  Total number of Function words/W  Unique Words  \n",
       "0          0                          0.027907           132  \n",
       "1          0                          0.013008           338  \n",
       "2          0                          0.006116           292  \n",
       "3          0                          0.012048           102  \n",
       "4          2                          0.063025           136  "
      ]
     },
     "execution_count": 40,
     "metadata": {},
     "output_type": "execute_result"
    }
   ],
   "source": [
    "x.head()"
   ]
  },
  {
   "cell_type": "code",
   "execution_count": 41,
   "id": "891988a6",
   "metadata": {},
   "outputs": [
    {
     "data": {
      "text/plain": [
       "(17000, 19)"
      ]
     },
     "execution_count": 41,
     "metadata": {},
     "output_type": "execute_result"
    }
   ],
   "source": [
    "x.shape"
   ]
  },
  {
   "cell_type": "code",
   "execution_count": 42,
   "id": "e9666d86",
   "metadata": {},
   "outputs": [
    {
     "data": {
      "text/plain": [
       "0    1\n",
       "1    1\n",
       "2    1\n",
       "3    1\n",
       "4    1\n",
       "Name: Phishing Status, dtype: int64"
      ]
     },
     "execution_count": 42,
     "metadata": {},
     "output_type": "execute_result"
    }
   ],
   "source": [
    "y.head()"
   ]
  },
  {
   "cell_type": "code",
   "execution_count": 43,
   "id": "8ca8618a",
   "metadata": {},
   "outputs": [
    {
     "data": {
      "text/plain": [
       "(17000,)"
      ]
     },
     "execution_count": 43,
     "metadata": {},
     "output_type": "execute_result"
    }
   ],
   "source": [
    "y.shape"
   ]
  },
  {
   "cell_type": "markdown",
   "id": "a3c91ebc",
   "metadata": {},
   "source": [
    "# Imbalanced Data Handling "
   ]
  },
  {
   "cell_type": "code",
   "execution_count": 44,
   "id": "7b5fc859",
   "metadata": {},
   "outputs": [
    {
     "data": {
      "text/plain": [
       "0    8648\n",
       "1    8352\n",
       "Name: Phishing Status, dtype: int64"
      ]
     },
     "execution_count": 44,
     "metadata": {},
     "output_type": "execute_result"
    }
   ],
   "source": [
    "df['Phishing Status'].value_counts()"
   ]
  },
  {
   "cell_type": "code",
   "execution_count": 45,
   "id": "2c6e771c",
   "metadata": {},
   "outputs": [],
   "source": [
    "Phishing_no=  8648/(8648+8352)*100\n",
    "Phishing_yes= 8352/(8648+8352)*100"
   ]
  },
  {
   "cell_type": "code",
   "execution_count": 46,
   "id": "02e9c1b2",
   "metadata": {},
   "outputs": [
    {
     "name": "stdout",
     "output_type": "stream",
     "text": [
      "Phishing Status no 74.82062104311125 \n",
      "Phishing Status yes 25.179378956888755 \n"
     ]
    }
   ],
   "source": [
    "print('Phishing Status no {} '.format(Phishing_no))\n",
    "print('Phishing Status yes {} '.format(Phishing_yes))"
   ]
  },
  {
   "cell_type": "markdown",
   "id": "de7af23c",
   "metadata": {},
   "source": [
    "# TASK 2"
   ]
  },
  {
   "cell_type": "markdown",
   "id": "03f6c92d",
   "metadata": {},
   "source": [
    "# Synthetic Minority Oversampling Technique (SMOTETomek)"
   ]
  },
  {
   "cell_type": "code",
   "execution_count": 47,
   "id": "9a3f525a",
   "metadata": {},
   "outputs": [
    {
     "name": "stdout",
     "output_type": "stream",
     "text": [
      "Requirement already satisfied: imblearn in c:\\users\\runa\\anaconda3\\lib\\site-packages (0.0)\n",
      "Requirement already satisfied: imbalanced-learn in c:\\users\\runa\\anaconda3\\lib\\site-packages (from imblearn) (0.9.1)\n",
      "Requirement already satisfied: scikit-learn>=1.1.0 in c:\\users\\runa\\anaconda3\\lib\\site-packages (from imbalanced-learn->imblearn) (1.1.1)\n",
      "Requirement already satisfied: joblib>=1.0.0 in c:\\users\\runa\\anaconda3\\lib\\site-packages (from imbalanced-learn->imblearn) (1.1.0)\n",
      "Requirement already satisfied: numpy>=1.17.3 in c:\\users\\runa\\anaconda3\\lib\\site-packages (from imbalanced-learn->imblearn) (1.20.3)\n",
      "Requirement already satisfied: scipy>=1.3.2 in c:\\users\\runa\\anaconda3\\lib\\site-packages (from imbalanced-learn->imblearn) (1.7.1)\n",
      "Requirement already satisfied: threadpoolctl>=2.0.0 in c:\\users\\runa\\anaconda3\\lib\\site-packages (from imbalanced-learn->imblearn) (2.2.0)\n"
     ]
    }
   ],
   "source": [
    "!pip install imblearn"
   ]
  },
  {
   "cell_type": "code",
   "execution_count": 48,
   "id": "1572e4d7",
   "metadata": {},
   "outputs": [],
   "source": [
    "#from sklearn.datasets import make_classification\n",
    "\n",
    "#from collections import Counter\n",
    "#from imblearn.over_sampling import SMOTE \n",
    "from imblearn.combine import SMOTETomek"
   ]
  },
  {
   "cell_type": "code",
   "execution_count": 49,
   "id": "da90ad61",
   "metadata": {},
   "outputs": [],
   "source": [
    "sm = SMOTETomek(random_state=42)"
   ]
  },
  {
   "cell_type": "code",
   "execution_count": 50,
   "id": "33da17cb",
   "metadata": {},
   "outputs": [
    {
     "data": {
      "text/plain": [
       "0    8648\n",
       "1    8352\n",
       "Name: Phishing Status, dtype: int64"
      ]
     },
     "execution_count": 50,
     "metadata": {},
     "output_type": "execute_result"
    }
   ],
   "source": [
    "y.value_counts()"
   ]
  },
  {
   "cell_type": "code",
   "execution_count": 51,
   "id": "9d690198",
   "metadata": {},
   "outputs": [],
   "source": [
    "X,Y = sm.fit_resample(x,y)"
   ]
  },
  {
   "cell_type": "code",
   "execution_count": 52,
   "id": "a5f5c82c",
   "metadata": {},
   "outputs": [
    {
     "data": {
      "text/plain": [
       "(16954, 19)"
      ]
     },
     "execution_count": 52,
     "metadata": {},
     "output_type": "execute_result"
    }
   ],
   "source": [
    "X.shape"
   ]
  },
  {
   "cell_type": "code",
   "execution_count": 53,
   "id": "347deb31",
   "metadata": {},
   "outputs": [
    {
     "data": {
      "text/plain": [
       "(16954,)"
      ]
     },
     "execution_count": 53,
     "metadata": {},
     "output_type": "execute_result"
    }
   ],
   "source": [
    "Y.shape"
   ]
  },
  {
   "cell_type": "code",
   "execution_count": 54,
   "id": "f082e117",
   "metadata": {},
   "outputs": [
    {
     "data": {
      "text/plain": [
       "1    8477\n",
       "0    8477\n",
       "Name: Phishing Status, dtype: int64"
      ]
     },
     "execution_count": 54,
     "metadata": {},
     "output_type": "execute_result"
    }
   ],
   "source": [
    "Y.value_counts()"
   ]
  },
  {
   "cell_type": "code",
   "execution_count": 55,
   "id": "b9e43155",
   "metadata": {},
   "outputs": [
    {
     "data": {
      "text/html": [
       "<div>\n",
       "<style scoped>\n",
       "    .dataframe tbody tr th:only-of-type {\n",
       "        vertical-align: middle;\n",
       "    }\n",
       "\n",
       "    .dataframe tbody tr th {\n",
       "        vertical-align: top;\n",
       "    }\n",
       "\n",
       "    .dataframe thead th {\n",
       "        text-align: right;\n",
       "    }\n",
       "</style>\n",
       "<table border=\"1\" class=\"dataframe\">\n",
       "  <thead>\n",
       "    <tr style=\"text-align: right;\">\n",
       "      <th></th>\n",
       "      <th>Account</th>\n",
       "      <th>Access</th>\n",
       "      <th>Bank</th>\n",
       "      <th>Credit</th>\n",
       "      <th>Click</th>\n",
       "      <th>Identity</th>\n",
       "      <th>Inconvenience</th>\n",
       "      <th>Information</th>\n",
       "      <th>Limited</th>\n",
       "      <th>Minutes</th>\n",
       "      <th>Password</th>\n",
       "      <th>Recently</th>\n",
       "      <th>Risk</th>\n",
       "      <th>Social</th>\n",
       "      <th>Security</th>\n",
       "      <th>Service</th>\n",
       "      <th>Suspended</th>\n",
       "      <th>Total number of Function words/W</th>\n",
       "      <th>Unique Words</th>\n",
       "    </tr>\n",
       "  </thead>\n",
       "  <tbody>\n",
       "    <tr>\n",
       "      <th>0</th>\n",
       "      <td>2</td>\n",
       "      <td>0</td>\n",
       "      <td>0</td>\n",
       "      <td>0</td>\n",
       "      <td>1</td>\n",
       "      <td>0</td>\n",
       "      <td>0</td>\n",
       "      <td>1</td>\n",
       "      <td>0</td>\n",
       "      <td>0</td>\n",
       "      <td>1</td>\n",
       "      <td>1</td>\n",
       "      <td>0</td>\n",
       "      <td>0</td>\n",
       "      <td>0</td>\n",
       "      <td>0</td>\n",
       "      <td>0</td>\n",
       "      <td>0.027907</td>\n",
       "      <td>132</td>\n",
       "    </tr>\n",
       "    <tr>\n",
       "      <th>1</th>\n",
       "      <td>0</td>\n",
       "      <td>0</td>\n",
       "      <td>0</td>\n",
       "      <td>0</td>\n",
       "      <td>0</td>\n",
       "      <td>0</td>\n",
       "      <td>0</td>\n",
       "      <td>4</td>\n",
       "      <td>0</td>\n",
       "      <td>0</td>\n",
       "      <td>0</td>\n",
       "      <td>0</td>\n",
       "      <td>0</td>\n",
       "      <td>0</td>\n",
       "      <td>3</td>\n",
       "      <td>1</td>\n",
       "      <td>0</td>\n",
       "      <td>0.013008</td>\n",
       "      <td>338</td>\n",
       "    </tr>\n",
       "    <tr>\n",
       "      <th>2</th>\n",
       "      <td>0</td>\n",
       "      <td>0</td>\n",
       "      <td>0</td>\n",
       "      <td>2</td>\n",
       "      <td>0</td>\n",
       "      <td>0</td>\n",
       "      <td>0</td>\n",
       "      <td>2</td>\n",
       "      <td>0</td>\n",
       "      <td>0</td>\n",
       "      <td>0</td>\n",
       "      <td>0</td>\n",
       "      <td>0</td>\n",
       "      <td>0</td>\n",
       "      <td>0</td>\n",
       "      <td>0</td>\n",
       "      <td>0</td>\n",
       "      <td>0.006116</td>\n",
       "      <td>292</td>\n",
       "    </tr>\n",
       "    <tr>\n",
       "      <th>3</th>\n",
       "      <td>0</td>\n",
       "      <td>0</td>\n",
       "      <td>0</td>\n",
       "      <td>1</td>\n",
       "      <td>1</td>\n",
       "      <td>0</td>\n",
       "      <td>0</td>\n",
       "      <td>0</td>\n",
       "      <td>0</td>\n",
       "      <td>0</td>\n",
       "      <td>0</td>\n",
       "      <td>0</td>\n",
       "      <td>0</td>\n",
       "      <td>0</td>\n",
       "      <td>0</td>\n",
       "      <td>0</td>\n",
       "      <td>0</td>\n",
       "      <td>0.012048</td>\n",
       "      <td>102</td>\n",
       "    </tr>\n",
       "    <tr>\n",
       "      <th>4</th>\n",
       "      <td>7</td>\n",
       "      <td>3</td>\n",
       "      <td>0</td>\n",
       "      <td>0</td>\n",
       "      <td>0</td>\n",
       "      <td>1</td>\n",
       "      <td>0</td>\n",
       "      <td>2</td>\n",
       "      <td>0</td>\n",
       "      <td>0</td>\n",
       "      <td>0</td>\n",
       "      <td>0</td>\n",
       "      <td>0</td>\n",
       "      <td>0</td>\n",
       "      <td>0</td>\n",
       "      <td>0</td>\n",
       "      <td>2</td>\n",
       "      <td>0.063025</td>\n",
       "      <td>136</td>\n",
       "    </tr>\n",
       "  </tbody>\n",
       "</table>\n",
       "</div>"
      ],
      "text/plain": [
       "   Account  Access  Bank  Credit  Click  Identity  Inconvenience  Information  \\\n",
       "0        2       0     0       0      1         0              0            1   \n",
       "1        0       0     0       0      0         0              0            4   \n",
       "2        0       0     0       2      0         0              0            2   \n",
       "3        0       0     0       1      1         0              0            0   \n",
       "4        7       3     0       0      0         1              0            2   \n",
       "\n",
       "   Limited  Minutes  Password  Recently  Risk  Social  Security  Service  \\\n",
       "0        0        0         1         1     0       0         0        0   \n",
       "1        0        0         0         0     0       0         3        1   \n",
       "2        0        0         0         0     0       0         0        0   \n",
       "3        0        0         0         0     0       0         0        0   \n",
       "4        0        0         0         0     0       0         0        0   \n",
       "\n",
       "   Suspended  Total number of Function words/W  Unique Words  \n",
       "0          0                          0.027907           132  \n",
       "1          0                          0.013008           338  \n",
       "2          0                          0.006116           292  \n",
       "3          0                          0.012048           102  \n",
       "4          2                          0.063025           136  "
      ]
     },
     "execution_count": 55,
     "metadata": {},
     "output_type": "execute_result"
    }
   ],
   "source": [
    "X.head()"
   ]
  },
  {
   "cell_type": "markdown",
   "id": "1f47ffd7",
   "metadata": {},
   "source": [
    "# Near Miss for Under_Sampling"
   ]
  },
  {
   "cell_type": "code",
   "execution_count": 56,
   "id": "bf5625f5",
   "metadata": {},
   "outputs": [],
   "source": [
    "from imblearn.under_sampling import NearMiss"
   ]
  },
  {
   "cell_type": "code",
   "execution_count": 57,
   "id": "e160cfbb",
   "metadata": {},
   "outputs": [],
   "source": [
    "\n",
    "NearMiss_obj = NearMiss()\n",
    "new_x , new_y = NearMiss_obj.fit_resample(x,y)"
   ]
  },
  {
   "cell_type": "code",
   "execution_count": 58,
   "id": "d6a89c72",
   "metadata": {},
   "outputs": [
    {
     "data": {
      "text/html": [
       "<div>\n",
       "<style scoped>\n",
       "    .dataframe tbody tr th:only-of-type {\n",
       "        vertical-align: middle;\n",
       "    }\n",
       "\n",
       "    .dataframe tbody tr th {\n",
       "        vertical-align: top;\n",
       "    }\n",
       "\n",
       "    .dataframe thead th {\n",
       "        text-align: right;\n",
       "    }\n",
       "</style>\n",
       "<table border=\"1\" class=\"dataframe\">\n",
       "  <thead>\n",
       "    <tr style=\"text-align: right;\">\n",
       "      <th></th>\n",
       "      <th>Account</th>\n",
       "      <th>Access</th>\n",
       "      <th>Bank</th>\n",
       "      <th>Credit</th>\n",
       "      <th>Click</th>\n",
       "      <th>Identity</th>\n",
       "      <th>Inconvenience</th>\n",
       "      <th>Information</th>\n",
       "      <th>Limited</th>\n",
       "      <th>Minutes</th>\n",
       "      <th>Password</th>\n",
       "      <th>Recently</th>\n",
       "      <th>Risk</th>\n",
       "      <th>Social</th>\n",
       "      <th>Security</th>\n",
       "      <th>Service</th>\n",
       "      <th>Suspended</th>\n",
       "      <th>Total number of Function words/W</th>\n",
       "      <th>Unique Words</th>\n",
       "    </tr>\n",
       "  </thead>\n",
       "  <tbody>\n",
       "    <tr>\n",
       "      <th>0</th>\n",
       "      <td>0</td>\n",
       "      <td>0</td>\n",
       "      <td>0</td>\n",
       "      <td>0</td>\n",
       "      <td>0</td>\n",
       "      <td>0</td>\n",
       "      <td>0</td>\n",
       "      <td>0</td>\n",
       "      <td>0</td>\n",
       "      <td>0</td>\n",
       "      <td>0</td>\n",
       "      <td>0</td>\n",
       "      <td>0</td>\n",
       "      <td>0</td>\n",
       "      <td>0</td>\n",
       "      <td>0</td>\n",
       "      <td>0</td>\n",
       "      <td>0.000000</td>\n",
       "      <td>43</td>\n",
       "    </tr>\n",
       "    <tr>\n",
       "      <th>1</th>\n",
       "      <td>0</td>\n",
       "      <td>0</td>\n",
       "      <td>0</td>\n",
       "      <td>0</td>\n",
       "      <td>0</td>\n",
       "      <td>0</td>\n",
       "      <td>0</td>\n",
       "      <td>0</td>\n",
       "      <td>0</td>\n",
       "      <td>0</td>\n",
       "      <td>0</td>\n",
       "      <td>0</td>\n",
       "      <td>0</td>\n",
       "      <td>0</td>\n",
       "      <td>0</td>\n",
       "      <td>0</td>\n",
       "      <td>0</td>\n",
       "      <td>0.000000</td>\n",
       "      <td>114</td>\n",
       "    </tr>\n",
       "    <tr>\n",
       "      <th>2</th>\n",
       "      <td>0</td>\n",
       "      <td>0</td>\n",
       "      <td>0</td>\n",
       "      <td>0</td>\n",
       "      <td>0</td>\n",
       "      <td>0</td>\n",
       "      <td>0</td>\n",
       "      <td>0</td>\n",
       "      <td>0</td>\n",
       "      <td>0</td>\n",
       "      <td>0</td>\n",
       "      <td>0</td>\n",
       "      <td>0</td>\n",
       "      <td>0</td>\n",
       "      <td>0</td>\n",
       "      <td>0</td>\n",
       "      <td>0</td>\n",
       "      <td>0.000000</td>\n",
       "      <td>43</td>\n",
       "    </tr>\n",
       "    <tr>\n",
       "      <th>3</th>\n",
       "      <td>0</td>\n",
       "      <td>0</td>\n",
       "      <td>0</td>\n",
       "      <td>0</td>\n",
       "      <td>0</td>\n",
       "      <td>0</td>\n",
       "      <td>0</td>\n",
       "      <td>0</td>\n",
       "      <td>0</td>\n",
       "      <td>0</td>\n",
       "      <td>0</td>\n",
       "      <td>0</td>\n",
       "      <td>0</td>\n",
       "      <td>0</td>\n",
       "      <td>0</td>\n",
       "      <td>0</td>\n",
       "      <td>0</td>\n",
       "      <td>0.000000</td>\n",
       "      <td>59</td>\n",
       "    </tr>\n",
       "    <tr>\n",
       "      <th>4</th>\n",
       "      <td>0</td>\n",
       "      <td>0</td>\n",
       "      <td>0</td>\n",
       "      <td>0</td>\n",
       "      <td>0</td>\n",
       "      <td>0</td>\n",
       "      <td>0</td>\n",
       "      <td>0</td>\n",
       "      <td>0</td>\n",
       "      <td>0</td>\n",
       "      <td>0</td>\n",
       "      <td>0</td>\n",
       "      <td>0</td>\n",
       "      <td>0</td>\n",
       "      <td>0</td>\n",
       "      <td>0</td>\n",
       "      <td>0</td>\n",
       "      <td>0.000000</td>\n",
       "      <td>46</td>\n",
       "    </tr>\n",
       "    <tr>\n",
       "      <th>...</th>\n",
       "      <td>...</td>\n",
       "      <td>...</td>\n",
       "      <td>...</td>\n",
       "      <td>...</td>\n",
       "      <td>...</td>\n",
       "      <td>...</td>\n",
       "      <td>...</td>\n",
       "      <td>...</td>\n",
       "      <td>...</td>\n",
       "      <td>...</td>\n",
       "      <td>...</td>\n",
       "      <td>...</td>\n",
       "      <td>...</td>\n",
       "      <td>...</td>\n",
       "      <td>...</td>\n",
       "      <td>...</td>\n",
       "      <td>...</td>\n",
       "      <td>...</td>\n",
       "      <td>...</td>\n",
       "    </tr>\n",
       "    <tr>\n",
       "      <th>16699</th>\n",
       "      <td>0</td>\n",
       "      <td>0</td>\n",
       "      <td>0</td>\n",
       "      <td>0</td>\n",
       "      <td>0</td>\n",
       "      <td>0</td>\n",
       "      <td>0</td>\n",
       "      <td>0</td>\n",
       "      <td>0</td>\n",
       "      <td>0</td>\n",
       "      <td>0</td>\n",
       "      <td>0</td>\n",
       "      <td>0</td>\n",
       "      <td>0</td>\n",
       "      <td>0</td>\n",
       "      <td>0</td>\n",
       "      <td>0</td>\n",
       "      <td>0.000000</td>\n",
       "      <td>64</td>\n",
       "    </tr>\n",
       "    <tr>\n",
       "      <th>16700</th>\n",
       "      <td>0</td>\n",
       "      <td>0</td>\n",
       "      <td>0</td>\n",
       "      <td>0</td>\n",
       "      <td>1</td>\n",
       "      <td>0</td>\n",
       "      <td>0</td>\n",
       "      <td>0</td>\n",
       "      <td>0</td>\n",
       "      <td>0</td>\n",
       "      <td>0</td>\n",
       "      <td>0</td>\n",
       "      <td>0</td>\n",
       "      <td>0</td>\n",
       "      <td>2</td>\n",
       "      <td>0</td>\n",
       "      <td>0</td>\n",
       "      <td>0.043478</td>\n",
       "      <td>38</td>\n",
       "    </tr>\n",
       "    <tr>\n",
       "      <th>16701</th>\n",
       "      <td>2</td>\n",
       "      <td>0</td>\n",
       "      <td>0</td>\n",
       "      <td>0</td>\n",
       "      <td>0</td>\n",
       "      <td>0</td>\n",
       "      <td>0</td>\n",
       "      <td>0</td>\n",
       "      <td>0</td>\n",
       "      <td>0</td>\n",
       "      <td>0</td>\n",
       "      <td>0</td>\n",
       "      <td>0</td>\n",
       "      <td>0</td>\n",
       "      <td>0</td>\n",
       "      <td>0</td>\n",
       "      <td>0</td>\n",
       "      <td>0.011111</td>\n",
       "      <td>110</td>\n",
       "    </tr>\n",
       "    <tr>\n",
       "      <th>16702</th>\n",
       "      <td>4</td>\n",
       "      <td>0</td>\n",
       "      <td>1</td>\n",
       "      <td>0</td>\n",
       "      <td>0</td>\n",
       "      <td>0</td>\n",
       "      <td>0</td>\n",
       "      <td>0</td>\n",
       "      <td>0</td>\n",
       "      <td>0</td>\n",
       "      <td>0</td>\n",
       "      <td>0</td>\n",
       "      <td>0</td>\n",
       "      <td>0</td>\n",
       "      <td>0</td>\n",
       "      <td>2</td>\n",
       "      <td>0</td>\n",
       "      <td>0.021148</td>\n",
       "      <td>150</td>\n",
       "    </tr>\n",
       "    <tr>\n",
       "      <th>16703</th>\n",
       "      <td>1</td>\n",
       "      <td>0</td>\n",
       "      <td>0</td>\n",
       "      <td>0</td>\n",
       "      <td>0</td>\n",
       "      <td>0</td>\n",
       "      <td>0</td>\n",
       "      <td>0</td>\n",
       "      <td>0</td>\n",
       "      <td>0</td>\n",
       "      <td>0</td>\n",
       "      <td>0</td>\n",
       "      <td>0</td>\n",
       "      <td>0</td>\n",
       "      <td>0</td>\n",
       "      <td>0</td>\n",
       "      <td>0</td>\n",
       "      <td>0.007353</td>\n",
       "      <td>82</td>\n",
       "    </tr>\n",
       "  </tbody>\n",
       "</table>\n",
       "<p>16704 rows × 19 columns</p>\n",
       "</div>"
      ],
      "text/plain": [
       "       Account  Access  Bank  Credit  Click  Identity  Inconvenience  \\\n",
       "0            0       0     0       0      0         0              0   \n",
       "1            0       0     0       0      0         0              0   \n",
       "2            0       0     0       0      0         0              0   \n",
       "3            0       0     0       0      0         0              0   \n",
       "4            0       0     0       0      0         0              0   \n",
       "...        ...     ...   ...     ...    ...       ...            ...   \n",
       "16699        0       0     0       0      0         0              0   \n",
       "16700        0       0     0       0      1         0              0   \n",
       "16701        2       0     0       0      0         0              0   \n",
       "16702        4       0     1       0      0         0              0   \n",
       "16703        1       0     0       0      0         0              0   \n",
       "\n",
       "       Information  Limited  Minutes  Password  Recently  Risk  Social  \\\n",
       "0                0        0        0         0         0     0       0   \n",
       "1                0        0        0         0         0     0       0   \n",
       "2                0        0        0         0         0     0       0   \n",
       "3                0        0        0         0         0     0       0   \n",
       "4                0        0        0         0         0     0       0   \n",
       "...            ...      ...      ...       ...       ...   ...     ...   \n",
       "16699            0        0        0         0         0     0       0   \n",
       "16700            0        0        0         0         0     0       0   \n",
       "16701            0        0        0         0         0     0       0   \n",
       "16702            0        0        0         0         0     0       0   \n",
       "16703            0        0        0         0         0     0       0   \n",
       "\n",
       "       Security  Service  Suspended  Total number of Function words/W  \\\n",
       "0             0        0          0                          0.000000   \n",
       "1             0        0          0                          0.000000   \n",
       "2             0        0          0                          0.000000   \n",
       "3             0        0          0                          0.000000   \n",
       "4             0        0          0                          0.000000   \n",
       "...         ...      ...        ...                               ...   \n",
       "16699         0        0          0                          0.000000   \n",
       "16700         2        0          0                          0.043478   \n",
       "16701         0        0          0                          0.011111   \n",
       "16702         0        2          0                          0.021148   \n",
       "16703         0        0          0                          0.007353   \n",
       "\n",
       "       Unique Words  \n",
       "0                43  \n",
       "1               114  \n",
       "2                43  \n",
       "3                59  \n",
       "4                46  \n",
       "...             ...  \n",
       "16699            64  \n",
       "16700            38  \n",
       "16701           110  \n",
       "16702           150  \n",
       "16703            82  \n",
       "\n",
       "[16704 rows x 19 columns]"
      ]
     },
     "execution_count": 58,
     "metadata": {},
     "output_type": "execute_result"
    }
   ],
   "source": [
    "new_x"
   ]
  },
  {
   "cell_type": "code",
   "execution_count": 59,
   "id": "f3a9adae",
   "metadata": {},
   "outputs": [
    {
     "data": {
      "text/plain": [
       "(16704, 19)"
      ]
     },
     "execution_count": 59,
     "metadata": {},
     "output_type": "execute_result"
    }
   ],
   "source": [
    "new_x.shape"
   ]
  },
  {
   "cell_type": "code",
   "execution_count": 60,
   "id": "d2e6584c",
   "metadata": {},
   "outputs": [
    {
     "data": {
      "text/plain": [
       "0        0\n",
       "1        0\n",
       "2        0\n",
       "3        0\n",
       "4        0\n",
       "        ..\n",
       "16699    1\n",
       "16700    1\n",
       "16701    1\n",
       "16702    1\n",
       "16703    1\n",
       "Name: Phishing Status, Length: 16704, dtype: int64"
      ]
     },
     "execution_count": 60,
     "metadata": {},
     "output_type": "execute_result"
    }
   ],
   "source": [
    "new_y"
   ]
  },
  {
   "cell_type": "code",
   "execution_count": 61,
   "id": "8c07fbcd",
   "metadata": {},
   "outputs": [
    {
     "data": {
      "text/plain": [
       "0    8352\n",
       "1    8352\n",
       "Name: Phishing Status, dtype: int64"
      ]
     },
     "execution_count": 61,
     "metadata": {},
     "output_type": "execute_result"
    }
   ],
   "source": [
    "new_y.value_counts()"
   ]
  },
  {
   "cell_type": "markdown",
   "id": "7738ff72",
   "metadata": {},
   "source": [
    "# Over Sampling"
   ]
  },
  {
   "cell_type": "code",
   "execution_count": 62,
   "id": "f72272be",
   "metadata": {},
   "outputs": [
    {
     "data": {
      "text/html": [
       "<div>\n",
       "<style scoped>\n",
       "    .dataframe tbody tr th:only-of-type {\n",
       "        vertical-align: middle;\n",
       "    }\n",
       "\n",
       "    .dataframe tbody tr th {\n",
       "        vertical-align: top;\n",
       "    }\n",
       "\n",
       "    .dataframe thead th {\n",
       "        text-align: right;\n",
       "    }\n",
       "</style>\n",
       "<table border=\"1\" class=\"dataframe\">\n",
       "  <thead>\n",
       "    <tr style=\"text-align: right;\">\n",
       "      <th></th>\n",
       "      <th>Total Number of Characters C</th>\n",
       "      <th>Vocabulary richness W/C</th>\n",
       "      <th>Account</th>\n",
       "      <th>Access</th>\n",
       "      <th>Bank</th>\n",
       "      <th>Credit</th>\n",
       "      <th>Click</th>\n",
       "      <th>Identity</th>\n",
       "      <th>Inconvenience</th>\n",
       "      <th>Information</th>\n",
       "      <th>...</th>\n",
       "      <th>Password</th>\n",
       "      <th>Recently</th>\n",
       "      <th>Risk</th>\n",
       "      <th>Social</th>\n",
       "      <th>Security</th>\n",
       "      <th>Service</th>\n",
       "      <th>Suspended</th>\n",
       "      <th>Total number of Function words/W</th>\n",
       "      <th>Unique Words</th>\n",
       "      <th>Phishing Status</th>\n",
       "    </tr>\n",
       "  </thead>\n",
       "  <tbody>\n",
       "    <tr>\n",
       "      <th>0</th>\n",
       "      <td>1</td>\n",
       "      <td>0.128512</td>\n",
       "      <td>2</td>\n",
       "      <td>0</td>\n",
       "      <td>0</td>\n",
       "      <td>0</td>\n",
       "      <td>1</td>\n",
       "      <td>0</td>\n",
       "      <td>0</td>\n",
       "      <td>1</td>\n",
       "      <td>...</td>\n",
       "      <td>1</td>\n",
       "      <td>1</td>\n",
       "      <td>0</td>\n",
       "      <td>0</td>\n",
       "      <td>0</td>\n",
       "      <td>0</td>\n",
       "      <td>0</td>\n",
       "      <td>0.027907</td>\n",
       "      <td>132</td>\n",
       "      <td>1</td>\n",
       "    </tr>\n",
       "    <tr>\n",
       "      <th>1</th>\n",
       "      <td>2</td>\n",
       "      <td>0.137738</td>\n",
       "      <td>0</td>\n",
       "      <td>0</td>\n",
       "      <td>0</td>\n",
       "      <td>0</td>\n",
       "      <td>0</td>\n",
       "      <td>0</td>\n",
       "      <td>0</td>\n",
       "      <td>4</td>\n",
       "      <td>...</td>\n",
       "      <td>0</td>\n",
       "      <td>0</td>\n",
       "      <td>0</td>\n",
       "      <td>0</td>\n",
       "      <td>3</td>\n",
       "      <td>1</td>\n",
       "      <td>0</td>\n",
       "      <td>0.013008</td>\n",
       "      <td>338</td>\n",
       "      <td>1</td>\n",
       "    </tr>\n",
       "    <tr>\n",
       "      <th>2</th>\n",
       "      <td>3</td>\n",
       "      <td>0.095993</td>\n",
       "      <td>0</td>\n",
       "      <td>0</td>\n",
       "      <td>0</td>\n",
       "      <td>2</td>\n",
       "      <td>0</td>\n",
       "      <td>0</td>\n",
       "      <td>0</td>\n",
       "      <td>2</td>\n",
       "      <td>...</td>\n",
       "      <td>0</td>\n",
       "      <td>0</td>\n",
       "      <td>0</td>\n",
       "      <td>0</td>\n",
       "      <td>0</td>\n",
       "      <td>0</td>\n",
       "      <td>0</td>\n",
       "      <td>0.006116</td>\n",
       "      <td>292</td>\n",
       "      <td>1</td>\n",
       "    </tr>\n",
       "    <tr>\n",
       "      <th>3</th>\n",
       "      <td>4</td>\n",
       "      <td>0.109354</td>\n",
       "      <td>0</td>\n",
       "      <td>0</td>\n",
       "      <td>0</td>\n",
       "      <td>1</td>\n",
       "      <td>1</td>\n",
       "      <td>0</td>\n",
       "      <td>0</td>\n",
       "      <td>0</td>\n",
       "      <td>...</td>\n",
       "      <td>0</td>\n",
       "      <td>0</td>\n",
       "      <td>0</td>\n",
       "      <td>0</td>\n",
       "      <td>0</td>\n",
       "      <td>0</td>\n",
       "      <td>0</td>\n",
       "      <td>0.012048</td>\n",
       "      <td>102</td>\n",
       "      <td>1</td>\n",
       "    </tr>\n",
       "    <tr>\n",
       "      <th>4</th>\n",
       "      <td>5</td>\n",
       "      <td>0.126528</td>\n",
       "      <td>7</td>\n",
       "      <td>3</td>\n",
       "      <td>0</td>\n",
       "      <td>0</td>\n",
       "      <td>0</td>\n",
       "      <td>1</td>\n",
       "      <td>0</td>\n",
       "      <td>2</td>\n",
       "      <td>...</td>\n",
       "      <td>0</td>\n",
       "      <td>0</td>\n",
       "      <td>0</td>\n",
       "      <td>0</td>\n",
       "      <td>0</td>\n",
       "      <td>0</td>\n",
       "      <td>2</td>\n",
       "      <td>0.063025</td>\n",
       "      <td>136</td>\n",
       "      <td>1</td>\n",
       "    </tr>\n",
       "  </tbody>\n",
       "</table>\n",
       "<p>5 rows × 22 columns</p>\n",
       "</div>"
      ],
      "text/plain": [
       "   Total Number of Characters C  Vocabulary richness W/C  Account  Access  \\\n",
       "0                             1                 0.128512        2       0   \n",
       "1                             2                 0.137738        0       0   \n",
       "2                             3                 0.095993        0       0   \n",
       "3                             4                 0.109354        0       0   \n",
       "4                             5                 0.126528        7       3   \n",
       "\n",
       "   Bank  Credit  Click  Identity  Inconvenience  Information  ...  Password  \\\n",
       "0     0       0      1         0              0            1  ...         1   \n",
       "1     0       0      0         0              0            4  ...         0   \n",
       "2     0       2      0         0              0            2  ...         0   \n",
       "3     0       1      1         0              0            0  ...         0   \n",
       "4     0       0      0         1              0            2  ...         0   \n",
       "\n",
       "   Recently  Risk  Social  Security  Service  Suspended  \\\n",
       "0         1     0       0         0        0          0   \n",
       "1         0     0       0         3        1          0   \n",
       "2         0     0       0         0        0          0   \n",
       "3         0     0       0         0        0          0   \n",
       "4         0     0       0         0        0          2   \n",
       "\n",
       "   Total number of Function words/W  Unique Words  Phishing Status  \n",
       "0                          0.027907           132                1  \n",
       "1                          0.013008           338                1  \n",
       "2                          0.006116           292                1  \n",
       "3                          0.012048           102                1  \n",
       "4                          0.063025           136                1  \n",
       "\n",
       "[5 rows x 22 columns]"
      ]
     },
     "execution_count": 62,
     "metadata": {},
     "output_type": "execute_result"
    }
   ],
   "source": [
    "df2.head()"
   ]
  },
  {
   "cell_type": "code",
   "execution_count": 63,
   "id": "0152b80a",
   "metadata": {},
   "outputs": [
    {
     "data": {
      "text/plain": [
       "0    8648\n",
       "1    8352\n",
       "Name: Phishing Status, dtype: int64"
      ]
     },
     "execution_count": 63,
     "metadata": {},
     "output_type": "execute_result"
    }
   ],
   "source": [
    "df2['Phishing Status'].value_counts()"
   ]
  },
  {
   "cell_type": "code",
   "execution_count": 64,
   "id": "a9f941b2",
   "metadata": {},
   "outputs": [],
   "source": [
    "from imblearn.over_sampling import RandomOverSampler"
   ]
  },
  {
   "cell_type": "code",
   "execution_count": 65,
   "id": "7e9be90b",
   "metadata": {},
   "outputs": [],
   "source": [
    "over = RandomOverSampler(random_state=100)"
   ]
  },
  {
   "cell_type": "code",
   "execution_count": 66,
   "id": "3e23c515",
   "metadata": {},
   "outputs": [],
   "source": [
    "x_new , y_new = over.fit_resample(x,y)"
   ]
  },
  {
   "cell_type": "code",
   "execution_count": 67,
   "id": "99dc48cd",
   "metadata": {},
   "outputs": [
    {
     "data": {
      "text/plain": [
       "(17296, 19)"
      ]
     },
     "execution_count": 67,
     "metadata": {},
     "output_type": "execute_result"
    }
   ],
   "source": [
    "x_new.shape"
   ]
  },
  {
   "cell_type": "code",
   "execution_count": 68,
   "id": "c83e99e2",
   "metadata": {},
   "outputs": [
    {
     "data": {
      "text/plain": [
       "(17296,)"
      ]
     },
     "execution_count": 68,
     "metadata": {},
     "output_type": "execute_result"
    }
   ],
   "source": [
    "y_new.shape"
   ]
  },
  {
   "cell_type": "code",
   "execution_count": 69,
   "id": "9bf4de50",
   "metadata": {},
   "outputs": [
    {
     "data": {
      "text/plain": [
       "1    8648\n",
       "0    8648\n",
       "Name: Phishing Status, dtype: int64"
      ]
     },
     "execution_count": 69,
     "metadata": {},
     "output_type": "execute_result"
    }
   ],
   "source": [
    "y_new.value_counts()"
   ]
  },
  {
   "cell_type": "markdown",
   "id": "22dfee7b",
   "metadata": {},
   "source": [
    "# Cross Validation"
   ]
  },
  {
   "cell_type": "markdown",
   "id": "7296fa10",
   "metadata": {},
   "source": [
    "# Hold Out Cross Validation"
   ]
  },
  {
   "cell_type": "code",
   "execution_count": 70,
   "id": "06aaeb38",
   "metadata": {},
   "outputs": [],
   "source": [
    "from sklearn.model_selection import train_test_split "
   ]
  },
  {
   "cell_type": "code",
   "execution_count": 71,
   "id": "448ae64e",
   "metadata": {},
   "outputs": [],
   "source": [
    "xtrain,xtest, ytrain,ytest = train_test_split(x_new, y_new, train_size=.75,random_state=42) "
   ]
  },
  {
   "cell_type": "code",
   "execution_count": 72,
   "id": "bee121a8",
   "metadata": {},
   "outputs": [
    {
     "data": {
      "text/html": [
       "<div>\n",
       "<style scoped>\n",
       "    .dataframe tbody tr th:only-of-type {\n",
       "        vertical-align: middle;\n",
       "    }\n",
       "\n",
       "    .dataframe tbody tr th {\n",
       "        vertical-align: top;\n",
       "    }\n",
       "\n",
       "    .dataframe thead th {\n",
       "        text-align: right;\n",
       "    }\n",
       "</style>\n",
       "<table border=\"1\" class=\"dataframe\">\n",
       "  <thead>\n",
       "    <tr style=\"text-align: right;\">\n",
       "      <th></th>\n",
       "      <th>Account</th>\n",
       "      <th>Access</th>\n",
       "      <th>Bank</th>\n",
       "      <th>Credit</th>\n",
       "      <th>Click</th>\n",
       "      <th>Identity</th>\n",
       "      <th>Inconvenience</th>\n",
       "      <th>Information</th>\n",
       "      <th>Limited</th>\n",
       "      <th>Minutes</th>\n",
       "      <th>Password</th>\n",
       "      <th>Recently</th>\n",
       "      <th>Risk</th>\n",
       "      <th>Social</th>\n",
       "      <th>Security</th>\n",
       "      <th>Service</th>\n",
       "      <th>Suspended</th>\n",
       "      <th>Total number of Function words/W</th>\n",
       "      <th>Unique Words</th>\n",
       "    </tr>\n",
       "  </thead>\n",
       "  <tbody>\n",
       "    <tr>\n",
       "      <th>9876</th>\n",
       "      <td>0</td>\n",
       "      <td>0</td>\n",
       "      <td>0</td>\n",
       "      <td>0</td>\n",
       "      <td>1</td>\n",
       "      <td>0</td>\n",
       "      <td>0</td>\n",
       "      <td>0</td>\n",
       "      <td>0</td>\n",
       "      <td>0</td>\n",
       "      <td>0</td>\n",
       "      <td>0</td>\n",
       "      <td>0</td>\n",
       "      <td>0</td>\n",
       "      <td>0</td>\n",
       "      <td>0</td>\n",
       "      <td>0</td>\n",
       "      <td>0.009434</td>\n",
       "      <td>79</td>\n",
       "    </tr>\n",
       "    <tr>\n",
       "      <th>7502</th>\n",
       "      <td>0</td>\n",
       "      <td>0</td>\n",
       "      <td>0</td>\n",
       "      <td>0</td>\n",
       "      <td>0</td>\n",
       "      <td>0</td>\n",
       "      <td>0</td>\n",
       "      <td>0</td>\n",
       "      <td>0</td>\n",
       "      <td>0</td>\n",
       "      <td>0</td>\n",
       "      <td>0</td>\n",
       "      <td>0</td>\n",
       "      <td>0</td>\n",
       "      <td>0</td>\n",
       "      <td>0</td>\n",
       "      <td>0</td>\n",
       "      <td>0.000000</td>\n",
       "      <td>129</td>\n",
       "    </tr>\n",
       "    <tr>\n",
       "      <th>11313</th>\n",
       "      <td>0</td>\n",
       "      <td>0</td>\n",
       "      <td>0</td>\n",
       "      <td>0</td>\n",
       "      <td>0</td>\n",
       "      <td>0</td>\n",
       "      <td>0</td>\n",
       "      <td>0</td>\n",
       "      <td>0</td>\n",
       "      <td>0</td>\n",
       "      <td>0</td>\n",
       "      <td>0</td>\n",
       "      <td>0</td>\n",
       "      <td>0</td>\n",
       "      <td>0</td>\n",
       "      <td>0</td>\n",
       "      <td>0</td>\n",
       "      <td>0.000000</td>\n",
       "      <td>76</td>\n",
       "    </tr>\n",
       "    <tr>\n",
       "      <th>3355</th>\n",
       "      <td>0</td>\n",
       "      <td>0</td>\n",
       "      <td>0</td>\n",
       "      <td>0</td>\n",
       "      <td>0</td>\n",
       "      <td>0</td>\n",
       "      <td>0</td>\n",
       "      <td>0</td>\n",
       "      <td>0</td>\n",
       "      <td>0</td>\n",
       "      <td>0</td>\n",
       "      <td>0</td>\n",
       "      <td>0</td>\n",
       "      <td>0</td>\n",
       "      <td>0</td>\n",
       "      <td>0</td>\n",
       "      <td>0</td>\n",
       "      <td>0.000000</td>\n",
       "      <td>23</td>\n",
       "    </tr>\n",
       "    <tr>\n",
       "      <th>14610</th>\n",
       "      <td>0</td>\n",
       "      <td>0</td>\n",
       "      <td>0</td>\n",
       "      <td>0</td>\n",
       "      <td>0</td>\n",
       "      <td>0</td>\n",
       "      <td>0</td>\n",
       "      <td>0</td>\n",
       "      <td>0</td>\n",
       "      <td>1</td>\n",
       "      <td>0</td>\n",
       "      <td>0</td>\n",
       "      <td>0</td>\n",
       "      <td>0</td>\n",
       "      <td>0</td>\n",
       "      <td>0</td>\n",
       "      <td>0</td>\n",
       "      <td>0.003802</td>\n",
       "      <td>155</td>\n",
       "    </tr>\n",
       "  </tbody>\n",
       "</table>\n",
       "</div>"
      ],
      "text/plain": [
       "       Account  Access  Bank  Credit  Click  Identity  Inconvenience  \\\n",
       "9876         0       0     0       0      1         0              0   \n",
       "7502         0       0     0       0      0         0              0   \n",
       "11313        0       0     0       0      0         0              0   \n",
       "3355         0       0     0       0      0         0              0   \n",
       "14610        0       0     0       0      0         0              0   \n",
       "\n",
       "       Information  Limited  Minutes  Password  Recently  Risk  Social  \\\n",
       "9876             0        0        0         0         0     0       0   \n",
       "7502             0        0        0         0         0     0       0   \n",
       "11313            0        0        0         0         0     0       0   \n",
       "3355             0        0        0         0         0     0       0   \n",
       "14610            0        0        1         0         0     0       0   \n",
       "\n",
       "       Security  Service  Suspended  Total number of Function words/W  \\\n",
       "9876          0        0          0                          0.009434   \n",
       "7502          0        0          0                          0.000000   \n",
       "11313         0        0          0                          0.000000   \n",
       "3355          0        0          0                          0.000000   \n",
       "14610         0        0          0                          0.003802   \n",
       "\n",
       "       Unique Words  \n",
       "9876             79  \n",
       "7502            129  \n",
       "11313            76  \n",
       "3355             23  \n",
       "14610           155  "
      ]
     },
     "execution_count": 72,
     "metadata": {},
     "output_type": "execute_result"
    }
   ],
   "source": [
    "xtrain.head() "
   ]
  },
  {
   "cell_type": "code",
   "execution_count": 73,
   "id": "b4d35726",
   "metadata": {},
   "outputs": [],
   "source": [
    "train,  test = train_test_split(df, train_size=.75,random_state=42) "
   ]
  },
  {
   "cell_type": "code",
   "execution_count": 74,
   "id": "316aae2d",
   "metadata": {},
   "outputs": [],
   "source": [
    "train.to_csv('train_data.csv')"
   ]
  },
  {
   "cell_type": "code",
   "execution_count": 75,
   "id": "ee4665eb",
   "metadata": {},
   "outputs": [
    {
     "data": {
      "text/html": [
       "<div>\n",
       "<style scoped>\n",
       "    .dataframe tbody tr th:only-of-type {\n",
       "        vertical-align: middle;\n",
       "    }\n",
       "\n",
       "    .dataframe tbody tr th {\n",
       "        vertical-align: top;\n",
       "    }\n",
       "\n",
       "    .dataframe thead th {\n",
       "        text-align: right;\n",
       "    }\n",
       "</style>\n",
       "<table border=\"1\" class=\"dataframe\">\n",
       "  <thead>\n",
       "    <tr style=\"text-align: right;\">\n",
       "      <th></th>\n",
       "      <th>Account</th>\n",
       "      <th>Access</th>\n",
       "      <th>Bank</th>\n",
       "      <th>Credit</th>\n",
       "      <th>Click</th>\n",
       "      <th>Identity</th>\n",
       "      <th>Inconvenience</th>\n",
       "      <th>Information</th>\n",
       "      <th>Limited</th>\n",
       "      <th>Minutes</th>\n",
       "      <th>Password</th>\n",
       "      <th>Recently</th>\n",
       "      <th>Risk</th>\n",
       "      <th>Social</th>\n",
       "      <th>Security</th>\n",
       "      <th>Service</th>\n",
       "      <th>Suspended</th>\n",
       "      <th>Total number of Function words/W</th>\n",
       "      <th>Unique Words</th>\n",
       "    </tr>\n",
       "  </thead>\n",
       "  <tbody>\n",
       "    <tr>\n",
       "      <th>8323</th>\n",
       "      <td>1</td>\n",
       "      <td>0</td>\n",
       "      <td>0</td>\n",
       "      <td>1</td>\n",
       "      <td>0</td>\n",
       "      <td>0</td>\n",
       "      <td>0</td>\n",
       "      <td>2</td>\n",
       "      <td>0</td>\n",
       "      <td>0</td>\n",
       "      <td>0</td>\n",
       "      <td>0</td>\n",
       "      <td>0</td>\n",
       "      <td>0</td>\n",
       "      <td>0</td>\n",
       "      <td>1</td>\n",
       "      <td>0</td>\n",
       "      <td>0.023041</td>\n",
       "      <td>143</td>\n",
       "    </tr>\n",
       "    <tr>\n",
       "      <th>1346</th>\n",
       "      <td>3</td>\n",
       "      <td>1</td>\n",
       "      <td>0</td>\n",
       "      <td>0</td>\n",
       "      <td>2</td>\n",
       "      <td>0</td>\n",
       "      <td>0</td>\n",
       "      <td>1</td>\n",
       "      <td>0</td>\n",
       "      <td>0</td>\n",
       "      <td>0</td>\n",
       "      <td>2</td>\n",
       "      <td>0</td>\n",
       "      <td>0</td>\n",
       "      <td>0</td>\n",
       "      <td>4</td>\n",
       "      <td>0</td>\n",
       "      <td>0.044068</td>\n",
       "      <td>162</td>\n",
       "    </tr>\n",
       "    <tr>\n",
       "      <th>11270</th>\n",
       "      <td>0</td>\n",
       "      <td>0</td>\n",
       "      <td>0</td>\n",
       "      <td>0</td>\n",
       "      <td>0</td>\n",
       "      <td>0</td>\n",
       "      <td>0</td>\n",
       "      <td>0</td>\n",
       "      <td>0</td>\n",
       "      <td>0</td>\n",
       "      <td>0</td>\n",
       "      <td>0</td>\n",
       "      <td>0</td>\n",
       "      <td>0</td>\n",
       "      <td>0</td>\n",
       "      <td>0</td>\n",
       "      <td>0</td>\n",
       "      <td>0.000000</td>\n",
       "      <td>69</td>\n",
       "    </tr>\n",
       "    <tr>\n",
       "      <th>431</th>\n",
       "      <td>4</td>\n",
       "      <td>0</td>\n",
       "      <td>0</td>\n",
       "      <td>0</td>\n",
       "      <td>0</td>\n",
       "      <td>0</td>\n",
       "      <td>0</td>\n",
       "      <td>0</td>\n",
       "      <td>0</td>\n",
       "      <td>0</td>\n",
       "      <td>0</td>\n",
       "      <td>2</td>\n",
       "      <td>0</td>\n",
       "      <td>0</td>\n",
       "      <td>1</td>\n",
       "      <td>0</td>\n",
       "      <td>0</td>\n",
       "      <td>0.021341</td>\n",
       "      <td>171</td>\n",
       "    </tr>\n",
       "    <tr>\n",
       "      <th>9666</th>\n",
       "      <td>0</td>\n",
       "      <td>0</td>\n",
       "      <td>0</td>\n",
       "      <td>0</td>\n",
       "      <td>0</td>\n",
       "      <td>0</td>\n",
       "      <td>0</td>\n",
       "      <td>0</td>\n",
       "      <td>0</td>\n",
       "      <td>1</td>\n",
       "      <td>0</td>\n",
       "      <td>0</td>\n",
       "      <td>0</td>\n",
       "      <td>0</td>\n",
       "      <td>0</td>\n",
       "      <td>0</td>\n",
       "      <td>0</td>\n",
       "      <td>0.002309</td>\n",
       "      <td>238</td>\n",
       "    </tr>\n",
       "  </tbody>\n",
       "</table>\n",
       "</div>"
      ],
      "text/plain": [
       "       Account  Access  Bank  Credit  Click  Identity  Inconvenience  \\\n",
       "8323         1       0     0       1      0         0              0   \n",
       "1346         3       1     0       0      2         0              0   \n",
       "11270        0       0     0       0      0         0              0   \n",
       "431          4       0     0       0      0         0              0   \n",
       "9666         0       0     0       0      0         0              0   \n",
       "\n",
       "       Information  Limited  Minutes  Password  Recently  Risk  Social  \\\n",
       "8323             2        0        0         0         0     0       0   \n",
       "1346             1        0        0         0         2     0       0   \n",
       "11270            0        0        0         0         0     0       0   \n",
       "431              0        0        0         0         2     0       0   \n",
       "9666             0        0        1         0         0     0       0   \n",
       "\n",
       "       Security  Service  Suspended  Total number of Function words/W  \\\n",
       "8323          0        1          0                          0.023041   \n",
       "1346          0        4          0                          0.044068   \n",
       "11270         0        0          0                          0.000000   \n",
       "431           1        0          0                          0.021341   \n",
       "9666          0        0          0                          0.002309   \n",
       "\n",
       "       Unique Words  \n",
       "8323            143  \n",
       "1346            162  \n",
       "11270            69  \n",
       "431             171  \n",
       "9666            238  "
      ]
     },
     "execution_count": 75,
     "metadata": {},
     "output_type": "execute_result"
    }
   ],
   "source": [
    "xtest.head()"
   ]
  },
  {
   "cell_type": "code",
   "execution_count": 76,
   "id": "271db6b0",
   "metadata": {},
   "outputs": [
    {
     "data": {
      "text/plain": [
       "(4324, 19)"
      ]
     },
     "execution_count": 76,
     "metadata": {},
     "output_type": "execute_result"
    }
   ],
   "source": [
    "xtest.shape"
   ]
  },
  {
   "cell_type": "code",
   "execution_count": 77,
   "id": "0d57e286",
   "metadata": {},
   "outputs": [],
   "source": [
    "from sklearn.tree import DecisionTreeClassifier"
   ]
  },
  {
   "cell_type": "code",
   "execution_count": 78,
   "id": "14f45764",
   "metadata": {},
   "outputs": [],
   "source": [
    "Clf = DecisionTreeClassifier() "
   ]
  },
  {
   "cell_type": "code",
   "execution_count": 79,
   "id": "26a4f53d",
   "metadata": {},
   "outputs": [
    {
     "data": {
      "text/html": [
       "<style>#sk-container-id-1 {color: black;background-color: white;}#sk-container-id-1 pre{padding: 0;}#sk-container-id-1 div.sk-toggleable {background-color: white;}#sk-container-id-1 label.sk-toggleable__label {cursor: pointer;display: block;width: 100%;margin-bottom: 0;padding: 0.3em;box-sizing: border-box;text-align: center;}#sk-container-id-1 label.sk-toggleable__label-arrow:before {content: \"▸\";float: left;margin-right: 0.25em;color: #696969;}#sk-container-id-1 label.sk-toggleable__label-arrow:hover:before {color: black;}#sk-container-id-1 div.sk-estimator:hover label.sk-toggleable__label-arrow:before {color: black;}#sk-container-id-1 div.sk-toggleable__content {max-height: 0;max-width: 0;overflow: hidden;text-align: left;background-color: #f0f8ff;}#sk-container-id-1 div.sk-toggleable__content pre {margin: 0.2em;color: black;border-radius: 0.25em;background-color: #f0f8ff;}#sk-container-id-1 input.sk-toggleable__control:checked~div.sk-toggleable__content {max-height: 200px;max-width: 100%;overflow: auto;}#sk-container-id-1 input.sk-toggleable__control:checked~label.sk-toggleable__label-arrow:before {content: \"▾\";}#sk-container-id-1 div.sk-estimator input.sk-toggleable__control:checked~label.sk-toggleable__label {background-color: #d4ebff;}#sk-container-id-1 div.sk-label input.sk-toggleable__control:checked~label.sk-toggleable__label {background-color: #d4ebff;}#sk-container-id-1 input.sk-hidden--visually {border: 0;clip: rect(1px 1px 1px 1px);clip: rect(1px, 1px, 1px, 1px);height: 1px;margin: -1px;overflow: hidden;padding: 0;position: absolute;width: 1px;}#sk-container-id-1 div.sk-estimator {font-family: monospace;background-color: #f0f8ff;border: 1px dotted black;border-radius: 0.25em;box-sizing: border-box;margin-bottom: 0.5em;}#sk-container-id-1 div.sk-estimator:hover {background-color: #d4ebff;}#sk-container-id-1 div.sk-parallel-item::after {content: \"\";width: 100%;border-bottom: 1px solid gray;flex-grow: 1;}#sk-container-id-1 div.sk-label:hover label.sk-toggleable__label {background-color: #d4ebff;}#sk-container-id-1 div.sk-serial::before {content: \"\";position: absolute;border-left: 1px solid gray;box-sizing: border-box;top: 0;bottom: 0;left: 50%;z-index: 0;}#sk-container-id-1 div.sk-serial {display: flex;flex-direction: column;align-items: center;background-color: white;padding-right: 0.2em;padding-left: 0.2em;position: relative;}#sk-container-id-1 div.sk-item {position: relative;z-index: 1;}#sk-container-id-1 div.sk-parallel {display: flex;align-items: stretch;justify-content: center;background-color: white;position: relative;}#sk-container-id-1 div.sk-item::before, #sk-container-id-1 div.sk-parallel-item::before {content: \"\";position: absolute;border-left: 1px solid gray;box-sizing: border-box;top: 0;bottom: 0;left: 50%;z-index: -1;}#sk-container-id-1 div.sk-parallel-item {display: flex;flex-direction: column;z-index: 1;position: relative;background-color: white;}#sk-container-id-1 div.sk-parallel-item:first-child::after {align-self: flex-end;width: 50%;}#sk-container-id-1 div.sk-parallel-item:last-child::after {align-self: flex-start;width: 50%;}#sk-container-id-1 div.sk-parallel-item:only-child::after {width: 0;}#sk-container-id-1 div.sk-dashed-wrapped {border: 1px dashed gray;margin: 0 0.4em 0.5em 0.4em;box-sizing: border-box;padding-bottom: 0.4em;background-color: white;}#sk-container-id-1 div.sk-label label {font-family: monospace;font-weight: bold;display: inline-block;line-height: 1.2em;}#sk-container-id-1 div.sk-label-container {text-align: center;}#sk-container-id-1 div.sk-container {/* jupyter's `normalize.less` sets `[hidden] { display: none; }` but bootstrap.min.css set `[hidden] { display: none !important; }` so we also need the `!important` here to be able to override the default hidden behavior on the sphinx rendered scikit-learn.org. See: https://github.com/scikit-learn/scikit-learn/issues/21755 */display: inline-block !important;position: relative;}#sk-container-id-1 div.sk-text-repr-fallback {display: none;}</style><div id=\"sk-container-id-1\" class=\"sk-top-container\"><div class=\"sk-text-repr-fallback\"><pre>DecisionTreeClassifier()</pre><b>In a Jupyter environment, please rerun this cell to show the HTML representation or trust the notebook. <br />On GitHub, the HTML representation is unable to render, please try loading this page with nbviewer.org.</b></div><div class=\"sk-container\" hidden><div class=\"sk-item\"><div class=\"sk-estimator sk-toggleable\"><input class=\"sk-toggleable__control sk-hidden--visually\" id=\"sk-estimator-id-1\" type=\"checkbox\" checked><label for=\"sk-estimator-id-1\" class=\"sk-toggleable__label sk-toggleable__label-arrow\">DecisionTreeClassifier</label><div class=\"sk-toggleable__content\"><pre>DecisionTreeClassifier()</pre></div></div></div></div></div>"
      ],
      "text/plain": [
       "DecisionTreeClassifier()"
      ]
     },
     "execution_count": 79,
     "metadata": {},
     "output_type": "execute_result"
    }
   ],
   "source": [
    "Clf.fit(xtrain,ytrain) "
   ]
  },
  {
   "cell_type": "code",
   "execution_count": 80,
   "id": "c8d6011a",
   "metadata": {},
   "outputs": [
    {
     "data": {
      "text/plain": [
       "0.8832099907493062"
      ]
     },
     "execution_count": 80,
     "metadata": {},
     "output_type": "execute_result"
    }
   ],
   "source": [
    "Clf.score(xtest,ytest)"
   ]
  },
  {
   "cell_type": "markdown",
   "id": "00ceae8a",
   "metadata": {},
   "source": [
    "# XGBoost Classifier"
   ]
  },
  {
   "cell_type": "code",
   "execution_count": 81,
   "id": "0fafcfff",
   "metadata": {},
   "outputs": [
    {
     "name": "stdout",
     "output_type": "stream",
     "text": [
      "Requirement already satisfied: xgboost in c:\\users\\runa\\anaconda3\\lib\\site-packages (1.6.1)\n",
      "Requirement already satisfied: scipy in c:\\users\\runa\\anaconda3\\lib\\site-packages (from xgboost) (1.7.1)\n",
      "Requirement already satisfied: numpy in c:\\users\\runa\\anaconda3\\lib\\site-packages (from xgboost) (1.20.3)\n"
     ]
    }
   ],
   "source": [
    "!pip install xgboost"
   ]
  },
  {
   "cell_type": "code",
   "execution_count": 82,
   "id": "bc3dc973",
   "metadata": {},
   "outputs": [],
   "source": [
    "import xgboost \n",
    "from xgboost import XGBClassifier"
   ]
  },
  {
   "cell_type": "code",
   "execution_count": 83,
   "id": "c400ac42",
   "metadata": {},
   "outputs": [],
   "source": [
    "xgb = XGBClassifier()"
   ]
  },
  {
   "cell_type": "code",
   "execution_count": 84,
   "id": "9b0f39ae",
   "metadata": {},
   "outputs": [
    {
     "data": {
      "text/html": [
       "<style>#sk-container-id-2 {color: black;background-color: white;}#sk-container-id-2 pre{padding: 0;}#sk-container-id-2 div.sk-toggleable {background-color: white;}#sk-container-id-2 label.sk-toggleable__label {cursor: pointer;display: block;width: 100%;margin-bottom: 0;padding: 0.3em;box-sizing: border-box;text-align: center;}#sk-container-id-2 label.sk-toggleable__label-arrow:before {content: \"▸\";float: left;margin-right: 0.25em;color: #696969;}#sk-container-id-2 label.sk-toggleable__label-arrow:hover:before {color: black;}#sk-container-id-2 div.sk-estimator:hover label.sk-toggleable__label-arrow:before {color: black;}#sk-container-id-2 div.sk-toggleable__content {max-height: 0;max-width: 0;overflow: hidden;text-align: left;background-color: #f0f8ff;}#sk-container-id-2 div.sk-toggleable__content pre {margin: 0.2em;color: black;border-radius: 0.25em;background-color: #f0f8ff;}#sk-container-id-2 input.sk-toggleable__control:checked~div.sk-toggleable__content {max-height: 200px;max-width: 100%;overflow: auto;}#sk-container-id-2 input.sk-toggleable__control:checked~label.sk-toggleable__label-arrow:before {content: \"▾\";}#sk-container-id-2 div.sk-estimator input.sk-toggleable__control:checked~label.sk-toggleable__label {background-color: #d4ebff;}#sk-container-id-2 div.sk-label input.sk-toggleable__control:checked~label.sk-toggleable__label {background-color: #d4ebff;}#sk-container-id-2 input.sk-hidden--visually {border: 0;clip: rect(1px 1px 1px 1px);clip: rect(1px, 1px, 1px, 1px);height: 1px;margin: -1px;overflow: hidden;padding: 0;position: absolute;width: 1px;}#sk-container-id-2 div.sk-estimator {font-family: monospace;background-color: #f0f8ff;border: 1px dotted black;border-radius: 0.25em;box-sizing: border-box;margin-bottom: 0.5em;}#sk-container-id-2 div.sk-estimator:hover {background-color: #d4ebff;}#sk-container-id-2 div.sk-parallel-item::after {content: \"\";width: 100%;border-bottom: 1px solid gray;flex-grow: 1;}#sk-container-id-2 div.sk-label:hover label.sk-toggleable__label {background-color: #d4ebff;}#sk-container-id-2 div.sk-serial::before {content: \"\";position: absolute;border-left: 1px solid gray;box-sizing: border-box;top: 0;bottom: 0;left: 50%;z-index: 0;}#sk-container-id-2 div.sk-serial {display: flex;flex-direction: column;align-items: center;background-color: white;padding-right: 0.2em;padding-left: 0.2em;position: relative;}#sk-container-id-2 div.sk-item {position: relative;z-index: 1;}#sk-container-id-2 div.sk-parallel {display: flex;align-items: stretch;justify-content: center;background-color: white;position: relative;}#sk-container-id-2 div.sk-item::before, #sk-container-id-2 div.sk-parallel-item::before {content: \"\";position: absolute;border-left: 1px solid gray;box-sizing: border-box;top: 0;bottom: 0;left: 50%;z-index: -1;}#sk-container-id-2 div.sk-parallel-item {display: flex;flex-direction: column;z-index: 1;position: relative;background-color: white;}#sk-container-id-2 div.sk-parallel-item:first-child::after {align-self: flex-end;width: 50%;}#sk-container-id-2 div.sk-parallel-item:last-child::after {align-self: flex-start;width: 50%;}#sk-container-id-2 div.sk-parallel-item:only-child::after {width: 0;}#sk-container-id-2 div.sk-dashed-wrapped {border: 1px dashed gray;margin: 0 0.4em 0.5em 0.4em;box-sizing: border-box;padding-bottom: 0.4em;background-color: white;}#sk-container-id-2 div.sk-label label {font-family: monospace;font-weight: bold;display: inline-block;line-height: 1.2em;}#sk-container-id-2 div.sk-label-container {text-align: center;}#sk-container-id-2 div.sk-container {/* jupyter's `normalize.less` sets `[hidden] { display: none; }` but bootstrap.min.css set `[hidden] { display: none !important; }` so we also need the `!important` here to be able to override the default hidden behavior on the sphinx rendered scikit-learn.org. See: https://github.com/scikit-learn/scikit-learn/issues/21755 */display: inline-block !important;position: relative;}#sk-container-id-2 div.sk-text-repr-fallback {display: none;}</style><div id=\"sk-container-id-2\" class=\"sk-top-container\"><div class=\"sk-text-repr-fallback\"><pre>XGBClassifier(base_score=0.5, booster=&#x27;gbtree&#x27;, callbacks=None,\n",
       "              colsample_bylevel=1, colsample_bynode=1, colsample_bytree=1,\n",
       "              early_stopping_rounds=None, enable_categorical=False,\n",
       "              eval_metric=None, gamma=0, gpu_id=-1, grow_policy=&#x27;depthwise&#x27;,\n",
       "              importance_type=None, interaction_constraints=&#x27;&#x27;,\n",
       "              learning_rate=0.300000012, max_bin=256, max_cat_to_onehot=4,\n",
       "              max_delta_step=0, max_depth=6, max_leaves=0, min_child_weight=1,\n",
       "              missing=nan, monotone_constraints=&#x27;()&#x27;, n_estimators=100,\n",
       "              n_jobs=0, num_parallel_tree=1, predictor=&#x27;auto&#x27;, random_state=0,\n",
       "              reg_alpha=0, reg_lambda=1, ...)</pre><b>In a Jupyter environment, please rerun this cell to show the HTML representation or trust the notebook. <br />On GitHub, the HTML representation is unable to render, please try loading this page with nbviewer.org.</b></div><div class=\"sk-container\" hidden><div class=\"sk-item\"><div class=\"sk-estimator sk-toggleable\"><input class=\"sk-toggleable__control sk-hidden--visually\" id=\"sk-estimator-id-2\" type=\"checkbox\" checked><label for=\"sk-estimator-id-2\" class=\"sk-toggleable__label sk-toggleable__label-arrow\">XGBClassifier</label><div class=\"sk-toggleable__content\"><pre>XGBClassifier(base_score=0.5, booster=&#x27;gbtree&#x27;, callbacks=None,\n",
       "              colsample_bylevel=1, colsample_bynode=1, colsample_bytree=1,\n",
       "              early_stopping_rounds=None, enable_categorical=False,\n",
       "              eval_metric=None, gamma=0, gpu_id=-1, grow_policy=&#x27;depthwise&#x27;,\n",
       "              importance_type=None, interaction_constraints=&#x27;&#x27;,\n",
       "              learning_rate=0.300000012, max_bin=256, max_cat_to_onehot=4,\n",
       "              max_delta_step=0, max_depth=6, max_leaves=0, min_child_weight=1,\n",
       "              missing=nan, monotone_constraints=&#x27;()&#x27;, n_estimators=100,\n",
       "              n_jobs=0, num_parallel_tree=1, predictor=&#x27;auto&#x27;, random_state=0,\n",
       "              reg_alpha=0, reg_lambda=1, ...)</pre></div></div></div></div></div>"
      ],
      "text/plain": [
       "XGBClassifier(base_score=0.5, booster='gbtree', callbacks=None,\n",
       "              colsample_bylevel=1, colsample_bynode=1, colsample_bytree=1,\n",
       "              early_stopping_rounds=None, enable_categorical=False,\n",
       "              eval_metric=None, gamma=0, gpu_id=-1, grow_policy='depthwise',\n",
       "              importance_type=None, interaction_constraints='',\n",
       "              learning_rate=0.300000012, max_bin=256, max_cat_to_onehot=4,\n",
       "              max_delta_step=0, max_depth=6, max_leaves=0, min_child_weight=1,\n",
       "              missing=nan, monotone_constraints='()', n_estimators=100,\n",
       "              n_jobs=0, num_parallel_tree=1, predictor='auto', random_state=0,\n",
       "              reg_alpha=0, reg_lambda=1, ...)"
      ]
     },
     "execution_count": 84,
     "metadata": {},
     "output_type": "execute_result"
    }
   ],
   "source": [
    "xgb.fit(xtrain,ytrain)"
   ]
  },
  {
   "cell_type": "code",
   "execution_count": 85,
   "id": "685cf30f",
   "metadata": {},
   "outputs": [
    {
     "data": {
      "text/plain": [
       "0.8917668825161887"
      ]
     },
     "execution_count": 85,
     "metadata": {},
     "output_type": "execute_result"
    }
   ],
   "source": [
    "xgb.score(xtest,ytest)"
   ]
  },
  {
   "cell_type": "markdown",
   "id": "2bf603bb",
   "metadata": {},
   "source": [
    "# Ada Boost"
   ]
  },
  {
   "cell_type": "code",
   "execution_count": 86,
   "id": "542fb092",
   "metadata": {},
   "outputs": [],
   "source": [
    "from sklearn.ensemble import AdaBoostClassifier"
   ]
  },
  {
   "cell_type": "code",
   "execution_count": 87,
   "id": "3a117842",
   "metadata": {},
   "outputs": [],
   "source": [
    "ada = AdaBoostClassifier()"
   ]
  },
  {
   "cell_type": "code",
   "execution_count": 88,
   "id": "4ca24064",
   "metadata": {},
   "outputs": [
    {
     "data": {
      "text/html": [
       "<style>#sk-container-id-3 {color: black;background-color: white;}#sk-container-id-3 pre{padding: 0;}#sk-container-id-3 div.sk-toggleable {background-color: white;}#sk-container-id-3 label.sk-toggleable__label {cursor: pointer;display: block;width: 100%;margin-bottom: 0;padding: 0.3em;box-sizing: border-box;text-align: center;}#sk-container-id-3 label.sk-toggleable__label-arrow:before {content: \"▸\";float: left;margin-right: 0.25em;color: #696969;}#sk-container-id-3 label.sk-toggleable__label-arrow:hover:before {color: black;}#sk-container-id-3 div.sk-estimator:hover label.sk-toggleable__label-arrow:before {color: black;}#sk-container-id-3 div.sk-toggleable__content {max-height: 0;max-width: 0;overflow: hidden;text-align: left;background-color: #f0f8ff;}#sk-container-id-3 div.sk-toggleable__content pre {margin: 0.2em;color: black;border-radius: 0.25em;background-color: #f0f8ff;}#sk-container-id-3 input.sk-toggleable__control:checked~div.sk-toggleable__content {max-height: 200px;max-width: 100%;overflow: auto;}#sk-container-id-3 input.sk-toggleable__control:checked~label.sk-toggleable__label-arrow:before {content: \"▾\";}#sk-container-id-3 div.sk-estimator input.sk-toggleable__control:checked~label.sk-toggleable__label {background-color: #d4ebff;}#sk-container-id-3 div.sk-label input.sk-toggleable__control:checked~label.sk-toggleable__label {background-color: #d4ebff;}#sk-container-id-3 input.sk-hidden--visually {border: 0;clip: rect(1px 1px 1px 1px);clip: rect(1px, 1px, 1px, 1px);height: 1px;margin: -1px;overflow: hidden;padding: 0;position: absolute;width: 1px;}#sk-container-id-3 div.sk-estimator {font-family: monospace;background-color: #f0f8ff;border: 1px dotted black;border-radius: 0.25em;box-sizing: border-box;margin-bottom: 0.5em;}#sk-container-id-3 div.sk-estimator:hover {background-color: #d4ebff;}#sk-container-id-3 div.sk-parallel-item::after {content: \"\";width: 100%;border-bottom: 1px solid gray;flex-grow: 1;}#sk-container-id-3 div.sk-label:hover label.sk-toggleable__label {background-color: #d4ebff;}#sk-container-id-3 div.sk-serial::before {content: \"\";position: absolute;border-left: 1px solid gray;box-sizing: border-box;top: 0;bottom: 0;left: 50%;z-index: 0;}#sk-container-id-3 div.sk-serial {display: flex;flex-direction: column;align-items: center;background-color: white;padding-right: 0.2em;padding-left: 0.2em;position: relative;}#sk-container-id-3 div.sk-item {position: relative;z-index: 1;}#sk-container-id-3 div.sk-parallel {display: flex;align-items: stretch;justify-content: center;background-color: white;position: relative;}#sk-container-id-3 div.sk-item::before, #sk-container-id-3 div.sk-parallel-item::before {content: \"\";position: absolute;border-left: 1px solid gray;box-sizing: border-box;top: 0;bottom: 0;left: 50%;z-index: -1;}#sk-container-id-3 div.sk-parallel-item {display: flex;flex-direction: column;z-index: 1;position: relative;background-color: white;}#sk-container-id-3 div.sk-parallel-item:first-child::after {align-self: flex-end;width: 50%;}#sk-container-id-3 div.sk-parallel-item:last-child::after {align-self: flex-start;width: 50%;}#sk-container-id-3 div.sk-parallel-item:only-child::after {width: 0;}#sk-container-id-3 div.sk-dashed-wrapped {border: 1px dashed gray;margin: 0 0.4em 0.5em 0.4em;box-sizing: border-box;padding-bottom: 0.4em;background-color: white;}#sk-container-id-3 div.sk-label label {font-family: monospace;font-weight: bold;display: inline-block;line-height: 1.2em;}#sk-container-id-3 div.sk-label-container {text-align: center;}#sk-container-id-3 div.sk-container {/* jupyter's `normalize.less` sets `[hidden] { display: none; }` but bootstrap.min.css set `[hidden] { display: none !important; }` so we also need the `!important` here to be able to override the default hidden behavior on the sphinx rendered scikit-learn.org. See: https://github.com/scikit-learn/scikit-learn/issues/21755 */display: inline-block !important;position: relative;}#sk-container-id-3 div.sk-text-repr-fallback {display: none;}</style><div id=\"sk-container-id-3\" class=\"sk-top-container\"><div class=\"sk-text-repr-fallback\"><pre>AdaBoostClassifier()</pre><b>In a Jupyter environment, please rerun this cell to show the HTML representation or trust the notebook. <br />On GitHub, the HTML representation is unable to render, please try loading this page with nbviewer.org.</b></div><div class=\"sk-container\" hidden><div class=\"sk-item\"><div class=\"sk-estimator sk-toggleable\"><input class=\"sk-toggleable__control sk-hidden--visually\" id=\"sk-estimator-id-3\" type=\"checkbox\" checked><label for=\"sk-estimator-id-3\" class=\"sk-toggleable__label sk-toggleable__label-arrow\">AdaBoostClassifier</label><div class=\"sk-toggleable__content\"><pre>AdaBoostClassifier()</pre></div></div></div></div></div>"
      ],
      "text/plain": [
       "AdaBoostClassifier()"
      ]
     },
     "execution_count": 88,
     "metadata": {},
     "output_type": "execute_result"
    }
   ],
   "source": [
    "ada.fit(xtrain,ytrain)"
   ]
  },
  {
   "cell_type": "code",
   "execution_count": 89,
   "id": "8445571a",
   "metadata": {},
   "outputs": [
    {
     "data": {
      "text/plain": [
       "0.8526827012025902"
      ]
     },
     "execution_count": 89,
     "metadata": {},
     "output_type": "execute_result"
    }
   ],
   "source": [
    "ada.score(xtest,ytest)"
   ]
  },
  {
   "cell_type": "markdown",
   "id": "5c00cd30",
   "metadata": {},
   "source": [
    "# Cross Validation"
   ]
  },
  {
   "cell_type": "markdown",
   "id": "c7d55830",
   "metadata": {},
   "source": [
    "# K Fold Cross Validation"
   ]
  },
  {
   "cell_type": "code",
   "execution_count": 90,
   "id": "6522a936",
   "metadata": {},
   "outputs": [],
   "source": [
    "from sklearn.model_selection import KFold, cross_val_score, cross_validate"
   ]
  },
  {
   "cell_type": "code",
   "execution_count": 91,
   "id": "ceb609b2",
   "metadata": {},
   "outputs": [],
   "source": [
    "kfold = KFold(n_splits=4) #each fold contain 25% data"
   ]
  },
  {
   "cell_type": "code",
   "execution_count": 92,
   "id": "ef475ce2",
   "metadata": {},
   "outputs": [],
   "source": [
    "result = cross_val_score(xgb, x_new, y_new,cv=kfold) "
   ]
  },
  {
   "cell_type": "code",
   "execution_count": 93,
   "id": "57d00b93",
   "metadata": {},
   "outputs": [
    {
     "data": {
      "text/plain": [
       "array([0.79833488, 0.69634598, 0.86563367, 0.85013876])"
      ]
     },
     "execution_count": 93,
     "metadata": {},
     "output_type": "execute_result"
    }
   ],
   "source": [
    "result"
   ]
  },
  {
   "cell_type": "code",
   "execution_count": 94,
   "id": "16d62e0c",
   "metadata": {},
   "outputs": [
    {
     "data": {
      "text/plain": [
       "0.802613320999075"
      ]
     },
     "execution_count": 94,
     "metadata": {},
     "output_type": "execute_result"
    }
   ],
   "source": [
    "result.mean()"
   ]
  },
  {
   "cell_type": "code",
   "execution_count": 95,
   "id": "6c7114af",
   "metadata": {},
   "outputs": [],
   "source": [
    "cross_validate = cross_validate(xgb, x_new, y_new,cv=kfold)"
   ]
  },
  {
   "cell_type": "code",
   "execution_count": 96,
   "id": "6f8589bb",
   "metadata": {},
   "outputs": [
    {
     "data": {
      "text/plain": [
       "{'fit_time': array([1.21581173, 1.2568419 , 1.28886867, 1.29886818]),\n",
       " 'score_time': array([0.016011  , 0.02401519, 0.01601028, 0.01601219]),\n",
       " 'test_score': array([0.79833488, 0.69634598, 0.86563367, 0.85013876])}"
      ]
     },
     "execution_count": 96,
     "metadata": {},
     "output_type": "execute_result"
    }
   ],
   "source": [
    "cross_validate"
   ]
  },
  {
   "cell_type": "code",
   "execution_count": 97,
   "id": "9193b494",
   "metadata": {},
   "outputs": [
    {
     "data": {
      "text/plain": [
       "0.8656336725254394"
      ]
     },
     "execution_count": 97,
     "metadata": {},
     "output_type": "execute_result"
    }
   ],
   "source": [
    "result.max()"
   ]
  },
  {
   "cell_type": "code",
   "execution_count": 98,
   "id": "a340bac8",
   "metadata": {},
   "outputs": [
    {
     "data": {
      "text/plain": [
       "0.6963459759481961"
      ]
     },
     "execution_count": 98,
     "metadata": {},
     "output_type": "execute_result"
    }
   ],
   "source": [
    "result.min()"
   ]
  },
  {
   "cell_type": "code",
   "execution_count": 99,
   "id": "0d2b409a",
   "metadata": {},
   "outputs": [
    {
     "data": {
      "text/plain": [
       "0.802613320999075"
      ]
     },
     "execution_count": 99,
     "metadata": {},
     "output_type": "execute_result"
    }
   ],
   "source": [
    "result.mean()"
   ]
  },
  {
   "cell_type": "markdown",
   "id": "522ec5c9",
   "metadata": {},
   "source": [
    "# Stratified k fold cross Validation"
   ]
  },
  {
   "cell_type": "code",
   "execution_count": 100,
   "id": "a5a6a07b",
   "metadata": {},
   "outputs": [],
   "source": [
    "from sklearn.model_selection import StratifiedKFold"
   ]
  },
  {
   "cell_type": "code",
   "execution_count": 101,
   "id": "1afdf690",
   "metadata": {},
   "outputs": [],
   "source": [
    "st = StratifiedKFold(n_splits=4)"
   ]
  },
  {
   "cell_type": "code",
   "execution_count": 102,
   "id": "8007bb62",
   "metadata": {},
   "outputs": [],
   "source": [
    "score2 = cross_val_score(xgb, x_new, y_new,cv=st)"
   ]
  },
  {
   "cell_type": "code",
   "execution_count": 103,
   "id": "9a118392",
   "metadata": {},
   "outputs": [
    {
     "data": {
      "text/plain": [
       "array([0.91443108, 0.87349676, 0.84736355, 0.83117484])"
      ]
     },
     "execution_count": 103,
     "metadata": {},
     "output_type": "execute_result"
    }
   ],
   "source": [
    "score2"
   ]
  },
  {
   "cell_type": "code",
   "execution_count": 104,
   "id": "95e55857",
   "metadata": {},
   "outputs": [
    {
     "data": {
      "text/plain": [
       "0.9144310823311749"
      ]
     },
     "execution_count": 104,
     "metadata": {},
     "output_type": "execute_result"
    }
   ],
   "source": [
    "score2.max()"
   ]
  },
  {
   "cell_type": "code",
   "execution_count": 105,
   "id": "b05684fd",
   "metadata": {},
   "outputs": [
    {
     "data": {
      "text/plain": [
       "0.8311748381128584"
      ]
     },
     "execution_count": 105,
     "metadata": {},
     "output_type": "execute_result"
    }
   ],
   "source": [
    "score2.min()"
   ]
  },
  {
   "cell_type": "code",
   "execution_count": 106,
   "id": "1d8146d9",
   "metadata": {},
   "outputs": [
    {
     "data": {
      "text/plain": [
       "0.8666165587419057"
      ]
     },
     "execution_count": 106,
     "metadata": {},
     "output_type": "execute_result"
    }
   ],
   "source": [
    "score2.mean()"
   ]
  },
  {
   "cell_type": "markdown",
   "id": "09e0a909",
   "metadata": {},
   "source": [
    "# Leave One Out Cross Validation"
   ]
  },
  {
   "cell_type": "code",
   "execution_count": 115,
   "id": "cd0375ac",
   "metadata": {},
   "outputs": [],
   "source": [
    "from sklearn.model_selection import LeaveOneOut"
   ]
  },
  {
   "cell_type": "code",
   "execution_count": 116,
   "id": "50c04c6e",
   "metadata": {},
   "outputs": [],
   "source": [
    "le = LeaveOneOut()  "
   ]
  },
  {
   "cell_type": "code",
   "execution_count": null,
   "id": "9edf7a9b",
   "metadata": {},
   "outputs": [],
   "source": [
    "result3 = cross_val_score(ada,x,y,cv=le)"
   ]
  },
  {
   "cell_type": "code",
   "execution_count": null,
   "id": "99b3db2d",
   "metadata": {},
   "outputs": [],
   "source": [
    "result3"
   ]
  },
  {
   "cell_type": "code",
   "execution_count": null,
   "id": "83cc06ba",
   "metadata": {},
   "outputs": [],
   "source": [
    "result3.mean()"
   ]
  },
  {
   "cell_type": "code",
   "execution_count": null,
   "id": "42ae2e10",
   "metadata": {},
   "outputs": [],
   "source": []
  }
 ],
 "metadata": {
  "kernelspec": {
   "display_name": "Python 3 (ipykernel)",
   "language": "python",
   "name": "python3"
  },
  "language_info": {
   "codemirror_mode": {
    "name": "ipython",
    "version": 3
   },
   "file_extension": ".py",
   "mimetype": "text/x-python",
   "name": "python",
   "nbconvert_exporter": "python",
   "pygments_lexer": "ipython3",
   "version": "3.9.7"
  }
 },
 "nbformat": 4,
 "nbformat_minor": 5
}
