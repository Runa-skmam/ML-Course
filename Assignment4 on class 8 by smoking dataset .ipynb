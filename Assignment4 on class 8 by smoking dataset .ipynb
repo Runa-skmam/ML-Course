{
 "cells": [
  {
   "cell_type": "code",
   "execution_count": 1,
   "id": "a6054654",
   "metadata": {},
   "outputs": [],
   "source": [
    "import pandas as pd\n",
    "import matplotlib.pyplot as plt"
   ]
  },
  {
   "cell_type": "code",
   "execution_count": 2,
   "id": "00ff17b1",
   "metadata": {},
   "outputs": [],
   "source": [
    "df=pd.read_csv('Smoking Data.csv')"
   ]
  },
  {
   "cell_type": "code",
   "execution_count": 3,
   "id": "01bfea9b",
   "metadata": {},
   "outputs": [
    {
     "data": {
      "text/html": [
       "<div>\n",
       "<style scoped>\n",
       "    .dataframe tbody tr th:only-of-type {\n",
       "        vertical-align: middle;\n",
       "    }\n",
       "\n",
       "    .dataframe tbody tr th {\n",
       "        vertical-align: top;\n",
       "    }\n",
       "\n",
       "    .dataframe thead th {\n",
       "        text-align: right;\n",
       "    }\n",
       "</style>\n",
       "<table border=\"1\" class=\"dataframe\">\n",
       "  <thead>\n",
       "    <tr style=\"text-align: right;\">\n",
       "      <th></th>\n",
       "      <th>region</th>\n",
       "      <th>age</th>\n",
       "      <th>sex</th>\n",
       "      <th>bmi</th>\n",
       "      <th>children</th>\n",
       "      <th>smoker</th>\n",
       "    </tr>\n",
       "  </thead>\n",
       "  <tbody>\n",
       "    <tr>\n",
       "      <th>0</th>\n",
       "      <td>southwest</td>\n",
       "      <td>19</td>\n",
       "      <td>female</td>\n",
       "      <td>27.900</td>\n",
       "      <td>0</td>\n",
       "      <td>yes</td>\n",
       "    </tr>\n",
       "    <tr>\n",
       "      <th>1</th>\n",
       "      <td>southeast</td>\n",
       "      <td>18</td>\n",
       "      <td>male</td>\n",
       "      <td>33.770</td>\n",
       "      <td>1</td>\n",
       "      <td>no</td>\n",
       "    </tr>\n",
       "    <tr>\n",
       "      <th>2</th>\n",
       "      <td>southeast</td>\n",
       "      <td>28</td>\n",
       "      <td>male</td>\n",
       "      <td>33.000</td>\n",
       "      <td>3</td>\n",
       "      <td>no</td>\n",
       "    </tr>\n",
       "    <tr>\n",
       "      <th>3</th>\n",
       "      <td>northwest</td>\n",
       "      <td>33</td>\n",
       "      <td>male</td>\n",
       "      <td>22.705</td>\n",
       "      <td>0</td>\n",
       "      <td>no</td>\n",
       "    </tr>\n",
       "    <tr>\n",
       "      <th>4</th>\n",
       "      <td>northwest</td>\n",
       "      <td>32</td>\n",
       "      <td>male</td>\n",
       "      <td>28.880</td>\n",
       "      <td>0</td>\n",
       "      <td>no</td>\n",
       "    </tr>\n",
       "  </tbody>\n",
       "</table>\n",
       "</div>"
      ],
      "text/plain": [
       "      region  age     sex     bmi  children smoker\n",
       "0  southwest   19  female  27.900         0    yes\n",
       "1  southeast   18    male  33.770         1     no\n",
       "2  southeast   28    male  33.000         3     no\n",
       "3  northwest   33    male  22.705         0     no\n",
       "4  northwest   32    male  28.880         0     no"
      ]
     },
     "execution_count": 3,
     "metadata": {},
     "output_type": "execute_result"
    }
   ],
   "source": [
    "df.head()"
   ]
  },
  {
   "cell_type": "code",
   "execution_count": 4,
   "id": "eec24b27",
   "metadata": {},
   "outputs": [
    {
     "data": {
      "text/plain": [
       "(1338, 6)"
      ]
     },
     "execution_count": 4,
     "metadata": {},
     "output_type": "execute_result"
    }
   ],
   "source": [
    "df.shape"
   ]
  },
  {
   "cell_type": "markdown",
   "id": "5b72d7eb",
   "metadata": {},
   "source": [
    "# Encoding columns by label encoder"
   ]
  },
  {
   "cell_type": "code",
   "execution_count": 5,
   "id": "dd4cd90d",
   "metadata": {},
   "outputs": [],
   "source": [
    "from sklearn.preprocessing import LabelEncoder "
   ]
  },
  {
   "cell_type": "code",
   "execution_count": 6,
   "id": "0ef17419",
   "metadata": {},
   "outputs": [],
   "source": [
    "le=LabelEncoder()\n"
   ]
  },
  {
   "cell_type": "code",
   "execution_count": 7,
   "id": "68e57991",
   "metadata": {},
   "outputs": [],
   "source": [
    "le=LabelEncoder()\n",
    "le=LabelEncoder()"
   ]
  },
  {
   "cell_type": "code",
   "execution_count": 8,
   "id": "c4de06e8",
   "metadata": {},
   "outputs": [],
   "source": [
    "df.region=le.fit_transform(df['region'])\n",
    "df.sex=le.fit_transform(df['sex'])"
   ]
  },
  {
   "cell_type": "code",
   "execution_count": 9,
   "id": "a77fe55c",
   "metadata": {},
   "outputs": [
    {
     "data": {
      "text/html": [
       "<div>\n",
       "<style scoped>\n",
       "    .dataframe tbody tr th:only-of-type {\n",
       "        vertical-align: middle;\n",
       "    }\n",
       "\n",
       "    .dataframe tbody tr th {\n",
       "        vertical-align: top;\n",
       "    }\n",
       "\n",
       "    .dataframe thead th {\n",
       "        text-align: right;\n",
       "    }\n",
       "</style>\n",
       "<table border=\"1\" class=\"dataframe\">\n",
       "  <thead>\n",
       "    <tr style=\"text-align: right;\">\n",
       "      <th></th>\n",
       "      <th>region</th>\n",
       "      <th>age</th>\n",
       "      <th>sex</th>\n",
       "      <th>bmi</th>\n",
       "      <th>children</th>\n",
       "      <th>smoker</th>\n",
       "    </tr>\n",
       "  </thead>\n",
       "  <tbody>\n",
       "    <tr>\n",
       "      <th>0</th>\n",
       "      <td>3</td>\n",
       "      <td>19</td>\n",
       "      <td>0</td>\n",
       "      <td>27.900</td>\n",
       "      <td>0</td>\n",
       "      <td>yes</td>\n",
       "    </tr>\n",
       "    <tr>\n",
       "      <th>1</th>\n",
       "      <td>2</td>\n",
       "      <td>18</td>\n",
       "      <td>1</td>\n",
       "      <td>33.770</td>\n",
       "      <td>1</td>\n",
       "      <td>no</td>\n",
       "    </tr>\n",
       "    <tr>\n",
       "      <th>2</th>\n",
       "      <td>2</td>\n",
       "      <td>28</td>\n",
       "      <td>1</td>\n",
       "      <td>33.000</td>\n",
       "      <td>3</td>\n",
       "      <td>no</td>\n",
       "    </tr>\n",
       "    <tr>\n",
       "      <th>3</th>\n",
       "      <td>1</td>\n",
       "      <td>33</td>\n",
       "      <td>1</td>\n",
       "      <td>22.705</td>\n",
       "      <td>0</td>\n",
       "      <td>no</td>\n",
       "    </tr>\n",
       "    <tr>\n",
       "      <th>4</th>\n",
       "      <td>1</td>\n",
       "      <td>32</td>\n",
       "      <td>1</td>\n",
       "      <td>28.880</td>\n",
       "      <td>0</td>\n",
       "      <td>no</td>\n",
       "    </tr>\n",
       "  </tbody>\n",
       "</table>\n",
       "</div>"
      ],
      "text/plain": [
       "   region  age  sex     bmi  children smoker\n",
       "0       3   19    0  27.900         0    yes\n",
       "1       2   18    1  33.770         1     no\n",
       "2       2   28    1  33.000         3     no\n",
       "3       1   33    1  22.705         0     no\n",
       "4       1   32    1  28.880         0     no"
      ]
     },
     "execution_count": 9,
     "metadata": {},
     "output_type": "execute_result"
    }
   ],
   "source": [
    "df.head()"
   ]
  },
  {
   "cell_type": "markdown",
   "id": "a303ffc6",
   "metadata": {},
   "source": [
    "# Splitting Data Set"
   ]
  },
  {
   "cell_type": "code",
   "execution_count": 10,
   "id": "cfb7d5f2",
   "metadata": {},
   "outputs": [
    {
     "data": {
      "text/plain": [
       "Index(['region', 'age', 'sex', 'bmi', 'children', 'smoker'], dtype='object')"
      ]
     },
     "execution_count": 10,
     "metadata": {},
     "output_type": "execute_result"
    }
   ],
   "source": [
    "df.columns"
   ]
  },
  {
   "cell_type": "code",
   "execution_count": 11,
   "id": "c2818e49",
   "metadata": {},
   "outputs": [],
   "source": [
    "x=df.drop('smoker',axis=1)"
   ]
  },
  {
   "cell_type": "code",
   "execution_count": 12,
   "id": "858b6dd6",
   "metadata": {},
   "outputs": [],
   "source": [
    "y=df['smoker']"
   ]
  },
  {
   "cell_type": "code",
   "execution_count": 13,
   "id": "9e6e6cc7",
   "metadata": {},
   "outputs": [],
   "source": [
    "from sklearn.model_selection import train_test_split as tts"
   ]
  },
  {
   "cell_type": "code",
   "execution_count": 14,
   "id": "441fea6e",
   "metadata": {},
   "outputs": [],
   "source": [
    "xtrain,xtest,ytrain,ytest=tts(x,y,train_size=.75,random_state=1)"
   ]
  },
  {
   "cell_type": "code",
   "execution_count": 15,
   "id": "b1cbfa06",
   "metadata": {},
   "outputs": [
    {
     "data": {
      "text/plain": [
       "(1003, 5)"
      ]
     },
     "execution_count": 15,
     "metadata": {},
     "output_type": "execute_result"
    }
   ],
   "source": [
    "xtrain.shape"
   ]
  },
  {
   "cell_type": "code",
   "execution_count": 16,
   "id": "7746a00e",
   "metadata": {},
   "outputs": [
    {
     "data": {
      "text/html": [
       "<div>\n",
       "<style scoped>\n",
       "    .dataframe tbody tr th:only-of-type {\n",
       "        vertical-align: middle;\n",
       "    }\n",
       "\n",
       "    .dataframe tbody tr th {\n",
       "        vertical-align: top;\n",
       "    }\n",
       "\n",
       "    .dataframe thead th {\n",
       "        text-align: right;\n",
       "    }\n",
       "</style>\n",
       "<table border=\"1\" class=\"dataframe\">\n",
       "  <thead>\n",
       "    <tr style=\"text-align: right;\">\n",
       "      <th></th>\n",
       "      <th>region</th>\n",
       "      <th>age</th>\n",
       "      <th>sex</th>\n",
       "      <th>bmi</th>\n",
       "      <th>children</th>\n",
       "    </tr>\n",
       "  </thead>\n",
       "  <tbody>\n",
       "    <tr>\n",
       "      <th>1043</th>\n",
       "      <td>3</td>\n",
       "      <td>28</td>\n",
       "      <td>0</td>\n",
       "      <td>25.800</td>\n",
       "      <td>0</td>\n",
       "    </tr>\n",
       "    <tr>\n",
       "      <th>968</th>\n",
       "      <td>0</td>\n",
       "      <td>21</td>\n",
       "      <td>1</td>\n",
       "      <td>25.745</td>\n",
       "      <td>2</td>\n",
       "    </tr>\n",
       "    <tr>\n",
       "      <th>594</th>\n",
       "      <td>2</td>\n",
       "      <td>41</td>\n",
       "      <td>1</td>\n",
       "      <td>40.260</td>\n",
       "      <td>0</td>\n",
       "    </tr>\n",
       "    <tr>\n",
       "      <th>1079</th>\n",
       "      <td>2</td>\n",
       "      <td>63</td>\n",
       "      <td>1</td>\n",
       "      <td>33.660</td>\n",
       "      <td>3</td>\n",
       "    </tr>\n",
       "    <tr>\n",
       "      <th>1051</th>\n",
       "      <td>0</td>\n",
       "      <td>64</td>\n",
       "      <td>1</td>\n",
       "      <td>26.410</td>\n",
       "      <td>0</td>\n",
       "    </tr>\n",
       "  </tbody>\n",
       "</table>\n",
       "</div>"
      ],
      "text/plain": [
       "      region  age  sex     bmi  children\n",
       "1043       3   28    0  25.800         0\n",
       "968        0   21    1  25.745         2\n",
       "594        2   41    1  40.260         0\n",
       "1079       2   63    1  33.660         3\n",
       "1051       0   64    1  26.410         0"
      ]
     },
     "execution_count": 16,
     "metadata": {},
     "output_type": "execute_result"
    }
   ],
   "source": [
    "xtrain.head()"
   ]
  },
  {
   "cell_type": "markdown",
   "id": "7e53ea9f",
   "metadata": {},
   "source": [
    "# Decision  Tree Classifier"
   ]
  },
  {
   "cell_type": "code",
   "execution_count": 17,
   "id": "c4a5e6b0",
   "metadata": {},
   "outputs": [],
   "source": [
    "from sklearn.tree import DecisionTreeClassifier\n",
    "clf=DecisionTreeClassifier()"
   ]
  },
  {
   "cell_type": "code",
   "execution_count": 18,
   "id": "e4900244",
   "metadata": {},
   "outputs": [
    {
     "data": {
      "text/plain": [
       "DecisionTreeClassifier()"
      ]
     },
     "execution_count": 18,
     "metadata": {},
     "output_type": "execute_result"
    }
   ],
   "source": [
    "clf.fit(xtrain,ytrain)"
   ]
  },
  {
   "cell_type": "code",
   "execution_count": 19,
   "id": "f2881de9",
   "metadata": {},
   "outputs": [],
   "source": [
    "testing=clf.predict(xtest)"
   ]
  },
  {
   "cell_type": "code",
   "execution_count": 20,
   "id": "062c9ebd",
   "metadata": {},
   "outputs": [
    {
     "data": {
      "text/plain": [
       "array(['yes', 'yes', 'no', 'yes', 'no', 'no', 'no', 'no', 'no', 'no',\n",
       "       'no', 'yes', 'no', 'no', 'no', 'yes', 'no', 'no', 'no', 'no', 'no',\n",
       "       'no', 'no', 'yes', 'no', 'yes', 'yes', 'yes', 'no', 'no', 'no',\n",
       "       'no', 'no', 'no', 'no', 'no', 'no', 'no', 'no', 'no', 'no', 'no',\n",
       "       'no', 'no', 'no', 'yes', 'no', 'no', 'no', 'no', 'no', 'no', 'no',\n",
       "       'no', 'no', 'no', 'no', 'no', 'no', 'yes', 'yes', 'no', 'no', 'no',\n",
       "       'yes', 'no', 'yes', 'no', 'yes', 'no', 'no', 'no', 'no', 'no',\n",
       "       'no', 'yes', 'no', 'no', 'yes', 'no', 'no', 'yes', 'no', 'no',\n",
       "       'yes', 'no', 'yes', 'no', 'yes', 'yes', 'no', 'no', 'yes', 'no',\n",
       "       'no', 'no', 'no', 'no', 'no', 'no', 'no', 'no', 'yes', 'yes', 'no',\n",
       "       'no', 'no', 'no', 'no', 'no', 'no', 'no', 'no', 'no', 'no', 'no',\n",
       "       'no', 'no', 'yes', 'no', 'no', 'no', 'no', 'no', 'no', 'yes',\n",
       "       'yes', 'yes', 'no', 'no', 'no', 'no', 'yes', 'no', 'yes', 'no',\n",
       "       'no', 'no', 'no', 'yes', 'no', 'no', 'no', 'no', 'no', 'yes', 'no',\n",
       "       'no', 'no', 'yes', 'no', 'no', 'no', 'no', 'no', 'yes', 'yes',\n",
       "       'no', 'no', 'no', 'yes', 'no', 'no', 'no', 'no', 'no', 'no', 'yes',\n",
       "       'no', 'no', 'no', 'no', 'no', 'yes', 'no', 'no', 'no', 'no', 'no',\n",
       "       'no', 'no', 'no', 'no', 'no', 'no', 'no', 'no', 'no', 'no', 'no',\n",
       "       'no', 'yes', 'no', 'yes', 'no', 'no', 'no', 'yes', 'yes', 'no',\n",
       "       'no', 'no', 'no', 'no', 'no', 'yes', 'yes', 'yes', 'yes', 'yes',\n",
       "       'yes', 'no', 'yes', 'no', 'no', 'yes', 'yes', 'no', 'no', 'no',\n",
       "       'no', 'no', 'no', 'no', 'yes', 'no', 'no', 'yes', 'no', 'no', 'no',\n",
       "       'no', 'no', 'no', 'no', 'no', 'no', 'no', 'no', 'yes', 'no', 'no',\n",
       "       'no', 'no', 'no', 'yes', 'no', 'no', 'no', 'no', 'no', 'no', 'yes',\n",
       "       'no', 'no', 'no', 'no', 'no', 'no', 'no', 'no', 'no', 'no', 'no',\n",
       "       'no', 'no', 'no', 'yes', 'no', 'no', 'no', 'yes', 'no', 'no', 'no',\n",
       "       'no', 'yes', 'no', 'yes', 'no', 'yes', 'no', 'no', 'no', 'no',\n",
       "       'no', 'no', 'yes', 'yes', 'yes', 'no', 'no', 'yes', 'no', 'yes',\n",
       "       'yes', 'no', 'no', 'no', 'yes', 'no', 'no', 'no', 'no', 'no',\n",
       "       'yes', 'no', 'no', 'no', 'no', 'yes', 'yes', 'no', 'no', 'no',\n",
       "       'yes', 'no', 'no', 'yes', 'no', 'no', 'no', 'no', 'no', 'no', 'no',\n",
       "       'no', 'no', 'no', 'yes', 'no', 'no', 'no', 'no', 'yes'],\n",
       "      dtype=object)"
      ]
     },
     "execution_count": 20,
     "metadata": {},
     "output_type": "execute_result"
    }
   ],
   "source": [
    "testing # Predicted result of y"
   ]
  },
  {
   "cell_type": "code",
   "execution_count": 21,
   "id": "163b6177",
   "metadata": {},
   "outputs": [
    {
     "data": {
      "text/plain": [
       "array(['no', 'no', 'no', 'no', 'no', 'yes', 'no', 'no', 'no', 'yes', 'no',\n",
       "       'no', 'no', 'no', 'no', 'no', 'no', 'no', 'no', 'no', 'no', 'yes',\n",
       "       'no', 'no', 'no', 'no', 'no', 'no', 'no', 'no', 'no', 'no', 'yes',\n",
       "       'yes', 'yes', 'no', 'yes', 'yes', 'no', 'yes', 'no', 'no', 'no',\n",
       "       'no', 'no', 'no', 'no', 'yes', 'no', 'no', 'no', 'no', 'no', 'no',\n",
       "       'yes', 'no', 'yes', 'no', 'no', 'no', 'no', 'no', 'yes', 'no',\n",
       "       'no', 'no', 'no', 'no', 'no', 'yes', 'yes', 'yes', 'no', 'no',\n",
       "       'no', 'yes', 'no', 'no', 'no', 'no', 'no', 'no', 'no', 'no', 'yes',\n",
       "       'yes', 'no', 'yes', 'no', 'no', 'yes', 'yes', 'no', 'no', 'no',\n",
       "       'no', 'no', 'no', 'no', 'no', 'no', 'yes', 'yes', 'yes', 'yes',\n",
       "       'yes', 'no', 'no', 'no', 'no', 'no', 'no', 'no', 'no', 'no', 'no',\n",
       "       'no', 'no', 'no', 'no', 'no', 'no', 'no', 'no', 'yes', 'no', 'no',\n",
       "       'yes', 'yes', 'no', 'yes', 'no', 'no', 'yes', 'no', 'no', 'no',\n",
       "       'no', 'no', 'no', 'no', 'no', 'yes', 'no', 'no', 'no', 'no', 'no',\n",
       "       'no', 'no', 'no', 'no', 'no', 'no', 'no', 'no', 'no', 'no', 'no',\n",
       "       'no', 'no', 'yes', 'no', 'no', 'no', 'no', 'yes', 'no', 'no', 'no',\n",
       "       'no', 'no', 'yes', 'yes', 'no', 'no', 'no', 'no', 'no', 'no', 'no',\n",
       "       'no', 'no', 'no', 'no', 'yes', 'no', 'no', 'no', 'no', 'no', 'yes',\n",
       "       'no', 'no', 'no', 'no', 'no', 'no', 'no', 'no', 'no', 'no', 'no',\n",
       "       'no', 'no', 'no', 'no', 'no', 'no', 'no', 'no', 'yes', 'no', 'no',\n",
       "       'no', 'yes', 'no', 'yes', 'no', 'yes', 'no', 'yes', 'no', 'no',\n",
       "       'no', 'no', 'no', 'no', 'yes', 'no', 'no', 'no', 'yes', 'no', 'no',\n",
       "       'no', 'yes', 'no', 'no', 'no', 'no', 'no', 'no', 'no', 'no', 'yes',\n",
       "       'no', 'no', 'no', 'no', 'no', 'no', 'no', 'no', 'no', 'no', 'yes',\n",
       "       'yes', 'no', 'yes', 'no', 'no', 'no', 'yes', 'yes', 'yes', 'no',\n",
       "       'no', 'no', 'no', 'no', 'no', 'no', 'no', 'no', 'yes', 'no', 'no',\n",
       "       'yes', 'yes', 'no', 'no', 'no', 'no', 'no', 'no', 'no', 'no', 'no',\n",
       "       'no', 'no', 'no', 'no', 'no', 'no', 'yes', 'no', 'no', 'no', 'no',\n",
       "       'no', 'no', 'no', 'no', 'no', 'yes', 'no', 'no', 'no', 'no', 'no',\n",
       "       'no', 'yes', 'no', 'no', 'no', 'no', 'no', 'no', 'no', 'no', 'yes',\n",
       "       'no', 'no', 'no', 'no', 'no', 'no', 'no', 'yes', 'no', 'no', 'no',\n",
       "       'no', 'no'], dtype=object)"
      ]
     },
     "execution_count": 21,
     "metadata": {},
     "output_type": "execute_result"
    }
   ],
   "source": [
    "import numpy as np\n",
    "np.array(ytest) #actual result"
   ]
  },
  {
   "cell_type": "markdown",
   "id": "efa7e6de",
   "metadata": {},
   "source": [
    "Scoring performance"
   ]
  },
  {
   "cell_type": "code",
   "execution_count": 22,
   "id": "7c92f786",
   "metadata": {},
   "outputs": [
    {
     "data": {
      "text/plain": [
       "0.6656716417910448"
      ]
     },
     "execution_count": 22,
     "metadata": {},
     "output_type": "execute_result"
    }
   ],
   "source": [
    "clf.score(xtest,ytest)"
   ]
  },
  {
   "cell_type": "markdown",
   "id": "fe097075",
   "metadata": {},
   "source": [
    "# Plotting Tree"
   ]
  },
  {
   "cell_type": "code",
   "execution_count": 23,
   "id": "987b4d48",
   "metadata": {},
   "outputs": [],
   "source": [
    "from sklearn import tree\n"
   ]
  },
  {
   "cell_type": "code",
   "execution_count": 24,
   "id": "9fa7705c",
   "metadata": {},
   "outputs": [
    {
     "data": {
      "text/plain": [
       "[Text(257.40207543703593, 643.2600000000001, 'sex <= 0.5\\ngini = 0.333\\nsamples = 1003\\nvalue = [791, 212]'),\n",
       " Text(134.6935886669024, 625.1400000000001, 'bmi <= 22.605\\ngini = 0.293\\nsamples = 488\\nvalue = [401, 87]'),\n",
       " Text(41.041018387553045, 607.0200000000001, 'age <= 45.0\\ngini = 0.444\\nsamples = 48\\nvalue = [32, 16]'),\n",
       " Text(37.88401697312589, 588.9000000000001, 'age <= 38.5\\ngini = 0.48\\nsamples = 40\\nvalue = [24, 16]'),\n",
       " Text(22.0990099009901, 570.7800000000001, 'bmi <= 21.47\\ngini = 0.451\\nsamples = 35\\nvalue = [23, 12]'),\n",
       " Text(9.471004243281472, 552.6600000000001, 'children <= 1.5\\ngini = 0.332\\nsamples = 19\\nvalue = [15, 4]'),\n",
       " Text(6.314002828854314, 534.5400000000001, 'gini = 0.0\\nsamples = 10\\nvalue = [10, 0]'),\n",
       " Text(12.628005657708629, 534.5400000000001, 'bmi <= 18.953\\ngini = 0.494\\nsamples = 9\\nvalue = [5, 4]'),\n",
       " Text(6.314002828854314, 516.4200000000001, 'age <= 34.5\\ngini = 0.375\\nsamples = 4\\nvalue = [1, 3]'),\n",
       " Text(3.157001414427157, 498.30000000000007, 'gini = 0.0\\nsamples = 3\\nvalue = [0, 3]'),\n",
       " Text(9.471004243281472, 498.30000000000007, 'gini = 0.0\\nsamples = 1\\nvalue = [1, 0]'),\n",
       " Text(18.942008486562944, 516.4200000000001, 'age <= 28.0\\ngini = 0.32\\nsamples = 5\\nvalue = [4, 1]'),\n",
       " Text(15.785007072135786, 498.30000000000007, 'age <= 24.5\\ngini = 0.5\\nsamples = 2\\nvalue = [1, 1]'),\n",
       " Text(12.628005657708629, 480.18000000000006, 'gini = 0.0\\nsamples = 1\\nvalue = [1, 0]'),\n",
       " Text(18.942008486562944, 480.18000000000006, 'gini = 0.0\\nsamples = 1\\nvalue = [0, 1]'),\n",
       " Text(22.0990099009901, 498.30000000000007, 'gini = 0.0\\nsamples = 3\\nvalue = [3, 0]'),\n",
       " Text(34.72701555869873, 552.6600000000001, 'bmi <= 21.87\\ngini = 0.5\\nsamples = 16\\nvalue = [8, 8]'),\n",
       " Text(28.413012729844414, 534.5400000000001, 'age <= 30.0\\ngini = 0.245\\nsamples = 7\\nvalue = [1, 6]'),\n",
       " Text(25.256011315417258, 516.4200000000001, 'gini = 0.0\\nsamples = 6\\nvalue = [0, 6]'),\n",
       " Text(31.57001414427157, 516.4200000000001, 'gini = 0.0\\nsamples = 1\\nvalue = [1, 0]'),\n",
       " Text(41.041018387553045, 534.5400000000001, 'bmi <= 22.325\\ngini = 0.346\\nsamples = 9\\nvalue = [7, 2]'),\n",
       " Text(37.88401697312589, 516.4200000000001, 'gini = 0.0\\nsamples = 5\\nvalue = [5, 0]'),\n",
       " Text(44.1980198019802, 516.4200000000001, 'age <= 19.5\\ngini = 0.5\\nsamples = 4\\nvalue = [2, 2]'),\n",
       " Text(41.041018387553045, 498.30000000000007, 'gini = 0.0\\nsamples = 1\\nvalue = [1, 0]'),\n",
       " Text(47.35502121640736, 498.30000000000007, 'bmi <= 22.51\\ngini = 0.444\\nsamples = 3\\nvalue = [1, 2]'),\n",
       " Text(44.1980198019802, 480.18000000000006, 'gini = 0.0\\nsamples = 1\\nvalue = [0, 1]'),\n",
       " Text(50.512022630834515, 480.18000000000006, 'age <= 30.0\\ngini = 0.5\\nsamples = 2\\nvalue = [1, 1]'),\n",
       " Text(47.35502121640736, 462.06000000000006, 'gini = 0.0\\nsamples = 1\\nvalue = [1, 0]'),\n",
       " Text(53.66902404526167, 462.06000000000006, 'gini = 0.0\\nsamples = 1\\nvalue = [0, 1]'),\n",
       " Text(53.66902404526167, 570.7800000000001, 'children <= 1.5\\ngini = 0.32\\nsamples = 5\\nvalue = [1, 4]'),\n",
       " Text(50.512022630834515, 552.6600000000001, 'bmi <= 20.995\\ngini = 0.5\\nsamples = 2\\nvalue = [1, 1]'),\n",
       " Text(47.35502121640736, 534.5400000000001, 'gini = 0.0\\nsamples = 1\\nvalue = [0, 1]'),\n",
       " Text(53.66902404526167, 534.5400000000001, 'gini = 0.0\\nsamples = 1\\nvalue = [1, 0]'),\n",
       " Text(56.82602545968883, 552.6600000000001, 'gini = 0.0\\nsamples = 3\\nvalue = [0, 3]'),\n",
       " Text(44.1980198019802, 588.9000000000001, 'gini = 0.0\\nsamples = 8\\nvalue = [8, 0]'),\n",
       " Text(228.3461589462518, 607.0200000000001, 'bmi <= 46.145\\ngini = 0.271\\nsamples = 440\\nvalue = [369, 71]'),\n",
       " Text(209.26233203677512, 588.9000000000001, 'age <= 62.5\\ngini = 0.264\\nsamples = 435\\nvalue = [367, 68]'),\n",
       " Text(183.72268387553044, 570.7800000000001, 'bmi <= 38.528\\ngini = 0.252\\nsamples = 419\\nvalue = [357, 62]'),\n",
       " Text(157.8993988684583, 552.6600000000001, 'bmi <= 38.385\\ngini = 0.267\\nsamples = 378\\nvalue = [318, 60]'),\n",
       " Text(154.74239745403113, 534.5400000000001, 'bmi <= 34.59\\ngini = 0.264\\nsamples = 377\\nvalue = [318, 59]'),\n",
       " Text(106.252828854314, 516.4200000000001, 'bmi <= 25.578\\ngini = 0.244\\nsamples = 310\\nvalue = [266, 44]'),\n",
       " Text(74.1895332390382, 498.30000000000007, 'bmi <= 25.285\\ngini = 0.332\\nsamples = 57\\nvalue = [45, 12]'),\n",
       " Text(71.03253182461104, 480.18000000000006, 'bmi <= 24.37\\ngini = 0.298\\nsamples = 55\\nvalue = [45, 10]'),\n",
       " Text(59.983026874115986, 462.06000000000006, 'region <= 1.5\\ngini = 0.193\\nsamples = 37\\nvalue = [33, 4]'),\n",
       " Text(56.82602545968883, 443.94000000000005, 'bmi <= 23.323\\ngini = 0.308\\nsamples = 21\\nvalue = [17, 4]'),\n",
       " Text(53.66902404526167, 425.82000000000005, 'gini = 0.0\\nsamples = 9\\nvalue = [9, 0]'),\n",
       " Text(59.983026874115986, 425.82000000000005, 'bmi <= 24.177\\ngini = 0.444\\nsamples = 12\\nvalue = [8, 4]'),\n",
       " Text(56.82602545968883, 407.70000000000005, 'children <= 1.5\\ngini = 0.5\\nsamples = 8\\nvalue = [4, 4]'),\n",
       " Text(50.512022630834515, 389.58000000000004, 'age <= 38.0\\ngini = 0.375\\nsamples = 4\\nvalue = [1, 3]'),\n",
       " Text(47.35502121640736, 371.46000000000004, 'gini = 0.0\\nsamples = 1\\nvalue = [1, 0]'),\n",
       " Text(53.66902404526167, 371.46000000000004, 'gini = 0.0\\nsamples = 3\\nvalue = [0, 3]'),\n",
       " Text(63.14002828854314, 389.58000000000004, 'bmi <= 23.703\\ngini = 0.375\\nsamples = 4\\nvalue = [3, 1]'),\n",
       " Text(59.983026874115986, 371.46000000000004, 'region <= 0.5\\ngini = 0.5\\nsamples = 2\\nvalue = [1, 1]'),\n",
       " Text(56.82602545968883, 353.34000000000003, 'gini = 0.0\\nsamples = 1\\nvalue = [1, 0]'),\n",
       " Text(63.14002828854314, 353.34000000000003, 'gini = 0.0\\nsamples = 1\\nvalue = [0, 1]'),\n",
       " Text(66.2970297029703, 371.46000000000004, 'gini = 0.0\\nsamples = 2\\nvalue = [2, 0]'),\n",
       " Text(63.14002828854314, 407.70000000000005, 'gini = 0.0\\nsamples = 4\\nvalue = [4, 0]'),\n",
       " Text(63.14002828854314, 443.94000000000005, 'gini = 0.0\\nsamples = 16\\nvalue = [16, 0]'),\n",
       " Text(82.08203677510609, 462.06000000000006, 'bmi <= 24.938\\ngini = 0.444\\nsamples = 18\\nvalue = [12, 6]'),\n",
       " Text(75.76803394625178, 443.94000000000005, 'age <= 47.5\\ngini = 0.408\\nsamples = 7\\nvalue = [2, 5]'),\n",
       " Text(72.61103253182462, 425.82000000000005, 'region <= 2.5\\ngini = 0.278\\nsamples = 6\\nvalue = [1, 5]'),\n",
       " Text(69.45403111739746, 407.70000000000005, 'gini = 0.0\\nsamples = 4\\nvalue = [0, 4]'),\n",
       " Text(75.76803394625178, 407.70000000000005, 'age <= 30.5\\ngini = 0.5\\nsamples = 2\\nvalue = [1, 1]'),\n",
       " Text(72.61103253182462, 389.58000000000004, 'gini = 0.0\\nsamples = 1\\nvalue = [1, 0]'),\n",
       " Text(78.92503536067893, 389.58000000000004, 'gini = 0.0\\nsamples = 1\\nvalue = [0, 1]'),\n",
       " Text(78.92503536067893, 425.82000000000005, 'gini = 0.0\\nsamples = 1\\nvalue = [1, 0]'),\n",
       " Text(88.3960396039604, 443.94000000000005, 'bmi <= 25.235\\ngini = 0.165\\nsamples = 11\\nvalue = [10, 1]'),\n",
       " Text(85.23903818953325, 425.82000000000005, 'gini = 0.0\\nsamples = 9\\nvalue = [9, 0]'),\n",
       " Text(91.55304101838756, 425.82000000000005, 'age <= 33.5\\ngini = 0.5\\nsamples = 2\\nvalue = [1, 1]'),\n",
       " Text(88.3960396039604, 407.70000000000005, 'gini = 0.0\\nsamples = 1\\nvalue = [1, 0]'),\n",
       " Text(94.71004243281472, 407.70000000000005, 'gini = 0.0\\nsamples = 1\\nvalue = [0, 1]'),\n",
       " Text(77.34653465346535, 480.18000000000006, 'gini = 0.0\\nsamples = 2\\nvalue = [0, 2]'),\n",
       " Text(138.31612446958982, 498.30000000000007, 'age <= 23.5\\ngini = 0.221\\nsamples = 253\\nvalue = [221, 32]'),\n",
       " Text(113.65205091937766, 480.18000000000006, 'age <= 22.5\\ngini = 0.335\\nsamples = 47\\nvalue = [37, 10]'),\n",
       " Text(107.33804809052334, 462.06000000000006, 'region <= 0.5\\ngini = 0.298\\nsamples = 44\\nvalue = [36, 8]'),\n",
       " Text(104.18104667609619, 443.94000000000005, 'gini = 0.0\\nsamples = 11\\nvalue = [11, 0]'),\n",
       " Text(110.4950495049505, 443.94000000000005, 'bmi <= 30.448\\ngini = 0.367\\nsamples = 33\\nvalue = [25, 8]'),\n",
       " Text(104.18104667609619, 425.82000000000005, 'bmi <= 29.91\\ngini = 0.457\\nsamples = 17\\nvalue = [11, 6]'),\n",
       " Text(101.02404526166903, 407.70000000000005, 'age <= 18.5\\ngini = 0.391\\nsamples = 15\\nvalue = [11, 4]'),\n",
       " Text(97.86704384724187, 389.58000000000004, 'gini = 0.0\\nsamples = 1\\nvalue = [0, 1]'),\n",
       " Text(104.18104667609619, 389.58000000000004, 'age <= 20.5\\ngini = 0.337\\nsamples = 14\\nvalue = [11, 3]'),\n",
       " Text(101.02404526166903, 371.46000000000004, 'bmi <= 27.915\\ngini = 0.42\\nsamples = 10\\nvalue = [7, 3]'),\n",
       " Text(94.71004243281472, 353.34000000000003, 'bmi <= 26.293\\ngini = 0.444\\nsamples = 3\\nvalue = [1, 2]'),\n",
       " Text(91.55304101838756, 335.22, 'gini = 0.0\\nsamples = 1\\nvalue = [1, 0]'),\n",
       " Text(97.86704384724187, 335.22, 'gini = 0.0\\nsamples = 2\\nvalue = [0, 2]'),\n",
       " Text(107.33804809052334, 353.34000000000003, 'region <= 2.0\\ngini = 0.245\\nsamples = 7\\nvalue = [6, 1]'),\n",
       " Text(104.18104667609619, 335.22, 'children <= 1.5\\ngini = 0.444\\nsamples = 3\\nvalue = [2, 1]'),\n",
       " Text(101.02404526166903, 317.1, 'age <= 19.5\\ngini = 0.5\\nsamples = 2\\nvalue = [1, 1]'),\n",
       " Text(97.86704384724187, 298.98, 'gini = 0.0\\nsamples = 1\\nvalue = [0, 1]'),\n",
       " Text(104.18104667609619, 298.98, 'gini = 0.0\\nsamples = 1\\nvalue = [1, 0]'),\n",
       " Text(107.33804809052334, 317.1, 'gini = 0.0\\nsamples = 1\\nvalue = [1, 0]'),\n",
       " Text(110.4950495049505, 335.22, 'gini = 0.0\\nsamples = 4\\nvalue = [4, 0]'),\n",
       " Text(107.33804809052334, 371.46000000000004, 'gini = 0.0\\nsamples = 4\\nvalue = [4, 0]'),\n",
       " Text(107.33804809052334, 407.70000000000005, 'gini = 0.0\\nsamples = 2\\nvalue = [0, 2]'),\n",
       " Text(116.80905233380481, 425.82000000000005, 'bmi <= 32.305\\ngini = 0.219\\nsamples = 16\\nvalue = [14, 2]'),\n",
       " Text(113.65205091937766, 407.70000000000005, 'gini = 0.0\\nsamples = 9\\nvalue = [9, 0]'),\n",
       " Text(119.96605374823197, 407.70000000000005, 'bmi <= 32.585\\ngini = 0.408\\nsamples = 7\\nvalue = [5, 2]'),\n",
       " Text(116.80905233380481, 389.58000000000004, 'gini = 0.0\\nsamples = 1\\nvalue = [0, 1]'),\n",
       " Text(123.12305516265913, 389.58000000000004, 'bmi <= 33.055\\ngini = 0.278\\nsamples = 6\\nvalue = [5, 1]'),\n",
       " Text(119.96605374823197, 371.46000000000004, 'gini = 0.0\\nsamples = 3\\nvalue = [3, 0]'),\n",
       " Text(126.28005657708628, 371.46000000000004, 'bmi <= 33.205\\ngini = 0.444\\nsamples = 3\\nvalue = [2, 1]'),\n",
       " Text(123.12305516265913, 353.34000000000003, 'gini = 0.0\\nsamples = 1\\nvalue = [0, 1]'),\n",
       " Text(129.43705799151346, 353.34000000000003, 'gini = 0.0\\nsamples = 2\\nvalue = [2, 0]'),\n",
       " Text(119.96605374823197, 462.06000000000006, 'bmi <= 29.7\\ngini = 0.444\\nsamples = 3\\nvalue = [1, 2]'),\n",
       " Text(116.80905233380481, 443.94000000000005, 'gini = 0.0\\nsamples = 1\\nvalue = [1, 0]'),\n",
       " Text(123.12305516265913, 443.94000000000005, 'gini = 0.0\\nsamples = 2\\nvalue = [0, 2]'),\n",
       " Text(162.980198019802, 480.18000000000006, 'age <= 59.5\\ngini = 0.191\\nsamples = 206\\nvalue = [184, 22]'),\n",
       " Text(147.1951909476662, 462.06000000000006, 'children <= 2.5\\ngini = 0.171\\nsamples = 191\\nvalue = [173, 18]'),\n",
       " Text(140.88118811881188, 443.94000000000005, 'bmi <= 33.6\\ngini = 0.19\\nsamples = 160\\nvalue = [143, 17]'),\n",
       " Text(137.72418670438472, 425.82000000000005, 'bmi <= 33.47\\ngini = 0.205\\nsamples = 147\\nvalue = [130, 17]'),\n",
       " Text(134.56718528995756, 407.70000000000005, 'bmi <= 26.078\\ngini = 0.195\\nsamples = 146\\nvalue = [130, 16]'),\n",
       " Text(131.4101838755304, 389.58000000000004, 'gini = 0.0\\nsamples = 10\\nvalue = [10, 0]'),\n",
       " Text(137.72418670438472, 389.58000000000004, 'bmi <= 26.163\\ngini = 0.208\\nsamples = 136\\nvalue = [120, 16]'),\n",
       " Text(134.56718528995756, 371.46000000000004, 'gini = 0.0\\nsamples = 1\\nvalue = [0, 1]'),\n",
       " Text(140.88118811881188, 371.46000000000004, 'age <= 57.5\\ngini = 0.198\\nsamples = 135\\nvalue = [120, 15]'),\n",
       " Text(137.72418670438472, 353.34000000000003, 'age <= 56.5\\ngini = 0.21\\nsamples = 126\\nvalue = [111, 15]'),\n",
       " Text(123.91230551626592, 335.22, 'age <= 51.0\\ngini = 0.19\\nsamples = 122\\nvalue = [109, 13]'),\n",
       " Text(120.75530410183876, 317.1, 'bmi <= 30.158\\ngini = 0.219\\nsamples = 104\\nvalue = [91, 13]'),\n",
       " Text(110.4950495049505, 298.98, 'bmi <= 28.392\\ngini = 0.168\\nsamples = 65\\nvalue = [59, 6]'),\n",
       " Text(107.33804809052334, 280.86, 'bmi <= 28.345\\ngini = 0.272\\nsamples = 37\\nvalue = [31, 6]'),\n",
       " Text(104.18104667609619, 262.74, 'age <= 41.5\\ngini = 0.239\\nsamples = 36\\nvalue = [31, 5]'),\n",
       " Text(97.86704384724187, 244.62, 'bmi <= 27.83\\ngini = 0.095\\nsamples = 20\\nvalue = [19, 1]'),\n",
       " Text(94.71004243281472, 226.5, 'gini = 0.0\\nsamples = 16\\nvalue = [16, 0]'),\n",
       " Text(101.02404526166903, 226.5, 'bmi <= 27.995\\ngini = 0.375\\nsamples = 4\\nvalue = [3, 1]'),\n",
       " Text(97.86704384724187, 208.38000000000005, 'gini = 0.0\\nsamples = 1\\nvalue = [0, 1]'),\n",
       " Text(104.18104667609619, 208.38000000000005, 'gini = 0.0\\nsamples = 3\\nvalue = [3, 0]'),\n",
       " Text(110.4950495049505, 244.62, 'age <= 43.5\\ngini = 0.375\\nsamples = 16\\nvalue = [12, 4]'),\n",
       " Text(107.33804809052334, 226.5, 'gini = 0.0\\nsamples = 2\\nvalue = [0, 2]'),\n",
       " Text(113.65205091937766, 226.5, 'bmi <= 27.55\\ngini = 0.245\\nsamples = 14\\nvalue = [12, 2]'),\n",
       " Text(110.4950495049505, 208.38000000000005, 'gini = 0.0\\nsamples = 8\\nvalue = [8, 0]'),\n",
       " Text(116.80905233380481, 208.38000000000005, 'age <= 46.5\\ngini = 0.444\\nsamples = 6\\nvalue = [4, 2]'),\n",
       " Text(113.65205091937766, 190.26000000000005, 'gini = 0.0\\nsamples = 4\\nvalue = [4, 0]'),\n",
       " Text(119.96605374823197, 190.26000000000005, 'gini = 0.0\\nsamples = 2\\nvalue = [0, 2]'),\n",
       " Text(110.4950495049505, 262.74, 'gini = 0.0\\nsamples = 1\\nvalue = [0, 1]'),\n",
       " Text(113.65205091937766, 280.86, 'gini = 0.0\\nsamples = 28\\nvalue = [28, 0]'),\n",
       " Text(131.01555869872703, 298.98, 'bmi <= 30.4\\ngini = 0.295\\nsamples = 39\\nvalue = [32, 7]'),\n",
       " Text(119.96605374823197, 280.86, 'age <= 40.0\\ngini = 0.444\\nsamples = 3\\nvalue = [1, 2]'),\n",
       " Text(116.80905233380481, 262.74, 'gini = 0.0\\nsamples = 2\\nvalue = [0, 2]'),\n",
       " Text(123.12305516265913, 262.74, 'gini = 0.0\\nsamples = 1\\nvalue = [1, 0]'),\n",
       " Text(142.06506364922208, 280.86, 'children <= 0.5\\ngini = 0.239\\nsamples = 36\\nvalue = [31, 5]'),\n",
       " Text(129.43705799151346, 262.74, 'bmi <= 30.9\\ngini = 0.337\\nsamples = 14\\nvalue = [11, 3]'),\n",
       " Text(126.28005657708628, 244.62, 'gini = 0.0\\nsamples = 1\\nvalue = [0, 1]'),\n",
       " Text(132.5940594059406, 244.62, 'age <= 27.5\\ngini = 0.26\\nsamples = 13\\nvalue = [11, 2]'),\n",
       " Text(126.28005657708628, 226.5, 'bmi <= 32.373\\ngini = 0.5\\nsamples = 2\\nvalue = [1, 1]'),\n",
       " Text(123.12305516265913, 208.38000000000005, 'gini = 0.0\\nsamples = 1\\nvalue = [0, 1]'),\n",
       " Text(129.43705799151346, 208.38000000000005, 'gini = 0.0\\nsamples = 1\\nvalue = [1, 0]'),\n",
       " Text(138.90806223479493, 226.5, 'age <= 46.5\\ngini = 0.165\\nsamples = 11\\nvalue = [10, 1]'),\n",
       " Text(135.75106082036777, 208.38000000000005, 'gini = 0.0\\nsamples = 9\\nvalue = [9, 0]'),\n",
       " Text(142.06506364922208, 208.38000000000005, 'bmi <= 32.12\\ngini = 0.5\\nsamples = 2\\nvalue = [1, 1]'),\n",
       " Text(138.90806223479493, 190.26000000000005, 'gini = 0.0\\nsamples = 1\\nvalue = [1, 0]'),\n",
       " Text(145.22206506364924, 190.26000000000005, 'gini = 0.0\\nsamples = 1\\nvalue = [0, 1]'),\n",
       " Text(154.6930693069307, 262.74, 'age <= 33.0\\ngini = 0.165\\nsamples = 22\\nvalue = [20, 2]'),\n",
       " Text(151.53606789250355, 244.62, 'gini = 0.0\\nsamples = 8\\nvalue = [8, 0]'),\n",
       " Text(157.85007072135787, 244.62, 'age <= 34.5\\ngini = 0.245\\nsamples = 14\\nvalue = [12, 2]'),\n",
       " Text(151.53606789250355, 226.5, 'bmi <= 32.585\\ngini = 0.5\\nsamples = 2\\nvalue = [1, 1]'),\n",
       " Text(148.3790664780764, 208.38000000000005, 'gini = 0.0\\nsamples = 1\\nvalue = [0, 1]'),\n",
       " Text(154.6930693069307, 208.38000000000005, 'gini = 0.0\\nsamples = 1\\nvalue = [1, 0]'),\n",
       " Text(164.16407355021218, 226.5, 'bmi <= 32.638\\ngini = 0.153\\nsamples = 12\\nvalue = [11, 1]'),\n",
       " Text(161.00707213578502, 208.38000000000005, 'gini = 0.0\\nsamples = 10\\nvalue = [10, 0]'),\n",
       " Text(167.32107496463934, 208.38000000000005, 'children <= 1.5\\ngini = 0.5\\nsamples = 2\\nvalue = [1, 1]'),\n",
       " Text(164.16407355021218, 190.26000000000005, 'gini = 0.0\\nsamples = 1\\nvalue = [1, 0]'),\n",
       " Text(170.4780763790665, 190.26000000000005, 'gini = 0.0\\nsamples = 1\\nvalue = [0, 1]'),\n",
       " Text(127.06930693069307, 317.1, 'gini = 0.0\\nsamples = 18\\nvalue = [18, 0]'),\n",
       " Text(151.53606789250355, 335.22, 'region <= 1.5\\ngini = 0.5\\nsamples = 4\\nvalue = [2, 2]'),\n",
       " Text(148.3790664780764, 317.1, 'bmi <= 30.828\\ngini = 0.444\\nsamples = 3\\nvalue = [2, 1]'),\n",
       " Text(145.22206506364924, 298.98, 'gini = 0.0\\nsamples = 1\\nvalue = [1, 0]'),\n",
       " Text(151.53606789250355, 298.98, 'bmi <= 31.493\\ngini = 0.5\\nsamples = 2\\nvalue = [1, 1]'),\n",
       " Text(148.3790664780764, 280.86, 'gini = 0.0\\nsamples = 1\\nvalue = [0, 1]'),\n",
       " Text(154.6930693069307, 280.86, 'gini = 0.0\\nsamples = 1\\nvalue = [1, 0]'),\n",
       " Text(154.6930693069307, 317.1, 'gini = 0.0\\nsamples = 1\\nvalue = [0, 1]'),\n",
       " Text(144.03818953323903, 353.34000000000003, 'gini = 0.0\\nsamples = 9\\nvalue = [9, 0]'),\n",
       " Text(140.88118811881188, 407.70000000000005, 'gini = 0.0\\nsamples = 1\\nvalue = [0, 1]'),\n",
       " Text(144.03818953323903, 425.82000000000005, 'gini = 0.0\\nsamples = 13\\nvalue = [13, 0]'),\n",
       " Text(153.50919377652053, 443.94000000000005, 'bmi <= 34.102\\ngini = 0.062\\nsamples = 31\\nvalue = [30, 1]'),\n",
       " Text(150.35219236209335, 425.82000000000005, 'gini = 0.0\\nsamples = 28\\nvalue = [28, 0]'),\n",
       " Text(156.6661951909477, 425.82000000000005, 'region <= 1.5\\ngini = 0.444\\nsamples = 3\\nvalue = [2, 1]'),\n",
       " Text(153.50919377652053, 407.70000000000005, 'gini = 0.0\\nsamples = 1\\nvalue = [0, 1]'),\n",
       " Text(159.82319660537485, 407.70000000000005, 'gini = 0.0\\nsamples = 2\\nvalue = [2, 0]'),\n",
       " Text(178.7652050919378, 462.06000000000006, 'region <= 2.5\\ngini = 0.391\\nsamples = 15\\nvalue = [11, 4]'),\n",
       " Text(175.60820367751063, 443.94000000000005, 'region <= 1.5\\ngini = 0.444\\nsamples = 12\\nvalue = [8, 4]'),\n",
       " Text(169.29420084865632, 425.82000000000005, 'bmi <= 29.783\\ngini = 0.245\\nsamples = 7\\nvalue = [6, 1]'),\n",
       " Text(166.13719943422916, 407.70000000000005, 'bmi <= 28.31\\ngini = 0.444\\nsamples = 3\\nvalue = [2, 1]'),\n",
       " Text(162.980198019802, 389.58000000000004, 'gini = 0.0\\nsamples = 2\\nvalue = [2, 0]'),\n",
       " Text(169.29420084865632, 389.58000000000004, 'gini = 0.0\\nsamples = 1\\nvalue = [0, 1]'),\n",
       " Text(172.45120226308347, 407.70000000000005, 'gini = 0.0\\nsamples = 4\\nvalue = [4, 0]'),\n",
       " Text(181.92220650636494, 425.82000000000005, 'bmi <= 32.89\\ngini = 0.48\\nsamples = 5\\nvalue = [2, 3]'),\n",
       " Text(178.7652050919378, 407.70000000000005, 'age <= 61.5\\ngini = 0.375\\nsamples = 4\\nvalue = [1, 3]'),\n",
       " Text(175.60820367751063, 389.58000000000004, 'gini = 0.0\\nsamples = 2\\nvalue = [0, 2]'),\n",
       " Text(181.92220650636494, 389.58000000000004, 'bmi <= 28.105\\ngini = 0.5\\nsamples = 2\\nvalue = [1, 1]'),\n",
       " Text(178.7652050919378, 371.46000000000004, 'gini = 0.0\\nsamples = 1\\nvalue = [0, 1]'),\n",
       " Text(185.0792079207921, 371.46000000000004, 'gini = 0.0\\nsamples = 1\\nvalue = [1, 0]'),\n",
       " Text(185.0792079207921, 407.70000000000005, 'gini = 0.0\\nsamples = 1\\nvalue = [1, 0]'),\n",
       " Text(181.92220650636494, 443.94000000000005, 'gini = 0.0\\nsamples = 3\\nvalue = [3, 0]'),\n",
       " Text(203.23196605374824, 516.4200000000001, 'bmi <= 35.577\\ngini = 0.348\\nsamples = 67\\nvalue = [52, 15]'),\n",
       " Text(188.23620933521926, 498.30000000000007, 'region <= 0.5\\ngini = 0.484\\nsamples = 17\\nvalue = [10, 7]'),\n",
       " Text(185.0792079207921, 480.18000000000006, 'gini = 0.0\\nsamples = 2\\nvalue = [0, 2]'),\n",
       " Text(191.3932107496464, 480.18000000000006, 'age <= 20.0\\ngini = 0.444\\nsamples = 15\\nvalue = [10, 5]'),\n",
       " Text(188.23620933521926, 462.06000000000006, 'gini = 0.0\\nsamples = 1\\nvalue = [0, 1]'),\n",
       " Text(194.55021216407357, 462.06000000000006, 'bmi <= 35.415\\ngini = 0.408\\nsamples = 14\\nvalue = [10, 4]'),\n",
       " Text(191.3932107496464, 443.94000000000005, 'age <= 36.0\\ngini = 0.355\\nsamples = 13\\nvalue = [10, 3]'),\n",
       " Text(188.23620933521926, 425.82000000000005, 'gini = 0.0\\nsamples = 5\\nvalue = [5, 0]'),\n",
       " Text(194.55021216407357, 425.82000000000005, 'bmi <= 34.685\\ngini = 0.469\\nsamples = 8\\nvalue = [5, 3]'),\n",
       " Text(191.3932107496464, 407.70000000000005, 'gini = 0.0\\nsamples = 1\\nvalue = [0, 1]'),\n",
       " Text(197.70721357850073, 407.70000000000005, 'age <= 37.5\\ngini = 0.408\\nsamples = 7\\nvalue = [5, 2]'),\n",
       " Text(194.55021216407357, 389.58000000000004, 'gini = 0.0\\nsamples = 1\\nvalue = [0, 1]'),\n",
       " Text(200.86421499292788, 389.58000000000004, 'age <= 52.0\\ngini = 0.278\\nsamples = 6\\nvalue = [5, 1]'),\n",
       " Text(197.70721357850073, 371.46000000000004, 'gini = 0.0\\nsamples = 3\\nvalue = [3, 0]'),\n",
       " Text(204.02121640735504, 371.46000000000004, 'age <= 57.0\\ngini = 0.444\\nsamples = 3\\nvalue = [2, 1]'),\n",
       " Text(200.86421499292788, 353.34000000000003, 'gini = 0.0\\nsamples = 1\\nvalue = [0, 1]'),\n",
       " Text(207.1782178217822, 353.34000000000003, 'gini = 0.0\\nsamples = 2\\nvalue = [2, 0]'),\n",
       " Text(197.70721357850073, 443.94000000000005, 'gini = 0.0\\nsamples = 1\\nvalue = [0, 1]'),\n",
       " Text(218.22772277227725, 498.30000000000007, 'bmi <= 36.603\\ngini = 0.269\\nsamples = 50\\nvalue = [42, 8]'),\n",
       " Text(210.33521923620935, 480.18000000000006, 'age <= 30.0\\ngini = 0.087\\nsamples = 22\\nvalue = [21, 1]'),\n",
       " Text(207.1782178217822, 462.06000000000006, 'age <= 24.5\\ngini = 0.375\\nsamples = 4\\nvalue = [3, 1]'),\n",
       " Text(204.02121640735504, 443.94000000000005, 'gini = 0.0\\nsamples = 3\\nvalue = [3, 0]'),\n",
       " Text(210.33521923620935, 443.94000000000005, 'gini = 0.0\\nsamples = 1\\nvalue = [0, 1]'),\n",
       " Text(213.4922206506365, 462.06000000000006, 'gini = 0.0\\nsamples = 18\\nvalue = [18, 0]'),\n",
       " Text(226.12022630834514, 480.18000000000006, 'bmi <= 36.908\\ngini = 0.375\\nsamples = 28\\nvalue = [21, 7]'),\n",
       " Text(219.80622347949082, 462.06000000000006, 'children <= 2.5\\ngini = 0.444\\nsamples = 6\\nvalue = [2, 4]'),\n",
       " Text(216.64922206506367, 443.94000000000005, 'age <= 49.0\\ngini = 0.48\\nsamples = 5\\nvalue = [2, 3]'),\n",
       " Text(213.4922206506365, 425.82000000000005, 'age <= 20.5\\ngini = 0.375\\nsamples = 4\\nvalue = [1, 3]'),\n",
       " Text(210.33521923620935, 407.70000000000005, 'gini = 0.5\\nsamples = 2\\nvalue = [1, 1]'),\n",
       " Text(216.64922206506367, 407.70000000000005, 'gini = 0.0\\nsamples = 2\\nvalue = [0, 2]'),\n",
       " Text(219.80622347949082, 425.82000000000005, 'gini = 0.0\\nsamples = 1\\nvalue = [1, 0]'),\n",
       " Text(222.96322489391798, 443.94000000000005, 'gini = 0.0\\nsamples = 1\\nvalue = [0, 1]'),\n",
       " Text(232.43422913719945, 462.06000000000006, 'age <= 43.0\\ngini = 0.236\\nsamples = 22\\nvalue = [19, 3]'),\n",
       " Text(229.2772277227723, 443.94000000000005, 'gini = 0.0\\nsamples = 11\\nvalue = [11, 0]'),\n",
       " Text(235.5912305516266, 443.94000000000005, 'age <= 51.5\\ngini = 0.397\\nsamples = 11\\nvalue = [8, 3]'),\n",
       " Text(232.43422913719945, 425.82000000000005, 'children <= 0.5\\ngini = 0.48\\nsamples = 5\\nvalue = [2, 3]'),\n",
       " Text(229.2772277227723, 407.70000000000005, 'gini = 0.0\\nsamples = 2\\nvalue = [0, 2]'),\n",
       " Text(235.5912305516266, 407.70000000000005, 'children <= 2.0\\ngini = 0.444\\nsamples = 3\\nvalue = [2, 1]'),\n",
       " Text(232.43422913719945, 389.58000000000004, 'gini = 0.0\\nsamples = 2\\nvalue = [2, 0]'),\n",
       " Text(238.74823196605377, 389.58000000000004, 'gini = 0.0\\nsamples = 1\\nvalue = [0, 1]'),\n",
       " Text(238.74823196605377, 425.82000000000005, 'gini = 0.0\\nsamples = 6\\nvalue = [6, 0]'),\n",
       " Text(161.05640028288545, 534.5400000000001, 'gini = 0.0\\nsamples = 1\\nvalue = [0, 1]'),\n",
       " Text(209.54596888260255, 552.6600000000001, 'bmi <= 42.185\\ngini = 0.093\\nsamples = 41\\nvalue = [39, 2]'),\n",
       " Text(206.3889674681754, 534.5400000000001, 'gini = 0.0\\nsamples = 31\\nvalue = [31, 0]'),\n",
       " Text(212.7029702970297, 534.5400000000001, 'age <= 24.5\\ngini = 0.32\\nsamples = 10\\nvalue = [8, 2]'),\n",
       " Text(209.54596888260255, 516.4200000000001, 'gini = 0.0\\nsamples = 2\\nvalue = [0, 2]'),\n",
       " Text(215.85997171145686, 516.4200000000001, 'gini = 0.0\\nsamples = 8\\nvalue = [8, 0]'),\n",
       " Text(234.8019801980198, 570.7800000000001, 'region <= 2.5\\ngini = 0.469\\nsamples = 16\\nvalue = [10, 6]'),\n",
       " Text(228.4879773691655, 552.6600000000001, 'bmi <= 28.927\\ngini = 0.375\\nsamples = 12\\nvalue = [9, 3]'),\n",
       " Text(225.33097595473834, 534.5400000000001, 'bmi <= 26.552\\ngini = 0.48\\nsamples = 5\\nvalue = [2, 3]'),\n",
       " Text(222.17397454031118, 516.4200000000001, 'gini = 0.0\\nsamples = 2\\nvalue = [2, 0]'),\n",
       " Text(228.4879773691655, 516.4200000000001, 'gini = 0.0\\nsamples = 3\\nvalue = [0, 3]'),\n",
       " Text(231.64497878359265, 534.5400000000001, 'gini = 0.0\\nsamples = 7\\nvalue = [7, 0]'),\n",
       " Text(241.11598302687412, 552.6600000000001, 'bmi <= 38.7\\ngini = 0.375\\nsamples = 4\\nvalue = [1, 3]'),\n",
       " Text(237.95898161244696, 534.5400000000001, 'gini = 0.0\\nsamples = 3\\nvalue = [0, 3]'),\n",
       " Text(244.27298444130128, 534.5400000000001, 'gini = 0.0\\nsamples = 1\\nvalue = [1, 0]'),\n",
       " Text(247.42998585572843, 588.9000000000001, 'age <= 44.5\\ngini = 0.48\\nsamples = 5\\nvalue = [2, 3]'),\n",
       " Text(244.27298444130128, 570.7800000000001, 'gini = 0.0\\nsamples = 2\\nvalue = [0, 2]'),\n",
       " Text(250.5869872701556, 570.7800000000001, 'age <= 53.0\\ngini = 0.444\\nsamples = 3\\nvalue = [2, 1]'),\n",
       " Text(247.42998585572843, 552.6600000000001, 'gini = 0.0\\nsamples = 2\\nvalue = [2, 0]'),\n",
       " Text(253.74398868458277, 552.6600000000001, 'gini = 0.0\\nsamples = 1\\nvalue = [0, 1]'),\n",
       " Text(380.1105622071694, 625.1400000000001, 'bmi <= 22.8\\ngini = 0.368\\nsamples = 515\\nvalue = [390, 125]'),\n",
       " Text(339.2635807107497, 607.0200000000001, 'age <= 18.5\\ngini = 0.133\\nsamples = 42\\nvalue = [39, 3]'),\n",
       " Text(329.7925764674682, 588.9000000000001, 'bmi <= 21.517\\ngini = 0.375\\nsamples = 4\\nvalue = [3, 1]'),\n",
       " Text(326.63557505304107, 570.7800000000001, 'gini = 0.0\\nsamples = 2\\nvalue = [2, 0]'),\n",
       " Text(332.9495778818954, 570.7800000000001, 'bmi <= 21.673\\ngini = 0.5\\nsamples = 2\\nvalue = [1, 1]'),\n",
       " Text(329.7925764674682, 552.6600000000001, 'gini = 0.0\\nsamples = 1\\nvalue = [0, 1]'),\n",
       " Text(336.10657929632254, 552.6600000000001, 'gini = 0.0\\nsamples = 1\\nvalue = [1, 0]'),\n",
       " Text(348.73458495403116, 588.9000000000001, 'bmi <= 20.182\\ngini = 0.1\\nsamples = 38\\nvalue = [36, 2]'),\n",
       " Text(345.577583539604, 570.7800000000001, 'region <= 1.5\\ngini = 0.26\\nsamples = 13\\nvalue = [11, 2]'),\n",
       " Text(342.42058212517685, 552.6600000000001, 'gini = 0.0\\nsamples = 10\\nvalue = [10, 0]'),\n",
       " Text(348.73458495403116, 552.6600000000001, 'region <= 2.5\\ngini = 0.444\\nsamples = 3\\nvalue = [1, 2]'),\n",
       " Text(345.577583539604, 534.5400000000001, 'gini = 0.0\\nsamples = 2\\nvalue = [0, 2]'),\n",
       " Text(351.8915863684583, 534.5400000000001, 'gini = 0.0\\nsamples = 1\\nvalue = [1, 0]'),\n",
       " Text(351.8915863684583, 570.7800000000001, 'gini = 0.0\\nsamples = 25\\nvalue = [25, 0]'),\n",
       " Text(420.9575437035891, 607.0200000000001, 'bmi <= 22.943\\ngini = 0.383\\nsamples = 473\\nvalue = [351, 122]'),\n",
       " Text(417.80054228916197, 588.9000000000001, 'gini = 0.0\\nsamples = 3\\nvalue = [0, 3]'),\n",
       " Text(424.1145451180163, 588.9000000000001, 'bmi <= 24.37\\ngini = 0.378\\nsamples = 470\\nvalue = [351, 119]'),\n",
       " Text(367.6765934405941, 570.7800000000001, 'age <= 62.5\\ngini = 0.18\\nsamples = 30\\nvalue = [27, 3]'),\n",
       " Text(364.51959202616695, 552.6600000000001, 'children <= 2.5\\ngini = 0.128\\nsamples = 29\\nvalue = [27, 2]'),\n",
       " Text(358.20558919731263, 534.5400000000001, 'bmi <= 23.255\\ngini = 0.077\\nsamples = 25\\nvalue = [24, 1]'),\n",
       " Text(355.0485877828855, 516.4200000000001, 'age <= 47.0\\ngini = 0.245\\nsamples = 7\\nvalue = [6, 1]'),\n",
       " Text(351.8915863684583, 498.30000000000007, 'gini = 0.0\\nsamples = 6\\nvalue = [6, 0]'),\n",
       " Text(358.20558919731263, 498.30000000000007, 'gini = 0.0\\nsamples = 1\\nvalue = [0, 1]'),\n",
       " Text(361.3625906117398, 516.4200000000001, 'gini = 0.0\\nsamples = 18\\nvalue = [18, 0]'),\n",
       " Text(370.83359485502126, 534.5400000000001, 'children <= 4.0\\ngini = 0.375\\nsamples = 4\\nvalue = [3, 1]'),\n",
       " Text(367.6765934405941, 516.4200000000001, 'gini = 0.0\\nsamples = 1\\nvalue = [0, 1]'),\n",
       " Text(373.9905962694484, 516.4200000000001, 'gini = 0.0\\nsamples = 3\\nvalue = [3, 0]'),\n",
       " Text(370.83359485502126, 552.6600000000001, 'gini = 0.0\\nsamples = 1\\nvalue = [0, 1]'),\n",
       " Text(480.5524967954385, 570.7800000000001, 'bmi <= 24.465\\ngini = 0.388\\nsamples = 440\\nvalue = [324, 116]'),\n",
       " Text(477.39549538101136, 552.6600000000001, 'gini = 0.0\\nsamples = 1\\nvalue = [0, 1]'),\n",
       " Text(483.70949820986567, 552.6600000000001, 'bmi <= 42.405\\ngini = 0.387\\nsamples = 439\\nvalue = [324, 115]'),\n",
       " Text(443.9795294819661, 534.5400000000001, 'bmi <= 41.792\\ngini = 0.393\\nsamples = 421\\nvalue = [308, 113]'),\n",
       " Text(380.30459909830273, 516.4200000000001, 'children <= 4.5\\ngini = 0.387\\nsamples = 415\\nvalue = [306, 109]'),\n",
       " Text(377.1475976838756, 498.30000000000007, 'age <= 20.5\\ngini = 0.39\\nsamples = 410\\nvalue = [301, 109]'),\n",
       " Text(259.2687411598303, 480.18000000000006, 'age <= 18.5\\ngini = 0.455\\nsamples = 40\\nvalue = [26, 14]'),\n",
       " Text(245.06223479490808, 462.06000000000006, 'bmi <= 25.317\\ngini = 0.32\\nsamples = 15\\nvalue = [12, 3]'),\n",
       " Text(241.90523338048092, 443.94000000000005, 'gini = 0.0\\nsamples = 1\\nvalue = [0, 1]'),\n",
       " Text(248.21923620933524, 443.94000000000005, 'bmi <= 31.04\\ngini = 0.245\\nsamples = 14\\nvalue = [12, 2]'),\n",
       " Text(245.06223479490808, 425.82000000000005, 'gini = 0.0\\nsamples = 7\\nvalue = [7, 0]'),\n",
       " Text(251.3762376237624, 425.82000000000005, 'bmi <= 32.53\\ngini = 0.408\\nsamples = 7\\nvalue = [5, 2]'),\n",
       " Text(248.21923620933524, 407.70000000000005, 'gini = 0.0\\nsamples = 2\\nvalue = [0, 2]'),\n",
       " Text(254.53323903818955, 407.70000000000005, 'gini = 0.0\\nsamples = 5\\nvalue = [5, 0]'),\n",
       " Text(273.4752475247525, 462.06000000000006, 'bmi <= 35.513\\ngini = 0.493\\nsamples = 25\\nvalue = [14, 11]'),\n",
       " Text(270.31824611032533, 443.94000000000005, 'bmi <= 30.325\\ngini = 0.463\\nsamples = 22\\nvalue = [14, 8]'),\n",
       " Text(264.004243281471, 425.82000000000005, 'bmi <= 25.793\\ngini = 0.496\\nsamples = 11\\nvalue = [5, 6]'),\n",
       " Text(260.84724186704386, 407.70000000000005, 'gini = 0.0\\nsamples = 2\\nvalue = [2, 0]'),\n",
       " Text(267.1612446958982, 407.70000000000005, 'children <= 1.5\\ngini = 0.444\\nsamples = 9\\nvalue = [3, 6]'),\n",
       " Text(264.004243281471, 389.58000000000004, 'region <= 0.5\\ngini = 0.375\\nsamples = 8\\nvalue = [2, 6]'),\n",
       " Text(260.84724186704386, 371.46000000000004, 'gini = 0.0\\nsamples = 1\\nvalue = [1, 0]'),\n",
       " Text(267.1612446958982, 371.46000000000004, 'bmi <= 28.212\\ngini = 0.245\\nsamples = 7\\nvalue = [1, 6]'),\n",
       " Text(264.004243281471, 353.34000000000003, 'gini = 0.0\\nsamples = 4\\nvalue = [0, 4]'),\n",
       " Text(270.31824611032533, 353.34000000000003, 'bmi <= 28.735\\ngini = 0.444\\nsamples = 3\\nvalue = [1, 2]'),\n",
       " Text(267.1612446958982, 335.22, 'gini = 0.0\\nsamples = 1\\nvalue = [1, 0]'),\n",
       " Text(273.4752475247525, 335.22, 'gini = 0.0\\nsamples = 2\\nvalue = [0, 2]'),\n",
       " Text(270.31824611032533, 389.58000000000004, 'gini = 0.0\\nsamples = 1\\nvalue = [1, 0]'),\n",
       " Text(276.63224893917965, 425.82000000000005, 'region <= 0.5\\ngini = 0.298\\nsamples = 11\\nvalue = [9, 2]'),\n",
       " Text(273.4752475247525, 407.70000000000005, 'gini = 0.0\\nsamples = 1\\nvalue = [0, 1]'),\n",
       " Text(279.7892503536068, 407.70000000000005, 'bmi <= 34.65\\ngini = 0.18\\nsamples = 10\\nvalue = [9, 1]'),\n",
       " Text(276.63224893917965, 389.58000000000004, 'gini = 0.0\\nsamples = 8\\nvalue = [8, 0]'),\n",
       " Text(282.94625176803396, 389.58000000000004, 'bmi <= 35.15\\ngini = 0.5\\nsamples = 2\\nvalue = [1, 1]'),\n",
       " Text(279.7892503536068, 371.46000000000004, 'gini = 0.0\\nsamples = 1\\nvalue = [0, 1]'),\n",
       " Text(286.1032531824611, 371.46000000000004, 'gini = 0.0\\nsamples = 1\\nvalue = [1, 0]'),\n",
       " Text(276.63224893917965, 443.94000000000005, 'gini = 0.0\\nsamples = 3\\nvalue = [0, 3]'),\n",
       " Text(495.02645420792084, 480.18000000000006, 'age <= 21.5\\ngini = 0.382\\nsamples = 370\\nvalue = [275, 95]'),\n",
       " Text(491.8694527934937, 462.06000000000006, 'gini = 0.0\\nsamples = 9\\nvalue = [9, 0]'),\n",
       " Text(498.183455622348, 462.06000000000006, 'bmi <= 37.085\\ngini = 0.388\\nsamples = 361\\nvalue = [266, 95]'),\n",
       " Text(461.2551714992928, 443.94000000000005, 'bmi <= 36.25\\ngini = 0.4\\nsamples = 308\\nvalue = [223, 85]'),\n",
       " Text(427.65037128712873, 425.82000000000005, 'age <= 59.5\\ngini = 0.389\\nsamples = 291\\nvalue = [214, 77]'),\n",
       " Text(373.06877652050923, 407.70000000000005, 'age <= 57.5\\ngini = 0.378\\nsamples = 269\\nvalue = [201, 68]'),\n",
       " Text(343.0279349363508, 389.58000000000004, 'bmi <= 24.828\\ngini = 0.388\\nsamples = 254\\nvalue = [187, 67]'),\n",
       " Text(292.41725601131543, 371.46000000000004, 'bmi <= 24.557\\ngini = 0.5\\nsamples = 8\\nvalue = [4, 4]'),\n",
       " Text(289.2602545968883, 353.34000000000003, 'gini = 0.0\\nsamples = 2\\nvalue = [2, 0]'),\n",
       " Text(295.5742574257426, 353.34000000000003, 'children <= 2.5\\ngini = 0.444\\nsamples = 6\\nvalue = [2, 4]'),\n",
       " Text(292.41725601131543, 335.22, 'bmi <= 24.622\\ngini = 0.32\\nsamples = 5\\nvalue = [1, 4]'),\n",
       " Text(289.2602545968883, 317.1, 'age <= 37.5\\ngini = 0.5\\nsamples = 2\\nvalue = [1, 1]'),\n",
       " Text(286.1032531824611, 298.98, 'gini = 0.0\\nsamples = 1\\nvalue = [1, 0]'),\n",
       " Text(292.41725601131543, 298.98, 'gini = 0.0\\nsamples = 1\\nvalue = [0, 1]'),\n",
       " Text(295.5742574257426, 317.1, 'gini = 0.0\\nsamples = 3\\nvalue = [0, 3]'),\n",
       " Text(298.73125884016974, 335.22, 'gini = 0.0\\nsamples = 1\\nvalue = [1, 0]'),\n",
       " Text(393.63861386138615, 371.46000000000004, 'region <= 1.5\\ngini = 0.381\\nsamples = 246\\nvalue = [183, 63]'),\n",
       " Text(333.45827439886847, 353.34000000000003, 'bmi <= 26.363\\ngini = 0.337\\nsamples = 126\\nvalue = [99, 27]'),\n",
       " Text(305.04526166902406, 335.22, 'age <= 48.0\\ngini = 0.105\\nsamples = 18\\nvalue = [17, 1]'),\n",
       " Text(301.8882602545969, 317.1, 'gini = 0.0\\nsamples = 13\\nvalue = [13, 0]'),\n",
       " Text(308.2022630834512, 317.1, 'children <= 1.5\\ngini = 0.32\\nsamples = 5\\nvalue = [4, 1]'),\n",
       " Text(305.04526166902406, 298.98, 'gini = 0.0\\nsamples = 3\\nvalue = [3, 0]'),\n",
       " Text(311.35926449787837, 298.98, 'bmi <= 25.602\\ngini = 0.5\\nsamples = 2\\nvalue = [1, 1]'),\n",
       " Text(308.2022630834512, 280.86, 'gini = 0.0\\nsamples = 1\\nvalue = [1, 0]'),\n",
       " Text(314.5162659123055, 280.86, 'gini = 0.0\\nsamples = 1\\nvalue = [0, 1]'),\n",
       " Text(361.8712871287129, 335.22, 'region <= 0.5\\ngini = 0.366\\nsamples = 108\\nvalue = [82, 26]'),\n",
       " Text(330.3012729844413, 317.1, 'age <= 24.5\\ngini = 0.449\\nsamples = 47\\nvalue = [31, 16]'),\n",
       " Text(323.987270155587, 298.98, 'age <= 22.5\\ngini = 0.32\\nsamples = 5\\nvalue = [1, 4]'),\n",
       " Text(320.83026874115984, 280.86, 'gini = 0.0\\nsamples = 1\\nvalue = [1, 0]'),\n",
       " Text(327.14427157001415, 280.86, 'gini = 0.0\\nsamples = 4\\nvalue = [0, 4]'),\n",
       " Text(336.6152758132956, 298.98, 'age <= 31.5\\ngini = 0.408\\nsamples = 42\\nvalue = [30, 12]'),\n",
       " Text(333.45827439886847, 280.86, 'gini = 0.0\\nsamples = 12\\nvalue = [12, 0]'),\n",
       " Text(339.7722772277228, 280.86, 'age <= 45.0\\ngini = 0.48\\nsamples = 30\\nvalue = [18, 12]'),\n",
       " Text(328.72277227722776, 262.74, 'age <= 36.5\\ngini = 0.463\\nsamples = 11\\nvalue = [4, 7]'),\n",
       " Text(325.5657708628006, 244.62, 'age <= 32.5\\ngini = 0.444\\nsamples = 6\\nvalue = [4, 2]'),\n",
       " Text(322.40876944837345, 226.5, 'gini = 0.0\\nsamples = 1\\nvalue = [0, 1]'),\n",
       " Text(328.72277227722776, 226.5, 'bmi <= 28.31\\ngini = 0.32\\nsamples = 5\\nvalue = [4, 1]'),\n",
       " Text(325.5657708628006, 208.38000000000005, 'children <= 2.5\\ngini = 0.5\\nsamples = 2\\nvalue = [1, 1]'),\n",
       " Text(322.40876944837345, 190.26000000000005, 'gini = 0.0\\nsamples = 1\\nvalue = [0, 1]'),\n",
       " Text(328.72277227722776, 190.26000000000005, 'gini = 0.0\\nsamples = 1\\nvalue = [1, 0]'),\n",
       " Text(331.8797736916549, 208.38000000000005, 'gini = 0.0\\nsamples = 3\\nvalue = [3, 0]'),\n",
       " Text(331.8797736916549, 244.62, 'gini = 0.0\\nsamples = 5\\nvalue = [0, 5]'),\n",
       " Text(350.82178217821786, 262.74, 'children <= 0.5\\ngini = 0.388\\nsamples = 19\\nvalue = [14, 5]'),\n",
       " Text(344.50777934936355, 244.62, 'age <= 54.5\\ngini = 0.444\\nsamples = 6\\nvalue = [2, 4]'),\n",
       " Text(341.3507779349364, 226.5, 'age <= 51.5\\ngini = 0.5\\nsamples = 4\\nvalue = [2, 2]'),\n",
       " Text(338.19377652050923, 208.38000000000005, 'gini = 0.0\\nsamples = 1\\nvalue = [0, 1]'),\n",
       " Text(344.50777934936355, 208.38000000000005, 'bmi <= 33.44\\ngini = 0.444\\nsamples = 3\\nvalue = [2, 1]'),\n",
       " Text(341.3507779349364, 190.26000000000005, 'gini = 0.0\\nsamples = 2\\nvalue = [2, 0]'),\n",
       " Text(347.6647807637907, 190.26000000000005, 'gini = 0.0\\nsamples = 1\\nvalue = [0, 1]'),\n",
       " Text(347.6647807637907, 226.5, 'gini = 0.0\\nsamples = 2\\nvalue = [0, 2]'),\n",
       " Text(357.1357850070722, 244.62, 'bmi <= 32.253\\ngini = 0.142\\nsamples = 13\\nvalue = [12, 1]'),\n",
       " Text(353.978783592645, 226.5, 'gini = 0.0\\nsamples = 9\\nvalue = [9, 0]'),\n",
       " Text(360.29278642149933, 226.5, 'bmi <= 32.823\\ngini = 0.375\\nsamples = 4\\nvalue = [3, 1]'),\n",
       " Text(357.1357850070722, 208.38000000000005, 'gini = 0.0\\nsamples = 1\\nvalue = [0, 1]'),\n",
       " Text(363.4497878359265, 208.38000000000005, 'gini = 0.0\\nsamples = 3\\nvalue = [3, 0]'),\n",
       " Text(393.44130127298445, 317.1, 'bmi <= 28.785\\ngini = 0.274\\nsamples = 61\\nvalue = [51, 10]'),\n",
       " Text(376.0777934936351, 298.98, 'age <= 26.0\\ngini = 0.494\\nsamples = 18\\nvalue = [10, 8]'),\n",
       " Text(372.92079207920796, 280.86, 'gini = 0.0\\nsamples = 4\\nvalue = [4, 0]'),\n",
       " Text(379.23479490806227, 280.86, 'age <= 30.5\\ngini = 0.49\\nsamples = 14\\nvalue = [6, 8]'),\n",
       " Text(376.0777934936351, 262.74, 'gini = 0.0\\nsamples = 2\\nvalue = [0, 2]'),\n",
       " Text(382.3917963224894, 262.74, 'age <= 40.0\\ngini = 0.5\\nsamples = 12\\nvalue = [6, 6]'),\n",
       " Text(376.0777934936351, 244.62, 'children <= 3.5\\ngini = 0.408\\nsamples = 7\\nvalue = [5, 2]'),\n",
       " Text(372.92079207920796, 226.5, 'children <= 1.5\\ngini = 0.278\\nsamples = 6\\nvalue = [5, 1]'),\n",
       " Text(369.7637906647808, 208.38000000000005, 'age <= 33.0\\ngini = 0.444\\nsamples = 3\\nvalue = [2, 1]'),\n",
       " Text(366.60678925035364, 190.26000000000005, 'gini = 0.0\\nsamples = 2\\nvalue = [2, 0]'),\n",
       " Text(372.92079207920796, 190.26000000000005, 'gini = 0.0\\nsamples = 1\\nvalue = [0, 1]'),\n",
       " Text(376.0777934936351, 208.38000000000005, 'gini = 0.0\\nsamples = 3\\nvalue = [3, 0]'),\n",
       " Text(379.23479490806227, 226.5, 'gini = 0.0\\nsamples = 1\\nvalue = [0, 1]'),\n",
       " Text(388.70579915134374, 244.62, 'bmi <= 26.552\\ngini = 0.32\\nsamples = 5\\nvalue = [1, 4]'),\n",
       " Text(385.5487977369166, 226.5, 'gini = 0.0\\nsamples = 1\\nvalue = [1, 0]'),\n",
       " Text(391.8628005657709, 226.5, 'gini = 0.0\\nsamples = 4\\nvalue = [0, 4]'),\n",
       " Text(410.80480905233384, 298.98, 'age <= 55.5\\ngini = 0.089\\nsamples = 43\\nvalue = [41, 2]'),\n",
       " Text(401.33380480905237, 280.86, 'children <= 2.5\\ngini = 0.049\\nsamples = 40\\nvalue = [39, 1]'),\n",
       " Text(398.1768033946252, 262.74, 'gini = 0.0\\nsamples = 32\\nvalue = [32, 0]'),\n",
       " Text(404.4908062234795, 262.74, 'bmi <= 30.685\\ngini = 0.219\\nsamples = 8\\nvalue = [7, 1]'),\n",
       " Text(401.33380480905237, 244.62, 'bmi <= 30.163\\ngini = 0.5\\nsamples = 2\\nvalue = [1, 1]'),\n",
       " Text(398.1768033946252, 226.5, 'gini = 0.0\\nsamples = 1\\nvalue = [1, 0]'),\n",
       " Text(404.4908062234795, 226.5, 'gini = 0.0\\nsamples = 1\\nvalue = [0, 1]'),\n",
       " Text(407.6478076379067, 244.62, 'gini = 0.0\\nsamples = 6\\nvalue = [6, 0]'),\n",
       " Text(420.2758132956153, 280.86, 'bmi <= 33.677\\ngini = 0.444\\nsamples = 3\\nvalue = [2, 1]'),\n",
       " Text(417.11881188118815, 262.74, 'children <= 0.5\\ngini = 0.5\\nsamples = 2\\nvalue = [1, 1]'),\n",
       " Text(413.961810466761, 244.62, 'gini = 0.0\\nsamples = 1\\nvalue = [0, 1]'),\n",
       " Text(420.2758132956153, 244.62, 'gini = 0.0\\nsamples = 1\\nvalue = [1, 0]'),\n",
       " Text(423.43281471004246, 262.74, 'gini = 0.0\\nsamples = 1\\nvalue = [1, 0]'),\n",
       " Text(453.8189533239038, 353.34000000000003, 'age <= 54.5\\ngini = 0.42\\nsamples = 120\\nvalue = [84, 36]'),\n",
       " Text(450.66195190947667, 335.22, 'age <= 53.5\\ngini = 0.434\\nsamples = 113\\nvalue = [77, 36]'),\n",
       " Text(444.34794908062236, 317.1, 'age <= 50.5\\ngini = 0.422\\nsamples = 109\\nvalue = [76, 33]'),\n",
       " Text(441.1909476661952, 298.98, 'bmi <= 25.355\\ngini = 0.442\\nsamples = 100\\nvalue = [67, 33]'),\n",
       " Text(438.03394625176804, 280.86, 'gini = 0.0\\nsamples = 3\\nvalue = [3, 0]'),\n",
       " Text(444.34794908062236, 280.86, 'bmi <= 25.67\\ngini = 0.449\\nsamples = 97\\nvalue = [64, 33]'),\n",
       " Text(441.1909476661952, 262.74, 'gini = 0.0\\nsamples = 2\\nvalue = [0, 2]'),\n",
       " Text(447.5049504950495, 262.74, 'bmi <= 35.46\\ngini = 0.44\\nsamples = 95\\nvalue = [64, 31]'),\n",
       " Text(426.5898161244696, 244.62, 'age <= 23.5\\ngini = 0.42\\nsamples = 80\\nvalue = [56, 24]'),\n",
       " Text(423.43281471004246, 226.5, 'gini = 0.0\\nsamples = 6\\nvalue = [6, 0]'),\n",
       " Text(429.7468175388968, 226.5, 'bmi <= 34.565\\ngini = 0.438\\nsamples = 74\\nvalue = [50, 24]'),\n",
       " Text(426.5898161244696, 208.38000000000005, 'bmi <= 32.685\\ngini = 0.448\\nsamples = 71\\nvalue = [47, 24]'),\n",
       " Text(408.4370579915135, 190.26000000000005, 'bmi <= 31.265\\ngini = 0.417\\nsamples = 54\\nvalue = [38, 16]'),\n",
       " Text(405.2800565770863, 172.14000000000004, 'bmi <= 31.065\\ngini = 0.458\\nsamples = 45\\nvalue = [29, 16]'),\n",
       " Text(402.12305516265917, 154.02000000000004, 'children <= 1.5\\ngini = 0.449\\nsamples = 44\\nvalue = [29, 15]'),\n",
       " Text(386.3380480905234, 135.89999999999998, 'age <= 30.0\\ngini = 0.48\\nsamples = 30\\nvalue = [18, 12]'),\n",
       " Text(380.0240452616691, 117.77999999999997, 'bmi <= 27.13\\ngini = 0.278\\nsamples = 6\\nvalue = [5, 1]'),\n",
       " Text(376.8670438472419, 99.65999999999997, 'age <= 25.5\\ngini = 0.444\\nsamples = 3\\nvalue = [2, 1]'),\n",
       " Text(373.71004243281476, 81.53999999999996, 'gini = 0.0\\nsamples = 2\\nvalue = [2, 0]'),\n",
       " Text(380.0240452616691, 81.53999999999996, 'gini = 0.0\\nsamples = 1\\nvalue = [0, 1]'),\n",
       " Text(383.18104667609623, 99.65999999999997, 'gini = 0.0\\nsamples = 3\\nvalue = [3, 0]'),\n",
       " Text(392.6520509193777, 117.77999999999997, 'age <= 34.5\\ngini = 0.497\\nsamples = 24\\nvalue = [13, 11]'),\n",
       " Text(389.49504950495054, 99.65999999999997, 'gini = 0.0\\nsamples = 4\\nvalue = [0, 4]'),\n",
       " Text(395.80905233380486, 99.65999999999997, 'age <= 38.5\\ngini = 0.455\\nsamples = 20\\nvalue = [13, 7]'),\n",
       " Text(392.6520509193777, 81.53999999999996, 'gini = 0.0\\nsamples = 6\\nvalue = [6, 0]'),\n",
       " Text(398.966053748232, 81.53999999999996, 'bmi <= 28.5\\ngini = 0.5\\nsamples = 14\\nvalue = [7, 7]'),\n",
       " Text(392.6520509193777, 63.42000000000007, 'region <= 2.5\\ngini = 0.32\\nsamples = 5\\nvalue = [1, 4]'),\n",
       " Text(389.49504950495054, 45.30000000000007, 'age <= 44.0\\ngini = 0.5\\nsamples = 2\\nvalue = [1, 1]'),\n",
       " Text(386.3380480905234, 27.180000000000064, 'gini = 0.0\\nsamples = 1\\nvalue = [0, 1]'),\n",
       " Text(392.6520509193777, 27.180000000000064, 'gini = 0.0\\nsamples = 1\\nvalue = [1, 0]'),\n",
       " Text(395.80905233380486, 45.30000000000007, 'gini = 0.0\\nsamples = 3\\nvalue = [0, 3]'),\n",
       " Text(405.2800565770863, 63.42000000000007, 'bmi <= 30.33\\ngini = 0.444\\nsamples = 9\\nvalue = [6, 3]'),\n",
       " Text(402.12305516265917, 45.30000000000007, 'age <= 42.5\\ngini = 0.245\\nsamples = 7\\nvalue = [6, 1]'),\n",
       " Text(398.966053748232, 27.180000000000064, 'age <= 41.5\\ngini = 0.5\\nsamples = 2\\nvalue = [1, 1]'),\n",
       " Text(395.80905233380486, 9.06000000000006, 'gini = 0.0\\nsamples = 1\\nvalue = [1, 0]'),\n",
       " Text(402.12305516265917, 9.06000000000006, 'gini = 0.0\\nsamples = 1\\nvalue = [0, 1]'),\n",
       " Text(405.2800565770863, 27.180000000000064, 'gini = 0.0\\nsamples = 5\\nvalue = [5, 0]'),\n",
       " Text(408.4370579915135, 45.30000000000007, 'gini = 0.0\\nsamples = 2\\nvalue = [0, 2]'),\n",
       " Text(417.90806223479495, 135.89999999999998, 'bmi <= 26.35\\ngini = 0.337\\nsamples = 14\\nvalue = [11, 3]'),\n",
       " Text(414.7510608203678, 117.77999999999997, 'gini = 0.0\\nsamples = 1\\nvalue = [0, 1]'),\n",
       " Text(421.0650636492221, 117.77999999999997, 'age <= 46.0\\ngini = 0.26\\nsamples = 13\\nvalue = [11, 2]'),\n",
       " Text(417.90806223479495, 99.65999999999997, 'age <= 26.0\\ngini = 0.153\\nsamples = 12\\nvalue = [11, 1]'),\n",
       " Text(414.7510608203678, 81.53999999999996, 'bmi <= 28.25\\ngini = 0.5\\nsamples = 2\\nvalue = [1, 1]'),\n",
       " Text(411.59405940594064, 63.42000000000007, 'gini = 0.0\\nsamples = 1\\nvalue = [1, 0]'),\n",
       " Text(417.90806223479495, 63.42000000000007, 'gini = 0.0\\nsamples = 1\\nvalue = [0, 1]'),\n",
       " Text(421.0650636492221, 81.53999999999996, 'gini = 0.0\\nsamples = 10\\nvalue = [10, 0]'),\n",
       " Text(424.22206506364927, 99.65999999999997, 'gini = 0.0\\nsamples = 1\\nvalue = [0, 1]'),\n",
       " Text(408.4370579915135, 154.02000000000004, 'gini = 0.0\\nsamples = 1\\nvalue = [0, 1]'),\n",
       " Text(411.59405940594064, 172.14000000000004, 'gini = 0.0\\nsamples = 9\\nvalue = [9, 0]'),\n",
       " Text(444.74257425742576, 190.26000000000005, 'region <= 2.5\\ngini = 0.498\\nsamples = 17\\nvalue = [9, 8]'),\n",
       " Text(433.69306930693074, 172.14000000000004, 'age <= 26.0\\ngini = 0.346\\nsamples = 9\\nvalue = [7, 2]'),\n",
       " Text(427.3790664780764, 154.02000000000004, 'children <= 3.0\\ngini = 0.5\\nsamples = 2\\nvalue = [1, 1]'),\n",
       " Text(424.22206506364927, 135.89999999999998, 'gini = 0.0\\nsamples = 1\\nvalue = [0, 1]'),\n",
       " Text(430.5360678925036, 135.89999999999998, 'gini = 0.0\\nsamples = 1\\nvalue = [1, 0]'),\n",
       " Text(440.00707213578505, 154.02000000000004, 'bmi <= 34.375\\ngini = 0.245\\nsamples = 7\\nvalue = [6, 1]'),\n",
       " Text(436.8500707213579, 135.89999999999998, 'gini = 0.0\\nsamples = 5\\nvalue = [5, 0]'),\n",
       " Text(443.1640735502122, 135.89999999999998, 'children <= 1.0\\ngini = 0.5\\nsamples = 2\\nvalue = [1, 1]'),\n",
       " Text(440.00707213578505, 117.77999999999997, 'gini = 0.0\\nsamples = 1\\nvalue = [0, 1]'),\n",
       " Text(446.32107496463937, 117.77999999999997, 'gini = 0.0\\nsamples = 1\\nvalue = [1, 0]'),\n",
       " Text(455.79207920792084, 172.14000000000004, 'children <= 1.5\\ngini = 0.375\\nsamples = 8\\nvalue = [2, 6]'),\n",
       " Text(452.6350777934937, 154.02000000000004, 'age <= 31.5\\ngini = 0.5\\nsamples = 4\\nvalue = [2, 2]'),\n",
       " Text(449.4780763790665, 135.89999999999998, 'gini = 0.0\\nsamples = 2\\nvalue = [0, 2]'),\n",
       " Text(455.79207920792084, 135.89999999999998, 'gini = 0.0\\nsamples = 2\\nvalue = [2, 0]'),\n",
       " Text(458.949080622348, 154.02000000000004, 'gini = 0.0\\nsamples = 4\\nvalue = [0, 4]'),\n",
       " Text(432.90381895332393, 208.38000000000005, 'gini = 0.0\\nsamples = 3\\nvalue = [3, 0]'),\n",
       " Text(468.42008486562946, 244.62, 'bmi <= 35.675\\ngini = 0.498\\nsamples = 15\\nvalue = [8, 7]'),\n",
       " Text(465.2630834512023, 226.5, 'gini = 0.0\\nsamples = 3\\nvalue = [0, 3]'),\n",
       " Text(471.5770862800566, 226.5, 'children <= 2.5\\ngini = 0.444\\nsamples = 12\\nvalue = [8, 4]'),\n",
       " Text(468.42008486562946, 208.38000000000005, 'age <= 39.0\\ngini = 0.397\\nsamples = 11\\nvalue = [8, 3]'),\n",
       " Text(465.2630834512023, 190.26000000000005, 'gini = 0.0\\nsamples = 3\\nvalue = [3, 0]'),\n",
       " Text(471.5770862800566, 190.26000000000005, 'region <= 2.5\\ngini = 0.469\\nsamples = 8\\nvalue = [5, 3]'),\n",
       " Text(468.42008486562946, 172.14000000000004, 'bmi <= 36.025\\ngini = 0.48\\nsamples = 5\\nvalue = [2, 3]'),\n",
       " Text(465.2630834512023, 154.02000000000004, 'age <= 41.5\\ngini = 0.444\\nsamples = 3\\nvalue = [2, 1]'),\n",
       " Text(462.10608203677515, 135.89999999999998, 'gini = 0.0\\nsamples = 1\\nvalue = [0, 1]'),\n",
       " Text(468.42008486562946, 135.89999999999998, 'gini = 0.0\\nsamples = 2\\nvalue = [2, 0]'),\n",
       " Text(471.5770862800566, 154.02000000000004, 'gini = 0.0\\nsamples = 2\\nvalue = [0, 2]'),\n",
       " Text(474.7340876944838, 172.14000000000004, 'gini = 0.0\\nsamples = 3\\nvalue = [3, 0]'),\n",
       " Text(474.7340876944838, 208.38000000000005, 'gini = 0.0\\nsamples = 1\\nvalue = [0, 1]'),\n",
       " Text(447.5049504950495, 298.98, 'gini = 0.0\\nsamples = 9\\nvalue = [9, 0]'),\n",
       " Text(456.975954738331, 317.1, 'children <= 0.5\\ngini = 0.375\\nsamples = 4\\nvalue = [1, 3]'),\n",
       " Text(453.8189533239038, 298.98, 'gini = 0.0\\nsamples = 1\\nvalue = [1, 0]'),\n",
       " Text(460.13295615275814, 298.98, 'gini = 0.0\\nsamples = 3\\nvalue = [0, 3]'),\n",
       " Text(456.975954738331, 335.22, 'gini = 0.0\\nsamples = 7\\nvalue = [7, 0]'),\n",
       " Text(403.1096181046676, 389.58000000000004, 'children <= 2.5\\ngini = 0.124\\nsamples = 15\\nvalue = [14, 1]'),\n",
       " Text(399.95261669024046, 371.46000000000004, 'gini = 0.0\\nsamples = 14\\nvalue = [14, 0]'),\n",
       " Text(406.2666195190948, 371.46000000000004, 'gini = 0.0\\nsamples = 1\\nvalue = [0, 1]'),\n",
       " Text(482.23196605374824, 407.70000000000005, 'age <= 62.5\\ngini = 0.483\\nsamples = 22\\nvalue = [13, 9]'),\n",
       " Text(475.9179632248939, 389.58000000000004, 'bmi <= 35.98\\ngini = 0.497\\nsamples = 13\\nvalue = [6, 7]'),\n",
       " Text(472.76096181046677, 371.46000000000004, 'children <= 2.0\\ngini = 0.486\\nsamples = 12\\nvalue = [5, 7]'),\n",
       " Text(469.6039603960396, 353.34000000000003, 'bmi <= 27.122\\ngini = 0.5\\nsamples = 10\\nvalue = [5, 5]'),\n",
       " Text(466.44695898161245, 335.22, 'gini = 0.0\\nsamples = 1\\nvalue = [0, 1]'),\n",
       " Text(472.76096181046677, 335.22, 'bmi <= 34.888\\ngini = 0.494\\nsamples = 9\\nvalue = [5, 4]'),\n",
       " Text(469.6039603960396, 317.1, 'bmi <= 27.93\\ngini = 0.469\\nsamples = 8\\nvalue = [5, 3]'),\n",
       " Text(466.44695898161245, 298.98, 'gini = 0.0\\nsamples = 1\\nvalue = [1, 0]'),\n",
       " Text(472.76096181046677, 298.98, 'bmi <= 28.605\\ngini = 0.49\\nsamples = 7\\nvalue = [4, 3]'),\n",
       " Text(469.6039603960396, 280.86, 'gini = 0.0\\nsamples = 1\\nvalue = [0, 1]'),\n",
       " Text(475.9179632248939, 280.86, 'bmi <= 31.737\\ngini = 0.444\\nsamples = 6\\nvalue = [4, 2]'),\n",
       " Text(472.76096181046677, 262.74, 'gini = 0.0\\nsamples = 2\\nvalue = [2, 0]'),\n",
       " Text(479.0749646393211, 262.74, 'age <= 60.5\\ngini = 0.5\\nsamples = 4\\nvalue = [2, 2]'),\n",
       " Text(475.9179632248939, 244.62, 'gini = 0.0\\nsamples = 1\\nvalue = [0, 1]'),\n",
       " Text(482.23196605374824, 244.62, 'bmi <= 32.062\\ngini = 0.444\\nsamples = 3\\nvalue = [2, 1]'),\n",
       " Text(479.0749646393211, 226.5, 'gini = 0.0\\nsamples = 1\\nvalue = [0, 1]'),\n",
       " Text(485.3889674681754, 226.5, 'gini = 0.0\\nsamples = 2\\nvalue = [2, 0]'),\n",
       " Text(475.9179632248939, 317.1, 'gini = 0.0\\nsamples = 1\\nvalue = [0, 1]'),\n",
       " Text(475.9179632248939, 353.34000000000003, 'gini = 0.0\\nsamples = 2\\nvalue = [0, 2]'),\n",
       " Text(479.0749646393211, 371.46000000000004, 'gini = 0.0\\nsamples = 1\\nvalue = [1, 0]'),\n",
       " Text(488.54596888260255, 389.58000000000004, 'bmi <= 33.77\\ngini = 0.346\\nsamples = 9\\nvalue = [7, 2]'),\n",
       " Text(485.3889674681754, 371.46000000000004, 'gini = 0.0\\nsamples = 7\\nvalue = [7, 0]'),\n",
       " Text(491.7029702970297, 371.46000000000004, 'gini = 0.0\\nsamples = 2\\nvalue = [0, 2]'),\n",
       " Text(494.85997171145686, 425.82000000000005, 'age <= 37.5\\ngini = 0.498\\nsamples = 17\\nvalue = [9, 8]'),\n",
       " Text(491.7029702970297, 407.70000000000005, 'gini = 0.0\\nsamples = 5\\nvalue = [0, 5]'),\n",
       " Text(498.016973125884, 407.70000000000005, 'bmi <= 36.54\\ngini = 0.375\\nsamples = 12\\nvalue = [9, 3]'),\n",
       " Text(494.85997171145686, 389.58000000000004, 'gini = 0.0\\nsamples = 2\\nvalue = [0, 2]'),\n",
       " Text(501.1739745403112, 389.58000000000004, 'age <= 55.5\\ngini = 0.18\\nsamples = 10\\nvalue = [9, 1]'),\n",
       " Text(498.016973125884, 371.46000000000004, 'gini = 0.0\\nsamples = 8\\nvalue = [8, 0]'),\n",
       " Text(504.33097595473834, 371.46000000000004, 'age <= 60.5\\ngini = 0.5\\nsamples = 2\\nvalue = [1, 1]'),\n",
       " Text(501.1739745403112, 353.34000000000003, 'gini = 0.0\\nsamples = 1\\nvalue = [0, 1]'),\n",
       " Text(507.48797736916555, 353.34000000000003, 'gini = 0.0\\nsamples = 1\\nvalue = [1, 0]'),\n",
       " Text(535.1117397454032, 443.94000000000005, 'bmi <= 40.47\\ngini = 0.306\\nsamples = 53\\nvalue = [43, 10]'),\n",
       " Text(518.5374823196606, 425.82000000000005, 'age <= 26.0\\ngini = 0.236\\nsamples = 44\\nvalue = [38, 6]'),\n",
       " Text(510.6449787835927, 407.70000000000005, 'region <= 2.5\\ngini = 0.5\\nsamples = 4\\nvalue = [2, 2]'),\n",
       " Text(507.48797736916555, 389.58000000000004, 'gini = 0.0\\nsamples = 2\\nvalue = [0, 2]'),\n",
       " Text(513.8019801980198, 389.58000000000004, 'gini = 0.0\\nsamples = 2\\nvalue = [2, 0]'),\n",
       " Text(526.4299858557284, 407.70000000000005, 'children <= 1.5\\ngini = 0.18\\nsamples = 40\\nvalue = [36, 4]'),\n",
       " Text(520.1159830268741, 389.58000000000004, 'bmi <= 39.853\\ngini = 0.074\\nsamples = 26\\nvalue = [25, 1]'),\n",
       " Text(516.958981612447, 371.46000000000004, 'gini = 0.0\\nsamples = 20\\nvalue = [20, 0]'),\n",
       " Text(523.2729844413013, 371.46000000000004, 'bmi <= 39.915\\ngini = 0.278\\nsamples = 6\\nvalue = [5, 1]'),\n",
       " Text(520.1159830268741, 353.34000000000003, 'gini = 0.0\\nsamples = 1\\nvalue = [0, 1]'),\n",
       " Text(526.4299858557284, 353.34000000000003, 'gini = 0.0\\nsamples = 5\\nvalue = [5, 0]'),\n",
       " Text(532.7439886845827, 389.58000000000004, 'bmi <= 37.757\\ngini = 0.337\\nsamples = 14\\nvalue = [11, 3]'),\n",
       " Text(529.5869872701556, 371.46000000000004, 'gini = 0.0\\nsamples = 6\\nvalue = [6, 0]'),\n",
       " Text(535.90099009901, 371.46000000000004, 'age <= 44.5\\ngini = 0.469\\nsamples = 8\\nvalue = [5, 3]'),\n",
       " Text(532.7439886845827, 353.34000000000003, 'age <= 34.5\\ngini = 0.375\\nsamples = 4\\nvalue = [1, 3]'),\n",
       " Text(529.5869872701556, 335.22, 'age <= 30.5\\ngini = 0.5\\nsamples = 2\\nvalue = [1, 1]'),\n",
       " Text(526.4299858557284, 317.1, 'gini = 0.0\\nsamples = 1\\nvalue = [0, 1]'),\n",
       " Text(532.7439886845827, 317.1, 'gini = 0.0\\nsamples = 1\\nvalue = [1, 0]'),\n",
       " Text(535.90099009901, 335.22, 'gini = 0.0\\nsamples = 2\\nvalue = [0, 2]'),\n",
       " Text(539.0579915134371, 353.34000000000003, 'gini = 0.0\\nsamples = 4\\nvalue = [4, 0]'),\n",
       " Text(551.6859971711457, 425.82000000000005, 'bmi <= 41.185\\ngini = 0.494\\nsamples = 9\\nvalue = [5, 4]'),\n",
       " Text(548.5289957567186, 407.70000000000005, 'region <= 0.5\\ngini = 0.32\\nsamples = 5\\nvalue = [1, 4]'),\n",
       " Text(545.3719943422914, 389.58000000000004, 'children <= 1.5\\ngini = 0.5\\nsamples = 2\\nvalue = [1, 1]'),\n",
       " Text(542.2149929278643, 371.46000000000004, 'gini = 0.0\\nsamples = 1\\nvalue = [1, 0]'),\n",
       " Text(548.5289957567186, 371.46000000000004, 'gini = 0.0\\nsamples = 1\\nvalue = [0, 1]'),\n",
       " Text(551.6859971711457, 389.58000000000004, 'gini = 0.0\\nsamples = 3\\nvalue = [0, 3]'),\n",
       " Text(554.8429985855729, 407.70000000000005, 'gini = 0.0\\nsamples = 4\\nvalue = [4, 0]'),\n",
       " Text(383.4616005127299, 498.30000000000007, 'gini = 0.0\\nsamples = 5\\nvalue = [5, 0]'),\n",
       " Text(507.65445986562946, 516.4200000000001, 'age <= 35.0\\ngini = 0.444\\nsamples = 6\\nvalue = [2, 4]'),\n",
       " Text(504.4974584512023, 498.30000000000007, 'bmi <= 42.02\\ngini = 0.444\\nsamples = 3\\nvalue = [2, 1]'),\n",
       " Text(501.34045703677515, 480.18000000000006, 'gini = 0.0\\nsamples = 1\\nvalue = [1, 0]'),\n",
       " Text(507.65445986562946, 480.18000000000006, 'children <= 1.0\\ngini = 0.5\\nsamples = 2\\nvalue = [1, 1]'),\n",
       " Text(504.4974584512023, 462.06000000000006, 'gini = 0.0\\nsamples = 1\\nvalue = [0, 1]'),\n",
       " Text(510.8114612800566, 462.06000000000006, 'gini = 0.0\\nsamples = 1\\nvalue = [1, 0]'),\n",
       " Text(510.8114612800566, 498.30000000000007, 'gini = 0.0\\nsamples = 3\\nvalue = [0, 3]'),\n",
       " Text(523.4394669377652, 534.5400000000001, 'age <= 22.5\\ngini = 0.198\\nsamples = 18\\nvalue = [16, 2]'),\n",
       " Text(520.282465523338, 516.4200000000001, 'bmi <= 52.855\\ngini = 0.444\\nsamples = 3\\nvalue = [1, 2]'),\n",
       " Text(517.1254641089109, 498.30000000000007, 'gini = 0.0\\nsamples = 2\\nvalue = [0, 2]'),\n",
       " Text(523.4394669377652, 498.30000000000007, 'gini = 0.0\\nsamples = 1\\nvalue = [1, 0]'),\n",
       " Text(526.5964683521923, 516.4200000000001, 'gini = 0.0\\nsamples = 15\\nvalue = [15, 0]')]"
      ]
     },
     "execution_count": 24,
     "metadata": {},
     "output_type": "execute_result"
    },
    {
     "data": {
      "image/png": "[encoded data removed]",
      "text/plain": [
       "<Figure size 432x288 with 1 Axes>"
      ]
     },
     "metadata": {
      "needs_background": "light"
     },
     "output_type": "display_data"
    },
    {
     "data": {
      "image/png": "[encoded data removed]",
      "text/plain": [
       "<Figure size 720x864 with 1 Axes>"
      ]
     },
     "metadata": {
      "needs_background": "light"
     },
     "output_type": "display_data"
    }
   ],
   "source": [
    "tree.plot_tree(clf)\n",
    "x_features=x.columns\n",
    "plt.figure(figsize=(10,12))\n",
    "tree.plot_tree(clf,filled=True,rounded=True,feature_names=x_features)"
   ]
  },
  {
   "cell_type": "code",
   "execution_count": 25,
   "id": "b7ea57e9",
   "metadata": {},
   "outputs": [],
   "source": [
    "import seaborn as sns"
   ]
  },
  {
   "cell_type": "code",
   "execution_count": 26,
   "id": "dbdd0b46",
   "metadata": {},
   "outputs": [
    {
     "data": {
      "text/plain": [
       "no     1064\n",
       "yes     274\n",
       "Name: smoker, dtype: int64"
      ]
     },
     "execution_count": 26,
     "metadata": {},
     "output_type": "execute_result"
    }
   ],
   "source": [
    "df.smoker.value_counts()"
   ]
  },
  {
   "cell_type": "markdown",
   "id": "e88dd200",
   "metadata": {},
   "source": [
    "% of Smoker & non smoker"
   ]
  },
  {
   "cell_type": "code",
   "execution_count": 27,
   "id": "ba686fec",
   "metadata": {},
   "outputs": [
    {
     "data": {
      "text/plain": [
       "0.20478325859491778"
      ]
     },
     "execution_count": 27,
     "metadata": {},
     "output_type": "execute_result"
    }
   ],
   "source": [
    "274/(274+1064)# Smoker"
   ]
  },
  {
   "cell_type": "code",
   "execution_count": 28,
   "id": "b61e91d7",
   "metadata": {},
   "outputs": [
    {
     "data": {
      "text/plain": [
       "0.7952167414050823"
      ]
     },
     "execution_count": 28,
     "metadata": {},
     "output_type": "execute_result"
    }
   ],
   "source": [
    "1064/(274+1064)# non Smoker"
   ]
  },
  {
   "cell_type": "code",
   "execution_count": 29,
   "id": "4327348f",
   "metadata": {},
   "outputs": [
    {
     "data": {
      "text/plain": [
       "<AxesSubplot:xlabel='smoker', ylabel='count'>"
      ]
     },
     "execution_count": 29,
     "metadata": {},
     "output_type": "execute_result"
    },
    {
     "data": {
      "image/png": "[encoded data removed]",
      "text/plain": [
       "<Figure size 432x288 with 1 Axes>"
      ]
     },
     "metadata": {
      "needs_background": "light"
     },
     "output_type": "display_data"
    }
   ],
   "source": [
    "sns.countplot(x='smoker',data=df)"
   ]
  },
  {
   "cell_type": "code",
   "execution_count": 30,
   "id": "c7622904",
   "metadata": {},
   "outputs": [
    {
     "data": {
      "text/plain": [
       "<AxesSubplot:xlabel='sex', ylabel='count'>"
      ]
     },
     "execution_count": 30,
     "metadata": {},
     "output_type": "execute_result"
    },
    {
     "data": {
      "image/png": "[encoded data removed]",
      "text/plain": [
       "<Figure size 432x288 with 1 Axes>"
      ]
     },
     "metadata": {
      "needs_background": "light"
     },
     "output_type": "display_data"
    }
   ],
   "source": [
    "sns.countplot(x='sex',data=df,hue='smoker')"
   ]
  },
  {
   "cell_type": "code",
   "execution_count": 31,
   "id": "bcdf1b64",
   "metadata": {},
   "outputs": [],
   "source": [
    "from sklearn.model_selection import train_test_split as tts"
   ]
  },
  {
   "cell_type": "code",
   "execution_count": 32,
   "id": "ba5cbd06",
   "metadata": {},
   "outputs": [],
   "source": [
    "xtrain,xtest,ytrain,ytest=tts(x,y,train_size=.70,random_state=1)"
   ]
  },
  {
   "cell_type": "code",
   "execution_count": 33,
   "id": "2929809d",
   "metadata": {},
   "outputs": [
    {
     "data": {
      "text/html": [
       "<div>\n",
       "<style scoped>\n",
       "    .dataframe tbody tr th:only-of-type {\n",
       "        vertical-align: middle;\n",
       "    }\n",
       "\n",
       "    .dataframe tbody tr th {\n",
       "        vertical-align: top;\n",
       "    }\n",
       "\n",
       "    .dataframe thead th {\n",
       "        text-align: right;\n",
       "    }\n",
       "</style>\n",
       "<table border=\"1\" class=\"dataframe\">\n",
       "  <thead>\n",
       "    <tr style=\"text-align: right;\">\n",
       "      <th></th>\n",
       "      <th>region</th>\n",
       "      <th>age</th>\n",
       "      <th>sex</th>\n",
       "      <th>bmi</th>\n",
       "      <th>children</th>\n",
       "    </tr>\n",
       "  </thead>\n",
       "  <tbody>\n",
       "    <tr>\n",
       "      <th>744</th>\n",
       "      <td>1</td>\n",
       "      <td>50</td>\n",
       "      <td>1</td>\n",
       "      <td>26.41</td>\n",
       "      <td>0</td>\n",
       "    </tr>\n",
       "    <tr>\n",
       "      <th>363</th>\n",
       "      <td>3</td>\n",
       "      <td>21</td>\n",
       "      <td>0</td>\n",
       "      <td>26.40</td>\n",
       "      <td>1</td>\n",
       "    </tr>\n",
       "    <tr>\n",
       "      <th>10</th>\n",
       "      <td>0</td>\n",
       "      <td>25</td>\n",
       "      <td>1</td>\n",
       "      <td>26.22</td>\n",
       "      <td>0</td>\n",
       "    </tr>\n",
       "    <tr>\n",
       "      <th>970</th>\n",
       "      <td>2</td>\n",
       "      <td>50</td>\n",
       "      <td>0</td>\n",
       "      <td>28.16</td>\n",
       "      <td>3</td>\n",
       "    </tr>\n",
       "    <tr>\n",
       "      <th>634</th>\n",
       "      <td>3</td>\n",
       "      <td>51</td>\n",
       "      <td>1</td>\n",
       "      <td>39.70</td>\n",
       "      <td>1</td>\n",
       "    </tr>\n",
       "  </tbody>\n",
       "</table>\n",
       "</div>"
      ],
      "text/plain": [
       "     region  age  sex    bmi  children\n",
       "744       1   50    1  26.41         0\n",
       "363       3   21    0  26.40         1\n",
       "10        0   25    1  26.22         0\n",
       "970       2   50    0  28.16         3\n",
       "634       3   51    1  39.70         1"
      ]
     },
     "execution_count": 33,
     "metadata": {},
     "output_type": "execute_result"
    }
   ],
   "source": [
    "xtrain.head()"
   ]
  },
  {
   "cell_type": "code",
   "execution_count": 34,
   "id": "3188f06b",
   "metadata": {},
   "outputs": [
    {
     "data": {
      "text/plain": [
       "(936, 5)"
      ]
     },
     "execution_count": 34,
     "metadata": {},
     "output_type": "execute_result"
    }
   ],
   "source": [
    "xtrain.shape"
   ]
  },
  {
   "cell_type": "code",
   "execution_count": 35,
   "id": "e2dd305c",
   "metadata": {},
   "outputs": [
    {
     "data": {
      "text/plain": [
       "744    no\n",
       "363    no\n",
       "10     no\n",
       "970    no\n",
       "634    no\n",
       "Name: smoker, dtype: object"
      ]
     },
     "execution_count": 35,
     "metadata": {},
     "output_type": "execute_result"
    }
   ],
   "source": [
    "ytrain.head()"
   ]
  },
  {
   "cell_type": "code",
   "execution_count": 36,
   "id": "bf264b8c",
   "metadata": {},
   "outputs": [
    {
     "data": {
      "text/plain": [
       "no     743\n",
       "yes    193\n",
       "Name: smoker, dtype: int64"
      ]
     },
     "execution_count": 36,
     "metadata": {},
     "output_type": "execute_result"
    }
   ],
   "source": [
    "ytrain.value_counts()"
   ]
  },
  {
   "cell_type": "code",
   "execution_count": 37,
   "id": "544549f1",
   "metadata": {},
   "outputs": [
    {
     "data": {
      "text/plain": [
       "0.20619658119658119"
      ]
     },
     "execution_count": 37,
     "metadata": {},
     "output_type": "execute_result"
    }
   ],
   "source": [
    "193/(193+743)#smoker"
   ]
  },
  {
   "cell_type": "markdown",
   "id": "8aba8904",
   "metadata": {},
   "source": [
    "# Model Creation"
   ]
  },
  {
   "cell_type": "code",
   "execution_count": 38,
   "id": "3240ff44",
   "metadata": {},
   "outputs": [],
   "source": [
    "from sklearn.tree import DecisionTreeClassifier\n",
    "clf=DecisionTreeClassifier()"
   ]
  },
  {
   "cell_type": "code",
   "execution_count": 39,
   "id": "375425bd",
   "metadata": {},
   "outputs": [
    {
     "data": {
      "text/plain": [
       "DecisionTreeClassifier()"
      ]
     },
     "execution_count": 39,
     "metadata": {},
     "output_type": "execute_result"
    }
   ],
   "source": [
    "clf.fit(xtrain,ytrain)"
   ]
  },
  {
   "cell_type": "code",
   "execution_count": 40,
   "id": "231acce1",
   "metadata": {},
   "outputs": [],
   "source": [
    "testing=clf.predict(xtest)# Predicted Result"
   ]
  },
  {
   "cell_type": "code",
   "execution_count": 41,
   "id": "f6945f73",
   "metadata": {},
   "outputs": [
    {
     "data": {
      "text/plain": [
       "array(['yes', 'yes', 'no', 'yes', 'no', 'no', 'no', 'no', 'no', 'no',\n",
       "       'no', 'no', 'no', 'no', 'no', 'no', 'no', 'no', 'no', 'no', 'no',\n",
       "       'no', 'no', 'no', 'no', 'no', 'no', 'no', 'no', 'no', 'no', 'yes',\n",
       "       'no', 'no', 'no', 'no', 'yes', 'yes', 'no', 'yes', 'no', 'no',\n",
       "       'no', 'yes', 'no', 'yes', 'no', 'no', 'no', 'no', 'yes', 'no',\n",
       "       'no', 'yes', 'no', 'no', 'no', 'no', 'no', 'no', 'yes', 'no', 'no',\n",
       "       'no', 'no', 'no', 'no', 'no', 'yes', 'no', 'no', 'no', 'no', 'no',\n",
       "       'no', 'no', 'no', 'no', 'no', 'yes', 'no', 'no', 'no', 'yes', 'no',\n",
       "       'no', 'no', 'no', 'no', 'no', 'no', 'no', 'yes', 'no', 'no', 'no',\n",
       "       'no', 'no', 'no', 'no', 'no', 'no', 'no', 'no', 'no', 'no', 'no',\n",
       "       'no', 'no', 'no', 'no', 'no', 'yes', 'no', 'no', 'yes', 'no', 'no',\n",
       "       'yes', 'no', 'no', 'yes', 'no', 'no', 'no', 'yes', 'yes', 'no',\n",
       "       'no', 'no', 'no', 'no', 'yes', 'no', 'no', 'no', 'no', 'no', 'no',\n",
       "       'yes', 'no', 'no', 'no', 'no', 'no', 'no', 'no', 'no', 'no', 'no',\n",
       "       'no', 'no', 'no', 'no', 'no', 'no', 'yes', 'no', 'no', 'no', 'yes',\n",
       "       'no', 'no', 'no', 'no', 'no', 'no', 'no', 'no', 'yes', 'no', 'no',\n",
       "       'no', 'yes', 'no', 'yes', 'no', 'no', 'no', 'no', 'yes', 'no',\n",
       "       'no', 'no', 'no', 'yes', 'no', 'no', 'no', 'no', 'yes', 'yes',\n",
       "       'no', 'yes', 'no', 'no', 'no', 'no', 'no', 'no', 'no', 'no', 'no',\n",
       "       'yes', 'no', 'yes', 'yes', 'yes', 'no', 'no', 'no', 'no', 'yes',\n",
       "       'no', 'no', 'yes', 'no', 'yes', 'no', 'no', 'no', 'no', 'yes',\n",
       "       'no', 'no', 'no', 'no', 'no', 'no', 'no', 'no', 'no', 'yes', 'no',\n",
       "       'no', 'no', 'no', 'no', 'no', 'yes', 'no', 'no', 'yes', 'yes',\n",
       "       'no', 'no', 'yes', 'no', 'no', 'no', 'no', 'no', 'no', 'yes', 'no',\n",
       "       'no', 'no', 'no', 'no', 'no', 'no', 'no', 'no', 'no', 'no', 'no',\n",
       "       'no', 'yes', 'no', 'no', 'no', 'no', 'no', 'no', 'no', 'yes', 'no',\n",
       "       'no', 'yes', 'no', 'yes', 'no', 'no', 'no', 'no', 'no', 'no', 'no',\n",
       "       'yes', 'no', 'no', 'no', 'no', 'no', 'yes', 'no', 'no', 'no', 'no',\n",
       "       'yes', 'no', 'yes', 'no', 'no', 'yes', 'yes', 'no', 'no', 'yes',\n",
       "       'no', 'yes', 'yes', 'no', 'no', 'no', 'yes', 'no', 'no', 'yes',\n",
       "       'no', 'no', 'no', 'yes', 'no', 'no', 'no', 'no', 'no', 'no', 'no',\n",
       "       'no', 'no', 'no', 'yes', 'no', 'no', 'no', 'no', 'yes', 'no', 'no',\n",
       "       'yes', 'no', 'no', 'no', 'yes', 'yes', 'no', 'no', 'no', 'no',\n",
       "       'no', 'yes', 'no', 'no', 'no', 'no', 'yes', 'no', 'no', 'no', 'no',\n",
       "       'yes', 'no', 'yes', 'no', 'no', 'no', 'no', 'no', 'no', 'no', 'no',\n",
       "       'no', 'no', 'no', 'yes', 'no', 'yes', 'yes', 'yes', 'no', 'no',\n",
       "       'no', 'no', 'no', 'yes', 'yes', 'no', 'no', 'no', 'no', 'no', 'no',\n",
       "       'no', 'no', 'no', 'no', 'no', 'no', 'no', 'no'], dtype=object)"
      ]
     },
     "execution_count": 41,
     "metadata": {},
     "output_type": "execute_result"
    }
   ],
   "source": [
    "testing"
   ]
  },
  {
   "cell_type": "code",
   "execution_count": 42,
   "id": "31b25cc8",
   "metadata": {},
   "outputs": [
    {
     "data": {
      "text/plain": [
       "array(['no', 'no', 'no', 'no', 'no', 'yes', 'no', 'no', 'no', 'yes', 'no',\n",
       "       'no', 'no', 'no', 'no', 'no', 'no', 'no', 'no', 'no', 'no', 'yes',\n",
       "       'no', 'no', 'no', 'no', 'no', 'no', 'no', 'no', 'no', 'no', 'yes',\n",
       "       'yes', 'yes', 'no', 'yes', 'yes', 'no', 'yes', 'no', 'no', 'no',\n",
       "       'no', 'no', 'no', 'no', 'yes', 'no', 'no', 'no', 'no', 'no', 'no',\n",
       "       'yes', 'no', 'yes', 'no', 'no', 'no', 'no', 'no', 'yes', 'no',\n",
       "       'no', 'no', 'no', 'no', 'no', 'yes', 'yes', 'yes', 'no', 'no',\n",
       "       'no', 'yes', 'no', 'no', 'no', 'no', 'no', 'no', 'no', 'no', 'yes',\n",
       "       'yes', 'no', 'yes', 'no', 'no', 'yes', 'yes', 'no', 'no', 'no',\n",
       "       'no', 'no', 'no', 'no', 'no', 'no', 'yes', 'yes', 'yes', 'yes',\n",
       "       'yes', 'no', 'no', 'no', 'no', 'no', 'no', 'no', 'no', 'no', 'no',\n",
       "       'no', 'no', 'no', 'no', 'no', 'no', 'no', 'no', 'yes', 'no', 'no',\n",
       "       'yes', 'yes', 'no', 'yes', 'no', 'no', 'yes', 'no', 'no', 'no',\n",
       "       'no', 'no', 'no', 'no', 'no', 'yes', 'no', 'no', 'no', 'no', 'no',\n",
       "       'no', 'no', 'no', 'no', 'no', 'no', 'no', 'no', 'no', 'no', 'no',\n",
       "       'no', 'no', 'yes', 'no', 'no', 'no', 'no', 'yes', 'no', 'no', 'no',\n",
       "       'no', 'no', 'yes', 'yes', 'no', 'no', 'no', 'no', 'no', 'no', 'no',\n",
       "       'no', 'no', 'no', 'no', 'yes', 'no', 'no', 'no', 'no', 'no', 'yes',\n",
       "       'no', 'no', 'no', 'no', 'no', 'no', 'no', 'no', 'no', 'no', 'no',\n",
       "       'no', 'no', 'no', 'no', 'no', 'no', 'no', 'no', 'yes', 'no', 'no',\n",
       "       'no', 'yes', 'no', 'yes', 'no', 'yes', 'no', 'yes', 'no', 'no',\n",
       "       'no', 'no', 'no', 'no', 'yes', 'no', 'no', 'no', 'yes', 'no', 'no',\n",
       "       'no', 'yes', 'no', 'no', 'no', 'no', 'no', 'no', 'no', 'no', 'yes',\n",
       "       'no', 'no', 'no', 'no', 'no', 'no', 'no', 'no', 'no', 'no', 'yes',\n",
       "       'yes', 'no', 'yes', 'no', 'no', 'no', 'yes', 'yes', 'yes', 'no',\n",
       "       'no', 'no', 'no', 'no', 'no', 'no', 'no', 'no', 'yes', 'no', 'no',\n",
       "       'yes', 'yes', 'no', 'no', 'no', 'no', 'no', 'no', 'no', 'no', 'no',\n",
       "       'no', 'no', 'no', 'no', 'no', 'no', 'yes', 'no', 'no', 'no', 'no',\n",
       "       'no', 'no', 'no', 'no', 'no', 'yes', 'no', 'no', 'no', 'no', 'no',\n",
       "       'no', 'yes', 'no', 'no', 'no', 'no', 'no', 'no', 'no', 'no', 'yes',\n",
       "       'no', 'no', 'no', 'no', 'no', 'no', 'no', 'yes', 'no', 'no', 'no',\n",
       "       'no', 'no', 'no', 'no', 'no', 'no', 'no', 'yes', 'no', 'yes', 'no',\n",
       "       'no', 'yes', 'no', 'no', 'no', 'no', 'no', 'no', 'no', 'yes',\n",
       "       'yes', 'no', 'no', 'yes', 'no', 'no', 'no', 'no', 'no', 'no', 'no',\n",
       "       'no', 'yes', 'yes', 'no', 'yes', 'yes', 'no', 'no', 'no', 'no',\n",
       "       'no', 'no', 'no', 'no', 'no', 'no', 'yes', 'yes', 'yes', 'no',\n",
       "       'no', 'no', 'no', 'no', 'no', 'yes', 'yes', 'no', 'yes', 'yes',\n",
       "       'yes', 'no', 'no', 'no', 'no', 'yes', 'no'], dtype=object)"
      ]
     },
     "execution_count": 42,
     "metadata": {},
     "output_type": "execute_result"
    }
   ],
   "source": [
    "import numpy as np\n",
    "np.array(ytest) #Actual Result"
   ]
  },
  {
   "cell_type": "code",
   "execution_count": 43,
   "id": "5f0d737c",
   "metadata": {},
   "outputs": [
    {
     "data": {
      "text/plain": [
       "0.6716417910447762"
      ]
     },
     "execution_count": 43,
     "metadata": {},
     "output_type": "execute_result"
    }
   ],
   "source": [
    "clf.score(xtest,ytest)"
   ]
  },
  {
   "cell_type": "code",
   "execution_count": 44,
   "id": "9f67c76e",
   "metadata": {},
   "outputs": [],
   "source": [
    "from sklearn.metrics import classification_report, confusion_matrix,roc_curve,plot_roc_curve"
   ]
  },
  {
   "cell_type": "code",
   "execution_count": 45,
   "id": "0072c5e8",
   "metadata": {},
   "outputs": [
    {
     "data": {
      "text/plain": [
       "'              precision    recall  f1-score   support\\n\\n          no       0.79      0.80      0.80       321\\n         yes       0.18      0.17      0.17        81\\n\\n    accuracy                           0.67       402\\n   macro avg       0.48      0.49      0.49       402\\nweighted avg       0.67      0.67      0.67       402\\n'"
      ]
     },
     "execution_count": 45,
     "metadata": {},
     "output_type": "execute_result"
    }
   ],
   "source": [
    "classification_report(ytest,testing)"
   ]
  },
  {
   "cell_type": "code",
   "execution_count": 46,
   "id": "1cdd9c28",
   "metadata": {},
   "outputs": [
    {
     "name": "stdout",
     "output_type": "stream",
     "text": [
      "              precision    recall  f1-score   support\n",
      "\n",
      "          no       0.79      0.80      0.80       321\n",
      "         yes       0.18      0.17      0.17        81\n",
      "\n",
      "    accuracy                           0.67       402\n",
      "   macro avg       0.48      0.49      0.49       402\n",
      "weighted avg       0.67      0.67      0.67       402\n",
      "\n"
     ]
    }
   ],
   "source": [
    "print(classification_report(ytest,testing))"
   ]
  },
  {
   "cell_type": "code",
   "execution_count": 47,
   "id": "8f2c34ca",
   "metadata": {},
   "outputs": [
    {
     "data": {
      "text/plain": [
       "(402, 5)"
      ]
     },
     "execution_count": 47,
     "metadata": {},
     "output_type": "execute_result"
    }
   ],
   "source": [
    "xtest.shape"
   ]
  },
  {
   "cell_type": "markdown",
   "id": "58b9aaa3",
   "metadata": {},
   "source": [
    "# Confusion Matrix"
   ]
  },
  {
   "cell_type": "code",
   "execution_count": 48,
   "id": "0d08b078",
   "metadata": {},
   "outputs": [
    {
     "data": {
      "text/plain": [
       "array([[256,  65],\n",
       "       [ 67,  14]], dtype=int64)"
      ]
     },
     "execution_count": 48,
     "metadata": {},
     "output_type": "execute_result"
    }
   ],
   "source": [
    "confusion_matrix(ytest,testing) #"
   ]
  },
  {
   "cell_type": "code",
   "execution_count": 49,
   "id": "05b32882",
   "metadata": {},
   "outputs": [],
   "source": [
    "con_mat=confusion_matrix(ytest,testing) #\n"
   ]
  },
  {
   "cell_type": "code",
   "execution_count": 50,
   "id": "dfa3cdaa",
   "metadata": {},
   "outputs": [
    {
     "data": {
      "text/plain": [
       "array([[256,  65],\n",
       "       [ 67,  14]], dtype=int64)"
      ]
     },
     "execution_count": 50,
     "metadata": {},
     "output_type": "execute_result"
    }
   ],
   "source": [
    "con_mat"
   ]
  },
  {
   "cell_type": "code",
   "execution_count": 51,
   "id": "ffd9afd7",
   "metadata": {},
   "outputs": [
    {
     "data": {
      "text/plain": [
       "0.6592039800995025"
      ]
     },
     "execution_count": 51,
     "metadata": {},
     "output_type": "execute_result"
    }
   ],
   "source": [
    "(251+14)/(251+14+70+67)\n",
    "(251+14)/(251+14+70+67)"
   ]
  },
  {
   "cell_type": "code",
   "execution_count": 52,
   "id": "701c1ae8",
   "metadata": {},
   "outputs": [
    {
     "data": {
      "text/plain": [
       "<AxesSubplot:>"
      ]
     },
     "execution_count": 52,
     "metadata": {},
     "output_type": "execute_result"
    },
    {
     "data": {
      "image/png": "[encoded data removed]",
      "text/plain": [
       "<Figure size 432x288 with 2 Axes>"
      ]
     },
     "metadata": {
      "needs_background": "light"
     },
     "output_type": "display_data"
    }
   ],
   "source": [
    "sns.heatmap(con_mat,annot=True)"
   ]
  },
  {
   "cell_type": "code",
   "execution_count": 53,
   "id": "04f2a00a",
   "metadata": {},
   "outputs": [],
   "source": [
    "tp,fn,fp,tn=confusion_matrix(ytest,testing).reshape(-1)"
   ]
  },
  {
   "cell_type": "code",
   "execution_count": 54,
   "id": "805a2a76",
   "metadata": {},
   "outputs": [
    {
     "data": {
      "text/plain": [
       "256"
      ]
     },
     "execution_count": 54,
     "metadata": {},
     "output_type": "execute_result"
    }
   ],
   "source": [
    "tp"
   ]
  },
  {
   "cell_type": "code",
   "execution_count": 55,
   "id": "b1b9e139",
   "metadata": {},
   "outputs": [
    {
     "data": {
      "text/plain": [
       "65"
      ]
     },
     "execution_count": 55,
     "metadata": {},
     "output_type": "execute_result"
    }
   ],
   "source": [
    "fn"
   ]
  },
  {
   "cell_type": "code",
   "execution_count": 56,
   "id": "e46ba6ee",
   "metadata": {},
   "outputs": [
    {
     "data": {
      "text/plain": [
       "67"
      ]
     },
     "execution_count": 56,
     "metadata": {},
     "output_type": "execute_result"
    }
   ],
   "source": [
    " fp"
   ]
  },
  {
   "cell_type": "code",
   "execution_count": 57,
   "id": "bec13477",
   "metadata": {},
   "outputs": [
    {
     "data": {
      "text/plain": [
       "14"
      ]
     },
     "execution_count": 57,
     "metadata": {},
     "output_type": "execute_result"
    }
   ],
   "source": [
    "tn"
   ]
  },
  {
   "cell_type": "markdown",
   "id": "7d6d47ff",
   "metadata": {},
   "source": [
    "# Precision or Positive Predictive value(PPV)"
   ]
  },
  {
   "cell_type": "code",
   "execution_count": 58,
   "id": "c0e288b8",
   "metadata": {},
   "outputs": [],
   "source": [
    "tpr=tp/(tp+fp)"
   ]
  },
  {
   "cell_type": "code",
   "execution_count": 59,
   "id": "aeffcce4",
   "metadata": {},
   "outputs": [
    {
     "data": {
      "text/plain": [
       "0.7925696594427245"
      ]
     },
     "execution_count": 59,
     "metadata": {},
     "output_type": "execute_result"
    }
   ],
   "source": [
    "tpr\n"
   ]
  },
  {
   "cell_type": "markdown",
   "id": "e9ab2f98",
   "metadata": {},
   "source": [
    "# Sensitivity,Recall,Hit Rate,or True Positive Rate(TPR)"
   ]
  },
  {
   "cell_type": "code",
   "execution_count": 60,
   "id": "b426363a",
   "metadata": {},
   "outputs": [],
   "source": [
    "tpr=tp/(tp+fp)"
   ]
  },
  {
   "cell_type": "code",
   "execution_count": 61,
   "id": "afeda68d",
   "metadata": {},
   "outputs": [
    {
     "data": {
      "text/plain": [
       "0.7925696594427245"
      ]
     },
     "execution_count": 61,
     "metadata": {},
     "output_type": "execute_result"
    }
   ],
   "source": [
    "tpr\n"
   ]
  },
  {
   "cell_type": "markdown",
   "id": "5957f222",
   "metadata": {},
   "source": [
    "# False Positive Rate(FPR)"
   ]
  },
  {
   "cell_type": "code",
   "execution_count": 62,
   "id": "2b3a5369",
   "metadata": {},
   "outputs": [],
   "source": [
    "fpr=fp/(fp+tn)"
   ]
  },
  {
   "cell_type": "code",
   "execution_count": 63,
   "id": "3c0a1495",
   "metadata": {},
   "outputs": [
    {
     "data": {
      "text/plain": [
       "0.8271604938271605"
      ]
     },
     "execution_count": 63,
     "metadata": {},
     "output_type": "execute_result"
    }
   ],
   "source": [
    "fpr"
   ]
  },
  {
   "cell_type": "markdown",
   "id": "b90997fe",
   "metadata": {},
   "source": [
    "# F1 Measure"
   ]
  },
  {
   "cell_type": "code",
   "execution_count": 64,
   "id": "b0625bfd",
   "metadata": {},
   "outputs": [],
   "source": [
    "ppv=tp/(tp+fp)\n",
    "f1_measure=(ppv+tpr)/2"
   ]
  },
  {
   "cell_type": "code",
   "execution_count": 65,
   "id": "c2724c09",
   "metadata": {},
   "outputs": [
    {
     "data": {
      "text/plain": [
       "0.7925696594427245"
      ]
     },
     "execution_count": 65,
     "metadata": {},
     "output_type": "execute_result"
    }
   ],
   "source": [
    "f1_measure\n"
   ]
  },
  {
   "cell_type": "markdown",
   "id": "87259fea",
   "metadata": {},
   "source": [
    "# Harmonic Mean,F1 Score"
   ]
  },
  {
   "cell_type": "code",
   "execution_count": 66,
   "id": "b1374a2a",
   "metadata": {},
   "outputs": [],
   "source": [
    "f1=(2*ppv*tpr)/(ppv+tpr)"
   ]
  },
  {
   "cell_type": "code",
   "execution_count": 67,
   "id": "9b0ada82",
   "metadata": {},
   "outputs": [
    {
     "data": {
      "text/plain": [
       "0.7925696594427245"
      ]
     },
     "execution_count": 67,
     "metadata": {},
     "output_type": "execute_result"
    }
   ],
   "source": [
    "f1"
   ]
  },
  {
   "cell_type": "markdown",
   "id": "eb9dcff8",
   "metadata": {},
   "source": [
    "# Specificity,Selectivity or True Negative Rate"
   ]
  },
  {
   "cell_type": "code",
   "execution_count": 68,
   "id": "bb9bd712",
   "metadata": {},
   "outputs": [],
   "source": [
    "specificity=tn/(tn+fp)"
   ]
  },
  {
   "cell_type": "code",
   "execution_count": 69,
   "id": "393ac4db",
   "metadata": {},
   "outputs": [
    {
     "data": {
      "text/plain": [
       "0.1728395061728395"
      ]
     },
     "execution_count": 69,
     "metadata": {},
     "output_type": "execute_result"
    }
   ],
   "source": [
    "specificity"
   ]
  },
  {
   "cell_type": "markdown",
   "id": "76b818fd",
   "metadata": {},
   "source": [
    "# Threat Score(TS) or Critical Success Index(CSI):"
   ]
  },
  {
   "cell_type": "code",
   "execution_count": 70,
   "id": "ddc6e868",
   "metadata": {},
   "outputs": [],
   "source": [
    "csi=tp/(tp+fn+fp)"
   ]
  },
  {
   "cell_type": "code",
   "execution_count": 71,
   "id": "afaf29ea",
   "metadata": {},
   "outputs": [
    {
     "data": {
      "text/plain": [
       "0.6597938144329897"
      ]
     },
     "execution_count": 71,
     "metadata": {},
     "output_type": "execute_result"
    }
   ],
   "source": [
    "csi"
   ]
  },
  {
   "cell_type": "markdown",
   "id": "6dedc502",
   "metadata": {},
   "source": [
    "# False Discovery Rate(FDR):"
   ]
  },
  {
   "cell_type": "code",
   "execution_count": 72,
   "id": "6874c537",
   "metadata": {},
   "outputs": [],
   "source": [
    "fdr=fp/(tp+fp)"
   ]
  },
  {
   "cell_type": "code",
   "execution_count": 73,
   "id": "98080fd1",
   "metadata": {},
   "outputs": [
    {
     "data": {
      "text/plain": [
       "0.20743034055727555"
      ]
     },
     "execution_count": 73,
     "metadata": {},
     "output_type": "execute_result"
    }
   ],
   "source": [
    "fdr"
   ]
  },
  {
   "cell_type": "markdown",
   "id": "af6799ac",
   "metadata": {},
   "source": [
    "# Informedness or bookmark infomedness(BM)=tpr+tnr(specificity)-1"
   ]
  },
  {
   "cell_type": "code",
   "execution_count": 74,
   "id": "063ab457",
   "metadata": {},
   "outputs": [],
   "source": [
    "bm=tpr+specificity-1"
   ]
  },
  {
   "cell_type": "code",
   "execution_count": 75,
   "id": "7adbb7d1",
   "metadata": {},
   "outputs": [
    {
     "data": {
      "text/plain": [
       "-0.034590834384436"
      ]
     },
     "execution_count": 75,
     "metadata": {},
     "output_type": "execute_result"
    }
   ],
   "source": [
    "bm\n"
   ]
  },
  {
   "cell_type": "markdown",
   "id": "4e4aa9bd",
   "metadata": {},
   "source": [
    "# Markedness(MK) or deltap=ppv+npv-1"
   ]
  },
  {
   "cell_type": "code",
   "execution_count": 76,
   "id": "39041bc5",
   "metadata": {},
   "outputs": [],
   "source": [
    "npv=tn/(fn+tn)"
   ]
  },
  {
   "cell_type": "code",
   "execution_count": 77,
   "id": "c4a03312",
   "metadata": {},
   "outputs": [
    {
     "data": {
      "text/plain": [
       "0.17721518987341772"
      ]
     },
     "execution_count": 77,
     "metadata": {},
     "output_type": "execute_result"
    }
   ],
   "source": [
    "npv"
   ]
  },
  {
   "cell_type": "code",
   "execution_count": 78,
   "id": "26617bde",
   "metadata": {},
   "outputs": [],
   "source": [
    "mk=ppv+npv-1"
   ]
  },
  {
   "cell_type": "code",
   "execution_count": 79,
   "id": "e3531ef0",
   "metadata": {},
   "outputs": [
    {
     "data": {
      "text/plain": [
       "-0.030215150683857717"
      ]
     },
     "execution_count": 79,
     "metadata": {},
     "output_type": "execute_result"
    }
   ],
   "source": [
    "mk"
   ]
  },
  {
   "cell_type": "markdown",
   "id": "221f3205",
   "metadata": {},
   "source": [
    "# Fowlkes-Mallows Index(FM)"
   ]
  },
  {
   "cell_type": "code",
   "execution_count": 80,
   "id": "bee5daf5",
   "metadata": {},
   "outputs": [],
   "source": [
    "import math"
   ]
  },
  {
   "cell_type": "code",
   "execution_count": 81,
   "id": "5d0d7ae0",
   "metadata": {},
   "outputs": [],
   "source": [
    "fm=math.sqrt(tp/(tp+fp)*tp/(tp+fn))"
   ]
  },
  {
   "cell_type": "code",
   "execution_count": 82,
   "id": "f84e06bd",
   "metadata": {},
   "outputs": [
    {
     "data": {
      "text/plain": [
       "0.7950348898422458"
      ]
     },
     "execution_count": 82,
     "metadata": {},
     "output_type": "execute_result"
    }
   ],
   "source": [
    "fm"
   ]
  },
  {
   "cell_type": "markdown",
   "id": "49ed4ae2",
   "metadata": {},
   "source": [
    "# ROC and AUC Curve"
   ]
  },
  {
   "cell_type": "code",
   "execution_count": 83,
   "id": "fc4b4a37",
   "metadata": {},
   "outputs": [],
   "source": [
    "\n",
    "from sklearn.datasets import make_classification"
   ]
  },
  {
   "cell_type": "code",
   "execution_count": 84,
   "id": "8235add8",
   "metadata": {},
   "outputs": [],
   "source": [
    "from sklearn.model_selection import train_test_split"
   ]
  },
  {
   "cell_type": "markdown",
   "id": "9d15757f",
   "metadata": {},
   "source": [
    "Generate two class dataset"
   ]
  },
  {
   "cell_type": "code",
   "execution_count": 85,
   "id": "aa39e81a",
   "metadata": {},
   "outputs": [],
   "source": [
    "x, y = make_classification(n_samples=1000, n_classes=2, n_features=20, random_state=27)"
   ]
  },
  {
   "cell_type": "markdown",
   "id": "082ea8a6",
   "metadata": {},
   "source": [
    "split into train test set"
   ]
  },
  {
   "cell_type": "code",
   "execution_count": 138,
   "id": "a1098cbb",
   "metadata": {},
   "outputs": [],
   "source": [
    "X_train, X_test, y_train, y_test = train_test_split(x, y, test_size=0.3, random_state=27)\n"
   ]
  },
  {
   "cell_type": "code",
   "execution_count": 139,
   "id": "cdc02660",
   "metadata": {},
   "outputs": [],
   "source": [
    "from sklearn.linear_model import LogisticRegression"
   ]
  },
  {
   "cell_type": "code",
   "execution_count": 140,
   "id": "de239460",
   "metadata": {},
   "outputs": [],
   "source": [
    "model1 = LogisticRegression()\n"
   ]
  },
  {
   "cell_type": "code",
   "execution_count": 141,
   "id": "b09b28bd",
   "metadata": {},
   "outputs": [
    {
     "data": {
      "text/plain": [
       "LogisticRegression()"
      ]
     },
     "execution_count": 141,
     "metadata": {},
     "output_type": "execute_result"
    }
   ],
   "source": [
    "model1.fit(X_train, y_train)"
   ]
  },
  {
   "cell_type": "code",
   "execution_count": 143,
   "id": "d2ee0057",
   "metadata": {},
   "outputs": [],
   "source": [
    "pred_prob1 = model1.predict_proba(X_test)"
   ]
  },
  {
   "cell_type": "code",
   "execution_count": 144,
   "id": "974e9fe7",
   "metadata": {},
   "outputs": [],
   "source": [
    "from sklearn.metrics import roc_curve"
   ]
  },
  {
   "cell_type": "code",
   "execution_count": 145,
   "id": "fedd7686",
   "metadata": {},
   "outputs": [],
   "source": [
    "fpr1, tpr1, thresh1 = roc_curve(y_test, pred_prob1[:,1], pos_label=1)\n",
    "#fpr, tpr, thresh1 = roc_curve(ytest, testing[:], pos_label=1)"
   ]
  },
  {
   "cell_type": "code",
   "execution_count": 146,
   "id": "1d7d963e",
   "metadata": {},
   "outputs": [],
   "source": [
    "random_probs = [0 for i in range(len(y_test))]"
   ]
  },
  {
   "cell_type": "code",
   "execution_count": 148,
   "id": "0dd9acd2",
   "metadata": {},
   "outputs": [],
   "source": [
    "p_fpr, p_tpr, _ = roc_curve(y_test, random_probs, pos_label=1)\n",
    "#fpr, tpr, _ = roc_curve(ytest, random_probs, pos_label=1)"
   ]
  },
  {
   "cell_type": "code",
   "execution_count": 149,
   "id": "274715a0",
   "metadata": {},
   "outputs": [],
   "source": [
    "from sklearn.metrics import roc_auc_score"
   ]
  },
  {
   "cell_type": "code",
   "execution_count": 150,
   "id": "466c0917",
   "metadata": {},
   "outputs": [],
   "source": [
    "auc_score1 = roc_auc_score(ytest, pred_prob1[:,1])\n",
    "#auc_score1 = roc_auc_score(ytest, testing[:])"
   ]
  },
  {
   "cell_type": "code",
   "execution_count": 151,
   "id": "8976b06f",
   "metadata": {},
   "outputs": [
    {
     "name": "stdout",
     "output_type": "stream",
     "text": [
      "0.9762374461979914\n"
     ]
    }
   ],
   "source": [
    "print(auc_score1)"
   ]
  },
  {
   "cell_type": "code",
   "execution_count": null,
   "id": "2c685c99",
   "metadata": {},
   "outputs": [],
   "source": []
  },
  {
   "cell_type": "code",
   "execution_count": 152,
   "id": "7f03f9a0",
   "metadata": {},
   "outputs": [],
   "source": [
    "import matplotlib.pyplot as plt\n",
    "plt.style.use('seaborn')"
   ]
  },
  {
   "cell_type": "code",
   "execution_count": 132,
   "id": "e3580d59",
   "metadata": {},
   "outputs": [
    {
     "data": {
      "image/png": "[encoded data removed]",
      "text/plain": [
       "<Figure size 576x396 with 1 Axes>"
      ]
     },
     "metadata": {},
     "output_type": "display_data"
    }
   ],
   "source": [
    "plt.plot(fpr1, tpr1, linestyle='--',color='orange', label='Logistic Regression')\n",
    "#plt.plot(fpr, tpr, linestyle='--',color='orange', label='Logistic Regression')\n",
    "plt.plot(fpr, tpr, linestyle='--',color='orange')\n",
    "plt.plot(fpr, tpr, linestyle='--', color='blue')\n",
    "plt.title('ROC curve')\n",
    "plt.xlabel('False Positive Rate')\n",
    "plt.ylabel('True Positive rate')\n",
    "plt.legend(loc='best')\n",
    "plt.savefig('ROC',dpi=300)\n",
    "plt.show();"
   ]
  },
  {
   "cell_type": "code",
   "execution_count": null,
   "id": "e96de44e",
   "metadata": {},
   "outputs": [],
   "source": []
  },
  {
   "cell_type": "code",
   "execution_count": null,
   "id": "b7079587",
   "metadata": {},
   "outputs": [],
   "source": []
  }
 ],
 "metadata": {
  "kernelspec": {
   "display_name": "Python 3 (ipykernel)",
   "language": "python",
   "name": "python3"
  },
  "language_info": {
   "codemirror_mode": {
    "name": "ipython",
    "version": 3
   },
   "file_extension": ".py",
   "mimetype": "text/x-python",
   "name": "python",
   "nbconvert_exporter": "python",
   "pygments_lexer": "ipython3",
   "version": "3.9.7"
  }
 },
 "nbformat": 4,
 "nbformat_minor": 5
}
